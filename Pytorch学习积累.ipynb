{
 "cells": [
  {
   "cell_type": "markdown",
   "id": "944f1e7a",
   "metadata": {
    "toc": true
   },
   "source": [
    "<h1>Table of Contents<span class=\"tocSkip\"></span></h1>\n",
    "<div class=\"toc\"><ul class=\"toc-item\"><li><span><a href=\"#Pytorch基础元素--张量(tensor)\" data-toc-modified-id=\"Pytorch基础元素--张量(tensor)-1\"><span class=\"toc-item-num\">1&nbsp;&nbsp;</span>Pytorch基础元素--张量(tensor)</a></span><ul class=\"toc-item\"><li><span><a href=\"#基本属性\" data-toc-modified-id=\"基本属性-1.1\"><span class=\"toc-item-num\">1.1&nbsp;&nbsp;</span>基本属性</a></span></li><li><span><a href=\"#类型转换\" data-toc-modified-id=\"类型转换-1.2\"><span class=\"toc-item-num\">1.2&nbsp;&nbsp;</span>类型转换</a></span></li><li><span><a href=\"#维度变换(-.reshape-/-.view)\" data-toc-modified-id=\"维度变换(-.reshape-/-.view)-1.3\"><span class=\"toc-item-num\">1.3&nbsp;&nbsp;</span>维度变换( .reshape / .view)</a></span><ul class=\"toc-item\"><li><span><a href=\"#.view\" data-toc-modified-id=\".view-1.3.1\"><span class=\"toc-item-num\">1.3.1&nbsp;&nbsp;</span>.view</a></span></li><li><span><a href=\"#.clone()-+-.view()\" data-toc-modified-id=\".clone()-+-.view()-1.3.2\"><span class=\"toc-item-num\">1.3.2&nbsp;&nbsp;</span>.clone() + .view()</a></span></li></ul></li></ul></li><li><span><a href=\"#张量连结-.cat\" data-toc-modified-id=\"张量连结-.cat-2\"><span class=\"toc-item-num\">2&nbsp;&nbsp;</span>张量连结 .cat</a></span></li><li><span><a href=\"#张量数据处理\" data-toc-modified-id=\"张量数据处理-3\"><span class=\"toc-item-num\">3&nbsp;&nbsp;</span>张量数据处理</a></span></li><li><span><a href=\"#索引和切片\" data-toc-modified-id=\"索引和切片-4\"><span class=\"toc-item-num\">4&nbsp;&nbsp;</span>索引和切片</a></span><ul class=\"toc-item\"><li><span><a href=\"#广播机制\" data-toc-modified-id=\"广播机制-4.1\"><span class=\"toc-item-num\">4.1&nbsp;&nbsp;</span>广播机制</a></span></li></ul></li><li><span><a href=\"#内存分配\" data-toc-modified-id=\"内存分配-5\"><span class=\"toc-item-num\">5&nbsp;&nbsp;</span>内存分配</a></span></li><li><span><a href=\"#矩阵乘法\" data-toc-modified-id=\"矩阵乘法-6\"><span class=\"toc-item-num\">6&nbsp;&nbsp;</span>矩阵乘法</a></span><ul class=\"toc-item\"><li><span><a href=\"#矩阵-向量积-(-.mv-)\" data-toc-modified-id=\"矩阵-向量积-(-.mv-)-6.1\"><span class=\"toc-item-num\">6.1&nbsp;&nbsp;</span>矩阵-向量积 ( .mv )</a></span></li><li><span><a href=\"#矩阵-矩阵乘法-(-.mm-)\" data-toc-modified-id=\"矩阵-矩阵乘法-(-.mm-)-6.2\"><span class=\"toc-item-num\">6.2&nbsp;&nbsp;</span>矩阵-矩阵乘法 ( .mm )</a></span></li></ul></li><li><span><a href=\"#范数\" data-toc-modified-id=\"范数-7\"><span class=\"toc-item-num\">7&nbsp;&nbsp;</span>范数</a></span><ul class=\"toc-item\"><li><span><a href=\"#L1范数\" data-toc-modified-id=\"L1范数-7.1\"><span class=\"toc-item-num\">7.1&nbsp;&nbsp;</span>L1范数</a></span></li><li><span><a href=\"#L2范数\" data-toc-modified-id=\"L2范数-7.2\"><span class=\"toc-item-num\">7.2&nbsp;&nbsp;</span>L2范数</a></span></li><li><span><a href=\"#Frobenius范数\" data-toc-modified-id=\"Frobenius范数-7.3\"><span class=\"toc-item-num\">7.3&nbsp;&nbsp;</span>Frobenius范数</a></span></li></ul></li><li><span><a href=\"#Autograd自动微分\" data-toc-modified-id=\"Autograd自动微分-8\"><span class=\"toc-item-num\">8&nbsp;&nbsp;</span>Autograd自动微分</a></span><ul class=\"toc-item\"><li><span><a href=\"#示例:\" data-toc-modified-id=\"示例:-8.1\"><span class=\"toc-item-num\">8.1&nbsp;&nbsp;</span>示例:</a></span></li><li><span><a href=\"#清除之前的梯度值\" data-toc-modified-id=\"清除之前的梯度值-8.2\"><span class=\"toc-item-num\">8.2&nbsp;&nbsp;</span>清除之前的梯度值</a></span></li><li><span><a href=\"#非标量变量的反向传播\" data-toc-modified-id=\"非标量变量的反向传播-8.3\"><span class=\"toc-item-num\">8.3&nbsp;&nbsp;</span>非标量变量的反向传播</a></span></li><li><span><a href=\"#分离计算-.detach\" data-toc-modified-id=\"分离计算-.detach-8.4\"><span class=\"toc-item-num\">8.4&nbsp;&nbsp;</span>分离计算 .detach</a></span></li></ul></li><li><span><a href=\"#数据读入\" data-toc-modified-id=\"数据读入-9\"><span class=\"toc-item-num\">9&nbsp;&nbsp;</span>数据读入</a></span><ul class=\"toc-item\"><li><span><a href=\"#Data_transform对图像预处理操作\" data-toc-modified-id=\"Data_transform对图像预处理操作-9.1\"><span class=\"toc-item-num\">9.1&nbsp;&nbsp;</span>Data_transform对图像预处理操作</a></span></li><li><span><a href=\"#调用数据集\" data-toc-modified-id=\"调用数据集-9.2\"><span class=\"toc-item-num\">9.2&nbsp;&nbsp;</span>调用数据集</a></span></li><li><span><a href=\"#自定义输入dataset\" data-toc-modified-id=\"自定义输入dataset-9.3\"><span class=\"toc-item-num\">9.3&nbsp;&nbsp;</span><strong>自定义输入dataset</strong></a></span></li><li><span><a href=\"#DataLoader\" data-toc-modified-id=\"DataLoader-9.4\"><span class=\"toc-item-num\">9.4&nbsp;&nbsp;</span>DataLoader</a></span></li></ul></li><li><span><a href=\"#多维特征输入\" data-toc-modified-id=\"多维特征输入-10\"><span class=\"toc-item-num\">10&nbsp;&nbsp;</span>多维特征输入</a></span></li><li><span><a href=\"#线性模型的初步实现\" data-toc-modified-id=\"线性模型的初步实现-11\"><span class=\"toc-item-num\">11&nbsp;&nbsp;</span>线性模型的初步实现</a></span><ul class=\"toc-item\"><li><span><a href=\"#模型的保存\" data-toc-modified-id=\"模型的保存-11.1\"><span class=\"toc-item-num\">11.1&nbsp;&nbsp;</span>模型的保存</a></span></li></ul></li><li><span><a href=\"#使用GPU进行训练\" data-toc-modified-id=\"使用GPU进行训练-12\"><span class=\"toc-item-num\">12&nbsp;&nbsp;</span>使用GPU进行训练</a></span></li><li><span><a href=\"#实战示例1---气温预测\" data-toc-modified-id=\"实战示例1---气温预测-13\"><span class=\"toc-item-num\">13&nbsp;&nbsp;</span>实战示例1---气温预测</a></span><ul class=\"toc-item\"><li><span><a href=\"#获取对应数据-features-/-labels\" data-toc-modified-id=\"获取对应数据-features-/-labels-13.1\"><span class=\"toc-item-num\">13.1&nbsp;&nbsp;</span>获取对应数据 features / labels</a></span></li><li><span><a href=\"#构建神经网络\" data-toc-modified-id=\"构建神经网络-13.2\"><span class=\"toc-item-num\">13.2&nbsp;&nbsp;</span>构建神经网络</a></span></li></ul></li><li><span><a href=\"#LogisticRegression\" data-toc-modified-id=\"LogisticRegression-14\"><span class=\"toc-item-num\">14&nbsp;&nbsp;</span>LogisticRegression</a></span></li><li><span><a href=\"#SoftmaxClassifier\" data-toc-modified-id=\"SoftmaxClassifier-15\"><span class=\"toc-item-num\">15&nbsp;&nbsp;</span>SoftmaxClassifier</a></span></li><li><span><a href=\"#卷积神经网络CNN\" data-toc-modified-id=\"卷积神经网络CNN-16\"><span class=\"toc-item-num\">16&nbsp;&nbsp;</span>卷积神经网络CNN</a></span><ul class=\"toc-item\"><li><span><a href=\"#简易示例\" data-toc-modified-id=\"简易示例-16.1\"><span class=\"toc-item-num\">16.1&nbsp;&nbsp;</span>简易示例</a></span></li><li><span><a href=\"#MNIST图片处理示例\" data-toc-modified-id=\"MNIST图片处理示例-16.2\"><span class=\"toc-item-num\">16.2&nbsp;&nbsp;</span>MNIST图片处理示例</a></span></li></ul></li><li><span><a href=\"#GoogLeNet\" data-toc-modified-id=\"GoogLeNet-17\"><span class=\"toc-item-num\">17&nbsp;&nbsp;</span>GoogLeNet</a></span></li><li><span><a href=\"#ResNet\" data-toc-modified-id=\"ResNet-18\"><span class=\"toc-item-num\">18&nbsp;&nbsp;</span>ResNet</a></span></li><li><span><a href=\"#循环神经网络RNN\" data-toc-modified-id=\"循环神经网络RNN-19\"><span class=\"toc-item-num\">19&nbsp;&nbsp;</span>循环神经网络RNN</a></span><ul class=\"toc-item\"><li><span><a href=\"#示例1(-'hello'--->-'ohlol'-)\" data-toc-modified-id=\"示例1(-'hello'--->-'ohlol'-)-19.1\"><span class=\"toc-item-num\">19.1&nbsp;&nbsp;</span>示例1( 'hello' --&gt; 'ohlol' )</a></span></li><li><span><a href=\"#Embedding-(对数据进行降维)\" data-toc-modified-id=\"Embedding-(对数据进行降维)-19.2\"><span class=\"toc-item-num\">19.2&nbsp;&nbsp;</span>Embedding (对数据进行降维)</a></span></li><li><span><a href=\"#示例2-(英文名-国家RNN分类)\" data-toc-modified-id=\"示例2-(英文名-国家RNN分类)-19.3\"><span class=\"toc-item-num\">19.3&nbsp;&nbsp;</span>示例2 (英文名-国家RNN分类)</a></span></li></ul></li></ul></div>"
   ]
  },
  {
   "cell_type": "code",
   "execution_count": 3,
   "id": "7651c649",
   "metadata": {},
   "outputs": [],
   "source": [
    "import os \n",
    "import numpy as np \n",
    "import torch\n",
    "import torch.nn as nn\n",
    "from torch.utils.data import Dataset, DataLoader\n",
    "import torch.optim as optimizer"
   ]
  },
  {
   "cell_type": "code",
   "execution_count": null,
   "id": "c4db8a82",
   "metadata": {},
   "outputs": [],
   "source": [
    "# 超参数设置\n",
    "\n",
    "batch_size = 16\n",
    "# 批次的大小\n",
    "lr = 1e-4\n",
    "# 优化器的学习率\n",
    "max_epochs = 100"
   ]
  },
  {
   "cell_type": "markdown",
   "id": "a7f169f0",
   "metadata": {},
   "source": [
    "# Pytorch基础元素--张量(tensor)"
   ]
  },
  {
   "cell_type": "markdown",
   "id": "5436e9b7",
   "metadata": {},
   "source": [
    "张量表示由数值组成的数组，可能有多个维度。 具有一个轴的张量对应数学上的向量（vector）； 具有两个轴的张量对应数学上的矩阵（matrix）"
   ]
  },
  {
   "cell_type": "markdown",
   "id": "ecdcc92a",
   "metadata": {},
   "source": [
    "## 基本属性"
   ]
  },
  {
   "cell_type": "code",
   "execution_count": 8,
   "id": "26bbb832",
   "metadata": {},
   "outputs": [
    {
     "data": {
      "text/plain": [
       "tensor([ 0,  1,  2,  3,  4,  5,  6,  7,  8,  9, 10, 11])"
      ]
     },
     "execution_count": 8,
     "metadata": {},
     "output_type": "execute_result"
    }
   ],
   "source": [
    "x = torch.arange(12)\n",
    "x"
   ]
  },
  {
   "cell_type": "code",
   "execution_count": 9,
   "id": "b1cf0b13",
   "metadata": {},
   "outputs": [
    {
     "data": {
      "text/plain": [
       "torch.Size([12])"
      ]
     },
     "execution_count": 9,
     "metadata": {},
     "output_type": "execute_result"
    }
   ],
   "source": [
    "# 查询形状\n",
    "x.shape"
   ]
  },
  {
   "cell_type": "code",
   "execution_count": 10,
   "id": "763daea4",
   "metadata": {},
   "outputs": [
    {
     "data": {
      "text/plain": [
       "tensor([[ 0,  1,  2,  3],\n",
       "        [ 4,  5,  6,  7],\n",
       "        [ 8,  9, 10, 11]])"
      ]
     },
     "execution_count": 10,
     "metadata": {},
     "output_type": "execute_result"
    }
   ],
   "source": [
    "# 改变形状\n",
    "X = x.reshape(3, 4)\n",
    "X"
   ]
  },
  {
   "cell_type": "markdown",
   "id": "a753617c",
   "metadata": {},
   "source": [
    "## 类型转换"
   ]
  },
  {
   "cell_type": "code",
   "execution_count": 9,
   "id": "25339bc6",
   "metadata": {},
   "outputs": [
    {
     "data": {
      "text/plain": [
       "tensor([[2, 1, 4, 3],\n",
       "        [1, 2, 3, 4],\n",
       "        [4, 3, 2, 1]])"
      ]
     },
     "execution_count": 9,
     "metadata": {},
     "output_type": "execute_result"
    }
   ],
   "source": [
    "# ndarray转换为tensor\n",
    "torch.tensor([[2, 1, 4, 3], [1, 2, 3, 4], [4, 3, 2, 1]])"
   ]
  },
  {
   "cell_type": "markdown",
   "id": "e1058834",
   "metadata": {},
   "source": [
    "**torch张量和numpy数组之间的转换非常容易**"
   ]
  },
  {
   "cell_type": "code",
   "execution_count": 15,
   "id": "30efdb00",
   "metadata": {},
   "outputs": [
    {
     "name": "stdout",
     "output_type": "stream",
     "text": [
      "<class 'numpy.ndarray'> <class 'torch.Tensor'>\n",
      "<class 'torch.Tensor'>\n"
     ]
    }
   ],
   "source": [
    "A = X.numpy()\n",
    "B = torch.tensor(A)\n",
    "print(type(A), type(B))\n",
    "\n",
    "A=torch.from_numpy(A)\n",
    "print(type(A))"
   ]
  },
  {
   "cell_type": "markdown",
   "id": "6ac80426",
   "metadata": {},
   "source": [
    "转换为**标量**"
   ]
  },
  {
   "cell_type": "code",
   "execution_count": 11,
   "id": "5f67ee0a",
   "metadata": {},
   "outputs": [
    {
     "data": {
      "text/plain": [
       "3.5"
      ]
     },
     "execution_count": 11,
     "metadata": {},
     "output_type": "execute_result"
    }
   ],
   "source": [
    "a = torch.tensor([3.5])\n",
    "a.item()         # .item()转换为python自带标量,用于提取数值"
   ]
  },
  {
   "cell_type": "code",
   "execution_count": null,
   "id": "272d4573",
   "metadata": {},
   "outputs": [],
   "source": []
  },
  {
   "cell_type": "code",
   "execution_count": null,
   "id": "3cb54a40",
   "metadata": {},
   "outputs": [],
   "source": []
  },
  {
   "cell_type": "markdown",
   "id": "0dbd98cb",
   "metadata": {},
   "source": [
    "DataFrame转为tensor"
   ]
  },
  {
   "cell_type": "markdown",
   "id": "8585a8fc",
   "metadata": {},
   "source": [
    "```\n",
    "X = torch.tensor(DataFrames.to_numpy(dtype=float))\n",
    "```"
   ]
  },
  {
   "cell_type": "markdown",
   "id": "a43fcf79",
   "metadata": {},
   "source": [
    "## 维度变换( .reshape / .view)"
   ]
  },
  {
   "cell_type": "markdown",
   "id": "4fb5170d",
   "metadata": {},
   "source": [
    "### .view"
   ]
  },
  {
   "cell_type": "code",
   "execution_count": 38,
   "id": "9c802406",
   "metadata": {},
   "outputs": [
    {
     "data": {
      "text/plain": [
       "tensor([-0.0375, -0.6613,  1.0012,  0.4287, -0.8051, -0.7091, -0.7557,  0.9137,\n",
       "        -2.0994, -0.3485,  1.6149, -0.9826,  1.8288, -0.9733, -0.4643,  0.9309])"
      ]
     },
     "execution_count": 38,
     "metadata": {},
     "output_type": "execute_result"
    }
   ],
   "source": [
    "#.view() 返回的新tensor与源tensor共享内存(即仅仅是改变了对这个张量的'观察角度')\n",
    "\n",
    "x = torch.randn(4, 4)\n",
    "y = x.view(16)\n",
    "y"
   ]
  },
  {
   "cell_type": "markdown",
   "id": "b92e2529",
   "metadata": {},
   "source": [
    "### .clone() + .view()\n",
    "---\n",
    "官方不推荐使用.reshape。推荐的方法是我们先用 clone() 创造一个张量副本然后再使用 torch.view()进行函数维度变换"
   ]
  },
  {
   "cell_type": "code",
   "execution_count": 40,
   "id": "8591a0f1",
   "metadata": {},
   "outputs": [
    {
     "data": {
      "text/plain": [
       "(tensor([ 0.9625,  0.3387,  2.0012,  1.4287,  0.1949,  0.2909,  0.2443,  1.9137,\n",
       "         -1.0994,  0.6515,  2.6149,  0.0174,  2.8288,  0.0267,  0.5357,  1.9309]),\n",
       " tensor([-0.0375, -0.6613,  1.0012,  0.4287, -0.8051, -0.7091, -0.7557,  0.9137,\n",
       "         -2.0994, -0.3485,  1.6149, -0.9826,  1.8288, -0.9733, -0.4643,  0.9309]))"
      ]
     },
     "execution_count": 40,
     "metadata": {},
     "output_type": "execute_result"
    }
   ],
   "source": [
    "z = x.clone().view(16)        \n",
    "z += 1 \n",
    "z,y"
   ]
  },
  {
   "cell_type": "markdown",
   "id": "6f9336ab",
   "metadata": {},
   "source": [
    "# 张量连结 .cat\n",
    "---\n",
    "dim = 0 行堆叠\n",
    "\n",
    "dim = 1 列拼接"
   ]
  },
  {
   "cell_type": "code",
   "execution_count": 3,
   "id": "fcc1a298",
   "metadata": {},
   "outputs": [
    {
     "data": {
      "text/plain": [
       "(tensor([[ 0.,  1.,  2.,  3.],\n",
       "         [ 4.,  5.,  6.,  7.],\n",
       "         [ 8.,  9., 10., 11.],\n",
       "         [ 2.,  1.,  4.,  3.],\n",
       "         [ 1.,  2.,  3.,  4.],\n",
       "         [ 4.,  3.,  2.,  1.]]),\n",
       " tensor([[ 0.,  1.,  2.,  3.,  2.,  1.,  4.,  3.],\n",
       "         [ 4.,  5.,  6.,  7.,  1.,  2.,  3.,  4.],\n",
       "         [ 8.,  9., 10., 11.,  4.,  3.,  2.,  1.]]))"
      ]
     },
     "execution_count": 3,
     "metadata": {},
     "output_type": "execute_result"
    }
   ],
   "source": [
    "X = torch.arange(12, dtype=torch.float32).reshape((3,4))\n",
    "Y = torch.tensor([[2.0, 1, 4, 3], [1, 2, 3, 4], [4, 3, 2, 1]])\n",
    "\n",
    "torch.cat((X, Y), dim=0), torch.cat((X, Y), dim=1)"
   ]
  },
  {
   "cell_type": "markdown",
   "id": "7307f946",
   "metadata": {},
   "source": [
    "# 张量数据处理"
   ]
  },
  {
   "cell_type": "code",
   "execution_count": 16,
   "id": "8427e983",
   "metadata": {},
   "outputs": [
    {
     "data": {
      "text/plain": [
       "(tensor(66.), tensor([12., 15., 18., 21.]), tensor([ 6., 22., 38.]))"
      ]
     },
     "execution_count": 16,
     "metadata": {},
     "output_type": "execute_result"
    }
   ],
   "source": [
    "X = torch.arange(12, dtype=torch.float32).reshape((3,4))\n",
    "X.sum(),X.sum(dim=0),X.sum(dim=1)\n",
    "\n",
    "# 整体之和 / 每列之和 / 每行之和"
   ]
  },
  {
   "cell_type": "code",
   "execution_count": 17,
   "id": "74e8cb5e",
   "metadata": {},
   "outputs": [
    {
     "data": {
      "text/plain": [
       "(tensor(5.5000), tensor([4., 5., 6., 7.]), tensor([1.5000, 5.5000, 9.5000]))"
      ]
     },
     "execution_count": 17,
     "metadata": {},
     "output_type": "execute_result"
    }
   ],
   "source": [
    "X.mean(),X.mean(dim=0),X.mean(dim=1)  # 求平均值 类似"
   ]
  },
  {
   "cell_type": "code",
   "execution_count": 21,
   "id": "fef0ca91",
   "metadata": {},
   "outputs": [
    {
     "data": {
      "text/plain": [
       "(torch.Size([3, 4]), 3, 4)"
      ]
     },
     "execution_count": 21,
     "metadata": {},
     "output_type": "execute_result"
    }
   ],
   "source": [
    "X.shape,X.shape[0],X.shape[1]         # 求形状(.shape是张量本身的性质,不是函数,不需要括号)"
   ]
  },
  {
   "cell_type": "code",
   "execution_count": 22,
   "id": "d9176256",
   "metadata": {},
   "outputs": [
    {
     "data": {
      "text/plain": [
       "tensor([[ 0.,  1.,  2.,  3.],\n",
       "        [ 4.,  6.,  8., 10.],\n",
       "        [12., 15., 18., 21.]])"
      ]
     },
     "execution_count": 22,
     "metadata": {},
     "output_type": "execute_result"
    }
   ],
   "source": [
    "X.cumsum(axis=0) # 累次求和"
   ]
  },
  {
   "cell_type": "markdown",
   "id": "cdf0742b",
   "metadata": {},
   "source": [
    "# 索引和切片\n",
    "---\n",
    "注意:**索引出来的结果与原数据共享内存，修改一个，另一个会跟着修改。如果不想修改，可以考虑使用copy()等方法**\n",
    "## 广播机制\n",
    "\n",
    "1.通过适当复制元素来扩展一个或两个数组，以便在转换之后，两个张量具有相同的形状；\n",
    "\n",
    "2.对生成的数组执行按元素操作。\n",
    "\n"
   ]
  },
  {
   "cell_type": "code",
   "execution_count": 8,
   "id": "a21e4a4a",
   "metadata": {},
   "outputs": [
    {
     "data": {
      "text/plain": [
       "(tensor([[0],\n",
       "         [1],\n",
       "         [2]]),\n",
       " tensor([[0, 1]]),\n",
       " tensor([[0, 1],\n",
       "         [1, 2],\n",
       "         [2, 3]]))"
      ]
     },
     "execution_count": 8,
     "metadata": {},
     "output_type": "execute_result"
    }
   ],
   "source": [
    "a = torch.arange(3).reshape((3, 1))\n",
    "b = torch.arange(2).reshape((1, 2))\n",
    "a, b,a+b      # 形状转换"
   ]
  },
  {
   "cell_type": "markdown",
   "id": "9756b2d6",
   "metadata": {},
   "source": [
    "# 内存分配"
   ]
  },
  {
   "cell_type": "markdown",
   "id": "dcaf077e",
   "metadata": {},
   "source": [
    "格式:\n",
    "```\n",
    "Z = torch.zeros_like(Y)\n",
    "\n",
    "Z[:] = X + Y)\n",
    "```\n",
    "也可以使用```X[ : ] = X + Y```或```X += Y```来减少操作的内存开销"
   ]
  },
  {
   "cell_type": "markdown",
   "id": "bab29f4d",
   "metadata": {},
   "source": [
    "---"
   ]
  },
  {
   "cell_type": "code",
   "execution_count": 14,
   "id": "aee552ba",
   "metadata": {},
   "outputs": [
    {
     "data": {
      "text/plain": [
       "(tensor([[ 0.,  1.,  2.,  3.],\n",
       "         [ 4.,  5.,  6.,  7.],\n",
       "         [ 8.,  9., 10., 11.],\n",
       "         [12., 13., 14., 15.],\n",
       "         [16., 17., 18., 19.]]),\n",
       " tensor([[ 0.,  2.,  4.,  6.],\n",
       "         [ 8., 10., 12., 14.],\n",
       "         [16., 18., 20., 22.],\n",
       "         [24., 26., 28., 30.],\n",
       "         [32., 34., 36., 38.]]))"
      ]
     },
     "execution_count": 14,
     "metadata": {},
     "output_type": "execute_result"
    }
   ],
   "source": [
    "A = torch.arange(20, dtype=torch.float32).reshape(5, 4)\n",
    "# .clone 类似 .copy 会重新分配内存\n",
    "B = A.clone()  # 通过分配新内存，将A的一个副本分配给B\n",
    "A, A + B"
   ]
  },
  {
   "cell_type": "markdown",
   "id": "7f59914b",
   "metadata": {},
   "source": [
    "# 矩阵乘法"
   ]
  },
  {
   "cell_type": "markdown",
   "id": "3e0a0a45",
   "metadata": {},
   "source": [
    "## 矩阵-向量积 ( .mv )\n",
    "\\begin{split}\\mathbf{A}\\mathbf{x}\n",
    "= \\begin{bmatrix}\n",
    "\\mathbf{a}^\\top_{1} \\\\\n",
    "\\mathbf{a}^\\top_{2} \\\\\n",
    "\\vdots \\\\\n",
    "\\mathbf{a}^\\top_m \\\\\n",
    "\\end{bmatrix}\\mathbf{x}\n",
    "= \\begin{bmatrix}\n",
    " \\mathbf{a}^\\top_{1} \\mathbf{x}  \\\\\n",
    " \\mathbf{a}^\\top_{2} \\mathbf{x} \\\\\n",
    "\\vdots\\\\\n",
    " \\mathbf{a}^\\top_{m} \\mathbf{x}\\\\\n",
    "\\end{bmatrix}.\\end{split}"
   ]
  },
  {
   "cell_type": "code",
   "execution_count": 27,
   "id": "4d2b539f",
   "metadata": {},
   "outputs": [
    {
     "data": {
      "text/plain": [
       "(tensor([[ 0.,  1.,  2.,  3.],\n",
       "         [ 4.,  5.,  6.,  7.],\n",
       "         [ 8.,  9., 10., 11.],\n",
       "         [12., 13., 14., 15.],\n",
       "         [16., 17., 18., 19.]]),\n",
       " tensor([0., 1., 2., 3.]),\n",
       " tensor([ 14.,  38.,  62.,  86., 110.]))"
      ]
     },
     "execution_count": 27,
     "metadata": {},
     "output_type": "execute_result"
    }
   ],
   "source": [
    "A = torch.arange(20, dtype=torch.float32).reshape(5, 4)\n",
    "x = torch.tensor([0., 1., 2., 3.])\n",
    "A,x,torch.mv(A, x)    # 矩阵-向量积"
   ]
  },
  {
   "cell_type": "markdown",
   "id": "c0fa0da2",
   "metadata": {},
   "source": [
    "## 矩阵-矩阵乘法 ( .mm )\n",
    "\\begin{split}\\mathbf{C} = \\mathbf{AB} = \\begin{bmatrix}\n",
    "\\mathbf{a}^\\top_{1} \\\\\n",
    "\\mathbf{a}^\\top_{2} \\\\\n",
    "\\vdots \\\\\n",
    "\\mathbf{a}^\\top_n \\\\\n",
    "\\end{bmatrix}\n",
    "\\begin{bmatrix}\n",
    " \\mathbf{b}_{1} & \\mathbf{b}_{2} & \\cdots & \\mathbf{b}_{m} \\\\\n",
    "\\end{bmatrix}\n",
    "= \\begin{bmatrix}\n",
    "\\mathbf{a}^\\top_{1} \\mathbf{b}_1 & \\mathbf{a}^\\top_{1}\\mathbf{b}_2& \\cdots & \\mathbf{a}^\\top_{1} \\mathbf{b}_m \\\\\n",
    " \\mathbf{a}^\\top_{2}\\mathbf{b}_1 & \\mathbf{a}^\\top_{2} \\mathbf{b}_2 & \\cdots & \\mathbf{a}^\\top_{2} \\mathbf{b}_m \\\\\n",
    " \\vdots & \\vdots & \\ddots &\\vdots\\\\\n",
    "\\mathbf{a}^\\top_{n} \\mathbf{b}_1 & \\mathbf{a}^\\top_{n}\\mathbf{b}_2& \\cdots& \\mathbf{a}^\\top_{n} \\mathbf{b}_m\n",
    "\\end{bmatrix}.\\end{split}"
   ]
  },
  {
   "cell_type": "code",
   "execution_count": 28,
   "id": "226fec90",
   "metadata": {},
   "outputs": [
    {
     "data": {
      "text/plain": [
       "tensor([[ 6.,  6.,  6.],\n",
       "        [22., 22., 22.],\n",
       "        [38., 38., 38.],\n",
       "        [54., 54., 54.],\n",
       "        [70., 70., 70.]])"
      ]
     },
     "execution_count": 28,
     "metadata": {},
     "output_type": "execute_result"
    }
   ],
   "source": [
    "B = torch.ones(4, 3)\n",
    "torch.mm(A, B)"
   ]
  },
  {
   "cell_type": "markdown",
   "id": "d46ad7aa",
   "metadata": {},
   "source": [
    "# 范数"
   ]
  },
  {
   "cell_type": "markdown",
   "id": "5cca3dca",
   "metadata": {},
   "source": [
    "## L1范数\n",
    "---\n",
    "**向量元素的绝对值之和**"
   ]
  },
  {
   "cell_type": "code",
   "execution_count": 32,
   "id": "37242969",
   "metadata": {},
   "outputs": [
    {
     "data": {
      "text/plain": [
       "tensor(7.)"
      ]
     },
     "execution_count": 32,
     "metadata": {},
     "output_type": "execute_result"
    }
   ],
   "source": [
    "torch.abs(u).sum()"
   ]
  },
  {
   "cell_type": "markdown",
   "id": "43637ff1",
   "metadata": {},
   "source": [
    "## L2范数\n",
    "---\n",
    "向量元素平方和的平方根"
   ]
  },
  {
   "cell_type": "code",
   "execution_count": 31,
   "id": "623cd8ec",
   "metadata": {},
   "outputs": [
    {
     "data": {
      "text/plain": [
       "tensor(5.)"
      ]
     },
     "execution_count": 31,
     "metadata": {},
     "output_type": "execute_result"
    }
   ],
   "source": [
    "u = torch.tensor([3.0, -4.0])\n",
    "torch.norm(u)"
   ]
  },
  {
   "cell_type": "markdown",
   "id": "80d1dab9",
   "metadata": {},
   "source": [
    "## Frobenius范数\n",
    "---\n",
    "矩阵元素平方和的平方根, 像是矩阵形向量的**L2范数**"
   ]
  },
  {
   "cell_type": "code",
   "execution_count": 33,
   "id": "68d46ae6",
   "metadata": {},
   "outputs": [
    {
     "data": {
      "text/plain": [
       "tensor(6.)"
      ]
     },
     "execution_count": 33,
     "metadata": {},
     "output_type": "execute_result"
    }
   ],
   "source": [
    "torch.norm(torch.ones((4, 9)))"
   ]
  },
  {
   "cell_type": "markdown",
   "id": "10673aa8",
   "metadata": {},
   "source": [
    "# Autograd自动微分"
   ]
  },
  {
   "cell_type": "code",
   "execution_count": null,
   "id": "072ff277",
   "metadata": {},
   "outputs": [],
   "source": []
  },
  {
   "cell_type": "markdown",
   "id": "3b91275b",
   "metadata": {},
   "source": [
    "## 示例: \n",
    "对 y=2 * x.T * x 关于列向量x求导"
   ]
  },
  {
   "cell_type": "code",
   "execution_count": 16,
   "id": "4938e26e",
   "metadata": {},
   "outputs": [
    {
     "data": {
      "text/plain": [
       "tensor([0., 1., 2., 3.])"
      ]
     },
     "execution_count": 16,
     "metadata": {},
     "output_type": "execute_result"
    }
   ],
   "source": [
    "# 分配一个初始值\n",
    "x = torch.arange(4.0)\n",
    "x"
   ]
  },
  {
   "cell_type": "code",
   "execution_count": 17,
   "id": "94b8021d",
   "metadata": {},
   "outputs": [],
   "source": [
    "x.requires_grad_(True)\n",
    "x.grad        # 默认值是None"
   ]
  },
  {
   "cell_type": "code",
   "execution_count": 18,
   "id": "d0d0c220",
   "metadata": {},
   "outputs": [
    {
     "data": {
      "text/plain": [
       "tensor(28., grad_fn=<MulBackward0>)"
      ]
     },
     "execution_count": 18,
     "metadata": {},
     "output_type": "execute_result"
    }
   ],
   "source": [
    "y = 2 * torch.dot(x, x)     # y与向量x的每个元素都有关\n",
    "y"
   ]
  },
  {
   "cell_type": "code",
   "execution_count": 46,
   "id": "b86ecb63",
   "metadata": {},
   "outputs": [
    {
     "data": {
      "text/plain": [
       "tensor([ 0.,  4.,  8., 12.])"
      ]
     },
     "execution_count": 46,
     "metadata": {},
     "output_type": "execute_result"
    }
   ],
   "source": [
    "y.backward()     # 反向传播\n",
    "x.grad           # 更新变量x的梯度(= 4x)"
   ]
  },
  {
   "cell_type": "markdown",
   "id": "e75f5aac",
   "metadata": {},
   "source": [
    "## 清除之前的梯度值"
   ]
  },
  {
   "cell_type": "code",
   "execution_count": 49,
   "id": "cd595845",
   "metadata": {},
   "outputs": [
    {
     "data": {
      "text/plain": [
       "tensor([0., 0., 0., 0.])"
      ]
     },
     "execution_count": 49,
     "metadata": {},
     "output_type": "execute_result"
    }
   ],
   "source": [
    "# 在默认情况下，PyTorch会累积梯度，我们需要清除之前的值\n",
    "x.grad.zero_()      # 清除之前的值,输出全0"
   ]
  },
  {
   "cell_type": "markdown",
   "id": "d99dc1a2",
   "metadata": {},
   "source": [
    "## 非标量变量的反向传播"
   ]
  },
  {
   "cell_type": "markdown",
   "id": "954bedc1",
   "metadata": {},
   "source": [
    "当y不是标量时，向量y关于向量x的导数的最自然解释是一个矩阵. 目的不是计算微分矩阵，而是单独计算批量中每个样本的**偏导数之和**"
   ]
  },
  {
   "cell_type": "code",
   "execution_count": 51,
   "id": "6db98260",
   "metadata": {},
   "outputs": [
    {
     "data": {
      "text/plain": [
       "(tensor([0., 1., 4., 9.], grad_fn=<MulBackward0>),\n",
       " tensor([ 0.,  4.,  8., 12.]))"
      ]
     },
     "execution_count": 51,
     "metadata": {},
     "output_type": "execute_result"
    }
   ],
   "source": [
    "y = x * x\n",
    "# 等价于y.backward(torch.ones(len(x)))\n",
    "y.sum().backward()\n",
    "y,x.grad"
   ]
  },
  {
   "cell_type": "markdown",
   "id": "9ac0fccc",
   "metadata": {},
   "source": [
    "## 分离计算 .detach\n",
    "---\n",
    "假设y是作为x的函数计算的，而z则是作为y和x的函数计算的. 现在将y视为一个常数,求z关于x的偏导数"
   ]
  },
  {
   "cell_type": "code",
   "execution_count": 52,
   "id": "b6d62a77",
   "metadata": {},
   "outputs": [
    {
     "data": {
      "text/plain": [
       "tensor([True, True, True, True])"
      ]
     },
     "execution_count": 52,
     "metadata": {},
     "output_type": "execute_result"
    }
   ],
   "source": [
    "x.grad.zero_()\n",
    "y = x * x\n",
    "\n",
    "u = y.detach()    # 隔离变量  ( u与y具有相同的值,但丢弃计算图中如何计算y的任何信息,相当于一个常数 )\n",
    "z = u * x\n",
    "\n",
    "z.sum().backward()\n",
    "x.grad == u"
   ]
  },
  {
   "cell_type": "markdown",
   "id": "cfbf4085",
   "metadata": {},
   "source": [
    "---\n",
    "自动求导格式:\n",
    "```\n",
    "a = torch.randn(size=(), requires_grad=True)\n",
    "d = f(a)          # 具体函数\n",
    "d.backward()\n",
    "```"
   ]
  },
  {
   "cell_type": "markdown",
   "id": "7d12e140",
   "metadata": {},
   "source": [
    "---"
   ]
  },
  {
   "cell_type": "markdown",
   "id": "e34ae394",
   "metadata": {},
   "source": [
    "# 数据读入\n",
    "---\n",
    "PyTorch数据读入是通过Dataset+DataLoader的方式完成的\n",
    "\n",
    "Dataset定义好数据的格式和数据变换形式，DataLoader用iterative的方式不断读入批次数据"
   ]
  },
  {
   "cell_type": "markdown",
   "id": "c09f06aa",
   "metadata": {},
   "source": [
    "## Data_transform对图像预处理操作"
   ]
  },
  {
   "cell_type": "code",
   "execution_count": 6,
   "id": "08b1f372",
   "metadata": {},
   "outputs": [
    {
     "ename": "NameError",
     "evalue": "name 'size' is not defined",
     "output_type": "error",
     "traceback": [
      "\u001b[1;31m---------------------------------------------------------------------------\u001b[0m",
      "\u001b[1;31mNameError\u001b[0m                                 Traceback (most recent call last)",
      "Cell \u001b[1;32mIn[6], line 9\u001b[0m\n\u001b[0;32m      2\u001b[0m \u001b[38;5;28;01mfrom\u001b[39;00m \u001b[38;5;21;01mtorchvision\u001b[39;00m \u001b[38;5;28;01mimport\u001b[39;00m transforms\n\u001b[0;32m      4\u001b[0m image_size \u001b[38;5;241m=\u001b[39m \u001b[38;5;241m28\u001b[39m\n\u001b[0;32m      5\u001b[0m data_transform \u001b[38;5;241m=\u001b[39m transforms\u001b[38;5;241m.\u001b[39mCompose([\n\u001b[0;32m      6\u001b[0m     transforms\u001b[38;5;241m.\u001b[39mToPILImage(),\n\u001b[0;32m      7\u001b[0m     transforms\u001b[38;5;241m.\u001b[39mResize(image_size),                      \u001b[38;5;66;03m# 统一大小\u001b[39;00m\n\u001b[0;32m      8\u001b[0m     transforms\u001b[38;5;241m.\u001b[39mToTensor(),        \u001b[38;5;66;03m# 将PIL Image类型或numpy.ndarray类型的图片对象转换为tensor类型\u001b[39;00m\n\u001b[1;32m----> 9\u001b[0m     transforms\u001b[38;5;241m.\u001b[39mRandomCrop(\u001b[43msize\u001b[49m, padding\u001b[38;5;241m=\u001b[39m\u001b[38;5;28;01mNone\u001b[39;00m, pad_if_needed\u001b[38;5;241m=\u001b[39m\u001b[38;5;28;01mFalse\u001b[39;00m, fill\u001b[38;5;241m=\u001b[39m\u001b[38;5;241m0\u001b[39m, padding_mode\u001b[38;5;241m=\u001b[39mconstant),  \n\u001b[0;32m     10\u001b[0m     \u001b[38;5;66;03m# 在图片的随机位置上进行裁剪并返回新的图片padding：表示图像每个边框上的可选填充。默认值是None \u001b[39;00m\n\u001b[0;32m     11\u001b[0m     \u001b[38;5;66;03m# pad_if_needed：如果图像小于所需大小，它将填充图像，以避免引发异常\u001b[39;00m\n\u001b[0;32m     12\u001b[0m     \u001b[38;5;66;03m# fill：表示像素填充值，默认值为0。如果元组长度为3，则用于分别填充R、G、B通道\u001b[39;00m\n\u001b[0;32m     13\u001b[0m     \u001b[38;5;66;03m# padding_mode：表示像素填充值的类型，默认是常值，也有边缘填充，反射和对称\u001b[39;00m\n\u001b[0;32m     14\u001b[0m     \n\u001b[0;32m     15\u001b[0m     transforms\u001b[38;5;241m.\u001b[39mRandomHorizontalFlip(p\u001b[38;5;241m=\u001b[39m\u001b[38;5;241m0.5\u001b[39m),              \u001b[38;5;66;03m# 以特定的概率将图片进行水平翻转\u001b[39;00m\n\u001b[0;32m     16\u001b[0m     \n\u001b[0;32m     17\u001b[0m     transforms\u001b[38;5;241m.\u001b[39mTenCrop(size, vertical_flip\u001b[38;5;241m=\u001b[39m\u001b[38;5;28;01mFalse\u001b[39;00m),       \u001b[38;5;66;03m# 输入必须是PIL的图片格式,\u001b[39;00m\n\u001b[0;32m     18\u001b[0m     \u001b[38;5;66;03m# 将一张图片的四个角和中心进行裁剪后，然后加上返回的翻转后共10张图片，其中默认翻转是水平翻转\u001b[39;00m\n\u001b[0;32m     19\u001b[0m     \n\u001b[0;32m     20\u001b[0m     transforms\u001b[38;5;241m.\u001b[39mCenterCrop((\u001b[38;5;241m228\u001b[39m, \u001b[38;5;241m304\u001b[39m))  \u001b[38;5;66;03m#中心裁剪，裁成(228,304)的大小\u001b[39;00m\n\u001b[0;32m     21\u001b[0m ])\n",
      "\u001b[1;31mNameError\u001b[0m: name 'size' is not defined"
     ]
    }
   ],
   "source": [
    "# 首先.数据变换格式\n",
    "from torchvision import transforms\n",
    "\n",
    "image_size = 28\n",
    "data_transform = transforms.Compose([\n",
    "    transforms.ToPILImage(),\n",
    "    transforms.Resize(image_size),                      # 统一大小\n",
    "    transforms.ToTensor(),        # 将PIL Image类型或numpy.ndarray类型的图片对象转换为tensor类型\n",
    "    transforms.RandomCrop(size, padding=None, pad_if_needed=False, fill=0, padding_mode=constant),  \n",
    "    # 在图片的随机位置上进行裁剪并返回新的图片padding：表示图像每个边框上的可选填充。默认值是None \n",
    "    # pad_if_needed：如果图像小于所需大小，它将填充图像，以避免引发异常\n",
    "    # fill：表示像素填充值，默认值为0。如果元组长度为3，则用于分别填充R、G、B通道\n",
    "    # padding_mode：表示像素填充值的类型，默认是常值，也有边缘填充，反射和对称\n",
    "    \n",
    "    transforms.RandomHorizontalFlip(p=0.5),              # 以特定的概率将图片进行水平翻转\n",
    "    \n",
    "    transforms.TenCrop(size, vertical_flip=False),       # 输入必须是PIL的图片格式,\n",
    "    # 将一张图片的四个角和中心进行裁剪后，然后加上返回的翻转后共10张图片，其中默认翻转是水平翻转\n",
    "    \n",
    "    transforms.CenterCrop((228, 304))  #中心裁剪，裁成(228,304)的大小\n",
    "])"
   ]
  },
  {
   "cell_type": "markdown",
   "id": "e2dc6717",
   "metadata": {},
   "source": [
    "## 调用数据集"
   ]
  },
  {
   "cell_type": "code",
   "execution_count": 2,
   "id": "8b88b305",
   "metadata": {},
   "outputs": [
    {
     "name": "stderr",
     "output_type": "stream",
     "text": [
      "C:\\Users\\36085\\anaconda3\\Lib\\site-packages\\torchvision\\io\\image.py:13: UserWarning: Failed to load image Python extension: 'Could not find module 'C:\\Users\\36085\\anaconda3\\Lib\\site-packages\\torchvision\\image.pyd' (or one of its dependencies). Try using the full path with constructor syntax.'If you don't plan on using image functionality from `torchvision.io`, you can ignore this warning. Otherwise, there might be something wrong with your environment. Did you have `libjpeg` or `libpng` installed before building `torchvision` from source?\n",
      "  warn(\n"
     ]
    },
    {
     "ename": "NameError",
     "evalue": "name 'train_dataset' is not defined",
     "output_type": "error",
     "traceback": [
      "\u001b[1;31m---------------------------------------------------------------------------\u001b[0m",
      "\u001b[1;31mNameError\u001b[0m                                 Traceback (most recent call last)",
      "Cell \u001b[1;32mIn[2], line 11\u001b[0m\n\u001b[0;32m      7\u001b[0m train_dataset_MNIST \u001b[38;5;241m=\u001b[39m datasets\u001b[38;5;241m.\u001b[39mMNIST(root\u001b[38;5;241m=\u001b[39m\u001b[38;5;124m'\u001b[39m\u001b[38;5;124m../data/mnist\u001b[39m\u001b[38;5;124m'\u001b[39m,train\u001b[38;5;241m=\u001b[39m\u001b[38;5;28;01mTrue\u001b[39;00m,transform\u001b[38;5;241m=\u001b[39mtransforms\u001b[38;5;241m.\u001b[39mToTensor(),download\u001b[38;5;241m=\u001b[39m\u001b[38;5;28;01mTrue\u001b[39;00m)\n\u001b[0;32m      9\u001b[0m test_dataset_MNIST \u001b[38;5;241m=\u001b[39m datasets\u001b[38;5;241m.\u001b[39mMNIST(root\u001b[38;5;241m=\u001b[39m\u001b[38;5;124m'\u001b[39m\u001b[38;5;124m../data/mnist\u001b[39m\u001b[38;5;124m'\u001b[39m,train\u001b[38;5;241m=\u001b[39m\u001b[38;5;28;01mFalse\u001b[39;00m,transform\u001b[38;5;241m=\u001b[39mtransforms\u001b[38;5;241m.\u001b[39mToTensor(),download\u001b[38;5;241m=\u001b[39m\u001b[38;5;28;01mTrue\u001b[39;00m)\n\u001b[1;32m---> 11\u001b[0m train_loader_MNIST \u001b[38;5;241m=\u001b[39m DataLoader(dataset\u001b[38;5;241m=\u001b[39m\u001b[43mtrain_dataset\u001b[49m,batch_size\u001b[38;5;241m=\u001b[39m\u001b[38;5;241m32\u001b[39m,shuffle\u001b[38;5;241m=\u001b[39m\u001b[38;5;28;01mTrue\u001b[39;00m)\n\u001b[0;32m     13\u001b[0m test_loader_MNIST \u001b[38;5;241m=\u001b[39m DataLoader(dataset\u001b[38;5;241m=\u001b[39mtest_dataset,batch_size\u001b[38;5;241m=\u001b[39m\u001b[38;5;241m32\u001b[39m,shuffle\u001b[38;5;241m=\u001b[39m\u001b[38;5;28;01mFalse\u001b[39;00m)\n",
      "\u001b[1;31mNameError\u001b[0m: name 'train_dataset' is not defined"
     ]
    }
   ],
   "source": [
    "# 读取自带数据集MNIST\n",
    "from torchvision import datasets\n",
    "from torchvision import transforms\n",
    "from torch.utils.data import Dataset\n",
    "from torch.utils.data import DataLoader\n",
    "# root指示根目录,其中的子目录代表一个个图片\n",
    "train_dataset_MNIST = datasets.MNIST(root='../data/mnist',train=True,transform=transforms.ToTensor(),download=True)\n",
    "\n",
    "test_dataset_MNIST = datasets.MNIST(root='../data/mnist',train=False,transform=transforms.ToTensor(),download=True)\n",
    "\n",
    "train_loader_MNIST = DataLoader(dataset=train_dataset,batch_size=32,shuffle=True)\n",
    "\n",
    "test_loader_MNIST = DataLoader(dataset=test_dataset,batch_size=32,shuffle=False)"
   ]
  },
  {
   "cell_type": "code",
   "execution_count": 3,
   "id": "09cf1ff2",
   "metadata": {},
   "outputs": [
    {
     "name": "stdout",
     "output_type": "stream",
     "text": [
      "Downloading https://www.cs.toronto.edu/~kriz/cifar-10-python.tar.gz to ../data\\cifar-10-python.tar.gz\n"
     ]
    },
    {
     "name": "stderr",
     "output_type": "stream",
     "text": [
      "100%|███████████████████████████████████████████████████████████████| 170498071/170498071 [00:22<00:00, 7427750.20it/s]\n"
     ]
    },
    {
     "name": "stdout",
     "output_type": "stream",
     "text": [
      "Extracting ../data\\cifar-10-python.tar.gz to ../data\n",
      "Files already downloaded and verified\n"
     ]
    }
   ],
   "source": [
    "train_set_CIFAR10 = datasets.CIFAR10(root='../data',train=True,transform=transforms.ToTensor(),download=True)\n",
    "test_set_CIFAR10 = datasets.CIFAR10(root='../data',train=False,transform=transforms.ToTensor(),download=True)"
   ]
  },
  {
   "cell_type": "code",
   "execution_count": null,
   "id": "1c86c475",
   "metadata": {},
   "outputs": [],
   "source": [
    "from torchvision import datasets\n",
    "\n",
    "train_data = datasets.ImageFolder(train_path, transform=data_transform)\n",
    "val_data = datasets.ImageFolder(val_path, transform=data_transform)\n",
    "# ImageFolder会将目录中的文件夹名自动转化成序列，每个文件夹下会存储相同的一个类别"
   ]
  },
  {
   "cell_type": "markdown",
   "id": "5e57eac7",
   "metadata": {},
   "source": [
    "```torchvision.datasets.ImageFolder()```函数假设所有的文件按文件夹保存，每个文件夹下存储同一个类别的图片，文件夹名为类名\n",
    "\n",
    "---\n",
    "参数列表：\n",
    "- root：图像文件读取路径 如: ```data_path = r'./data/train'```\n",
    "- transform：对图像数据采取的数据增强策略\n",
    "- target_transform：对label进行转换\n",
    "- loader：指定加载图像的函数\n",
    "- is_valid_file：获取图像路径，检查文件的有效性"
   ]
  },
  {
   "cell_type": "markdown",
   "id": "ac48e47a",
   "metadata": {},
   "source": [
    "## **自定义输入dataset**\n",
    "---"
   ]
  },
  {
   "cell_type": "markdown",
   "id": "b4cb9c7e",
   "metadata": {},
   "source": [
    "我们可以定义自己的Dataset类来实现灵活的数据读取，定义的类需要继承PyTorch自身的Dataset类。主要包含三个函数：\n",
    "\n",
    "- __ init __: 用于向类中传入外部参数，同时定义样本集\n",
    "\n",
    "- __ getitem __: 用于**逐个读取**样本集合中的元素，可以进行一定的变换，并将返回训练/验证所需的数据\n",
    "\n",
    "- __ len __: 用于返回数据集的样本数"
   ]
  },
  {
   "cell_type": "code",
   "execution_count": null,
   "id": "87b5ce89",
   "metadata": {},
   "outputs": [],
   "source": [
    "# 基本结构\n",
    "\n",
    "import torch\n",
    "from torch.utils.data import Dataset\n",
    "from torch.utils.data import DataLoader\n",
    "\n",
    "class MyDataset(Dataset):\n",
    "    def __init__(self):\n",
    "        pass\n",
    "    def __getitem__(self, index):\n",
    "        pass\n",
    "    def __len__(self):\n",
    "        pass\n",
    "    \n",
    "dataset = DiabetesDataset('输入')\n",
    "train_loader = DataLoader(dataset=dataset,batch_size=32,shuffle=True,num_workers=2)\n",
    "...\n",
    "if __name__ == '__main__':\n",
    "    for epoch in range(100):\n",
    "        for i,data in enumerate(train_loader, 0):\n",
    "            # 1.Prepare data"
   ]
  },
  {
   "cell_type": "code",
   "execution_count": null,
   "id": "c156d78d",
   "metadata": {},
   "outputs": [],
   "source": [
    "# 示例\n",
    "class DiabetesDataset(Dataset):\n",
    "    def __init__(self, filepath):\n",
    "        xy = np.loadtxt(filepath, delimiter=',',dtype=np.float32)\n",
    "        self.len = xy.shape[0]\n",
    "        self.x_data = torch.from_numpy(xy[:, :-1])\n",
    "        self.y_data = torch.from_numpy(xy[:, [-1]])\n",
    "    \n",
    "    def __getitem__(self, index):\n",
    "        return (self.x_data[index], self.y_data[index])\n",
    "    \n",
    "    def __len__(self):\n",
    "        return self.len\n",
    "\n",
    "dataset = DiabetesDataset('diabetes.csv.gz')\n",
    "train_loader = DataLoader(dataset=dataset, batch_size=32, shuffle=True, num_workers=2)\n",
    "\n",
    "for epoch in range(100):\n",
    "    for i, data in enumerate(train_loader, 0):\n",
    "        # 1. Prepare data\n",
    "        inputs, labels = data\n",
    "        # 2. Forward\n",
    "        y_pred = model(inputs)\n",
    "        loss = criterion(y_pred, labels)\n",
    "        print(epoch, i, loss.item())\n",
    "        # 3. Backward\n",
    "        optimizer.zero_grad()\n",
    "        loss.backward()\n",
    "        # 4. Update\n",
    "        optimizer.step()"
   ]
  },
  {
   "cell_type": "markdown",
   "id": "3db8ac6c",
   "metadata": {},
   "source": [
    "## DataLoader\n",
    "---"
   ]
  },
  {
   "cell_type": "markdown",
   "id": "d281c71a",
   "metadata": {},
   "source": [
    "```class torch.utils.data.DataLoader(dataset, batch_size=1, shuffle=False, sampler=None, batch_sampler=None, num_workers=0, collate_fn=None, pin_memory=False, drop_last=False, timeout=0, worker_init_fn=None, multiprocessing_context=None)```\n",
    "\n",
    "- **dataset**    (Dataset): 封装后的数据集。\n",
    "    \n",
    "- **batch_size**    (python:int,optional)): 每一批加载的样本量，默认值为1。\n",
    "    \n",
    "- **shuffle**   (bool,optional): 设置为True时,每一个epoch重新打乱数据顺序。\n",
    "    \n",
    "- **sampler**    (Sampler,optional): 定义在数据集中进行采样的策略，如果被指定，则False必须为shuffle。\n",
    "    \n",
    "- **batch_sampler**    (Sampler,optional): 类似sampler，但是一次返回一批索引。互斥有batch_size，shuffle，sampler和drop_last。\n",
    "    \n",
    "- **num_workers**    (python:int,optional): 多少个子进程用于数据加载。0表示将在主进程中加载数据,默认值为0。\n",
    "    \n",
    "- **collate_fn**     (callable,optional): 合并样本列表以形成张量的小批量。在从地图样式数据集中使用批量加载时使用。\n",
    "    \n",
    "- **pin_memory**    (bool,optional): 如果为True，则数据加载器在将张量返回之前将其复制到CUDA固定的内存中。\n",
    "    \n",
    "- **drop_last**    (bool,optional): 设置为True，如果数据集大小不能被该批次大小整除则删除最后一个不完整的批次。如果False，数据集的大小不能被批量大小整除，那么最后一个批量将更小，默认值为False。\n",
    "    \n",
    "- timeout    (numeric,optional): 如果为正，则为从worker收集批次的超时值。应始终为非负数,默认值为0。\n",
    "    \n",
    "- worker_init_fn    (callable,optional): 如果不是None，则在种子工作之后和数据加载之前，将在每个工作程序子进程上调用此程序，并以工作程序ID作为输入,取值为[0, num_workers - 1]或None。\n",
    "    \n"
   ]
  },
  {
   "cell_type": "code",
   "execution_count": null,
   "id": "86e7e8f5",
   "metadata": {},
   "outputs": [],
   "source": [
    "from torch.utils.data import DataLoader\n",
    "\n",
    "train_loader = DataLoader(train_data, batch_size=batch_size, num_workers=4, shuffle=True, drop_last=True)\n",
    "val_loader = DataLoader(val_data, batch_size=batch_size, num_workers=4, shuffle=False)"
   ]
  },
  {
   "cell_type": "markdown",
   "id": "3dc41031",
   "metadata": {},
   "source": [
    "其中:\n",
    "\n",
    "- batch_size：样本是按“批”读入的，batch_size就是每次读入的样本数\n",
    "\n",
    "- num_workers：有多少个进程用于读取数据，Windows下该参数设置为0，Linux下常见的为4或者8，根据自己的电脑配置来设置\n",
    "\n",
    "- shuffle：是否将读入的数据打乱，一般在训练集中设置为True，验证集中设置为False\n",
    "\n",
    "- drop_last：对于样本最后一部分没有达到批次数的样本，使其不再参与训练"
   ]
  },
  {
   "cell_type": "markdown",
   "id": "3f72487e",
   "metadata": {},
   "source": [
    "---"
   ]
  },
  {
   "cell_type": "markdown",
   "id": "70c7fd82",
   "metadata": {},
   "source": [
    "# 多维特征输入"
   ]
  },
  {
   "cell_type": "code",
   "execution_count": null,
   "id": "d34a5ffb",
   "metadata": {},
   "outputs": [],
   "source": [
    "import torch\n",
    "class Model(torch.nn.Module):\n",
    "    def __init__(self):\n",
    "        super(Model, self).__init__()\n",
    "        self.linear1 = torch.nn.Linear(8, 6)\n",
    "        self.linear2 = torch.nn.Linear(6, 4)\n",
    "        self.linear3 = torch.nn.Linear(4, 1)\n",
    "        self.activate =torch.nn.ReLU()\n",
    "    def forward(self, x):\n",
    "        x = self.activate(self.linear1(x))\n",
    "        x = self.activate(self.linear2(x))\n",
    "        x = self.activate(self.linear3(x))\n",
    "        return x\n",
    "\n",
    "model = Model()"
   ]
  },
  {
   "cell_type": "markdown",
   "id": "8aab9e37",
   "metadata": {},
   "source": [
    "# 线性模型的初步实现"
   ]
  },
  {
   "cell_type": "code",
   "execution_count": 32,
   "id": "5add1354",
   "metadata": {},
   "outputs": [
    {
     "data": {
      "text/plain": [
       "tensor([[True],\n",
       "        [True],\n",
       "        [True],\n",
       "        [True],\n",
       "        [True],\n",
       "        [True],\n",
       "        [True],\n",
       "        [True],\n",
       "        [True],\n",
       "        [True],\n",
       "        [True]])"
      ]
     },
     "execution_count": 32,
     "metadata": {},
     "output_type": "execute_result"
    }
   ],
   "source": [
    "x_values = [i for i in range(11)]\n",
    "x_train = np.array(x_values, dtype=np.float32)\n",
    "x_train = x_train.reshape(-1, 1)\n",
    "\n",
    "y_values = [2*i + 1 for i in x_values]\n",
    "y_train = np.array(y_values, dtype=np.float32)\n",
    "y_train = y_train.reshape(-1, 1)\n",
    "\n",
    "(x_train, y_train) = map(torch.tensor,(x_train,y_train))  # 变换类型\n",
    "\n",
    "x_train* 2 + 1 == y_train   # 关系式"
   ]
  },
  {
   "cell_type": "code",
   "execution_count": 40,
   "id": "a94ca184",
   "metadata": {},
   "outputs": [
    {
     "name": "stdout",
     "output_type": "stream",
     "text": [
      "epoch 50, loss 0.25932803750038147\n",
      "epoch 100, loss 0.14791102707386017\n",
      "epoch 150, loss 0.08436289429664612\n",
      "epoch 200, loss 0.04811738803982735\n",
      "epoch 250, loss 0.027444344013929367\n",
      "epoch 300, loss 0.015653295442461967\n",
      "epoch 350, loss 0.008928012102842331\n",
      "epoch 400, loss 0.005092208739370108\n",
      "epoch 450, loss 0.0029044297989457846\n",
      "epoch 500, loss 0.0016565740806981921\n",
      "epoch 550, loss 0.0009448457858525217\n",
      "epoch 600, loss 0.0005389078869484365\n",
      "epoch 650, loss 0.0003073711704928428\n",
      "epoch 700, loss 0.00017531272897031158\n",
      "epoch 750, loss 9.999747999245301e-05\n",
      "epoch 800, loss 5.703233182430267e-05\n",
      "epoch 850, loss 3.2528794690733775e-05\n",
      "epoch 900, loss 1.8552012988948263e-05\n",
      "epoch 950, loss 1.058323778124759e-05\n",
      "epoch 1000, loss 6.034894795448054e-06\n",
      "w =  2.0006582736968994\n",
      "b =  0.9954299330711365\n",
      "y_pred =  tensor([[8.9981]])\n"
     ]
    }
   ],
   "source": [
    "import torch\n",
    "import torch.nn as nn\n",
    "\n",
    "class LinearRegressionModel(torch.nn.Module):\n",
    "    def __init__(self, input_dim, output_dim):\n",
    "        super(LinearModel, self).__init__()\n",
    "        self.linear = torch.nn.Linear(input_dim, output_dim)\n",
    "    \n",
    "    def forward(self, x):\n",
    "        y_pred = self.linear(x)\n",
    "        return y_pred\n",
    "\n",
    "model = LinearModel(1,1)\n",
    "\n",
    "#-传入GPU---------------------------------------------------------------------\n",
    "device = torch.device(\"cuda:0\" if torch.cuda.is_available() else \"cpu\")\n",
    "model.to(device)\n",
    "\n",
    "inputs = x_train.to(device)\n",
    "labels = y_train.to(device)\n",
    "#-------------------------------------------------------------------------------\n",
    "\n",
    "epochs_num = 1000\n",
    "learning_rate = 0.01\n",
    "\n",
    "criterion = torch.nn.MSELoss()\n",
    "optimizer = torch.optim.SGD(model.parameters(), lr=learning_rate)\n",
    "\n",
    "for epoch in range(epochs_num):\n",
    "    y_pred = model(inputs)\n",
    "    loss = criterion(y_pred,labels)\n",
    "    if (epoch + 1) % 50 == 0:\n",
    "        print(f'epoch {epoch + 1}, loss {loss.item()}') \n",
    "    optimizer.zero_grad()\n",
    "    loss.backward()\n",
    "    optimizer.step()\n",
    "print('w = ',model.linear.weight.item())\n",
    "print('b = ',model.linear.bias.item())\n",
    "x_test = torch.Tensor([[4.0]])\n",
    "y_test = model(x_test)\n",
    "print('y_pred = ',y_test.data)"
   ]
  },
  {
   "cell_type": "markdown",
   "id": "b9177a49",
   "metadata": {},
   "source": [
    "## 模型的保存"
   ]
  },
  {
   "cell_type": "code",
   "execution_count": null,
   "id": "3ab29b21",
   "metadata": {},
   "outputs": [],
   "source": [
    "torch.save(model.state_dict(), 'model.pkl')   # state_dict保存模型参数、超参数"
   ]
  },
  {
   "cell_type": "code",
   "execution_count": null,
   "id": "a5197a83",
   "metadata": {},
   "outputs": [],
   "source": [
    "model.load_state_dict(torch.load('model.pkl'))     # 加载参数"
   ]
  },
  {
   "cell_type": "markdown",
   "id": "2e51c438",
   "metadata": {},
   "source": [
    "#  使用GPU进行训练\n",
    "---\n",
    "- 只需要把数据和模型传入到cuda里面就可以了"
   ]
  },
  {
   "cell_type": "code",
   "execution_count": null,
   "id": "1e9614a8",
   "metadata": {},
   "outputs": [],
   "source": [
    "# device = torch.device(\"cuda:0\" if torch.cuda.is_available() else \"cpu\")\n",
    "# model.to(device)\n",
    "# inputs = torch.from_numpy(x_train).to(device)\n",
    "# labels = torch.from_numpy(y_train).to(device)"
   ]
  },
  {
   "cell_type": "markdown",
   "id": "e7e72aff",
   "metadata": {},
   "source": [
    "---"
   ]
  },
  {
   "cell_type": "markdown",
   "id": "8aefad1a",
   "metadata": {},
   "source": [
    "# 实战示例1---气温预测"
   ]
  },
  {
   "cell_type": "markdown",
   "id": "29c413a7",
   "metadata": {},
   "source": [
    "数据表中\n",
    "* year,moth,day,week分别表示的具体的时间\n",
    "* temp_2：前天的最高温度值\n",
    "* temp_1：昨天的最高温度值\n",
    "* average：在历史中，每年这一天的平均最高温度值\n",
    "* actual：这就是我们的标签值了，当天的真实最高温度\n",
    "* friend：这一列可能是凑热闹的，你的朋友猜测的可能值，咱们不管它就好了"
   ]
  },
  {
   "cell_type": "markdown",
   "id": "ef89a3a9",
   "metadata": {},
   "source": [
    "## 获取对应数据 features / labels"
   ]
  },
  {
   "cell_type": "code",
   "execution_count": 116,
   "id": "5cbd9c08",
   "metadata": {},
   "outputs": [],
   "source": [
    "import pandas as pd\n",
    "import numpy as np\n",
    "import torch\n",
    "from torch.utils.data import Dataset\n",
    "from torch.utils.data import DataLoader\n",
    "import matplotlib.pyplot as plt\n",
    "import torch.optim as optim"
   ]
  },
  {
   "cell_type": "markdown",
   "id": "b103cddc",
   "metadata": {},
   "source": [
    "## 构建神经网络"
   ]
  },
  {
   "cell_type": "code",
   "execution_count": 106,
   "id": "2f64279a",
   "metadata": {},
   "outputs": [],
   "source": [
    "class TimeDataset(Dataset):\n",
    "    def __init__(self, filepath):\n",
    "        datas = pd.read_csv( filepath )\n",
    "        datas = pd.get_dummies(datas) \n",
    "        feature_list = list(datas.columns)\n",
    "        self.labels_np = np.array( datas['actual'] )\n",
    "        self.features_np = StandardScaler().fit_transform( np.array( datas.drop('actual', axis = 1) ) )\n",
    "        self.len = datas.shape[0]\n",
    "    \n",
    "    def __getitem__(self, index):\n",
    "        self.features_tensor = torch.tensor( self.features_np, dtype = torch.float, requires_grad = True )\n",
    "        self.labels_tensor = torch.tensor( self.labels_np, dtype = torch.float, requires_grad = True )\n",
    "        return (self.features_tensor[index], self.labels_tensor[index])\n",
    "    \n",
    "    def __len__(self):\n",
    "        return self.len"
   ]
  },
  {
   "cell_type": "code",
   "execution_count": 107,
   "id": "28715b97",
   "metadata": {},
   "outputs": [],
   "source": [
    "GetData = TimeDataset('data/temps.csv')\n",
    "train_loader = DataLoader(dataset=GetData,batch_size=16,shuffle=False,num_workers=0,drop_last=False)"
   ]
  },
  {
   "cell_type": "code",
   "execution_count": 108,
   "id": "7663dd9a",
   "metadata": {},
   "outputs": [],
   "source": [
    "input_size = 14\n",
    "hidden_size = 128\n",
    "output_size = 1\n",
    "\n",
    "my_nn = torch.nn.Sequential(\n",
    "    torch.nn.Linear(input_size, hidden_size),\n",
    "    torch.nn.Sigmoid(),\n",
    "    torch.nn.Linear(hidden_size, output_size),\n",
    ")\n",
    "cost = torch.nn.MSELoss(reduction='mean')\n",
    "optimizer = torch.optim.Adam(my_nn.parameters(), lr = 0.001)"
   ]
  },
  {
   "cell_type": "code",
   "execution_count": 109,
   "id": "47deddb2",
   "metadata": {},
   "outputs": [
    {
     "name": "stderr",
     "output_type": "stream",
     "text": [
      "C:\\Users\\36085\\anaconda3\\Lib\\site-packages\\torch\\nn\\modules\\loss.py:536: UserWarning: Using a target size (torch.Size([16])) that is different to the input size (torch.Size([16, 1])). This will likely lead to incorrect results due to broadcasting. Please ensure they have the same size.\n",
      "  return F.mse_loss(input, target, reduction=self.reduction)\n",
      "C:\\Users\\36085\\anaconda3\\Lib\\site-packages\\torch\\nn\\modules\\loss.py:536: UserWarning: Using a target size (torch.Size([12])) that is different to the input size (torch.Size([12, 1])). This will likely lead to incorrect results due to broadcasting. Please ensure they have the same size.\n",
      "  return F.mse_loss(input, target, reduction=self.reduction)\n"
     ]
    },
    {
     "name": "stdout",
     "output_type": "stream",
     "text": [
      "epoch: 0 loss: 1984.7051\n",
      "epoch: 100 loss: 30.676554\n",
      "epoch: 200 loss: 27.143007\n",
      "epoch: 300 loss: 26.602432\n",
      "epoch: 400 loss: 26.842781\n",
      "epoch: 500 loss: 27.089685\n",
      "epoch: 600 loss: 27.254745\n",
      "epoch: 700 loss: 27.347486\n",
      "epoch: 800 loss: 27.391815\n",
      "epoch: 900 loss: 27.403736\n"
     ]
    }
   ],
   "source": [
    "epoch_num = 1000\n",
    "\n",
    "for epoch in range(eopch_num):\n",
    "    for i,(features, labels) in enumerate(train_loader,0):\n",
    "        prediction = my_nn(features)\n",
    "        loss = cost(prediction, labels)\n",
    "        optimizer.zero_grad()\n",
    "        loss.backward(retain_graph=True)\n",
    "        optimizer.step()\n",
    "         # 打印损失\n",
    "    if epoch % 100 == 0:\n",
    "        losses.append(np.array(batch_loss))\n",
    "        print('epoch:', epoch, 'loss:', loss.data.numpy())"
   ]
  },
  {
   "cell_type": "code",
   "execution_count": 111,
   "id": "fca0a3b8",
   "metadata": {},
   "outputs": [
    {
     "name": "stdout",
     "output_type": "stream",
     "text": [
      "['2016-1-1', '2016-1-2', '2016-1-3', '2016-1-4', '2016-1-5']\n",
      "[datetime.datetime(2016, 1, 1, 0, 0), datetime.datetime(2016, 1, 2, 0, 0), datetime.datetime(2016, 1, 3, 0, 0), datetime.datetime(2016, 1, 4, 0, 0), datetime.datetime(2016, 1, 5, 0, 0)]\n"
     ]
    }
   ],
   "source": [
    "features = pd.read_csv('data/temps.csv')\n",
    "features = pd.get_dummies(features)\n",
    "features.head(5)\n",
    "# 处理时间数据\n",
    "import datetime\n",
    "\n",
    "# 分别得到年，月，日\n",
    "years = features['year']\n",
    "months = features['month']\n",
    "days = features['day']\n",
    "\n",
    "# datetime格式\n",
    "dates = [str(int(year)) + '-' + str(int(month)) + '-' + str(int(day)) for year, month, day in zip(years, months, days)]\n",
    "print(dates[:5])\n",
    "dates = [datetime.datetime.strptime(date, '%Y-%m-%d') for date in dates]     # 转化为datetime.datetime:日期和时间表示的类\n",
    "print(dates[:5])\n",
    "\n",
    "# 标签\n",
    "labels = np.array(features['actual'])\n",
    "# 在特征中去掉标签\n",
    "features= features.drop('actual', axis = 1)\n",
    "# 特征名单独保存\n",
    "feature_list = list(features.columns)\n",
    "# 转换成合适的格式\n",
    "features = np.array(features)"
   ]
  },
  {
   "cell_type": "code",
   "execution_count": 113,
   "id": "df2274b8",
   "metadata": {},
   "outputs": [],
   "source": [
    "from sklearn.preprocessing import StandardScaler\n",
    "input_features = StandardScaler().fit_transform(features)\n",
    "\n",
    "x = torch.tensor(input_features, dtype = torch.float)\n",
    "predict = my_nn(x).data.numpy()"
   ]
  },
  {
   "cell_type": "code",
   "execution_count": 114,
   "id": "7943d8f0",
   "metadata": {},
   "outputs": [],
   "source": [
    "# 转换日期格式\n",
    "dates = [str(int(year)) + '-' + str(int(month)) + '-' + str(int(day)) for year, month, day in zip(years, months, days)]\n",
    "dates = [datetime.datetime.strptime(date, '%Y-%m-%d') for date in dates]\n",
    "\n",
    "# 创建一个表格来存日期和其对应的标签数值\n",
    "true_data = pd.DataFrame(data = {'date': dates, 'actual': labels})\n",
    "\n",
    "# 同理，再创建一个来存日期和其对应的模型预测值\n",
    "months = features[:, feature_list.index('month')]\n",
    "days = features[:, feature_list.index('day')]\n",
    "years = features[:, feature_list.index('year')]\n",
    "\n",
    "test_dates = [str(int(year)) + '-' + str(int(month)) + '-' + str(int(day)) for year, month, day in zip(years, months, days)]\n",
    "test_dates = [datetime.datetime.strptime(date, '%Y-%m-%d') for date in test_dates]\n",
    "\n",
    "predictions_data = pd.DataFrame(data = {'date': test_dates, 'prediction': predict.reshape(-1)}) "
   ]
  },
  {
   "cell_type": "code",
   "execution_count": 115,
   "id": "561fe1d2",
   "metadata": {},
   "outputs": [
    {
     "data": {
      "image/png": "[encoded data removed]",
      "text/plain": [
       "<Figure size 640x480 with 1 Axes>"
      ]
     },
     "metadata": {},
     "output_type": "display_data"
    }
   ],
   "source": [
    "# 真实值\n",
    "plt.plot(true_data['date'], true_data['actual'], 'b-', label = 'actual')\n",
    "# 预测值\n",
    "plt.plot(predictions_data['date'], predictions_data['prediction'], 'ro', label = 'prediction')\n",
    "\n",
    "plt.xticks(rotation = 60); \n",
    "plt.legend()\n",
    "\n",
    "# 图名\n",
    "plt.xlabel('Date'); plt.ylabel('Maximum Temperature (F)'); plt.title('Actual and Predicted Values');"
   ]
  },
  {
   "cell_type": "markdown",
   "id": "17141737",
   "metadata": {},
   "source": [
    "---"
   ]
  },
  {
   "cell_type": "markdown",
   "id": "791ad934",
   "metadata": {},
   "source": [
    "# LogisticRegression"
   ]
  },
  {
   "cell_type": "code",
   "execution_count": 6,
   "id": "d1fde4cd",
   "metadata": {},
   "outputs": [
    {
     "name": "stdout",
     "output_type": "stream",
     "text": [
      "0 1.9552366733551025\n",
      "1 1.9532268047332764\n",
      "2 1.9512310028076172\n",
      "3 1.9492487907409668\n",
      "4 1.9472789764404297\n",
      "5 1.9453212022781372\n",
      "6 1.9433741569519043\n",
      "7 1.9414374828338623\n",
      "8 1.9395108222961426\n",
      "9 1.9375935792922974\n",
      "10 1.9356850385665894\n",
      "11 1.9337847232818604\n",
      "12 1.9318923950195312\n",
      "13 1.9300075769424438\n",
      "14 1.9281299114227295\n",
      "15 1.9262592792510986\n",
      "16 1.9243950843811035\n",
      "17 1.9225373268127441\n",
      "18 1.9206852912902832\n",
      "19 1.918839454650879\n",
      "20 1.9169988632202148\n",
      "21 1.9151639938354492\n",
      "22 1.9133340120315552\n",
      "23 1.9115095138549805\n",
      "24 1.9096895456314087\n",
      "25 1.907874345779419\n",
      "26 1.9060637950897217\n",
      "27 1.9042576551437378\n",
      "28 1.9024560451507568\n",
      "29 1.9006587266921997\n",
      "30 1.8988654613494873\n",
      "31 1.8970762491226196\n",
      "32 1.8952913284301758\n",
      "33 1.893510341644287\n",
      "34 1.891732931137085\n",
      "35 1.8899593353271484\n",
      "36 1.8881895542144775\n",
      "37 1.8864233493804932\n",
      "38 1.8846611976623535\n",
      "39 1.8829023838043213\n",
      "40 1.881147027015686\n",
      "41 1.8793952465057373\n",
      "42 1.8776469230651855\n",
      "43 1.8759019374847412\n",
      "44 1.8741602897644043\n",
      "45 1.872422218322754\n",
      "46 1.870687484741211\n",
      "47 1.8689558506011963\n",
      "48 1.867227554321289\n",
      "49 1.8655025959014893\n",
      "50 1.863781213760376\n",
      "51 1.8620623350143433\n",
      "52 1.860347032546997\n",
      "53 1.8586349487304688\n",
      "54 1.8569259643554688\n",
      "55 1.855219841003418\n",
      "56 1.8535172939300537\n",
      "57 1.8518174886703491\n",
      "58 1.850121021270752\n",
      "59 1.8484275341033936\n",
      "60 1.846737265586853\n",
      "61 1.8450498580932617\n",
      "62 1.8433655500411987\n",
      "63 1.8416842222213745\n",
      "64 1.8400061130523682\n",
      "65 1.838330864906311\n",
      "66 1.8366584777832031\n",
      "67 1.834989309310913\n",
      "68 1.8333230018615723\n",
      "69 1.8316597938537598\n",
      "70 1.8299994468688965\n",
      "71 1.828342080116272\n",
      "72 1.8266878128051758\n",
      "73 1.8250362873077393\n",
      "74 1.823387622833252\n",
      "75 1.8217418193817139\n",
      "76 1.8200992345809937\n",
      "77 1.8184595108032227\n",
      "78 1.8168225288391113\n",
      "79 1.8151885271072388\n",
      "80 1.8135572671890259\n",
      "81 1.8119289875030518\n",
      "82 1.8103039264678955\n",
      "83 1.8086811304092407\n",
      "84 1.8070614337921143\n",
      "85 1.8054447174072266\n",
      "86 1.803830623626709\n",
      "87 1.8022196292877197\n",
      "88 1.8006112575531006\n",
      "89 1.7990057468414307\n",
      "90 1.79740309715271\n",
      "91 1.7958030700683594\n",
      "92 1.7942062616348267\n",
      "93 1.792611837387085\n",
      "94 1.7910206317901611\n",
      "95 1.7894320487976074\n",
      "96 1.7878460884094238\n",
      "97 1.7862627506256104\n",
      "98 1.7846825122833252\n",
      "99 1.7831051349639893\n"
     ]
    }
   ],
   "source": [
    "import torch\n",
    "import torch.nn.functional as F\n",
    "\n",
    "x_data = torch.Tensor([[1.0],[2.0],[3.0]])\n",
    "y_data = torch.Tensor([[0], [0], [1]])\n",
    "#-------------------------------------------------------#\n",
    "class LogisticRegressionModel(torch.nn.Module):\n",
    "    def __init__(self):\n",
    "        super(LogisticRegressionModel, self).__init__()\n",
    "        self.linear = torch.nn.Linear(1, 1)\n",
    "    def forward(self, x):\n",
    "        y_pred = F.sigmoid(self.linear(x))\n",
    "        return y_pred\n",
    "\n",
    "model = LogisticRegressionModel()\n",
    "#-------------------------------------------------------#\n",
    "criterion = torch.nn.BCELoss(size_average=False)           # 二分类交叉熵\n",
    "optimizer = torch.optim.SGD(model.parameters(), lr=0.01)\n",
    "#-------------------------------------------------------#\n",
    "for epoch in range(100):\n",
    "    y_pred = model(x_data)\n",
    "    loss = criterion(y_pred, y_data)\n",
    "    print(epoch, loss.item())\n",
    "    optimizer.zero_grad()\n",
    "    loss.backward()\n",
    "    optimizer.step()"
   ]
  },
  {
   "cell_type": "code",
   "execution_count": 7,
   "id": "0f34ee7e",
   "metadata": {},
   "outputs": [
    {
     "data": {
      "image/png": "[encoded data removed]",
      "text/plain": [
       "<Figure size 640x480 with 1 Axes>"
      ]
     },
     "metadata": {},
     "output_type": "display_data"
    }
   ],
   "source": [
    "import numpy as np\n",
    "import matplotlib.pyplot as plt\n",
    "\n",
    "x = np.linspace(0, 10, 200)\n",
    "x_t = torch.Tensor(x).view((200, 1))\n",
    "y_t = model(x_t)\n",
    "y = y_t.data.numpy()\n",
    "plt.plot(x, y)\n",
    "plt.plot([0, 10], [0.5,0.5],c='r')\n",
    "plt.xlabel('Hours')\n",
    "plt.ylabel('Probability of Pass')\n",
    "plt.grid()\n",
    "plt.show()"
   ]
  },
  {
   "cell_type": "markdown",
   "id": "7131abe2",
   "metadata": {},
   "source": [
    "---"
   ]
  },
  {
   "cell_type": "markdown",
   "id": "4f5b48ee",
   "metadata": {},
   "source": [
    "# SoftmaxClassifier"
   ]
  },
  {
   "cell_type": "code",
   "execution_count": 5,
   "id": "ab19687b",
   "metadata": {},
   "outputs": [
    {
     "name": "stderr",
     "output_type": "stream",
     "text": [
      "C:\\Users\\36085\\anaconda3\\Lib\\site-packages\\torchvision\\io\\image.py:13: UserWarning: Failed to load image Python extension: 'Could not find module 'C:\\Users\\36085\\anaconda3\\Lib\\site-packages\\torchvision\\image.pyd' (or one of its dependencies). Try using the full path with constructor syntax.'If you don't plan on using image functionality from `torchvision.io`, you can ignore this warning. Otherwise, there might be something wrong with your environment. Did you have `libjpeg` or `libpng` installed before building `torchvision` from source?\n",
      "  warn(\n"
     ]
    }
   ],
   "source": [
    "import torch\n",
    "from torchvision import transforms\n",
    "from torchvision import datasets\n",
    "from torch.utils.data import DataLoader\n",
    "import torch.nn.functional as F\n",
    "import torch.optim as optim"
   ]
  },
  {
   "cell_type": "code",
   "execution_count": 6,
   "id": "4345fad3",
   "metadata": {},
   "outputs": [],
   "source": [
    "batch_size = 64\n",
    "transform = transforms.Compose([transforms.ToTensor(),transforms.Normalize((0.1307,),(0.3081,))])\n",
    "\n",
    "train_dataset = datasets.MNIST(root='../dataset/mnist/',train=True,download=True,transform=transform)\n",
    "\n",
    "train_loader = DataLoader(train_dataset,shuffle=True,batch_size=batch_size)\n",
    "\n",
    "test_dataset = datasets.MNIST(root='../dataset/mnist/',train=False,download=True,transform=transform)\n",
    "\n",
    "test_loader = DataLoader(test_dataset,shuffle=False,batch_size=batch_size)"
   ]
  },
  {
   "cell_type": "code",
   "execution_count": 11,
   "id": "66f0b83e",
   "metadata": {},
   "outputs": [],
   "source": [
    "class Net(torch.nn.Module):\n",
    "    def __init__(self):\n",
    "        super(Net, self).__init__()\n",
    "        self.l1 = torch.nn.Linear(784, 512)\n",
    "        self.l2 = torch.nn.Linear(512, 256)\n",
    "        self.l3 = torch.nn.Linear(256, 128)\n",
    "        self.l4 = torch.nn.Linear(128, 64)\n",
    "        self.l5 = torch.nn.Linear(64, 10)\n",
    "    def forward(self, x):\n",
    "        x = x.view(-1, 784)\n",
    "        x = F.relu(self.l1(x))\n",
    "        x = F.relu(self.l2(x))\n",
    "        x = F.relu(self.l3(x))\n",
    "        x = F.relu(self. l4(x))\n",
    "        return self.l5(x)\n",
    "\n",
    "model = Net()\n",
    "\n",
    "criterion = torch.nn.CrossEntropyLoss()\n",
    "optimizer = optim.SGD(model.parameters(), lr=0.01,momentum=0.5)"
   ]
  },
  {
   "cell_type": "code",
   "execution_count": 12,
   "id": "8b7abad2",
   "metadata": {},
   "outputs": [],
   "source": [
    "def train(epoch):\n",
    "    running_loss = 0.0\n",
    "    for batch_idx, data in enumerate(train_loader, 0):\n",
    "        inputs, target = data\n",
    "        optimizer.zero_grad()\n",
    "    # forward + backward + update\n",
    "        outputs = model(inputs)\n",
    "        loss = criterion(outputs, target)\n",
    "        loss.backward()\n",
    "        optimizer.step()\n",
    "        running_loss += loss.item()\n",
    "        if batch_idx % 300 == 299:\n",
    "            print('[%d,%5d] loss: %.3f' % (epoch + 1, batch_idx + 1, running_loss / 300))\n",
    "            running_loss = 0.0"
   ]
  },
  {
   "cell_type": "code",
   "execution_count": 13,
   "id": "3b494975",
   "metadata": {},
   "outputs": [],
   "source": [
    "def test():\n",
    "    correct = 0\n",
    "    total = 0\n",
    "    with torch.no_grad():\n",
    "        for data in test_loader:\n",
    "            images, labels = data\n",
    "            outputs = model(images)\n",
    "            _,predicted = torch.max(outputs.data,dim=1)\n",
    "            total += labels.size(0)\n",
    "            correct += (predicted == labels).sum().item()\n",
    "    print('Accuracy on test set: %d %%' % (100 * correct / total))"
   ]
  },
  {
   "cell_type": "code",
   "execution_count": 14,
   "id": "69ffa8f5",
   "metadata": {},
   "outputs": [
    {
     "name": "stdout",
     "output_type": "stream",
     "text": [
      "[1,  300] loss: 2.188\n",
      "[1,  600] loss: 0.854\n",
      "[1,  900] loss: 0.416\n",
      "Accuracy on test set: 87 %\n",
      "[2,  300] loss: 0.318\n",
      "[2,  600] loss: 0.272\n",
      "[2,  900] loss: 0.221\n",
      "Accuracy on test set: 93 %\n",
      "[3,  300] loss: 0.192\n",
      "[3,  600] loss: 0.169\n",
      "[3,  900] loss: 0.155\n",
      "Accuracy on test set: 95 %\n",
      "[4,  300] loss: 0.133\n",
      "[4,  600] loss: 0.124\n",
      "[4,  900] loss: 0.118\n",
      "Accuracy on test set: 96 %\n",
      "[5,  300] loss: 0.101\n",
      "[5,  600] loss: 0.092\n",
      "[5,  900] loss: 0.092\n",
      "Accuracy on test set: 96 %\n",
      "[6,  300] loss: 0.077\n",
      "[6,  600] loss: 0.075\n",
      "[6,  900] loss: 0.073\n",
      "Accuracy on test set: 97 %\n",
      "[7,  300] loss: 0.059\n",
      "[7,  600] loss: 0.064\n",
      "[7,  900] loss: 0.060\n",
      "Accuracy on test set: 97 %\n",
      "[8,  300] loss: 0.048\n",
      "[8,  600] loss: 0.050\n",
      "[8,  900] loss: 0.050\n",
      "Accuracy on test set: 97 %\n",
      "[9,  300] loss: 0.038\n",
      "[9,  600] loss: 0.042\n",
      "[9,  900] loss: 0.039\n",
      "Accuracy on test set: 97 %\n",
      "[10,  300] loss: 0.031\n",
      "[10,  600] loss: 0.032\n",
      "[10,  900] loss: 0.034\n",
      "Accuracy on test set: 97 %\n"
     ]
    }
   ],
   "source": [
    "if __name__ == '__main__':\n",
    "    for epoch in range(10):\n",
    "        train(epoch)\n",
    "        test()"
   ]
  },
  {
   "cell_type": "markdown",
   "id": "00cca44d",
   "metadata": {},
   "source": [
    "---"
   ]
  },
  {
   "cell_type": "markdown",
   "id": "afe3a03c",
   "metadata": {},
   "source": [
    "# 卷积神经网络CNN"
   ]
  },
  {
   "cell_type": "markdown",
   "id": "72ce8d1c",
   "metadata": {},
   "source": [
    "## 简易示例\n",
    "* ```padding``` 边缘填充\n",
    "\n",
    "* ```stride``` 步长"
   ]
  },
  {
   "cell_type": "code",
   "execution_count": 1,
   "id": "a5afb11f",
   "metadata": {},
   "outputs": [
    {
     "name": "stdout",
     "output_type": "stream",
     "text": [
      "torch.Size([1, 5, 100, 100])\n",
      "torch.Size([1, 10, 98, 98])\n",
      "torch.Size([10, 5, 3, 3])\n"
     ]
    }
   ],
   "source": [
    "# torch.nn.Conv2d 用于实现二维卷积操作\n",
    "\n",
    "import torch\n",
    "\n",
    "in_channels,out_channels= 5, 10\n",
    "width,height = 100, 100\n",
    "kernel_size = 3\n",
    "batch_size = 1\n",
    "\n",
    "# 输入张量的形状是 (batch_size, channels, height, width)  \n",
    "input = torch.randn(batch_size, in_channels, height, idth)\n",
    "conv_layer = torch.nn.Conv2d(in_channels, out_channels, kernel_size = kernel_size)\n",
    "output =conv_layer( input )\n",
    "\n",
    "print(input.shape)\n",
    "print(output.shape)\n",
    "print(conv_layer.weight.shape)"
   ]
  },
  {
   "cell_type": "code",
   "execution_count": null,
   "id": "b367313f",
   "metadata": {},
   "outputs": [],
   "source": [
    "# torch.nn.MaxPool2d 用于实现二维最大池化（max pooling）操作\n",
    "import torch  \n",
    "import torch.nn as nn  \n",
    "  \n",
    "# 输入张量的形状是 (batch_size, channels, height, width)  \n",
    "input = torch.randn(32, 16, 32, 32)  \n",
    "  \n",
    "# 创建一个 MaxPool2d 层  \n",
    "# 池化核的大小是 2x2，步长是 2，填充是 0  \n",
    "pool_layer = nn.MaxPool2d(2, stride=2, padding=0)  \n",
    "  \n",
    "# 将输入通过池化层  \n",
    "output = pool_layer(input)"
   ]
  },
  {
   "cell_type": "markdown",
   "id": "760bbf66",
   "metadata": {},
   "source": [
    "## MNIST图片处理示例"
   ]
  },
  {
   "cell_type": "markdown",
   "id": "dc6a6a09",
   "metadata": {},
   "source": [
    "<img src=\"./photos/conv2d.png\" width=\"80%\">"
   ]
  },
  {
   "cell_type": "code",
   "execution_count": 11,
   "id": "4ad1cedd",
   "metadata": {},
   "outputs": [
    {
     "data": {
      "text/plain": [
       "'\\nif torch.cuda.is_available() 是一个条件表达式, 用于检查是否可以访问 CUDA。\\n如果 PyTorch 可以访问 CUDA，那么 torch.cuda.is_available() 将返回 True，否则返回 False\\n'"
      ]
     },
     "execution_count": 11,
     "metadata": {},
     "output_type": "execute_result"
    }
   ],
   "source": [
    "class Net(torch.nn.Module):\n",
    "    def __init__(self):\n",
    "        super(Net, self).__init__()\n",
    "        self.conv1 = torch.nn.Conv2d(1, 10, kernel_size=5)\n",
    "        self.conv2 = torch.nn.Conv2d(10, 20, kernel_size=5)\n",
    "        self.pooling = torch.nn.MaxPool2d(2)\n",
    "        self.fc = torch.nn.Linear(320, 10)\n",
    "    def forward(self, x):\n",
    "    # Flatten data from (n, 1, 28, 28) to (n, 784)\n",
    "        batch_size = x.size(0)\n",
    "        x = F.relu(self.pooling(self.conv1(x)))\n",
    "        x = F.relu(self.pooling(self.conv2(x)))\n",
    "        x = x.view(batch_size, -1) # flatten\n",
    "        x = self.fc(x)\n",
    "        return x\n",
    "\n",
    "model = Net()\n",
    "device = torch.device(\"cuda:0\" if torch.cuda.is_available() else \"cpu\")\n",
    "model.to(device)\n",
    "\n",
    "criterion = torch.nn.CrossEntropyLoss()\n",
    "optimizer = optim.SGD(model.parameters(), lr=0.01,momentum=0.5)\n",
    "'''\n",
    "if torch.cuda.is_available() 是一个条件表达式, 用于检查是否可以访问 CUDA。\n",
    "如果 PyTorch 可以访问 CUDA，那么 torch.cuda.is_available() 将返回 True，否则返回 False\n",
    "'''"
   ]
  },
  {
   "cell_type": "code",
   "execution_count": 17,
   "id": "2e7fc86b",
   "metadata": {},
   "outputs": [],
   "source": [
    "def train(epoch):\n",
    "    running_loss = 0.0\n",
    "    for batch_idx, data in enumerate(train_loader, 0):\n",
    "        inputs, target = data\n",
    "        inputs, target = inputs.to(device), target.to(device)\n",
    "        optimizer.zero_grad()\n",
    "        # forward + backward + update\n",
    "        outputs = model(inputs)\n",
    "        loss = criterion(outputs, target)\n",
    "        loss.backward()\n",
    "        optimizer.step()\n",
    "        running_loss += loss.item()\n",
    "        if batch_idx % 300 == 299:\n",
    "            print('[%d,%5d] loss: %.3f' % (epoch + 1, batch_idx + 1, running_loss / 2000))\n",
    "            running_loss = 0.0"
   ]
  },
  {
   "cell_type": "code",
   "execution_count": 13,
   "id": "02ed6d73",
   "metadata": {},
   "outputs": [],
   "source": [
    "def test():\n",
    "    correct = 0\n",
    "    total = 0\n",
    "    with torch.no_grad():\n",
    "        for data in test_loader:\n",
    "            inputs, target = data\n",
    "            inputs, target = inputs.to(device), target.to(device)\n",
    "            outputs = model(inputs)\n",
    "            _, predicted = torch.max(outputs.data,dim=1)\n",
    "            total += target.size(0)\n",
    "            correct += (predicted == target).sum().item()\n",
    "    print('Accuracy on test set: %d %% [%d/%d]' % (100 * correct / total, correct, total))"
   ]
  },
  {
   "cell_type": "code",
   "execution_count": 18,
   "id": "2848aac2",
   "metadata": {},
   "outputs": [
    {
     "name": "stdout",
     "output_type": "stream",
     "text": [
      "[1,  300] loss: 0.020\n",
      "[1,  600] loss: 0.017\n",
      "[1,  900] loss: 0.016\n",
      "Accuracy on test set: 96 % [9693/10000]\n",
      "[2,  300] loss: 0.014\n",
      "[2,  600] loss: 0.012\n",
      "[2,  900] loss: 0.011\n",
      "Accuracy on test set: 98 % [9803/10000]\n",
      "[3,  300] loss: 0.011\n",
      "[3,  600] loss: 0.011\n",
      "[3,  900] loss: 0.009\n",
      "Accuracy on test set: 98 % [9818/10000]\n",
      "[4,  300] loss: 0.008\n",
      "[4,  600] loss: 0.010\n",
      "[4,  900] loss: 0.009\n",
      "Accuracy on test set: 98 % [9806/10000]\n",
      "[5,  300] loss: 0.008\n",
      "[5,  600] loss: 0.008\n",
      "[5,  900] loss: 0.008\n",
      "Accuracy on test set: 98 % [9844/10000]\n",
      "[6,  300] loss: 0.007\n",
      "[6,  600] loss: 0.008\n",
      "[6,  900] loss: 0.007\n",
      "Accuracy on test set: 98 % [9855/10000]\n",
      "[7,  300] loss: 0.007\n",
      "[7,  600] loss: 0.006\n",
      "[7,  900] loss: 0.007\n",
      "Accuracy on test set: 98 % [9862/10000]\n",
      "[8,  300] loss: 0.005\n",
      "[8,  600] loss: 0.007\n",
      "[8,  900] loss: 0.006\n",
      "Accuracy on test set: 98 % [9841/10000]\n",
      "[9,  300] loss: 0.006\n",
      "[9,  600] loss: 0.006\n",
      "[9,  900] loss: 0.005\n",
      "Accuracy on test set: 98 % [9864/10000]\n",
      "[10,  300] loss: 0.005\n",
      "[10,  600] loss: 0.005\n",
      "[10,  900] loss: 0.006\n",
      "Accuracy on test set: 98 % [9854/10000]\n"
     ]
    }
   ],
   "source": [
    "if __name__ == '__main__':\n",
    "    for epoch in range(10):\n",
    "        train(epoch)\n",
    "        test()"
   ]
  },
  {
   "cell_type": "markdown",
   "id": "2bdb19ed",
   "metadata": {},
   "source": [
    "---"
   ]
  },
  {
   "cell_type": "markdown",
   "id": "ce082c0c",
   "metadata": {},
   "source": [
    "# GoogLeNet"
   ]
  },
  {
   "cell_type": "code",
   "execution_count": null,
   "id": "2bdf40ef",
   "metadata": {},
   "outputs": [],
   "source": [
    "class InceptionA(nn.Module):\n",
    "    def __init__(self, in_channels):\n",
    "        super(InceptionA, self).__init__()\n",
    "        self.branch1x1 = nn.Conv2d(in_channels, 16, kernel_size=1)\n",
    "        self.branch5x5_1 = nn.Conv2d(in_channels,16,kernel_size=1)\n",
    "        self.branch5x5_2 = nn.Conv2d(16,24,kernel_size=5, padding=2)\n",
    "        self.branch3x3_1 = nn.Conv2d(in_channels, 16, kernel_size=1)\n",
    "        self.branch3x3_2 = nn.Conv2d(16,24,kernel_size=3, padding=1)\n",
    "        self.branch3x3_3 = nn.Conv2d(24,24,kernel_size=3, padding=1)\n",
    "        self.branch_pool = nn.Conv2d(in_channels, 24, kernel_size=1)\n",
    "    def forward(self, x):\n",
    "    branch1x1 = self.branch1x1(x)\n",
    "    branch5x5 = self.branch5x5_1(x)\n",
    "    branch5x5 = self.branch5x5_2(branch5x5)\n",
    "    branch3x3 = self.branch3x3_1(x)\n",
    "    branch3x3 = self.branch3x3_2(branch3x3)\n",
    "    branch3x3 = self.branch3x3_3(branch3x3)\n",
    "    branch_pool = F.avg_pool2d(x, kernel_size=3, stride=1, padding=1)\n",
    "    branch_pool = self.branch_pool(branch_pool)\n",
    "    outputs = [branch1x1, branch5x5, branch3x3, branch_pool]\n",
    "    return torch.cat(outputs, dim=1)"
   ]
  },
  {
   "cell_type": "code",
   "execution_count": null,
   "id": "a0a56a2b",
   "metadata": {},
   "outputs": [],
   "source": [
    "class Net(nn.Module):\n",
    "    def __init__(self):\n",
    "        super(Net,self).__init__()\n",
    "        self.conv1 = nn.Conv2d(1,10,kernel_size=5)\n",
    "        self.conv2 = nn.Conv2d(88,20,kernel_size=5)\n",
    "        self.incep1 =InceptionA (in_channels=10)\n",
    "        self.incep2 =InceptionA(in_channels=20)\n",
    "        self.mp = nn.MaxPool2d(2)\n",
    "        self.fc = nn.Linear(1408, 10)\n",
    "    def forward(self, x):\n",
    "        in_size = x.size(0)\n",
    "        x = F.relu(self.mp(self.conv1(x)))\n",
    "        x = self.incep1(x)\n",
    "        x = F.relu(self.mp(self.conv2(x)))\n",
    "        x = self.incep2(x)\n",
    "        x = x.view(in_size, -1)\n",
    "        x = self.fc(x)\n",
    "    return x"
   ]
  },
  {
   "cell_type": "markdown",
   "id": "e5c22277",
   "metadata": {},
   "source": [
    "# ResNet"
   ]
  },
  {
   "cell_type": "code",
   "execution_count": null,
   "id": "25678aa6",
   "metadata": {},
   "outputs": [],
   "source": [
    "class ResidualBlock(nn.Module):\n",
    "    def __init__(self, channels):\n",
    "        super(ResidualBlock, self).__init__()\n",
    "        self.channels = channels\n",
    "        self.conv1 = nn.Conv2d(channels, channels,kernel_size=3, padding=1)\n",
    "        self.conv2 = nn.Conv2d(channels, channels,kernel_size=3, padding=1)\n",
    "    def forward(self, x):\n",
    "        y = F.relu(self.conv1(x))\n",
    "        y = self.conv2(y)\n",
    "    return F.relu(x + y)"
   ]
  },
  {
   "cell_type": "code",
   "execution_count": null,
   "id": "f68ce5fe",
   "metadata": {},
   "outputs": [],
   "source": [
    "class Net(nn.Module):\n",
    "    def __init__(self):\n",
    "        super(Net, self).__init__()\n",
    "        self.conv1 = nn.Conv2d(1, 16, kernel_size=5)\n",
    "        self.conv2 = nn.Conv2d(16, 32, kernel_size=5)\n",
    "        self.mp = nn.MaxPool2d(2)\n",
    "        self.rblock1 = ResidualBlock(16)\n",
    "        self.rblock2 = ResidualBlock(32)\n",
    "        self.fc = nn.Linear(512, 10)\n",
    "    def forward(self, x):\n",
    "        in_size = x.size(0)\n",
    "        x = self.mp(F.relu(self.conv1(x)))\n",
    "        x = self.rblock1(x)\n",
    "        x = self.mp(F.relu(self.conv2(x)))\n",
    "        x = self.rblock2(x)\n",
    "        x = x.view(in_size, -1)\n",
    "        x = self.fc(x)\n",
    "        return x"
   ]
  },
  {
   "cell_type": "markdown",
   "id": "750f892f",
   "metadata": {},
   "source": [
    "---"
   ]
  },
  {
   "cell_type": "markdown",
   "id": "0115057e",
   "metadata": {},
   "source": [
    "# 循环神经网络RNN"
   ]
  },
  {
   "cell_type": "markdown",
   "id": "9c64b68c",
   "metadata": {},
   "source": [
    "```cell = torch.nn.RNN(input_size=input_size, hidden_size=hidden_size,num_layers=num_layers)```\n",
    "\n",
    "本质上，RNN Cell为一个线性层Linear，在$t$时刻下的$N$维向量，经过Cell后即可变为一个$M$维的向量$h_t$,而与其他线性层不同，RNN Cell为一个共享的线性层。即重复利用，权重共享\n",
    "\n",
    "若没有可获知的前置信息，可将$h_0$设置为与$x_i$同维度的零向量。"
   ]
  },
  {
   "cell_type": "markdown",
   "id": "f706602b",
   "metadata": {},
   "source": [
    "```out,hidden = cell(inputs, hidden)```\n",
    "* inputs ==> (seqSize序列长度,    batch分批量,    input_size特征数)\n",
    "* hidden ==> (numLayers隐藏层数, batch分批量, hidden_size隐藏层特征数)\n",
    "---\n",
    "* Output ==> (seqSize序列长度,    batch分批量,    input_size特征数)\n",
    "* hidden ==> (numLayers隐藏层数,    batch分批量,    hidden_size隐藏层特征数)"
   ]
  },
  {
   "cell_type": "markdown",
   "id": "d8530da7",
   "metadata": {},
   "source": [
    "<img src=\"https://tuchuang980615.oss-cn-beijing.aliyuncs.com/img/image-20210312100758230.png\" width=\"80%\">"
   ]
  },
  {
   "cell_type": "markdown",
   "id": "d83afdeb",
   "metadata": {},
   "source": [
    "对于序列中的每一个输入，都有一个数字输出与其对应，即本质上是在求当前输入所映射到输出字典中最大概率的值。即变为多分类问题。\n",
    "<img src=\"https://tuchuang980615.oss-cn-beijing.aliyuncs.com/img/image-20210312111917931.png\" width=\"80%\">"
   ]
  },
  {
   "cell_type": "markdown",
   "id": "350a60d1",
   "metadata": {},
   "source": [
    "## 示例1( 'hello' --> 'ohlol' )"
   ]
  },
  {
   "cell_type": "code",
   "execution_count": 9,
   "id": "997e0670",
   "metadata": {},
   "outputs": [],
   "source": [
    "import torch\n",
    "\n",
    "input_size = 4       # 输入维度 input.shape=(seqLen,batch_size,input_size)\n",
    "hidden_size = 3      # 隐藏层（输出）维度 hidden.shape = (numLayers, batch_size,hidden_size)\n",
    "batch_size = 1       # 批量大小\n",
    "num_layers = 1       # RNN层数\n",
    "seq_len = 5          # 样本数目\n",
    "#构建输入输出字典\n",
    "idx2char_1 = ['e', 'h', 'l', 'o']\n",
    "idx2char_2 = ['h', 'l', 'o']\n",
    "x_data = [1, 0, 2, 2, 3]\n",
    "y_data = [2, 0, 1, 2, 1]\n",
    "# y_data = [3, 1, 2, 2, 3]\n",
    "one_hot_lookup = [[1, 0, 0, 0],\n",
    "                  [0, 1, 0, 0],\n",
    "                  [0, 0, 1, 0],\n",
    "                  [0, 0, 0, 1]]  \n",
    "\n",
    "x_one_hot = [one_hot_lookup[x] for x in x_data] # 转为独热码\n",
    "\n",
    "inputs = torch.Tensor(x_one_hot).view(seq_len, batch_size, input_size)\n",
    "#labels（seqLen*batchSize,1）为了之后进行矩阵运算，计算交叉熵\n",
    "labels = torch.LongTensor(y_data)"
   ]
  },
  {
   "cell_type": "code",
   "execution_count": 7,
   "id": "8e4add2c",
   "metadata": {},
   "outputs": [
    {
     "name": "stdout",
     "output_type": "stream",
     "text": [
      "Predicted string:  hhhhh, Epoch [1/15] loss = 1.289\n",
      "Predicted string:  hhhhh, Epoch [2/15] loss = 1.209\n",
      "Predicted string:  hhhhl, Epoch [3/15] loss = 1.135\n",
      "Predicted string:  hhlhl, Epoch [4/15] loss = 1.060\n",
      "Predicted string:  hhlhl, Epoch [5/15] loss = 0.986\n",
      "Predicted string:  hhlhl, Epoch [6/15] loss = 0.912\n",
      "Predicted string:  ohlhl, Epoch [7/15] loss = 0.840\n",
      "Predicted string:  ohlhl, Epoch [8/15] loss = 0.772\n",
      "Predicted string:  ohlhl, Epoch [9/15] loss = 0.709\n",
      "Predicted string:  ohlol, Epoch [10/15] loss = 0.652\n",
      "Predicted string:  ohlol, Epoch [11/15] loss = 0.601\n",
      "Predicted string:  ohlol, Epoch [12/15] loss = 0.557\n",
      "Predicted string:  ohlol, Epoch [13/15] loss = 0.520\n",
      "Predicted string:  ohlol, Epoch [14/15] loss = 0.490\n",
      "Predicted string:  ohlol, Epoch [15/15] loss = 0.465\n"
     ]
    }
   ],
   "source": [
    "class Model(torch.nn.Module):\n",
    "    def __init__(self, input_size, hidden_size, batch_size, num_layers=1):\n",
    "        super(Model, self).__init__()\n",
    "        self.batch_size = batch_size #构造H_0\n",
    "        self.input_size = input_size\n",
    "        self.hidden_size = hidden_size\n",
    "        self.num_layers = num_layers\n",
    "        self.rnn = torch.nn.RNN(input_size = self.input_size,\n",
    "                                hidden_size = self.hidden_size,\n",
    "                                num_layers = self.num_layers)\n",
    "\n",
    "    def forward(self, input):\n",
    "        hidden = torch.zeros(self.num_layers,\n",
    "                             self.batch_size,\n",
    "                             self.hidden_size)  # 初始权重\n",
    "        out, _ = self.rnn(input, hidden)\n",
    "        #reshape成（SeqLen*batchsize,hiddensize）便于在进行交叉熵计算时可以以矩阵进行。\n",
    "        return out.view(-1, self.hidden_size)\n",
    "\n",
    "net = Model(input_size, hidden_size, batch_size, num_layers)\n",
    "\n",
    "\n",
    "criterion = torch.nn.CrossEntropyLoss()\n",
    "optimizer = torch.optim.Adam(net.parameters(), lr=0.05)\n",
    "\n",
    "#RNN中的输入（SeqLen*batchsize*inputsize）\n",
    "#RNN中的输出（SeqLen*batchsize*hiddensize）\n",
    "#labels维度 hiddensize*1\n",
    "for epoch in range(15):\n",
    "    optimizer.zero_grad()\n",
    "    outputs = net(inputs)\n",
    "    loss = criterion(outputs, labels)\n",
    "    loss.backward()\n",
    "    optimizer.step()\n",
    "\n",
    "    _, idx = outputs.max(dim=1)\n",
    "    idx = idx.data.numpy()\n",
    "    print('Predicted string: ',''.join([idx2char_2[x] for x in idx]), end = '')\n",
    "    print(\", Epoch [%d/15] loss = %.3f\" % (epoch+1, loss.item()))"
   ]
  },
  {
   "cell_type": "markdown",
   "id": "89724454",
   "metadata": {},
   "source": [
    "---"
   ]
  },
  {
   "cell_type": "markdown",
   "id": "ce995f59",
   "metadata": {},
   "source": [
    "## Embedding (对数据进行降维)"
   ]
  },
  {
   "cell_type": "markdown",
   "id": "003afb0e",
   "metadata": {},
   "source": [
    "独热编码在实际问题中容易引起很多问题：\n",
    "\n",
    "* 独热编码向量维度过高，每增加一个不同的数据，就要增加一维\n",
    "* 独热编码向量稀疏，每个向量是一个为1其余为0\n",
    "* 独热编码是硬编码，编码情况与数据特征无关\n",
    "\n",
    "综上所述，需要一种低维度的、稠密的、可学习数据的编码方式'Embedding'\n",
    "\n",
    "<img src=\"https://tuchuang980615.oss-cn-beijing.aliyuncs.com/img/image-20210312135125376.png\" width=\"80%\">"
   ]
  },
  {
   "cell_type": "markdown",
   "id": "dd4d77fa",
   "metadata": {},
   "source": [
    "<img src=\"https://tuchuang980615.oss-cn-beijing.aliyuncs.com/img/image-20210312135423678.png\" width=\"80%\">"
   ]
  },
  {
   "cell_type": "markdown",
   "id": "be00af68",
   "metadata": {},
   "source": [
    "**即将上图矩阵转置，再右乘向量即可**:\n",
    "\n",
    "$\\begin{bmatrix}\n",
    "{-1.1195} & {0.9164} & {0.3896} & {2.3852}\\\\\n",
    "{-0.3138} & {1.2496} & {1.6515} & {1.6643}\\\\\n",
    "{-1.4441} & {0.2717} & {-0.9640} & {-1.0360}\\\\\n",
    "{-0.4976} & {-0.8645} & {1.2836} & {-1.3234}\\\\\n",
    "{1.1591} & {1.0408} & {1.2430} & {-1.3370}\\\\\n",
    "\\end{bmatrix}\n",
    "\\begin{bmatrix}\n",
    "{0}\\\\{0}\\\\{1}\\\\{0}\n",
    "\\end{bmatrix}\n",
    "=\n",
    "\\begin{bmatrix}\n",
    "{0.3896}\\\\{1.6515}\\\\{-0.9640}\\\\{1.2836}\\\\{1.2430}\n",
    "\\end{bmatrix}$"
   ]
  },
  {
   "cell_type": "markdown",
   "id": "457fdcde",
   "metadata": {},
   "source": [
    "如此即可将原先**四维的One-Hot编码**变为**五维的Embedding编码**"
   ]
  },
  {
   "cell_type": "markdown",
   "id": "be933d7d",
   "metadata": {},
   "source": [
    "**增加Embedding层实现降维，增加线性层使之在处理输入输出维度不同的情况下更加稳定。**(输入必须是LongTensor类型。)\n",
    "<img src=\"https://tuchuang980615.oss-cn-beijing.aliyuncs.com/img/image-20210312140436964.png\" width=\"80%\">"
   ]
  },
  {
   "cell_type": "code",
   "execution_count": 14,
   "id": "e3d54af4",
   "metadata": {},
   "outputs": [
    {
     "name": "stdout",
     "output_type": "stream",
     "text": [
      "Predicted string:  ooooo, Epoch [1/15] loss = 1.477\n",
      "Predicted string:  oollo, Epoch [2/15] loss = 1.076\n",
      "Predicted string:  ollll, Epoch [3/15] loss = 0.911\n",
      "Predicted string:  ohllo, Epoch [4/15] loss = 0.738\n",
      "Predicted string:  ohllo, Epoch [5/15] loss = 0.535\n",
      "Predicted string:  ohllo, Epoch [6/15] loss = 0.367\n",
      "Predicted string:  ohllo, Epoch [7/15] loss = 0.251\n",
      "Predicted string:  ohllo, Epoch [8/15] loss = 0.161\n",
      "Predicted string:  ohllo, Epoch [9/15] loss = 0.103\n",
      "Predicted string:  ohllo, Epoch [10/15] loss = 0.069\n",
      "Predicted string:  ohllo, Epoch [11/15] loss = 0.048\n",
      "Predicted string:  ohllo, Epoch [12/15] loss = 0.035\n",
      "Predicted string:  ohllo, Epoch [13/15] loss = 0.026\n",
      "Predicted string:  ohllo, Epoch [14/15] loss = 0.020\n",
      "Predicted string:  ohllo, Epoch [15/15] loss = 0.016\n"
     ]
    }
   ],
   "source": [
    "import torch\n",
    "\n",
    "input_size = 4\n",
    "num_class = 4\n",
    "hidden_size = 8\n",
    "embedding_size =10\n",
    "batch_size = 1\n",
    "num_layers = 2\n",
    "seq_len = 5\n",
    "\n",
    "idx2char = ['e', 'h', 'l', 'o']\n",
    "x_data = [[1, 0, 2, 2, 3]]\n",
    "y_data = [3, 1, 2, 2, 3]\n",
    "\n",
    "#inputs 作为交叉熵中的Inputs，维度为（batchsize，seqLen）\n",
    "inputs = torch.LongTensor(x_data)\n",
    "#labels 作为交叉熵中的Target，维度为（batchsize*seqLen）\n",
    "labels = torch.LongTensor(y_data)\n",
    "\n",
    "class Model(torch.nn.Module):\n",
    "    def __init__(self):\n",
    "        super(Model, self).__init__()\n",
    "        self .emb = torch.nn.Embedding(input_size, embedding_size)\n",
    "\n",
    "        self.rnn = torch.nn.RNN(input_size = embedding_size,\n",
    "                                hidden_size = hidden_size,\n",
    "                                num_layers=num_layers,\n",
    "                                batch_first = True)\n",
    "                                \n",
    "        self.fc = torch.nn.Linear(hidden_size, num_class)\n",
    "    \n",
    "    def forward(self, x):\n",
    "        hidden = torch.zeros(num_layers, x.size(0), hidden_size)\n",
    "        x = self.emb(x)\n",
    "        x, _ = self.rnn(x, hidden)\n",
    "        x = self.fc(x)\n",
    "        return x.view(-1, num_class)\n",
    "\n",
    "net = Model()\n",
    "\n",
    "criterion = torch.nn.CrossEntropyLoss()\n",
    "optimizer = torch.optim.Adam(net.parameters(), lr=0.05)\n",
    "\n",
    "for epoch in range(15):\n",
    "    optimizer.zero_grad()\n",
    "    outputs = net(inputs)\n",
    "    loss = criterion(outputs, labels)\n",
    "    loss.backward()\n",
    "    optimizer.step()\n",
    "\n",
    "    _, idx = outputs.max ( dim=1 )\n",
    "    idx = idx.data.numpy()\n",
    "    print('Predicted string: ',''.join([idx2char[x] for x in idx]), end = '')\n",
    "    print(\", Epoch [%d/15] loss = %.3f\" % (epoch+1, loss.item()))"
   ]
  },
  {
   "cell_type": "markdown",
   "id": "02117cd4",
   "metadata": {},
   "source": [
    "## 示例2 (英文名-国家RNN分类)"
   ]
  },
  {
   "cell_type": "markdown",
   "id": "a19c33aa",
   "metadata": {},
   "source": [
    "判断数据集中的每个名字所属的国家，共有18个国家类别\n",
    "\n",
    "每个国家或地区的人取名字都有其自己独特的语言习惯，因此可以利用RNN分析其名字（字符串）的潜在特点来进行分类。"
   ]
  },
  {
   "cell_type": "markdown",
   "id": "8162d67e",
   "metadata": {},
   "source": [
    "<img src=\"https://tuchuang980615.oss-cn-beijing.aliyuncs.com/img/image-20210312152037102.png\" width=\"60%\">"
   ]
  },
  {
   "cell_type": "markdown",
   "id": "2dbbed17",
   "metadata": {},
   "source": [
    "<img src=\"https://tuchuang980615.oss-cn-beijing.aliyuncs.com/img/image-20210312153127169.png\" width=\"80%\">"
   ]
  },
  {
   "cell_type": "code",
   "execution_count": 2,
   "id": "1889c931",
   "metadata": {},
   "outputs": [],
   "source": [
    "import torch\n",
    "import matplotlib.pyplot as plt\n",
    "import numpy as np\n",
    "from torch.utils.data import DataLoader\n",
    "from torch.utils.data import Dataset\n",
    "import gzip\n",
    "import csv\n",
    "import time\n",
    "from torch.nn.utils.rnn import pack_padded_sequence\n",
    "import math\n",
    "#可不加\n",
    "import os\n",
    "os.environ[\"KMP_DUPLICATE_LIB_OK\"]  =  \"TRUE\""
   ]
  },
  {
   "cell_type": "markdown",
   "id": "16864f3a",
   "metadata": {},
   "source": [
    "- 将字符序列转为数字序列,并且padding填充保持样本长度一致\n",
    "<img src=\"https://tuchuang980615.oss-cn-beijing.aliyuncs.com/img/image-20210312195635171.png\" width=\"70%\">\n",
    "<img src=\"https://tuchuang980615.oss-cn-beijing.aliyuncs.com/img/image-20210312200126907.png\" width=\"70%\">"
   ]
  },
  {
   "cell_type": "markdown",
   "id": "91728b81",
   "metadata": {},
   "source": [
    "<img src=\"https://tuchuang980615.oss-cn-beijing.aliyuncs.com/img/image-20210312200410715.png\" width=\"60%\">\n"
   ]
  },
  {
   "cell_type": "code",
   "execution_count": 3,
   "id": "349bc1cd",
   "metadata": {},
   "outputs": [],
   "source": [
    "# Parameters\n",
    "HIDDEN_SIZE = 100\n",
    "BATCH_SIZE = 256\n",
    "N_LAYER = 2\n",
    "N_EPOCHS = 100\n",
    "N_CHARS = 128\n",
    "USE_GPU = False\n",
    "\n",
    "class NameDataset(Dataset):\n",
    "    def __init__(self, is_train_set=True):\n",
    "        filename = 'data/names_train.csv.gz' if is_train_set else 'data/names_test.csv.gz'\n",
    "        \n",
    "        with gzip.open(filename, 'rt') as f:  # 打开.gz\n",
    "            reader = csv.reader(f)            # 读取.csv\n",
    "            rows = list(reader)               # 转换为列表\n",
    "        \n",
    "        self.names = [row[0] for row in rows]                  # 读取每行的第一个元素(英文姓名)\n",
    "        self.len = len(self.names)                             # 样本数量传递到__len__(self):\n",
    "        self.countries = [row[1] for row in rows]              # 读取对应的国家类别\n",
    "        self.country_list = list(sorted(set(self.countries)))  # 先-->集合(去除重复项),再-->列表\n",
    "        self.country_dict = self.getCountryDict()              # -->字典\n",
    "        self.country_num = len(self.country_list)              # 共几种国家类别\n",
    "    \n",
    "    def __getitem__(self, index):\n",
    "        return self.names[index], self.country_dict[self.countries[index]]\n",
    "    \n",
    "    def __len__(self):\n",
    "        return self.len\n",
    "    \n",
    "    def getCountryDict(self):\n",
    "        country_dict = dict()\n",
    "        for idx,country_name in enumerate(self.country_list, 0):\n",
    "            country_dict[country_name] = idx                 # 构造类别对应的键\n",
    "        return country_dict\n",
    " \n",
    "    def idx2country(self,index):\n",
    "        return self.country_list[index]                      # idx对应的国家类别\n",
    " \n",
    "    def getCountriesNum(self):\n",
    "        return self.country_num\n",
    "\n",
    "# 数据准备工作\n",
    "trainset = NameDataset( is_train_set = True )\n",
    "trainloader = DataLoader(trainset, batch_size=BATCH_SIZE, shuffle=True)\n",
    "\n",
    "testset = NameDataset( is_train_set = False )\n",
    "testloader = DataLoader(testset, batch_size=BATCH_SIZE, shuffle=False)\n",
    "\n",
    "N_COUNTRY = trainset.getCountriesNum()        # 国家类别的数量"
   ]
  },
  {
   "cell_type": "code",
   "execution_count": 4,
   "id": "dad76346",
   "metadata": {},
   "outputs": [],
   "source": [
    "# 计算程序处理时间\n",
    "def time_since(since):     \n",
    "    s = time.time() - since\n",
    "    m = math.floor(s / 60)\n",
    "    s -= m * 60\n",
    "    return '%dm %ds' % (m, s)"
   ]
  },
  {
   "cell_type": "code",
   "execution_count": 5,
   "id": "5829631f",
   "metadata": {},
   "outputs": [],
   "source": [
    "def make_tensors(names,countries):\n",
    "    sequences_and_lengths = [name2list(name) for name in names]\n",
    "    name_sequences = [sl[0] for sl in sequences_and_lengths]\n",
    "    seq_lengths = torch.LongTensor([sl[1] for sl in sequences_and_lengths])\n",
    "    countries = countries.long()\n",
    "    \n",
    "    seq_tensor = torch.zeros(len(name_sequences),seq_lengths.max()).long()\n",
    "    for idx,(seq,seq_len) in enumerate(zip(name_sequences,seq_lengths),0):\n",
    "        seq_tensor[idx,:seq_len] = torch.LongTensor(seq)         # 赋值,其余为零,保证数据长度一致\n",
    "        \n",
    "    seq_lengths,perm_idx = seq_lengths.sort(dim=0,descending=True)    # 按原本的长度排序\n",
    "    seq_tensor = seq_tensor[perm_idx]                                 # 按照sort变换顺序\n",
    "    countries = countries[perm_idx]\n",
    "    \n",
    "    return create_tensor(seq_tensor),\\\n",
    "           create_tensor(seq_lengths),\\\n",
    "           create_tensor(countries)\n",
    " \n",
    "def name2list(name):\n",
    "    arr = [ord(c) for c in name]     # 名字字母转为ascii码\n",
    "    return arr,len(arr)\n",
    " \n",
    " \n",
    "def create_tensor(tensor):\n",
    "    if USE_GPU:\n",
    "        device = torch.device(\"cuda:0\")\n",
    "        tensor = tensor.to(device)\n",
    "    return tensor\n",
    " \n",
    " \n",
    "def time_since(since):\n",
    "    s = time.time()-since\n",
    "    m = math.floor(s/60)\n",
    "    s -= m*60\n",
    "    return '%dm %ds' %(m, s)"
   ]
  },
  {
   "cell_type": "code",
   "execution_count": 6,
   "id": "4b2bc1a3",
   "metadata": {},
   "outputs": [],
   "source": [
    "#####模型设计\n",
    "class RNNClassifier(torch.nn.Module):\n",
    "    def __init__(self,input_size,hidden_size,output_size,n_layers=1,bidirectional=True):\n",
    "        super(RNNClassifier,self).__init__()\n",
    "        self.hidden_size = hidden_size\n",
    "        self.n_layers = n_layers\n",
    "        self.n_directions = 2 if bidirectional else 1      # 双向--2 单项--1\n",
    "        \n",
    "        self.embedding = torch.nn.Embedding(input_size,hidden_size)    # 嵌入层\n",
    "        self.gru = torch.nn.GRU(hidden_size,hidden_size,n_layers,bidirectional=bidirectional)\n",
    "        self.fc = torch.nn.Linear(hidden_size*self.n_directions,output_size)\n",
    " \n",
    "    def __init_hidden(self,batch_size):\n",
    "        hidden = torch.zeros(self.n_layers*self.n_directions,batch_size,self.hidden_size)    # 隐层权重初始化\n",
    "        return create_tensor(hidden)\n",
    " \n",
    "    def forward(self,input,seq_lengths):\n",
    "        input = input.t()\n",
    "        batch_size = input.size(1)\n",
    " \n",
    "        hidden = self.__init_hidden(batch_size)\n",
    "        embedding = self.embedding(input)\n",
    " \n",
    "        gru_input = torch.nn.utils.rnn.pack_padded_sequence(embedding,seq_lengths)  # Sort 和 Squeeze。\n",
    "                                   #首先将 padded_sequence 按照其真实长度 lengths 排序，再去掉所有 padding 部分，纵向切片并相连\n",
    "        output,hidden = self.gru(gru_input,hidden)\n",
    "        if self.n_directions == 2:\n",
    "            hidden_cat = torch.cat([hidden[-1],hidden[-2]],dim=1)\n",
    "        else:\n",
    "            hidden_cat = hidden[-1]\n",
    "        fc_output = self.fc(hidden_cat)\n",
    "        return fc_output"
   ]
  },
  {
   "cell_type": "markdown",
   "id": "989ca25b",
   "metadata": {},
   "source": [
    "<img src=\"https://pic2.zhimg.com/80/v2-e80a056ebbd464d74c2d57992679007d_1440w.webp\" width=\"70%\">"
   ]
  },
  {
   "cell_type": "code",
   "execution_count": 7,
   "id": "739b2375",
   "metadata": {},
   "outputs": [],
   "source": [
    "def trainModel():\n",
    "    total_loss = 0\n",
    "    for i,(names,countries) in enumerate(trainloader,1):\n",
    "        inputs,seq_lengths,target = make_tensors(names,countries)\n",
    "        output = classifier(inputs,seq_lengths)\n",
    "        loss = criterion(output,target)\n",
    "        optimizer.zero_grad()\n",
    "        loss.backward()\n",
    "        optimizer.step()\n",
    " \n",
    "        total_loss += loss.item()\n",
    "        if i%10 == 0:\n",
    "            print(f'[{time_since(start)}] Epoch{epoch}', end='')\n",
    "            print(f'[{i*len(inputs)}/{len(trainset)}]', end='')\n",
    "            print(f'loss={total_loss/(i*len(inputs))}')\n",
    " \n",
    "    return total_loss\n",
    "\n",
    "def testModel():\n",
    "    correct = 0\n",
    "    total = len(testset)\n",
    "    print(\"evaluating trained model ...\")\n",
    "    with torch.no_grad():\n",
    "        for i,(names,countries) in enumerate(testloader,1):\n",
    "            inputs, seq_lengths, target = make_tensors(names, countries)\n",
    "            output = classifier(inputs, seq_lengths)\n",
    "            pred = output.max(dim=1,keepdim=True)[1]\n",
    "            correct += pred.eq(target.view_as(pred)).sum().item()\n",
    " \n",
    "        percent = '%.2f' %(100*correct/total)\n",
    "        print(f'Test set: Accuracy {correct}/{total} {percent}%')\n",
    "    return correct/total"
   ]
  },
  {
   "cell_type": "code",
   "execution_count": 8,
   "id": "c20a3390",
   "metadata": {},
   "outputs": [
    {
     "name": "stdout",
     "output_type": "stream",
     "text": [
      "Training for 100 epochs: \n",
      "[0m 1s] Epoch1[2560/13374]loss=0.00871058739721775\n",
      "[0m 2s] Epoch1[5120/13374]loss=0.007483802153728902\n",
      "[0m 3s] Epoch1[7680/13374]loss=0.006805214332416654\n",
      "[0m 4s] Epoch1[10240/13374]loss=0.006366570037789643\n",
      "[0m 5s] Epoch1[12800/13374]loss=0.006048857355490327\n",
      "evaluating trained model ...\n",
      "Test set: Accuracy 4429/6700 66.10%\n",
      "[0m 7s] Epoch2[2560/13374]loss=0.004336508829146624\n",
      "[0m 8s] Epoch2[5120/13374]loss=0.0040685387211851776\n",
      "[0m 9s] Epoch2[7680/13374]loss=0.004017918339620034\n",
      "[0m 11s] Epoch2[10240/13374]loss=0.003909167810343206\n",
      "[0m 12s] Epoch2[12800/13374]loss=0.0038072459073737264\n",
      "evaluating trained model ...\n",
      "Test set: Accuracy 4986/6700 74.42%\n",
      "[0m 14s] Epoch3[2560/13374]loss=0.003232808317989111\n",
      "[0m 15s] Epoch3[5120/13374]loss=0.003166817291639745\n",
      "[0m 16s] Epoch3[7680/13374]loss=0.003073528618551791\n",
      "[0m 17s] Epoch3[10240/13374]loss=0.0030252359458245335\n",
      "[0m 18s] Epoch3[12800/13374]loss=0.0030156566621735693\n",
      "evaluating trained model ...\n",
      "Test set: Accuracy 5254/6700 78.42%\n",
      "[0m 20s] Epoch4[2560/13374]loss=0.0026530554983764886\n",
      "[0m 21s] Epoch4[5120/13374]loss=0.0025283733964897694\n",
      "[0m 22s] Epoch4[7680/13374]loss=0.0025382412675147253\n",
      "[0m 23s] Epoch4[10240/13374]loss=0.0025460232514888047\n",
      "[0m 24s] Epoch4[12800/13374]loss=0.0025590858375653626\n",
      "evaluating trained model ...\n",
      "Test set: Accuracy 5391/6700 80.46%\n",
      "[0m 26s] Epoch5[2560/13374]loss=0.0021745894802734254\n",
      "[0m 27s] Epoch5[5120/13374]loss=0.002175954054109752\n",
      "[0m 28s] Epoch5[7680/13374]loss=0.0022187687922269107\n",
      "[0m 29s] Epoch5[10240/13374]loss=0.0022170003387145696\n",
      "[0m 30s] Epoch5[12800/13374]loss=0.0022430430399253964\n",
      "evaluating trained model ...\n",
      "Test set: Accuracy 5473/6700 81.69%\n",
      "[0m 32s] Epoch6[2560/13374]loss=0.001963911508210003\n",
      "[0m 33s] Epoch6[5120/13374]loss=0.002014355408027768\n",
      "[0m 34s] Epoch6[7680/13374]loss=0.0020164118225996694\n",
      "[0m 35s] Epoch6[10240/13374]loss=0.0020161293941782787\n",
      "[0m 36s] Epoch6[12800/13374]loss=0.0020011878409422934\n",
      "evaluating trained model ...\n",
      "Test set: Accuracy 5508/6700 82.21%\n",
      "[0m 38s] Epoch7[2560/13374]loss=0.0018599775969050825\n",
      "[0m 39s] Epoch7[5120/13374]loss=0.001805416913703084\n",
      "[0m 40s] Epoch7[7680/13374]loss=0.001809960720129311\n",
      "[0m 41s] Epoch7[10240/13374]loss=0.0017831473844125867\n",
      "[0m 42s] Epoch7[12800/13374]loss=0.0017773948237299918\n",
      "evaluating trained model ...\n",
      "Test set: Accuracy 5578/6700 83.25%\n",
      "[0m 44s] Epoch8[2560/13374]loss=0.001497826213017106\n",
      "[0m 45s] Epoch8[5120/13374]loss=0.0015515329432673752\n",
      "[0m 46s] Epoch8[7680/13374]loss=0.0015883338521234692\n",
      "[0m 47s] Epoch8[10240/13374]loss=0.0015899611986242234\n",
      "[0m 48s] Epoch8[12800/13374]loss=0.0016208137897774577\n",
      "evaluating trained model ...\n",
      "Test set: Accuracy 5584/6700 83.34%\n",
      "[0m 50s] Epoch9[2560/13374]loss=0.0013450840371660889\n",
      "[0m 51s] Epoch9[5120/13374]loss=0.0014115089375991373\n",
      "[0m 52s] Epoch9[7680/13374]loss=0.0014174021625270447\n",
      "[0m 53s] Epoch9[10240/13374]loss=0.001422260850085877\n",
      "[0m 54s] Epoch9[12800/13374]loss=0.0014417844265699387\n",
      "evaluating trained model ...\n",
      "Test set: Accuracy 5614/6700 83.79%\n",
      "[0m 56s] Epoch10[2560/13374]loss=0.0012865476426668465\n",
      "[0m 57s] Epoch10[5120/13374]loss=0.001281933841528371\n",
      "[0m 58s] Epoch10[7680/13374]loss=0.0012768320060179879\n",
      "[0m 59s] Epoch10[10240/13374]loss=0.0012922091598738916\n",
      "[1m 0s] Epoch10[12800/13374]loss=0.0012862865172792227\n",
      "evaluating trained model ...\n",
      "Test set: Accuracy 5627/6700 83.99%\n",
      "[1m 2s] Epoch11[2560/13374]loss=0.001115994091378525\n",
      "[1m 3s] Epoch11[5120/13374]loss=0.0011361886194208638\n",
      "[1m 4s] Epoch11[7680/13374]loss=0.0011399296248176445\n",
      "[1m 5s] Epoch11[10240/13374]loss=0.0011495452286908402\n",
      "[1m 6s] Epoch11[12800/13374]loss=0.0011623650509864092\n",
      "evaluating trained model ...\n",
      "Test set: Accuracy 5664/6700 84.54%\n",
      "[1m 8s] Epoch12[2560/13374]loss=0.0010018742177635431\n",
      "[1m 9s] Epoch12[5120/13374]loss=0.0010157600685488434\n",
      "[1m 9s] Epoch12[7680/13374]loss=0.001020956103457138\n",
      "[1m 10s] Epoch12[10240/13374]loss=0.0010270121551002377\n",
      "[1m 11s] Epoch12[12800/13374]loss=0.0010293577960692347\n",
      "evaluating trained model ...\n",
      "Test set: Accuracy 5663/6700 84.52%\n",
      "[1m 13s] Epoch13[2560/13374]loss=0.0009286249463912099\n",
      "[1m 14s] Epoch13[5120/13374]loss=0.0009063361881999299\n",
      "[1m 15s] Epoch13[7680/13374]loss=0.0009178422119778891\n",
      "[1m 16s] Epoch13[10240/13374]loss=0.0009366498241433873\n",
      "[1m 17s] Epoch13[12800/13374]loss=0.0009432383475359529\n",
      "evaluating trained model ...\n",
      "Test set: Accuracy 5672/6700 84.66%\n",
      "[1m 19s] Epoch14[2560/13374]loss=0.0008386755827814341\n",
      "[1m 20s] Epoch14[5120/13374]loss=0.0007979191519552842\n",
      "[1m 21s] Epoch14[7680/13374]loss=0.0007992018673879405\n",
      "[1m 22s] Epoch14[10240/13374]loss=0.0008265661032055505\n",
      "[1m 23s] Epoch14[12800/13374]loss=0.0008244774432387203\n",
      "evaluating trained model ...\n",
      "Test set: Accuracy 5681/6700 84.79%\n",
      "[1m 25s] Epoch15[2560/13374]loss=0.0007044710044283419\n",
      "[1m 26s] Epoch15[5120/13374]loss=0.0007282784732524306\n",
      "[1m 27s] Epoch15[7680/13374]loss=0.0007223433058243245\n",
      "[1m 28s] Epoch15[10240/13374]loss=0.0007368728212895804\n",
      "[1m 29s] Epoch15[12800/13374]loss=0.0007394163100980222\n",
      "evaluating trained model ...\n",
      "Test set: Accuracy 5653/6700 84.37%\n",
      "[1m 31s] Epoch16[2560/13374]loss=0.0006161432480439544\n",
      "[1m 32s] Epoch16[5120/13374]loss=0.0006571829319000245\n",
      "[1m 33s] Epoch16[7680/13374]loss=0.0006441024442513783\n",
      "[1m 35s] Epoch16[10240/13374]loss=0.00064808900715434\n",
      "[1m 36s] Epoch16[12800/13374]loss=0.0006507710163714364\n",
      "evaluating trained model ...\n",
      "Test set: Accuracy 5672/6700 84.66%\n",
      "[1m 38s] Epoch17[2560/13374]loss=0.0005680525791831315\n",
      "[1m 39s] Epoch17[5120/13374]loss=0.0005782682259450666\n",
      "[1m 40s] Epoch17[7680/13374]loss=0.0005766533645025144\n",
      "[1m 41s] Epoch17[10240/13374]loss=0.0005867777312232647\n",
      "[1m 42s] Epoch17[12800/13374]loss=0.0005865854071453214\n",
      "evaluating trained model ...\n",
      "Test set: Accuracy 5684/6700 84.84%\n",
      "[1m 44s] Epoch18[2560/13374]loss=0.0004797223780769855\n",
      "[1m 45s] Epoch18[5120/13374]loss=0.0005020087264711037\n",
      "[1m 46s] Epoch18[7680/13374]loss=0.0005014713688675936\n",
      "[1m 46s] Epoch18[10240/13374]loss=0.0005050290834333282\n",
      "[1m 47s] Epoch18[12800/13374]loss=0.0005120130837894977\n",
      "evaluating trained model ...\n",
      "Test set: Accuracy 5645/6700 84.25%\n",
      "[1m 50s] Epoch19[2560/13374]loss=0.00041714937251526865\n",
      "[1m 50s] Epoch19[5120/13374]loss=0.00040760658885119483\n",
      "[1m 51s] Epoch19[7680/13374]loss=0.0004359402199042961\n",
      "[1m 52s] Epoch19[10240/13374]loss=0.00044259871865506286\n",
      "[1m 53s] Epoch19[12800/13374]loss=0.0004463240364566445\n",
      "evaluating trained model ...\n",
      "Test set: Accuracy 5643/6700 84.22%\n",
      "[1m 55s] Epoch20[2560/13374]loss=0.00035843353252857925\n",
      "[1m 56s] Epoch20[5120/13374]loss=0.0003831182490102947\n",
      "[1m 57s] Epoch20[7680/13374]loss=0.00037439514514214046\n",
      "[1m 58s] Epoch20[10240/13374]loss=0.0003892658227414358\n",
      "[1m 59s] Epoch20[12800/13374]loss=0.00040899079525843265\n",
      "evaluating trained model ...\n",
      "Test set: Accuracy 5645/6700 84.25%\n",
      "[2m 1s] Epoch21[2560/13374]loss=0.00033484093291917815\n",
      "[2m 2s] Epoch21[5120/13374]loss=0.0003443071916990448\n",
      "[2m 3s] Epoch21[7680/13374]loss=0.0003660486637575862\n",
      "[2m 4s] Epoch21[10240/13374]loss=0.00036252368408895563\n",
      "[2m 5s] Epoch21[12800/13374]loss=0.00037995720020262525\n",
      "evaluating trained model ...\n",
      "Test set: Accuracy 5640/6700 84.18%\n",
      "[2m 7s] Epoch22[2560/13374]loss=0.0003048669910640456\n",
      "[2m 8s] Epoch22[5120/13374]loss=0.00032249566938844507\n",
      "[2m 9s] Epoch22[7680/13374]loss=0.0003331133018946275\n",
      "[2m 10s] Epoch22[10240/13374]loss=0.0003388174496649299\n",
      "[2m 11s] Epoch22[12800/13374]loss=0.0003471927481587045\n",
      "evaluating trained model ...\n",
      "Test set: Accuracy 5673/6700 84.67%\n",
      "[2m 13s] Epoch23[2560/13374]loss=0.0002780222479486838\n",
      "[2m 14s] Epoch23[5120/13374]loss=0.00026740835237433204\n",
      "[2m 15s] Epoch23[7680/13374]loss=0.00029315220065958175\n",
      "[2m 16s] Epoch23[10240/13374]loss=0.00030124893273750784\n",
      "[2m 17s] Epoch23[12800/13374]loss=0.0003153837638092227\n",
      "evaluating trained model ...\n",
      "Test set: Accuracy 5649/6700 84.31%\n",
      "[2m 19s] Epoch24[2560/13374]loss=0.00024748869036557154\n",
      "[2m 20s] Epoch24[5120/13374]loss=0.00025317409745184705\n",
      "[2m 21s] Epoch24[7680/13374]loss=0.00026691929379012435\n",
      "[2m 22s] Epoch24[10240/13374]loss=0.0002762642136076465\n",
      "[2m 23s] Epoch24[12800/13374]loss=0.00029029454657575115\n",
      "evaluating trained model ...\n",
      "Test set: Accuracy 5660/6700 84.48%\n",
      "[2m 25s] Epoch25[2560/13374]loss=0.0002350767987081781\n"
     ]
    },
    {
     "name": "stdout",
     "output_type": "stream",
     "text": [
      "[2m 26s] Epoch25[5120/13374]loss=0.0002826323492627125\n",
      "[2m 27s] Epoch25[7680/13374]loss=0.0002818684641776296\n",
      "[2m 28s] Epoch25[10240/13374]loss=0.0002854296672012424\n",
      "[2m 29s] Epoch25[12800/13374]loss=0.00028843926411354915\n",
      "evaluating trained model ...\n",
      "Test set: Accuracy 5650/6700 84.33%\n",
      "[2m 31s] Epoch26[2560/13374]loss=0.00024583789199823515\n",
      "[2m 32s] Epoch26[5120/13374]loss=0.0002506268370780163\n",
      "[2m 33s] Epoch26[7680/13374]loss=0.0002513896775781177\n",
      "[2m 34s] Epoch26[10240/13374]loss=0.0002698716754821362\n",
      "[2m 35s] Epoch26[12800/13374]loss=0.0002768852066947147\n",
      "evaluating trained model ...\n",
      "Test set: Accuracy 5646/6700 84.27%\n",
      "[2m 37s] Epoch27[2560/13374]loss=0.0002415687602479011\n",
      "[2m 38s] Epoch27[5120/13374]loss=0.00023805042583262547\n",
      "[2m 39s] Epoch27[7680/13374]loss=0.0002528457674391878\n",
      "[2m 40s] Epoch27[10240/13374]loss=0.00024591598521510604\n",
      "[2m 41s] Epoch27[12800/13374]loss=0.0002626641359529458\n",
      "evaluating trained model ...\n",
      "Test set: Accuracy 5633/6700 84.07%\n",
      "[2m 43s] Epoch28[2560/13374]loss=0.0002098261145874858\n",
      "[2m 44s] Epoch28[5120/13374]loss=0.0002135140064638108\n",
      "[2m 45s] Epoch28[7680/13374]loss=0.00023876167591273164\n",
      "[2m 46s] Epoch28[10240/13374]loss=0.0002473505886882776\n",
      "[2m 47s] Epoch28[12800/13374]loss=0.00025270000303862617\n",
      "evaluating trained model ...\n",
      "Test set: Accuracy 5645/6700 84.25%\n",
      "[2m 49s] Epoch29[2560/13374]loss=0.0002378183897235431\n",
      "[2m 50s] Epoch29[5120/13374]loss=0.00021276407351251693\n",
      "[2m 51s] Epoch29[7680/13374]loss=0.00023466894005347665\n",
      "[2m 52s] Epoch29[10240/13374]loss=0.0002341316419915529\n",
      "[2m 53s] Epoch29[12800/13374]loss=0.0002407432347536087\n",
      "evaluating trained model ...\n",
      "Test set: Accuracy 5625/6700 83.96%\n",
      "[2m 55s] Epoch30[2560/13374]loss=0.0001759526552632451\n",
      "[2m 56s] Epoch30[5120/13374]loss=0.00020282344412407837\n",
      "[2m 57s] Epoch30[7680/13374]loss=0.00021955313665481904\n",
      "[2m 58s] Epoch30[10240/13374]loss=0.00022840720230306034\n",
      "[2m 59s] Epoch30[12800/13374]loss=0.00023643761276616714\n",
      "evaluating trained model ...\n",
      "Test set: Accuracy 5648/6700 84.30%\n",
      "[3m 0s] Epoch31[2560/13374]loss=0.00018496733318897895\n",
      "[3m 1s] Epoch31[5120/13374]loss=0.00020319332943472546\n",
      "[3m 2s] Epoch31[7680/13374]loss=0.00021820599286002108\n",
      "[3m 3s] Epoch31[10240/13374]loss=0.00021505662189156283\n",
      "[3m 4s] Epoch31[12800/13374]loss=0.00022779046106734312\n",
      "evaluating trained model ...\n",
      "Test set: Accuracy 5618/6700 83.85%\n",
      "[3m 6s] Epoch32[2560/13374]loss=0.0001849792643042747\n",
      "[3m 7s] Epoch32[5120/13374]loss=0.00021537057436944452\n",
      "[3m 8s] Epoch32[7680/13374]loss=0.00021920891449553893\n",
      "[3m 9s] Epoch32[10240/13374]loss=0.00022164575202623382\n",
      "[3m 10s] Epoch32[12800/13374]loss=0.00022759345330996438\n",
      "evaluating trained model ...\n",
      "Test set: Accuracy 5636/6700 84.12%\n",
      "[3m 12s] Epoch33[2560/13374]loss=0.00014691028554807416\n",
      "[3m 13s] Epoch33[5120/13374]loss=0.00017296065598202404\n",
      "[3m 14s] Epoch33[7680/13374]loss=0.0001845706756284926\n",
      "[3m 15s] Epoch33[10240/13374]loss=0.00019144492252962664\n",
      "[3m 16s] Epoch33[12800/13374]loss=0.00021657734920154325\n",
      "evaluating trained model ...\n",
      "Test set: Accuracy 5630/6700 84.03%\n",
      "[3m 18s] Epoch34[2560/13374]loss=0.00018212727009085937\n",
      "[3m 19s] Epoch34[5120/13374]loss=0.0001835073060647119\n",
      "[3m 20s] Epoch34[7680/13374]loss=0.00019493837171467022\n",
      "[3m 21s] Epoch34[10240/13374]loss=0.000202705901756417\n",
      "[3m 22s] Epoch34[12800/13374]loss=0.0002109005584497936\n",
      "evaluating trained model ...\n",
      "Test set: Accuracy 5632/6700 84.06%\n",
      "[3m 24s] Epoch35[2560/13374]loss=0.00018472200899850578\n",
      "[3m 25s] Epoch35[5120/13374]loss=0.0001754401011567097\n",
      "[3m 26s] Epoch35[7680/13374]loss=0.00019269252613109226\n",
      "[3m 27s] Epoch35[10240/13374]loss=0.0002056068096862873\n",
      "[3m 28s] Epoch35[12800/13374]loss=0.0002130327804479748\n",
      "evaluating trained model ...\n",
      "Test set: Accuracy 5646/6700 84.27%\n",
      "[3m 30s] Epoch36[2560/13374]loss=0.0001585164325661026\n",
      "[3m 31s] Epoch36[5120/13374]loss=0.00017563394103490282\n",
      "[3m 32s] Epoch36[7680/13374]loss=0.00019210275568184442\n",
      "[3m 33s] Epoch36[10240/13374]loss=0.00020118628744967282\n",
      "[3m 34s] Epoch36[12800/13374]loss=0.00020765708570252172\n",
      "evaluating trained model ...\n",
      "Test set: Accuracy 5661/6700 84.49%\n",
      "[3m 36s] Epoch37[2560/13374]loss=0.0001687615927949082\n",
      "[3m 37s] Epoch37[5120/13374]loss=0.00018620559785631485\n",
      "[3m 38s] Epoch37[7680/13374]loss=0.00018988631200045347\n",
      "[3m 39s] Epoch37[10240/13374]loss=0.00020232894203218166\n",
      "[3m 40s] Epoch37[12800/13374]loss=0.0002102732448838651\n",
      "evaluating trained model ...\n",
      "Test set: Accuracy 5642/6700 84.21%\n",
      "[3m 42s] Epoch38[2560/13374]loss=0.00017333501236862502\n",
      "[3m 43s] Epoch38[5120/13374]loss=0.0001758732436428545\n",
      "[3m 44s] Epoch38[7680/13374]loss=0.0001928253441292327\n",
      "[3m 45s] Epoch38[10240/13374]loss=0.0001979839405976236\n",
      "[3m 46s] Epoch38[12800/13374]loss=0.0001993021185626276\n",
      "evaluating trained model ...\n",
      "Test set: Accuracy 5637/6700 84.13%\n",
      "[3m 48s] Epoch39[2560/13374]loss=0.00019002817207365298\n",
      "[3m 49s] Epoch39[5120/13374]loss=0.00018931349259219133\n",
      "[3m 50s] Epoch39[7680/13374]loss=0.00018329364344632875\n",
      "[3m 51s] Epoch39[10240/13374]loss=0.00019155273294018115\n",
      "[3m 52s] Epoch39[12800/13374]loss=0.00020402521869982592\n",
      "evaluating trained model ...\n",
      "Test set: Accuracy 5654/6700 84.39%\n",
      "[3m 54s] Epoch40[2560/13374]loss=0.0001617683759832289\n",
      "[3m 55s] Epoch40[5120/13374]loss=0.00018378682652837598\n",
      "[3m 56s] Epoch40[7680/13374]loss=0.00018974418635480105\n",
      "[3m 57s] Epoch40[10240/13374]loss=0.00020189784081594552\n",
      "[3m 58s] Epoch40[12800/13374]loss=0.00019978895637905224\n",
      "evaluating trained model ...\n",
      "Test set: Accuracy 5649/6700 84.31%\n",
      "[4m 0s] Epoch41[2560/13374]loss=0.00016964868336799555\n",
      "[4m 2s] Epoch41[5120/13374]loss=0.00017968840838875622\n",
      "[4m 3s] Epoch41[7680/13374]loss=0.00018132196419173852\n",
      "[4m 4s] Epoch41[10240/13374]loss=0.00018341074774070877\n",
      "[4m 5s] Epoch41[12800/13374]loss=0.00019478400805382988\n",
      "evaluating trained model ...\n",
      "Test set: Accuracy 5644/6700 84.24%\n",
      "[4m 7s] Epoch42[2560/13374]loss=0.00018866061145672575\n",
      "[4m 8s] Epoch42[5120/13374]loss=0.00016783238170319236\n",
      "[4m 9s] Epoch42[7680/13374]loss=0.0001742529823483589\n",
      "[4m 10s] Epoch42[10240/13374]loss=0.00018103175461874342\n",
      "[4m 11s] Epoch42[12800/13374]loss=0.00019087411492364482\n",
      "evaluating trained model ...\n",
      "Test set: Accuracy 5654/6700 84.39%\n",
      "[4m 13s] Epoch43[2560/13374]loss=0.00015660775898140855\n",
      "[4m 14s] Epoch43[5120/13374]loss=0.00015016176366771105\n",
      "[4m 15s] Epoch43[7680/13374]loss=0.0001643364839158797\n",
      "[4m 16s] Epoch43[10240/13374]loss=0.0001726938842693926\n",
      "[4m 18s] Epoch43[12800/13374]loss=0.00018838356612832285\n",
      "evaluating trained model ...\n",
      "Test set: Accuracy 5629/6700 84.01%\n",
      "[4m 20s] Epoch44[2560/13374]loss=0.00013514993624994532\n",
      "[4m 21s] Epoch44[5120/13374]loss=0.00013830349635099993\n",
      "[4m 22s] Epoch44[7680/13374]loss=0.0001527251920682223\n",
      "[4m 23s] Epoch44[10240/13374]loss=0.00016490783891640604\n",
      "[4m 24s] Epoch44[12800/13374]loss=0.0001803026464767754\n",
      "evaluating trained model ...\n",
      "Test set: Accuracy 5643/6700 84.22%\n",
      "[4m 26s] Epoch45[2560/13374]loss=0.00017464156335336156\n",
      "[4m 27s] Epoch45[5120/13374]loss=0.00016369346085411962\n",
      "[4m 28s] Epoch45[7680/13374]loss=0.00017356072106243422\n",
      "[4m 29s] Epoch45[10240/13374]loss=0.00017869737184810218\n",
      "[4m 30s] Epoch45[12800/13374]loss=0.00018794974937918596\n",
      "evaluating trained model ...\n",
      "Test set: Accuracy 5635/6700 84.10%\n",
      "[4m 33s] Epoch46[2560/13374]loss=0.0001397781707055401\n",
      "[4m 34s] Epoch46[5120/13374]loss=0.0001479239719628822\n",
      "[4m 36s] Epoch46[7680/13374]loss=0.00015421416877264466\n",
      "[4m 37s] Epoch46[10240/13374]loss=0.00016548255225643516\n",
      "[4m 38s] Epoch46[12800/13374]loss=0.000185383456555428\n",
      "evaluating trained model ...\n",
      "Test set: Accuracy 5642/6700 84.21%\n",
      "[4m 40s] Epoch47[2560/13374]loss=0.0001429765390639659\n",
      "[4m 42s] Epoch47[5120/13374]loss=0.00017184391072078142\n",
      "[4m 43s] Epoch47[7680/13374]loss=0.00017721856687179146\n",
      "[4m 44s] Epoch47[10240/13374]loss=0.00017422961100237443\n",
      "[4m 45s] Epoch47[12800/13374]loss=0.0001801280232029967\n",
      "evaluating trained model ...\n",
      "Test set: Accuracy 5657/6700 84.43%\n",
      "[4m 48s] Epoch48[2560/13374]loss=0.00014842052041785792\n",
      "[4m 49s] Epoch48[5120/13374]loss=0.00015882187071838416\n",
      "[4m 50s] Epoch48[7680/13374]loss=0.0001701556737922753\n",
      "[4m 51s] Epoch48[10240/13374]loss=0.00017899737758853007\n",
      "[4m 52s] Epoch48[12800/13374]loss=0.00018358629196882248\n",
      "evaluating trained model ...\n",
      "Test set: Accuracy 5634/6700 84.09%\n"
     ]
    },
    {
     "name": "stdout",
     "output_type": "stream",
     "text": [
      "[4m 55s] Epoch49[2560/13374]loss=0.0001588532657478936\n",
      "[4m 56s] Epoch49[5120/13374]loss=0.00015657996336813085\n",
      "[4m 57s] Epoch49[7680/13374]loss=0.00016201318067032844\n",
      "[4m 59s] Epoch49[10240/13374]loss=0.00016434451772511237\n",
      "[5m 0s] Epoch49[12800/13374]loss=0.00018038114343653432\n",
      "evaluating trained model ...\n",
      "Test set: Accuracy 5636/6700 84.12%\n",
      "[5m 2s] Epoch50[2560/13374]loss=0.00015459470960195177\n",
      "[5m 4s] Epoch50[5120/13374]loss=0.00015840394007682335\n",
      "[5m 5s] Epoch50[7680/13374]loss=0.000160008687574494\n",
      "[5m 6s] Epoch50[10240/13374]loss=0.00017005539666570257\n",
      "[5m 8s] Epoch50[12800/13374]loss=0.00017581656691618264\n",
      "evaluating trained model ...\n",
      "Test set: Accuracy 5639/6700 84.16%\n",
      "[5m 10s] Epoch51[2560/13374]loss=0.00013526900147553533\n",
      "[5m 11s] Epoch51[5120/13374]loss=0.00016469305119244383\n",
      "[5m 13s] Epoch51[7680/13374]loss=0.00017504261268186383\n",
      "[5m 14s] Epoch51[10240/13374]loss=0.000173682205422665\n",
      "[5m 15s] Epoch51[12800/13374]loss=0.00018820677418261765\n",
      "evaluating trained model ...\n",
      "Test set: Accuracy 5651/6700 84.34%\n",
      "[5m 18s] Epoch52[2560/13374]loss=0.00018105435374309308\n",
      "[5m 19s] Epoch52[5120/13374]loss=0.00017494488347438164\n",
      "[5m 20s] Epoch52[7680/13374]loss=0.00017889439162293758\n",
      "[5m 22s] Epoch52[10240/13374]loss=0.00017959986871574074\n",
      "[5m 24s] Epoch52[12800/13374]loss=0.0001814092611311935\n",
      "evaluating trained model ...\n",
      "Test set: Accuracy 5652/6700 84.36%\n",
      "[5m 26s] Epoch53[2560/13374]loss=0.00013301486906129866\n",
      "[5m 28s] Epoch53[5120/13374]loss=0.00015183729919954203\n",
      "[5m 29s] Epoch53[7680/13374]loss=0.00016016702065826393\n",
      "[5m 31s] Epoch53[10240/13374]loss=0.00016504216346220347\n",
      "[5m 32s] Epoch53[12800/13374]loss=0.0001757646295300219\n",
      "evaluating trained model ...\n",
      "Test set: Accuracy 5637/6700 84.13%\n",
      "[5m 35s] Epoch54[2560/13374]loss=0.00013478753899107688\n",
      "[5m 36s] Epoch54[5120/13374]loss=0.00014358344960783143\n",
      "[5m 37s] Epoch54[7680/13374]loss=0.0001506706665774497\n",
      "[5m 39s] Epoch54[10240/13374]loss=0.00016310715836880262\n",
      "[5m 40s] Epoch54[12800/13374]loss=0.00016951071243966\n",
      "evaluating trained model ...\n",
      "Test set: Accuracy 5649/6700 84.31%\n",
      "[5m 43s] Epoch55[2560/13374]loss=0.00011997338151559234\n",
      "[5m 44s] Epoch55[5120/13374]loss=0.00013203911403252276\n",
      "[5m 45s] Epoch55[7680/13374]loss=0.00015089882945176213\n",
      "[5m 47s] Epoch55[10240/13374]loss=0.00016016661666071741\n",
      "[5m 48s] Epoch55[12800/13374]loss=0.00017336676639388316\n",
      "evaluating trained model ...\n",
      "Test set: Accuracy 5636/6700 84.12%\n",
      "[5m 50s] Epoch56[2560/13374]loss=0.00016335432592313738\n",
      "[5m 52s] Epoch56[5120/13374]loss=0.00015563124306936516\n",
      "[5m 53s] Epoch56[7680/13374]loss=0.00015617493542473919\n",
      "[5m 54s] Epoch56[10240/13374]loss=0.0001572578707964567\n",
      "[5m 55s] Epoch56[12800/13374]loss=0.00016820555778394918\n",
      "evaluating trained model ...\n",
      "Test set: Accuracy 5657/6700 84.43%\n",
      "[5m 58s] Epoch57[2560/13374]loss=0.00014920289140718523\n",
      "[5m 59s] Epoch57[5120/13374]loss=0.00015182644692686155\n",
      "[6m 0s] Epoch57[7680/13374]loss=0.00015825838163436857\n",
      "[6m 1s] Epoch57[10240/13374]loss=0.0001544334675600112\n",
      "[6m 3s] Epoch57[12800/13374]loss=0.0001645404188457178\n",
      "evaluating trained model ...\n",
      "Test set: Accuracy 5634/6700 84.09%\n",
      "[6m 6s] Epoch58[2560/13374]loss=0.00012441789731383325\n",
      "[6m 7s] Epoch58[5120/13374]loss=0.0001461384708818514\n",
      "[6m 8s] Epoch58[7680/13374]loss=0.00015086331380492385\n",
      "[6m 9s] Epoch58[10240/13374]loss=0.00016263988673017593\n",
      "[6m 10s] Epoch58[12800/13374]loss=0.00016809205364552327\n",
      "evaluating trained model ...\n",
      "Test set: Accuracy 5652/6700 84.36%\n",
      "[6m 13s] Epoch59[2560/13374]loss=0.0001430595548299607\n",
      "[6m 14s] Epoch59[5120/13374]loss=0.00015387228777399286\n",
      "[6m 15s] Epoch59[7680/13374]loss=0.0001577182849966145\n",
      "[6m 16s] Epoch59[10240/13374]loss=0.00016823258501972305\n",
      "[6m 18s] Epoch59[12800/13374]loss=0.00016975426260614767\n",
      "evaluating trained model ...\n",
      "Test set: Accuracy 5646/6700 84.27%\n",
      "[6m 20s] Epoch60[2560/13374]loss=0.00014902426628395914\n",
      "[6m 22s] Epoch60[5120/13374]loss=0.0001566273313073907\n",
      "[6m 23s] Epoch60[7680/13374]loss=0.00015630874816755143\n",
      "[6m 24s] Epoch60[10240/13374]loss=0.00015829988051336842\n",
      "[6m 25s] Epoch60[12800/13374]loss=0.00016344118972483557\n",
      "evaluating trained model ...\n",
      "Test set: Accuracy 5656/6700 84.42%\n",
      "[6m 28s] Epoch61[2560/13374]loss=0.00012866457182099112\n",
      "[6m 29s] Epoch61[5120/13374]loss=0.0001472228039347101\n",
      "[6m 30s] Epoch61[7680/13374]loss=0.0001520140659219275\n",
      "[6m 31s] Epoch61[10240/13374]loss=0.00016122242304845714\n",
      "[6m 33s] Epoch61[12800/13374]loss=0.0001656448535504751\n",
      "evaluating trained model ...\n",
      "Test set: Accuracy 5630/6700 84.03%\n",
      "[6m 35s] Epoch62[2560/13374]loss=0.00012918383145006375\n",
      "[6m 36s] Epoch62[5120/13374]loss=0.00013436277768050787\n",
      "[6m 37s] Epoch62[7680/13374]loss=0.0001445537841694507\n",
      "[6m 39s] Epoch62[10240/13374]loss=0.00015133452570808003\n",
      "[6m 40s] Epoch62[12800/13374]loss=0.00016270597370748874\n",
      "evaluating trained model ...\n",
      "Test set: Accuracy 5650/6700 84.33%\n",
      "[6m 42s] Epoch63[2560/13374]loss=0.00011572580406209454\n",
      "[6m 43s] Epoch63[5120/13374]loss=0.00012466601183405145\n",
      "[6m 45s] Epoch63[7680/13374]loss=0.00014140444764052518\n",
      "[6m 46s] Epoch63[10240/13374]loss=0.00014753942868992454\n",
      "[6m 47s] Epoch63[12800/13374]loss=0.00016052668404881843\n",
      "evaluating trained model ...\n",
      "Test set: Accuracy 5643/6700 84.22%\n",
      "[6m 49s] Epoch64[2560/13374]loss=0.0001243410777533427\n",
      "[6m 51s] Epoch64[5120/13374]loss=0.00014156729666865432\n",
      "[6m 52s] Epoch64[7680/13374]loss=0.00016167805030515108\n",
      "[6m 53s] Epoch64[10240/13374]loss=0.00016662733778503025\n",
      "[6m 54s] Epoch64[12800/13374]loss=0.00016585061937803402\n",
      "evaluating trained model ...\n",
      "Test set: Accuracy 5652/6700 84.36%\n",
      "[6m 57s] Epoch65[2560/13374]loss=0.00015954947448335589\n",
      "[6m 58s] Epoch65[5120/13374]loss=0.0001526334539448726\n",
      "[6m 59s] Epoch65[7680/13374]loss=0.00015545870955975262\n",
      "[7m 0s] Epoch65[10240/13374]loss=0.0001690206227976887\n",
      "[7m 2s] Epoch65[12800/13374]loss=0.00016587922473263462\n",
      "evaluating trained model ...\n",
      "Test set: Accuracy 5641/6700 84.19%\n",
      "[7m 4s] Epoch66[2560/13374]loss=0.00011715990876837168\n",
      "[7m 5s] Epoch66[5120/13374]loss=0.00013040037538303295\n",
      "[7m 6s] Epoch66[7680/13374]loss=0.00014369967551222846\n",
      "[7m 8s] Epoch66[10240/13374]loss=0.0001472949329581752\n",
      "[7m 9s] Epoch66[12800/13374]loss=0.0001556723997782683\n",
      "evaluating trained model ...\n",
      "Test set: Accuracy 5646/6700 84.27%\n",
      "[7m 11s] Epoch67[2560/13374]loss=0.0001306706295508775\n",
      "[7m 12s] Epoch67[5120/13374]loss=0.00013720413726332482\n",
      "[7m 14s] Epoch67[7680/13374]loss=0.00014798676244633194\n",
      "[7m 15s] Epoch67[10240/13374]loss=0.0001469290654767974\n",
      "[7m 16s] Epoch67[12800/13374]loss=0.00015803960395714965\n",
      "evaluating trained model ...\n",
      "Test set: Accuracy 5638/6700 84.15%\n",
      "[7m 19s] Epoch68[2560/13374]loss=0.000133250821090769\n",
      "[7m 20s] Epoch68[5120/13374]loss=0.00015838381041248794\n",
      "[7m 21s] Epoch68[7680/13374]loss=0.00015067741478560492\n",
      "[7m 22s] Epoch68[10240/13374]loss=0.00015922703860269394\n",
      "[7m 23s] Epoch68[12800/13374]loss=0.00015610732421919237\n",
      "evaluating trained model ...\n",
      "Test set: Accuracy 5637/6700 84.13%\n",
      "[7m 26s] Epoch69[2560/13374]loss=0.00015072810201672838\n",
      "[7m 27s] Epoch69[5120/13374]loss=0.00014290333401731914\n",
      "[7m 28s] Epoch69[7680/13374]loss=0.00014321219799361037\n",
      "[7m 29s] Epoch69[10240/13374]loss=0.00015078613550940646\n",
      "[7m 31s] Epoch69[12800/13374]loss=0.00016012248663173522\n",
      "evaluating trained model ...\n",
      "Test set: Accuracy 5649/6700 84.31%\n",
      "[7m 33s] Epoch70[2560/13374]loss=0.00012208588086650706\n",
      "[7m 34s] Epoch70[5120/13374]loss=0.00014246364517020993\n",
      "[7m 35s] Epoch70[7680/13374]loss=0.0001495597122508722\n",
      "[7m 37s] Epoch70[10240/13374]loss=0.0001467082498493255\n",
      "[7m 38s] Epoch70[12800/13374]loss=0.00015650697736418806\n",
      "evaluating trained model ...\n",
      "Test set: Accuracy 5661/6700 84.49%\n",
      "[7m 40s] Epoch71[2560/13374]loss=0.00012375435544527137\n",
      "[7m 41s] Epoch71[5120/13374]loss=0.00013837983024131973\n",
      "[7m 42s] Epoch71[7680/13374]loss=0.00014865992052364162\n",
      "[7m 44s] Epoch71[10240/13374]loss=0.0001502268532931339\n",
      "[7m 45s] Epoch71[12800/13374]loss=0.0001547205685346853\n",
      "evaluating trained model ...\n",
      "Test set: Accuracy 5628/6700 84.00%\n",
      "[7m 48s] Epoch72[2560/13374]loss=0.0001288786268560216\n",
      "[7m 49s] Epoch72[5120/13374]loss=0.00013029512847424486\n",
      "[7m 50s] Epoch72[7680/13374]loss=0.0001454064639498635\n",
      "[7m 51s] Epoch72[10240/13374]loss=0.00014723548374604434\n",
      "[7m 52s] Epoch72[12800/13374]loss=0.00015625456522684546\n"
     ]
    },
    {
     "name": "stdout",
     "output_type": "stream",
     "text": [
      "evaluating trained model ...\n",
      "Test set: Accuracy 5625/6700 83.96%\n",
      "[7m 55s] Epoch73[2560/13374]loss=0.00010952041338896379\n",
      "[7m 56s] Epoch73[5120/13374]loss=0.00013263013861433137\n",
      "[7m 57s] Epoch73[7680/13374]loss=0.0001375898490853918\n",
      "[7m 58s] Epoch73[10240/13374]loss=0.0001529591201688163\n",
      "[8m 0s] Epoch73[12800/13374]loss=0.00015711507963715122\n",
      "evaluating trained model ...\n",
      "Test set: Accuracy 5630/6700 84.03%\n",
      "[8m 2s] Epoch74[2560/13374]loss=0.00013529658390325493\n",
      "[8m 4s] Epoch74[5120/13374]loss=0.00013444644355331548\n",
      "[8m 5s] Epoch74[7680/13374]loss=0.00014239719578957495\n",
      "[8m 6s] Epoch74[10240/13374]loss=0.00014799845121160615\n",
      "[8m 7s] Epoch74[12800/13374]loss=0.00015690940272179433\n",
      "evaluating trained model ...\n",
      "Test set: Accuracy 5647/6700 84.28%\n",
      "[8m 10s] Epoch75[2560/13374]loss=0.0001372567166981753\n",
      "[8m 11s] Epoch75[5120/13374]loss=0.00012871908911620266\n",
      "[8m 12s] Epoch75[7680/13374]loss=0.00014426570499684506\n",
      "[8m 13s] Epoch75[10240/13374]loss=0.00015350618550655782\n",
      "[8m 14s] Epoch75[12800/13374]loss=0.00015685234851844142\n",
      "evaluating trained model ...\n",
      "Test set: Accuracy 5633/6700 84.07%\n",
      "[8m 17s] Epoch76[2560/13374]loss=0.00015052814269438385\n",
      "[8m 18s] Epoch76[5120/13374]loss=0.00013646606876136503\n",
      "[8m 20s] Epoch76[7680/13374]loss=0.0001421303450721704\n",
      "[8m 21s] Epoch76[10240/13374]loss=0.00015194615252767107\n",
      "[8m 22s] Epoch76[12800/13374]loss=0.00015281270993000362\n",
      "evaluating trained model ...\n",
      "Test set: Accuracy 5655/6700 84.40%\n",
      "[8m 24s] Epoch77[2560/13374]loss=0.0001108039628888946\n",
      "[8m 25s] Epoch77[5120/13374]loss=0.0001336117595201358\n",
      "[8m 26s] Epoch77[7680/13374]loss=0.00013585538326879031\n",
      "[8m 28s] Epoch77[10240/13374]loss=0.00014523454701702575\n",
      "[8m 29s] Epoch77[12800/13374]loss=0.00015414662266266532\n",
      "evaluating trained model ...\n",
      "Test set: Accuracy 5638/6700 84.15%\n",
      "[8m 31s] Epoch78[2560/13374]loss=0.00012353793063084594\n",
      "[8m 33s] Epoch78[5120/13374]loss=0.00012618140935956036\n",
      "[8m 34s] Epoch78[7680/13374]loss=0.00013227159191349833\n",
      "[8m 35s] Epoch78[10240/13374]loss=0.00014599025744246318\n",
      "[8m 37s] Epoch78[12800/13374]loss=0.00015795955609064548\n",
      "evaluating trained model ...\n",
      "Test set: Accuracy 5637/6700 84.13%\n",
      "[8m 39s] Epoch79[2560/13374]loss=0.00013453140418278052\n",
      "[8m 40s] Epoch79[5120/13374]loss=0.00013367138635658193\n",
      "[8m 42s] Epoch79[7680/13374]loss=0.00014089507652291408\n",
      "[8m 43s] Epoch79[10240/13374]loss=0.00014695451509396661\n",
      "[8m 44s] Epoch79[12800/13374]loss=0.0001523250870377524\n",
      "evaluating trained model ...\n",
      "Test set: Accuracy 5637/6700 84.13%\n",
      "[8m 46s] Epoch80[2560/13374]loss=0.00010978153004543856\n",
      "[8m 48s] Epoch80[5120/13374]loss=0.00013448639547277707\n",
      "[8m 49s] Epoch80[7680/13374]loss=0.00013940821566696588\n",
      "[8m 50s] Epoch80[10240/13374]loss=0.0001421343245965545\n",
      "[8m 52s] Epoch80[12800/13374]loss=0.0001509745734074386\n",
      "evaluating trained model ...\n",
      "Test set: Accuracy 5616/6700 83.82%\n",
      "[8m 54s] Epoch81[2560/13374]loss=0.00012811060005333275\n",
      "[8m 56s] Epoch81[5120/13374]loss=0.0001483018284488935\n",
      "[8m 57s] Epoch81[7680/13374]loss=0.00015395433389736962\n",
      "[8m 58s] Epoch81[10240/13374]loss=0.00015209772882371909\n",
      "[8m 59s] Epoch81[12800/13374]loss=0.00015511679204792018\n",
      "evaluating trained model ...\n",
      "Test set: Accuracy 5637/6700 84.13%\n",
      "[9m 2s] Epoch82[2560/13374]loss=0.00012105137211619877\n",
      "[9m 3s] Epoch82[5120/13374]loss=0.0001236581738339737\n",
      "[9m 4s] Epoch82[7680/13374]loss=0.0001312522654188797\n",
      "[9m 5s] Epoch82[10240/13374]loss=0.0001473208198149223\n",
      "[9m 7s] Epoch82[12800/13374]loss=0.00015082493395311757\n",
      "evaluating trained model ...\n",
      "Test set: Accuracy 5635/6700 84.10%\n",
      "[9m 9s] Epoch83[2560/13374]loss=0.00012815660884371027\n",
      "[9m 10s] Epoch83[5120/13374]loss=0.00013255343583296053\n",
      "[9m 12s] Epoch83[7680/13374]loss=0.00014203152265205668\n",
      "[9m 13s] Epoch83[10240/13374]loss=0.0001454345096135512\n",
      "[9m 14s] Epoch83[12800/13374]loss=0.00015358501419541427\n",
      "evaluating trained model ...\n",
      "Test set: Accuracy 5638/6700 84.15%\n",
      "[9m 16s] Epoch84[2560/13374]loss=0.00012014686944894493\n",
      "[9m 18s] Epoch84[5120/13374]loss=0.00012263361786608585\n",
      "[9m 19s] Epoch84[7680/13374]loss=0.00013316920327876384\n",
      "[9m 20s] Epoch84[10240/13374]loss=0.0001454965240554884\n",
      "[9m 21s] Epoch84[12800/13374]loss=0.00015584222812321967\n",
      "evaluating trained model ...\n",
      "Test set: Accuracy 5638/6700 84.15%\n",
      "[9m 24s] Epoch85[2560/13374]loss=0.00014240546734072267\n",
      "[9m 25s] Epoch85[5120/13374]loss=0.000142137625880423\n",
      "[9m 26s] Epoch85[7680/13374]loss=0.00014506726438412443\n",
      "[9m 27s] Epoch85[10240/13374]loss=0.00014369051550602307\n",
      "[9m 28s] Epoch85[12800/13374]loss=0.0001480344752781093\n",
      "evaluating trained model ...\n",
      "Test set: Accuracy 5653/6700 84.37%\n",
      "[9m 31s] Epoch86[2560/13374]loss=0.00010801880125654861\n",
      "[9m 32s] Epoch86[5120/13374]loss=0.00013667909806827083\n",
      "[9m 33s] Epoch86[7680/13374]loss=0.00014137913676677273\n",
      "[9m 34s] Epoch86[10240/13374]loss=0.00013928935859439662\n",
      "[9m 36s] Epoch86[12800/13374]loss=0.00014780491779674775\n",
      "evaluating trained model ...\n",
      "Test set: Accuracy 5634/6700 84.09%\n",
      "[9m 38s] Epoch87[2560/13374]loss=0.0001315896472078748\n",
      "[9m 39s] Epoch87[5120/13374]loss=0.0001335543634922942\n",
      "[9m 40s] Epoch87[7680/13374]loss=0.00014267299290319593\n",
      "[9m 41s] Epoch87[10240/13374]loss=0.00015222535494103796\n",
      "[9m 42s] Epoch87[12800/13374]loss=0.00015349427223554813\n",
      "evaluating trained model ...\n",
      "Test set: Accuracy 5636/6700 84.12%\n",
      "[9m 45s] Epoch88[2560/13374]loss=0.00012812484965252224\n",
      "[9m 46s] Epoch88[5120/13374]loss=0.00013166290355002275\n",
      "[9m 48s] Epoch88[7680/13374]loss=0.00013130977737697928\n",
      "[9m 49s] Epoch88[10240/13374]loss=0.000140997620383132\n",
      "[9m 50s] Epoch88[12800/13374]loss=0.00014876964392897209\n",
      "evaluating trained model ...\n",
      "Test set: Accuracy 5652/6700 84.36%\n",
      "[9m 52s] Epoch89[2560/13374]loss=0.00013442180788842962\n",
      "[9m 54s] Epoch89[5120/13374]loss=0.00013736566997977207\n",
      "[9m 55s] Epoch89[7680/13374]loss=0.00014571537479544835\n",
      "[9m 56s] Epoch89[10240/13374]loss=0.000140409158757393\n",
      "[9m 57s] Epoch89[12800/13374]loss=0.00014319381029054057\n",
      "evaluating trained model ...\n",
      "Test set: Accuracy 5646/6700 84.27%\n",
      "[10m 0s] Epoch90[2560/13374]loss=0.00011427724894019775\n",
      "[10m 1s] Epoch90[5120/13374]loss=0.0001273047921131365\n",
      "[10m 2s] Epoch90[7680/13374]loss=0.00013238336008119706\n",
      "[10m 3s] Epoch90[10240/13374]loss=0.00014294565917225555\n",
      "[10m 4s] Epoch90[12800/13374]loss=0.0001488748389238026\n",
      "evaluating trained model ...\n",
      "Test set: Accuracy 5641/6700 84.19%\n",
      "[10m 7s] Epoch91[2560/13374]loss=0.00011996640241704882\n",
      "[10m 8s] Epoch91[5120/13374]loss=0.00014077328560233582\n",
      "[10m 9s] Epoch91[7680/13374]loss=0.0001389289816870587\n",
      "[10m 10s] Epoch91[10240/13374]loss=0.00014047282120372985\n",
      "[10m 12s] Epoch91[12800/13374]loss=0.0001449086739012273\n",
      "evaluating trained model ...\n",
      "Test set: Accuracy 5633/6700 84.07%\n",
      "[10m 14s] Epoch92[2560/13374]loss=0.00012934289552504196\n",
      "[10m 15s] Epoch92[5120/13374]loss=0.00013543083841796033\n",
      "[10m 16s] Epoch92[7680/13374]loss=0.0001314580651524011\n",
      "[10m 17s] Epoch92[10240/13374]loss=0.00014278409707912942\n",
      "[10m 19s] Epoch92[12800/13374]loss=0.00014569638784450945\n",
      "evaluating trained model ...\n",
      "Test set: Accuracy 5639/6700 84.16%\n",
      "[10m 21s] Epoch93[2560/13374]loss=0.00012151491500844713\n",
      "[10m 22s] Epoch93[5120/13374]loss=0.00013545114434236892\n",
      "[10m 23s] Epoch93[7680/13374]loss=0.0001417711016983958\n",
      "[10m 25s] Epoch93[10240/13374]loss=0.00014536237886204618\n",
      "[10m 26s] Epoch93[12800/13374]loss=0.00014871430408675224\n",
      "evaluating trained model ...\n",
      "Test set: Accuracy 5616/6700 83.82%\n",
      "[10m 28s] Epoch94[2560/13374]loss=0.00013481114874593913\n",
      "[10m 29s] Epoch94[5120/13374]loss=0.00014254403959057527\n",
      "[10m 31s] Epoch94[7680/13374]loss=0.00014002679199620616\n",
      "[10m 32s] Epoch94[10240/13374]loss=0.00013739397190875023\n",
      "[10m 33s] Epoch94[12800/13374]loss=0.00014629763601988087\n",
      "evaluating trained model ...\n",
      "Test set: Accuracy 5644/6700 84.24%\n",
      "[10m 35s] Epoch95[2560/13374]loss=0.0001184967997687636\n",
      "[10m 37s] Epoch95[5120/13374]loss=0.00012559720107674366\n",
      "[10m 38s] Epoch95[7680/13374]loss=0.00014335323103296105\n",
      "[10m 39s] Epoch95[10240/13374]loss=0.00013905942087149014\n",
      "[10m 40s] Epoch95[12800/13374]loss=0.00014396031765500082\n",
      "evaluating trained model ...\n",
      "Test set: Accuracy 5647/6700 84.28%\n",
      "[10m 43s] Epoch96[2560/13374]loss=0.00011089766121585853\n",
      "[10m 44s] Epoch96[5120/13374]loss=0.00012128027192375157\n",
      "[10m 45s] Epoch96[7680/13374]loss=0.00012908085894499285\n"
     ]
    },
    {
     "name": "stdout",
     "output_type": "stream",
     "text": [
      "[10m 46s] Epoch96[10240/13374]loss=0.00013954401274531846\n",
      "[10m 47s] Epoch96[12800/13374]loss=0.00014449073540163227\n",
      "evaluating trained model ...\n",
      "Test set: Accuracy 5635/6700 84.10%\n",
      "[10m 50s] Epoch97[2560/13374]loss=0.00013942988225608134\n",
      "[10m 51s] Epoch97[5120/13374]loss=0.0001263848131202394\n",
      "[10m 52s] Epoch97[7680/13374]loss=0.00012995215341409978\n",
      "[10m 53s] Epoch97[10240/13374]loss=0.0001379859160806518\n",
      "[10m 54s] Epoch97[12800/13374]loss=0.0001413847942603752\n",
      "evaluating trained model ...\n",
      "Test set: Accuracy 5631/6700 84.04%\n",
      "[10m 57s] Epoch98[2560/13374]loss=0.00012837991234846414\n",
      "[10m 58s] Epoch98[5120/13374]loss=0.0001218287394294748\n",
      "[10m 59s] Epoch98[7680/13374]loss=0.00012989729718052936\n",
      "[11m 0s] Epoch98[10240/13374]loss=0.0001311139322751842\n",
      "[11m 1s] Epoch98[12800/13374]loss=0.0001451869302400155\n",
      "evaluating trained model ...\n",
      "Test set: Accuracy 5640/6700 84.18%\n",
      "[11m 4s] Epoch99[2560/13374]loss=0.00012162446619186084\n",
      "[11m 5s] Epoch99[5120/13374]loss=0.00011984177963313414\n",
      "[11m 6s] Epoch99[7680/13374]loss=0.00013539505659233934\n",
      "[11m 7s] Epoch99[10240/13374]loss=0.00014349059692904121\n",
      "[11m 8s] Epoch99[12800/13374]loss=0.00014736025026650167\n",
      "evaluating trained model ...\n",
      "Test set: Accuracy 5631/6700 84.04%\n",
      "[11m 11s] Epoch100[2560/13374]loss=0.0001058283363818191\n",
      "[11m 12s] Epoch100[5120/13374]loss=0.00011870760827150661\n",
      "[11m 13s] Epoch100[7680/13374]loss=0.00012796443164309797\n",
      "[11m 14s] Epoch100[10240/13374]loss=0.0001346525286862743\n",
      "[11m 15s] Epoch100[12800/13374]loss=0.00014038977751624772\n",
      "evaluating trained model ...\n",
      "Test set: Accuracy 5638/6700 84.15%\n"
     ]
    }
   ],
   "source": [
    "if __name__ == '__main__':\n",
    "# 实例化 '循环神经网络分类器'   字符数(字母表)--隐藏层数------分类类别---GRU层数 \n",
    "    classifier = RNNClassifier(N_CHARS, HIDDEN_SIZE, N_COUNTRY, N_LAYER)\n",
    "    \n",
    "    if USE_GPU:      # 设置GPU\n",
    "        device = torch.device(\"cuda:0\")\n",
    "        classifier.to(device)\n",
    "    \n",
    "    criterion = torch.nn.CrossEntropyLoss()              \n",
    "    optimizer = torch.optim.Adam(classifier.parameters(), lr=0.001)\n",
    "    \n",
    "    start = time.time()        # 训练起始时间 \n",
    "    \n",
    "    print(f\"Training for {N_EPOCHS} epochs: \")\n",
    "    acc_list = []\n",
    "    for epoch in range(1, N_EPOCHS + 1):\n",
    "        # Train cycle\n",
    "        trainModel()\n",
    "        acc = testModel()\n",
    "        acc_list.append(acc)"
   ]
  },
  {
   "cell_type": "code",
   "execution_count": 9,
   "id": "a1ff7ac6",
   "metadata": {},
   "outputs": [
    {
     "data": {
      "image/png": "[encoded data removed]",
      "text/plain": [
       "<Figure size 640x480 with 1 Axes>"
      ]
     },
     "metadata": {},
     "output_type": "display_data"
    }
   ],
   "source": [
    "import matplotlib.pyplot as plt\n",
    "import numpy as np\n",
    "\n",
    "epoch = np.arange(1, len(acc_list) + 1, 1)\n",
    "acc_list = np.array(acc_list)\n",
    "\n",
    "plt.plot(epoch, acc_list)\n",
    "plt.xlabel('Epoch')\n",
    "plt.ylabel('Accuracy')\n",
    "plt.grid()\n",
    "plt.show()"
   ]
  },
  {
   "cell_type": "code",
   "execution_count": null,
   "id": "c17711ab",
   "metadata": {},
   "outputs": [],
   "source": []
  }
 ],
 "metadata": {
  "kernelspec": {
   "display_name": "Python 3 (ipykernel)",
   "language": "python",
   "name": "python3"
  },
  "language_info": {
   "codemirror_mode": {
    "name": "ipython",
    "version": 3
   },
   "file_extension": ".py",
   "mimetype": "text/x-python",
   "name": "python",
   "nbconvert_exporter": "python",
   "pygments_lexer": "ipython3",
   "version": "3.11.3"
  },
  "toc": {
   "base_numbering": 1,
   "nav_menu": {},
   "number_sections": true,
   "sideBar": true,
   "skip_h1_title": false,
   "title_cell": "Table of Contents",
   "title_sidebar": "Contents",
   "toc_cell": true,
   "toc_position": {
    "height": "calc(100% - 180px)",
    "left": "10px",
    "top": "150px",
    "width": "341.438px"
   },
   "toc_section_display": true,
   "toc_window_display": true
  }
 },
 "nbformat": 4,
 "nbformat_minor": 5
}
