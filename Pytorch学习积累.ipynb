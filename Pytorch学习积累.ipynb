{
 "cells": [
  {
   "cell_type": "markdown",
   "id": "944f1e7a",
   "metadata": {
    "toc": true
   },
   "source": [
    "<h1>Table of Contents<span class=\"tocSkip\"></span></h1>\n",
    "<div class=\"toc\"><ul class=\"toc-item\"><li><span><a href=\"#Pytorch基础元素--张量(tensor)\" data-toc-modified-id=\"Pytorch基础元素--张量(tensor)-1\"><span class=\"toc-item-num\">1&nbsp;&nbsp;</span>Pytorch基础元素--张量(tensor)</a></span><ul class=\"toc-item\"><li><span><a href=\"#基本属性\" data-toc-modified-id=\"基本属性-1.1\"><span class=\"toc-item-num\">1.1&nbsp;&nbsp;</span>基本属性</a></span></li><li><span><a href=\"#类型转换\" data-toc-modified-id=\"类型转换-1.2\"><span class=\"toc-item-num\">1.2&nbsp;&nbsp;</span>类型转换</a></span></li><li><span><a href=\"#维度变换(-.reshape-/-.view)\" data-toc-modified-id=\"维度变换(-.reshape-/-.view)-1.3\"><span class=\"toc-item-num\">1.3&nbsp;&nbsp;</span>维度变换( .reshape / .view)</a></span><ul class=\"toc-item\"><li><span><a href=\"#.view\" data-toc-modified-id=\".view-1.3.1\"><span class=\"toc-item-num\">1.3.1&nbsp;&nbsp;</span>.view</a></span></li><li><span><a href=\"#.clone()-+-.view()\" data-toc-modified-id=\".clone()-+-.view()-1.3.2\"><span class=\"toc-item-num\">1.3.2&nbsp;&nbsp;</span>.clone() + .view()</a></span></li></ul></li></ul></li><li><span><a href=\"#张量连结-.cat\" data-toc-modified-id=\"张量连结-.cat-2\"><span class=\"toc-item-num\">2&nbsp;&nbsp;</span>张量连结 .cat</a></span></li><li><span><a href=\"#张量数据处理\" data-toc-modified-id=\"张量数据处理-3\"><span class=\"toc-item-num\">3&nbsp;&nbsp;</span>张量数据处理</a></span></li><li><span><a href=\"#索引和切片\" data-toc-modified-id=\"索引和切片-4\"><span class=\"toc-item-num\">4&nbsp;&nbsp;</span>索引和切片</a></span><ul class=\"toc-item\"><li><span><a href=\"#广播机制\" data-toc-modified-id=\"广播机制-4.1\"><span class=\"toc-item-num\">4.1&nbsp;&nbsp;</span>广播机制</a></span></li></ul></li><li><span><a href=\"#内存分配\" data-toc-modified-id=\"内存分配-5\"><span class=\"toc-item-num\">5&nbsp;&nbsp;</span>内存分配</a></span></li><li><span><a href=\"#矩阵乘法\" data-toc-modified-id=\"矩阵乘法-6\"><span class=\"toc-item-num\">6&nbsp;&nbsp;</span>矩阵乘法</a></span><ul class=\"toc-item\"><li><span><a href=\"#矩阵-向量积-(-.mv-)\" data-toc-modified-id=\"矩阵-向量积-(-.mv-)-6.1\"><span class=\"toc-item-num\">6.1&nbsp;&nbsp;</span>矩阵-向量积 ( .mv )</a></span></li><li><span><a href=\"#矩阵-矩阵乘法-(-.mm-)\" data-toc-modified-id=\"矩阵-矩阵乘法-(-.mm-)-6.2\"><span class=\"toc-item-num\">6.2&nbsp;&nbsp;</span>矩阵-矩阵乘法 ( .mm )</a></span></li></ul></li><li><span><a href=\"#范数\" data-toc-modified-id=\"范数-7\"><span class=\"toc-item-num\">7&nbsp;&nbsp;</span>范数</a></span><ul class=\"toc-item\"><li><span><a href=\"#L1范数\" data-toc-modified-id=\"L1范数-7.1\"><span class=\"toc-item-num\">7.1&nbsp;&nbsp;</span>L1范数</a></span></li><li><span><a href=\"#L2范数\" data-toc-modified-id=\"L2范数-7.2\"><span class=\"toc-item-num\">7.2&nbsp;&nbsp;</span>L2范数</a></span></li><li><span><a href=\"#Frobenius范数\" data-toc-modified-id=\"Frobenius范数-7.3\"><span class=\"toc-item-num\">7.3&nbsp;&nbsp;</span>Frobenius范数</a></span></li></ul></li><li><span><a href=\"#Autograd自动微分\" data-toc-modified-id=\"Autograd自动微分-8\"><span class=\"toc-item-num\">8&nbsp;&nbsp;</span>Autograd自动微分</a></span><ul class=\"toc-item\"><li><span><a href=\"#示例:\" data-toc-modified-id=\"示例:-8.1\"><span class=\"toc-item-num\">8.1&nbsp;&nbsp;</span>示例:</a></span></li><li><span><a href=\"#清除之前的梯度值\" data-toc-modified-id=\"清除之前的梯度值-8.2\"><span class=\"toc-item-num\">8.2&nbsp;&nbsp;</span>清除之前的梯度值</a></span></li><li><span><a href=\"#非标量变量的反向传播\" data-toc-modified-id=\"非标量变量的反向传播-8.3\"><span class=\"toc-item-num\">8.3&nbsp;&nbsp;</span>非标量变量的反向传播</a></span></li><li><span><a href=\"#分离计算-.detach\" data-toc-modified-id=\"分离计算-.detach-8.4\"><span class=\"toc-item-num\">8.4&nbsp;&nbsp;</span>分离计算 .detach</a></span></li></ul></li><li><span><a href=\"#数据读入\" data-toc-modified-id=\"数据读入-9\"><span class=\"toc-item-num\">9&nbsp;&nbsp;</span>数据读入</a></span><ul class=\"toc-item\"><li><span><a href=\"#Data_transform对图像预处理操作\" data-toc-modified-id=\"Data_transform对图像预处理操作-9.1\"><span class=\"toc-item-num\">9.1&nbsp;&nbsp;</span>Data_transform对图像预处理操作</a></span></li><li><span><a href=\"#调用数据集\" data-toc-modified-id=\"调用数据集-9.2\"><span class=\"toc-item-num\">9.2&nbsp;&nbsp;</span>调用数据集</a></span></li><li><span><a href=\"#自定义输入dataset\" data-toc-modified-id=\"自定义输入dataset-9.3\"><span class=\"toc-item-num\">9.3&nbsp;&nbsp;</span><strong>自定义输入dataset</strong></a></span></li><li><span><a href=\"#DataLoader\" data-toc-modified-id=\"DataLoader-9.4\"><span class=\"toc-item-num\">9.4&nbsp;&nbsp;</span>DataLoader</a></span></li></ul></li><li><span><a href=\"#多维特征输入\" data-toc-modified-id=\"多维特征输入-10\"><span class=\"toc-item-num\">10&nbsp;&nbsp;</span>多维特征输入</a></span></li><li><span><a href=\"#线性模型的初步实现\" data-toc-modified-id=\"线性模型的初步实现-11\"><span class=\"toc-item-num\">11&nbsp;&nbsp;</span>线性模型的初步实现</a></span><ul class=\"toc-item\"><li><span><a href=\"#模型的保存\" data-toc-modified-id=\"模型的保存-11.1\"><span class=\"toc-item-num\">11.1&nbsp;&nbsp;</span>模型的保存</a></span></li></ul></li><li><span><a href=\"#使用GPU进行训练\" data-toc-modified-id=\"使用GPU进行训练-12\"><span class=\"toc-item-num\">12&nbsp;&nbsp;</span>使用GPU进行训练</a></span></li><li><span><a href=\"#实战示例1---气温预测\" data-toc-modified-id=\"实战示例1---气温预测-13\"><span class=\"toc-item-num\">13&nbsp;&nbsp;</span>实战示例1---气温预测</a></span><ul class=\"toc-item\"><li><span><a href=\"#获取对应数据-features-/-labels\" data-toc-modified-id=\"获取对应数据-features-/-labels-13.1\"><span class=\"toc-item-num\">13.1&nbsp;&nbsp;</span>获取对应数据 features / labels</a></span></li><li><span><a href=\"#构建神经网络\" data-toc-modified-id=\"构建神经网络-13.2\"><span class=\"toc-item-num\">13.2&nbsp;&nbsp;</span>构建神经网络</a></span></li></ul></li><li><span><a href=\"#LogisticRegression\" data-toc-modified-id=\"LogisticRegression-14\"><span class=\"toc-item-num\">14&nbsp;&nbsp;</span>LogisticRegression</a></span></li><li><span><a href=\"#SoftmaxClassifier\" data-toc-modified-id=\"SoftmaxClassifier-15\"><span class=\"toc-item-num\">15&nbsp;&nbsp;</span>SoftmaxClassifier</a></span></li><li><span><a href=\"#卷积神经网络CNN\" data-toc-modified-id=\"卷积神经网络CNN-16\"><span class=\"toc-item-num\">16&nbsp;&nbsp;</span>卷积神经网络CNN</a></span></li></ul></div>"
   ]
  },
  {
   "cell_type": "code",
   "execution_count": 3,
   "id": "7651c649",
   "metadata": {},
   "outputs": [],
   "source": [
    "import os \n",
    "import numpy as np \n",
    "import torch\n",
    "import torch.nn as nn\n",
    "from torch.utils.data import Dataset, DataLoader\n",
    "import torch.optim as optimizer"
   ]
  },
  {
   "cell_type": "code",
   "execution_count": null,
   "id": "c4db8a82",
   "metadata": {},
   "outputs": [],
   "source": [
    "# 超参数设置\n",
    "\n",
    "batch_size = 16\n",
    "# 批次的大小\n",
    "lr = 1e-4\n",
    "# 优化器的学习率\n",
    "max_epochs = 100"
   ]
  },
  {
   "cell_type": "markdown",
   "id": "a7f169f0",
   "metadata": {},
   "source": [
    "# Pytorch基础元素--张量(tensor)"
   ]
  },
  {
   "cell_type": "markdown",
   "id": "5436e9b7",
   "metadata": {},
   "source": [
    "张量表示由数值组成的数组，可能有多个维度。 具有一个轴的张量对应数学上的向量（vector）； 具有两个轴的张量对应数学上的矩阵（matrix）"
   ]
  },
  {
   "cell_type": "markdown",
   "id": "ecdcc92a",
   "metadata": {},
   "source": [
    "## 基本属性"
   ]
  },
  {
   "cell_type": "code",
   "execution_count": 8,
   "id": "26bbb832",
   "metadata": {},
   "outputs": [
    {
     "data": {
      "text/plain": [
       "tensor([ 0,  1,  2,  3,  4,  5,  6,  7,  8,  9, 10, 11])"
      ]
     },
     "execution_count": 8,
     "metadata": {},
     "output_type": "execute_result"
    }
   ],
   "source": [
    "x = torch.arange(12)\n",
    "x"
   ]
  },
  {
   "cell_type": "code",
   "execution_count": 9,
   "id": "b1cf0b13",
   "metadata": {},
   "outputs": [
    {
     "data": {
      "text/plain": [
       "torch.Size([12])"
      ]
     },
     "execution_count": 9,
     "metadata": {},
     "output_type": "execute_result"
    }
   ],
   "source": [
    "# 查询形状\n",
    "x.shape"
   ]
  },
  {
   "cell_type": "code",
   "execution_count": 10,
   "id": "763daea4",
   "metadata": {},
   "outputs": [
    {
     "data": {
      "text/plain": [
       "tensor([[ 0,  1,  2,  3],\n",
       "        [ 4,  5,  6,  7],\n",
       "        [ 8,  9, 10, 11]])"
      ]
     },
     "execution_count": 10,
     "metadata": {},
     "output_type": "execute_result"
    }
   ],
   "source": [
    "# 改变形状\n",
    "X = x.reshape(3, 4)\n",
    "X"
   ]
  },
  {
   "cell_type": "markdown",
   "id": "a753617c",
   "metadata": {},
   "source": [
    "## 类型转换"
   ]
  },
  {
   "cell_type": "code",
   "execution_count": 9,
   "id": "25339bc6",
   "metadata": {},
   "outputs": [
    {
     "data": {
      "text/plain": [
       "tensor([[2, 1, 4, 3],\n",
       "        [1, 2, 3, 4],\n",
       "        [4, 3, 2, 1]])"
      ]
     },
     "execution_count": 9,
     "metadata": {},
     "output_type": "execute_result"
    }
   ],
   "source": [
    "# ndarray转换为tensor\n",
    "torch.tensor([[2, 1, 4, 3], [1, 2, 3, 4], [4, 3, 2, 1]])"
   ]
  },
  {
   "cell_type": "markdown",
   "id": "e1058834",
   "metadata": {},
   "source": [
    "**torch张量和numpy数组之间的转换非常容易**"
   ]
  },
  {
   "cell_type": "code",
   "execution_count": 15,
   "id": "30efdb00",
   "metadata": {},
   "outputs": [
    {
     "name": "stdout",
     "output_type": "stream",
     "text": [
      "<class 'numpy.ndarray'> <class 'torch.Tensor'>\n",
      "<class 'torch.Tensor'>\n"
     ]
    }
   ],
   "source": [
    "A = X.numpy()\n",
    "B = torch.tensor(A)\n",
    "print(type(A), type(B))\n",
    "\n",
    "A=torch.from_numpy(A)\n",
    "print(type(A))"
   ]
  },
  {
   "cell_type": "markdown",
   "id": "6ac80426",
   "metadata": {},
   "source": [
    "转换为**标量**"
   ]
  },
  {
   "cell_type": "code",
   "execution_count": 11,
   "id": "5f67ee0a",
   "metadata": {},
   "outputs": [
    {
     "data": {
      "text/plain": [
       "3.5"
      ]
     },
     "execution_count": 11,
     "metadata": {},
     "output_type": "execute_result"
    }
   ],
   "source": [
    "a = torch.tensor([3.5])\n",
    "a.item()         # .item()转换为python自带标量,用于提取数值"
   ]
  },
  {
   "cell_type": "code",
   "execution_count": null,
   "id": "272d4573",
   "metadata": {},
   "outputs": [],
   "source": []
  },
  {
   "cell_type": "code",
   "execution_count": null,
   "id": "3cb54a40",
   "metadata": {},
   "outputs": [],
   "source": []
  },
  {
   "cell_type": "markdown",
   "id": "0dbd98cb",
   "metadata": {},
   "source": [
    "DataFrame转为tensor"
   ]
  },
  {
   "cell_type": "markdown",
   "id": "8585a8fc",
   "metadata": {},
   "source": [
    "```\n",
    "X = torch.tensor(DataFrames.to_numpy(dtype=float))\n",
    "```"
   ]
  },
  {
   "cell_type": "markdown",
   "id": "a43fcf79",
   "metadata": {},
   "source": [
    "## 维度变换( .reshape / .view)"
   ]
  },
  {
   "cell_type": "markdown",
   "id": "4fb5170d",
   "metadata": {},
   "source": [
    "### .view"
   ]
  },
  {
   "cell_type": "code",
   "execution_count": 38,
   "id": "9c802406",
   "metadata": {},
   "outputs": [
    {
     "data": {
      "text/plain": [
       "tensor([-0.0375, -0.6613,  1.0012,  0.4287, -0.8051, -0.7091, -0.7557,  0.9137,\n",
       "        -2.0994, -0.3485,  1.6149, -0.9826,  1.8288, -0.9733, -0.4643,  0.9309])"
      ]
     },
     "execution_count": 38,
     "metadata": {},
     "output_type": "execute_result"
    }
   ],
   "source": [
    "#.view() 返回的新tensor与源tensor共享内存(即仅仅是改变了对这个张量的'观察角度')\n",
    "\n",
    "x = torch.randn(4, 4)\n",
    "y = x.view(16)\n",
    "y"
   ]
  },
  {
   "cell_type": "markdown",
   "id": "b92e2529",
   "metadata": {},
   "source": [
    "### .clone() + .view()\n",
    "---\n",
    "官方不推荐使用.reshape。推荐的方法是我们先用 clone() 创造一个张量副本然后再使用 torch.view()进行函数维度变换"
   ]
  },
  {
   "cell_type": "code",
   "execution_count": 40,
   "id": "8591a0f1",
   "metadata": {},
   "outputs": [
    {
     "data": {
      "text/plain": [
       "(tensor([ 0.9625,  0.3387,  2.0012,  1.4287,  0.1949,  0.2909,  0.2443,  1.9137,\n",
       "         -1.0994,  0.6515,  2.6149,  0.0174,  2.8288,  0.0267,  0.5357,  1.9309]),\n",
       " tensor([-0.0375, -0.6613,  1.0012,  0.4287, -0.8051, -0.7091, -0.7557,  0.9137,\n",
       "         -2.0994, -0.3485,  1.6149, -0.9826,  1.8288, -0.9733, -0.4643,  0.9309]))"
      ]
     },
     "execution_count": 40,
     "metadata": {},
     "output_type": "execute_result"
    }
   ],
   "source": [
    "z = x.clone().view(16)        \n",
    "z += 1 \n",
    "z,y"
   ]
  },
  {
   "cell_type": "markdown",
   "id": "6f9336ab",
   "metadata": {},
   "source": [
    "# 张量连结 .cat\n",
    "---\n",
    "dim = 0 行堆叠\n",
    "\n",
    "dim = 1 列拼接"
   ]
  },
  {
   "cell_type": "code",
   "execution_count": 3,
   "id": "fcc1a298",
   "metadata": {},
   "outputs": [
    {
     "data": {
      "text/plain": [
       "(tensor([[ 0.,  1.,  2.,  3.],\n",
       "         [ 4.,  5.,  6.,  7.],\n",
       "         [ 8.,  9., 10., 11.],\n",
       "         [ 2.,  1.,  4.,  3.],\n",
       "         [ 1.,  2.,  3.,  4.],\n",
       "         [ 4.,  3.,  2.,  1.]]),\n",
       " tensor([[ 0.,  1.,  2.,  3.,  2.,  1.,  4.,  3.],\n",
       "         [ 4.,  5.,  6.,  7.,  1.,  2.,  3.,  4.],\n",
       "         [ 8.,  9., 10., 11.,  4.,  3.,  2.,  1.]]))"
      ]
     },
     "execution_count": 3,
     "metadata": {},
     "output_type": "execute_result"
    }
   ],
   "source": [
    "X = torch.arange(12, dtype=torch.float32).reshape((3,4))\n",
    "Y = torch.tensor([[2.0, 1, 4, 3], [1, 2, 3, 4], [4, 3, 2, 1]])\n",
    "\n",
    "torch.cat((X, Y), dim=0), torch.cat((X, Y), dim=1)"
   ]
  },
  {
   "cell_type": "markdown",
   "id": "7307f946",
   "metadata": {},
   "source": [
    "# 张量数据处理"
   ]
  },
  {
   "cell_type": "code",
   "execution_count": 16,
   "id": "8427e983",
   "metadata": {},
   "outputs": [
    {
     "data": {
      "text/plain": [
       "(tensor(66.), tensor([12., 15., 18., 21.]), tensor([ 6., 22., 38.]))"
      ]
     },
     "execution_count": 16,
     "metadata": {},
     "output_type": "execute_result"
    }
   ],
   "source": [
    "X = torch.arange(12, dtype=torch.float32).reshape((3,4))\n",
    "X.sum(),X.sum(dim=0),X.sum(dim=1)\n",
    "\n",
    "# 整体之和 / 每列之和 / 每行之和"
   ]
  },
  {
   "cell_type": "code",
   "execution_count": 17,
   "id": "74e8cb5e",
   "metadata": {},
   "outputs": [
    {
     "data": {
      "text/plain": [
       "(tensor(5.5000), tensor([4., 5., 6., 7.]), tensor([1.5000, 5.5000, 9.5000]))"
      ]
     },
     "execution_count": 17,
     "metadata": {},
     "output_type": "execute_result"
    }
   ],
   "source": [
    "X.mean(),X.mean(dim=0),X.mean(dim=1)  # 求平均值 类似"
   ]
  },
  {
   "cell_type": "code",
   "execution_count": 21,
   "id": "fef0ca91",
   "metadata": {},
   "outputs": [
    {
     "data": {
      "text/plain": [
       "(torch.Size([3, 4]), 3, 4)"
      ]
     },
     "execution_count": 21,
     "metadata": {},
     "output_type": "execute_result"
    }
   ],
   "source": [
    "X.shape,X.shape[0],X.shape[1]         # 求形状(.shape是张量本身的性质,不是函数,不需要括号)"
   ]
  },
  {
   "cell_type": "code",
   "execution_count": 22,
   "id": "d9176256",
   "metadata": {},
   "outputs": [
    {
     "data": {
      "text/plain": [
       "tensor([[ 0.,  1.,  2.,  3.],\n",
       "        [ 4.,  6.,  8., 10.],\n",
       "        [12., 15., 18., 21.]])"
      ]
     },
     "execution_count": 22,
     "metadata": {},
     "output_type": "execute_result"
    }
   ],
   "source": [
    "X.cumsum(axis=0) # 累次求和"
   ]
  },
  {
   "cell_type": "markdown",
   "id": "cdf0742b",
   "metadata": {},
   "source": [
    "# 索引和切片\n",
    "---\n",
    "注意:**索引出来的结果与原数据共享内存，修改一个，另一个会跟着修改。如果不想修改，可以考虑使用copy()等方法**\n",
    "## 广播机制\n",
    "\n",
    "1.通过适当复制元素来扩展一个或两个数组，以便在转换之后，两个张量具有相同的形状；\n",
    "\n",
    "2.对生成的数组执行按元素操作。\n",
    "\n"
   ]
  },
  {
   "cell_type": "code",
   "execution_count": 8,
   "id": "a21e4a4a",
   "metadata": {},
   "outputs": [
    {
     "data": {
      "text/plain": [
       "(tensor([[0],\n",
       "         [1],\n",
       "         [2]]),\n",
       " tensor([[0, 1]]),\n",
       " tensor([[0, 1],\n",
       "         [1, 2],\n",
       "         [2, 3]]))"
      ]
     },
     "execution_count": 8,
     "metadata": {},
     "output_type": "execute_result"
    }
   ],
   "source": [
    "a = torch.arange(3).reshape((3, 1))\n",
    "b = torch.arange(2).reshape((1, 2))\n",
    "a, b,a+b      # 形状转换"
   ]
  },
  {
   "cell_type": "markdown",
   "id": "9756b2d6",
   "metadata": {},
   "source": [
    "# 内存分配"
   ]
  },
  {
   "cell_type": "markdown",
   "id": "dcaf077e",
   "metadata": {},
   "source": [
    "格式:\n",
    "```\n",
    "Z = torch.zeros_like(Y)\n",
    "\n",
    "Z[:] = X + Y)\n",
    "```\n",
    "也可以使用```X[ : ] = X + Y```或```X += Y```来减少操作的内存开销"
   ]
  },
  {
   "cell_type": "markdown",
   "id": "bab29f4d",
   "metadata": {},
   "source": [
    "---"
   ]
  },
  {
   "cell_type": "code",
   "execution_count": 14,
   "id": "aee552ba",
   "metadata": {},
   "outputs": [
    {
     "data": {
      "text/plain": [
       "(tensor([[ 0.,  1.,  2.,  3.],\n",
       "         [ 4.,  5.,  6.,  7.],\n",
       "         [ 8.,  9., 10., 11.],\n",
       "         [12., 13., 14., 15.],\n",
       "         [16., 17., 18., 19.]]),\n",
       " tensor([[ 0.,  2.,  4.,  6.],\n",
       "         [ 8., 10., 12., 14.],\n",
       "         [16., 18., 20., 22.],\n",
       "         [24., 26., 28., 30.],\n",
       "         [32., 34., 36., 38.]]))"
      ]
     },
     "execution_count": 14,
     "metadata": {},
     "output_type": "execute_result"
    }
   ],
   "source": [
    "A = torch.arange(20, dtype=torch.float32).reshape(5, 4)\n",
    "# .clone 类似 .copy 会重新分配内存\n",
    "B = A.clone()  # 通过分配新内存，将A的一个副本分配给B\n",
    "A, A + B"
   ]
  },
  {
   "cell_type": "markdown",
   "id": "7f59914b",
   "metadata": {},
   "source": [
    "# 矩阵乘法"
   ]
  },
  {
   "cell_type": "markdown",
   "id": "3e0a0a45",
   "metadata": {},
   "source": [
    "## 矩阵-向量积 ( .mv )\n",
    "\\begin{split}\\mathbf{A}\\mathbf{x}\n",
    "= \\begin{bmatrix}\n",
    "\\mathbf{a}^\\top_{1} \\\\\n",
    "\\mathbf{a}^\\top_{2} \\\\\n",
    "\\vdots \\\\\n",
    "\\mathbf{a}^\\top_m \\\\\n",
    "\\end{bmatrix}\\mathbf{x}\n",
    "= \\begin{bmatrix}\n",
    " \\mathbf{a}^\\top_{1} \\mathbf{x}  \\\\\n",
    " \\mathbf{a}^\\top_{2} \\mathbf{x} \\\\\n",
    "\\vdots\\\\\n",
    " \\mathbf{a}^\\top_{m} \\mathbf{x}\\\\\n",
    "\\end{bmatrix}.\\end{split}"
   ]
  },
  {
   "cell_type": "code",
   "execution_count": 27,
   "id": "4d2b539f",
   "metadata": {},
   "outputs": [
    {
     "data": {
      "text/plain": [
       "(tensor([[ 0.,  1.,  2.,  3.],\n",
       "         [ 4.,  5.,  6.,  7.],\n",
       "         [ 8.,  9., 10., 11.],\n",
       "         [12., 13., 14., 15.],\n",
       "         [16., 17., 18., 19.]]),\n",
       " tensor([0., 1., 2., 3.]),\n",
       " tensor([ 14.,  38.,  62.,  86., 110.]))"
      ]
     },
     "execution_count": 27,
     "metadata": {},
     "output_type": "execute_result"
    }
   ],
   "source": [
    "A = torch.arange(20, dtype=torch.float32).reshape(5, 4)\n",
    "x = torch.tensor([0., 1., 2., 3.])\n",
    "A,x,torch.mv(A, x)    # 矩阵-向量积"
   ]
  },
  {
   "cell_type": "markdown",
   "id": "c0fa0da2",
   "metadata": {},
   "source": [
    "## 矩阵-矩阵乘法 ( .mm )\n",
    "\\begin{split}\\mathbf{C} = \\mathbf{AB} = \\begin{bmatrix}\n",
    "\\mathbf{a}^\\top_{1} \\\\\n",
    "\\mathbf{a}^\\top_{2} \\\\\n",
    "\\vdots \\\\\n",
    "\\mathbf{a}^\\top_n \\\\\n",
    "\\end{bmatrix}\n",
    "\\begin{bmatrix}\n",
    " \\mathbf{b}_{1} & \\mathbf{b}_{2} & \\cdots & \\mathbf{b}_{m} \\\\\n",
    "\\end{bmatrix}\n",
    "= \\begin{bmatrix}\n",
    "\\mathbf{a}^\\top_{1} \\mathbf{b}_1 & \\mathbf{a}^\\top_{1}\\mathbf{b}_2& \\cdots & \\mathbf{a}^\\top_{1} \\mathbf{b}_m \\\\\n",
    " \\mathbf{a}^\\top_{2}\\mathbf{b}_1 & \\mathbf{a}^\\top_{2} \\mathbf{b}_2 & \\cdots & \\mathbf{a}^\\top_{2} \\mathbf{b}_m \\\\\n",
    " \\vdots & \\vdots & \\ddots &\\vdots\\\\\n",
    "\\mathbf{a}^\\top_{n} \\mathbf{b}_1 & \\mathbf{a}^\\top_{n}\\mathbf{b}_2& \\cdots& \\mathbf{a}^\\top_{n} \\mathbf{b}_m\n",
    "\\end{bmatrix}.\\end{split}"
   ]
  },
  {
   "cell_type": "code",
   "execution_count": 28,
   "id": "226fec90",
   "metadata": {},
   "outputs": [
    {
     "data": {
      "text/plain": [
       "tensor([[ 6.,  6.,  6.],\n",
       "        [22., 22., 22.],\n",
       "        [38., 38., 38.],\n",
       "        [54., 54., 54.],\n",
       "        [70., 70., 70.]])"
      ]
     },
     "execution_count": 28,
     "metadata": {},
     "output_type": "execute_result"
    }
   ],
   "source": [
    "B = torch.ones(4, 3)\n",
    "torch.mm(A, B)"
   ]
  },
  {
   "cell_type": "markdown",
   "id": "d46ad7aa",
   "metadata": {},
   "source": [
    "# 范数"
   ]
  },
  {
   "cell_type": "markdown",
   "id": "5cca3dca",
   "metadata": {},
   "source": [
    "## L1范数\n",
    "---\n",
    "**向量元素的绝对值之和**"
   ]
  },
  {
   "cell_type": "code",
   "execution_count": 32,
   "id": "37242969",
   "metadata": {},
   "outputs": [
    {
     "data": {
      "text/plain": [
       "tensor(7.)"
      ]
     },
     "execution_count": 32,
     "metadata": {},
     "output_type": "execute_result"
    }
   ],
   "source": [
    "torch.abs(u).sum()"
   ]
  },
  {
   "cell_type": "markdown",
   "id": "43637ff1",
   "metadata": {},
   "source": [
    "## L2范数\n",
    "---\n",
    "向量元素平方和的平方根"
   ]
  },
  {
   "cell_type": "code",
   "execution_count": 31,
   "id": "623cd8ec",
   "metadata": {},
   "outputs": [
    {
     "data": {
      "text/plain": [
       "tensor(5.)"
      ]
     },
     "execution_count": 31,
     "metadata": {},
     "output_type": "execute_result"
    }
   ],
   "source": [
    "u = torch.tensor([3.0, -4.0])\n",
    "torch.norm(u)"
   ]
  },
  {
   "cell_type": "markdown",
   "id": "80d1dab9",
   "metadata": {},
   "source": [
    "## Frobenius范数\n",
    "---\n",
    "矩阵元素平方和的平方根, 像是矩阵形向量的**L2范数**"
   ]
  },
  {
   "cell_type": "code",
   "execution_count": 33,
   "id": "68d46ae6",
   "metadata": {},
   "outputs": [
    {
     "data": {
      "text/plain": [
       "tensor(6.)"
      ]
     },
     "execution_count": 33,
     "metadata": {},
     "output_type": "execute_result"
    }
   ],
   "source": [
    "torch.norm(torch.ones((4, 9)))"
   ]
  },
  {
   "cell_type": "markdown",
   "id": "10673aa8",
   "metadata": {},
   "source": [
    "# Autograd自动微分"
   ]
  },
  {
   "cell_type": "code",
   "execution_count": null,
   "id": "072ff277",
   "metadata": {},
   "outputs": [],
   "source": []
  },
  {
   "cell_type": "markdown",
   "id": "3b91275b",
   "metadata": {},
   "source": [
    "## 示例: \n",
    "对 y=2 * x.T * x 关于列向量x求导"
   ]
  },
  {
   "cell_type": "code",
   "execution_count": 16,
   "id": "4938e26e",
   "metadata": {},
   "outputs": [
    {
     "data": {
      "text/plain": [
       "tensor([0., 1., 2., 3.])"
      ]
     },
     "execution_count": 16,
     "metadata": {},
     "output_type": "execute_result"
    }
   ],
   "source": [
    "# 分配一个初始值\n",
    "x = torch.arange(4.0)\n",
    "x"
   ]
  },
  {
   "cell_type": "code",
   "execution_count": 17,
   "id": "94b8021d",
   "metadata": {},
   "outputs": [],
   "source": [
    "x.requires_grad_(True)\n",
    "x.grad        # 默认值是None"
   ]
  },
  {
   "cell_type": "code",
   "execution_count": 18,
   "id": "d0d0c220",
   "metadata": {},
   "outputs": [
    {
     "data": {
      "text/plain": [
       "tensor(28., grad_fn=<MulBackward0>)"
      ]
     },
     "execution_count": 18,
     "metadata": {},
     "output_type": "execute_result"
    }
   ],
   "source": [
    "y = 2 * torch.dot(x, x)     # y与向量x的每个元素都有关\n",
    "y"
   ]
  },
  {
   "cell_type": "code",
   "execution_count": 46,
   "id": "b86ecb63",
   "metadata": {},
   "outputs": [
    {
     "data": {
      "text/plain": [
       "tensor([ 0.,  4.,  8., 12.])"
      ]
     },
     "execution_count": 46,
     "metadata": {},
     "output_type": "execute_result"
    }
   ],
   "source": [
    "y.backward()     # 反向传播\n",
    "x.grad           # 更新变量x的梯度(= 4x)"
   ]
  },
  {
   "cell_type": "markdown",
   "id": "e75f5aac",
   "metadata": {},
   "source": [
    "## 清除之前的梯度值"
   ]
  },
  {
   "cell_type": "code",
   "execution_count": 49,
   "id": "cd595845",
   "metadata": {},
   "outputs": [
    {
     "data": {
      "text/plain": [
       "tensor([0., 0., 0., 0.])"
      ]
     },
     "execution_count": 49,
     "metadata": {},
     "output_type": "execute_result"
    }
   ],
   "source": [
    "# 在默认情况下，PyTorch会累积梯度，我们需要清除之前的值\n",
    "x.grad.zero_()      # 清除之前的值,输出全0"
   ]
  },
  {
   "cell_type": "markdown",
   "id": "d99dc1a2",
   "metadata": {},
   "source": [
    "## 非标量变量的反向传播"
   ]
  },
  {
   "cell_type": "markdown",
   "id": "954bedc1",
   "metadata": {},
   "source": [
    "当y不是标量时，向量y关于向量x的导数的最自然解释是一个矩阵. 目的不是计算微分矩阵，而是单独计算批量中每个样本的**偏导数之和**"
   ]
  },
  {
   "cell_type": "code",
   "execution_count": 51,
   "id": "6db98260",
   "metadata": {},
   "outputs": [
    {
     "data": {
      "text/plain": [
       "(tensor([0., 1., 4., 9.], grad_fn=<MulBackward0>),\n",
       " tensor([ 0.,  4.,  8., 12.]))"
      ]
     },
     "execution_count": 51,
     "metadata": {},
     "output_type": "execute_result"
    }
   ],
   "source": [
    "y = x * x\n",
    "# 等价于y.backward(torch.ones(len(x)))\n",
    "y.sum().backward()\n",
    "y,x.grad"
   ]
  },
  {
   "cell_type": "markdown",
   "id": "9ac0fccc",
   "metadata": {},
   "source": [
    "## 分离计算 .detach\n",
    "---\n",
    "假设y是作为x的函数计算的，而z则是作为y和x的函数计算的. 现在将y视为一个常数,求z关于x的偏导数"
   ]
  },
  {
   "cell_type": "code",
   "execution_count": 52,
   "id": "b6d62a77",
   "metadata": {},
   "outputs": [
    {
     "data": {
      "text/plain": [
       "tensor([True, True, True, True])"
      ]
     },
     "execution_count": 52,
     "metadata": {},
     "output_type": "execute_result"
    }
   ],
   "source": [
    "x.grad.zero_()\n",
    "y = x * x\n",
    "\n",
    "u = y.detach()    # 隔离变量  ( u与y具有相同的值,但丢弃计算图中如何计算y的任何信息,相当于一个常数 )\n",
    "z = u * x\n",
    "\n",
    "z.sum().backward()\n",
    "x.grad == u"
   ]
  },
  {
   "cell_type": "markdown",
   "id": "cfbf4085",
   "metadata": {},
   "source": [
    "---\n",
    "自动求导格式:\n",
    "```\n",
    "a = torch.randn(size=(), requires_grad=True)\n",
    "d = f(a)          # 具体函数\n",
    "d.backward()\n",
    "```"
   ]
  },
  {
   "cell_type": "markdown",
   "id": "7d12e140",
   "metadata": {},
   "source": [
    "---"
   ]
  },
  {
   "cell_type": "markdown",
   "id": "e34ae394",
   "metadata": {},
   "source": [
    "# 数据读入\n",
    "---\n",
    "PyTorch数据读入是通过Dataset+DataLoader的方式完成的\n",
    "\n",
    "Dataset定义好数据的格式和数据变换形式，DataLoader用iterative的方式不断读入批次数据"
   ]
  },
  {
   "cell_type": "markdown",
   "id": "c09f06aa",
   "metadata": {},
   "source": [
    "## Data_transform对图像预处理操作"
   ]
  },
  {
   "cell_type": "code",
   "execution_count": 6,
   "id": "08b1f372",
   "metadata": {},
   "outputs": [
    {
     "ename": "NameError",
     "evalue": "name 'size' is not defined",
     "output_type": "error",
     "traceback": [
      "\u001b[1;31m---------------------------------------------------------------------------\u001b[0m",
      "\u001b[1;31mNameError\u001b[0m                                 Traceback (most recent call last)",
      "Cell \u001b[1;32mIn[6], line 9\u001b[0m\n\u001b[0;32m      2\u001b[0m \u001b[38;5;28;01mfrom\u001b[39;00m \u001b[38;5;21;01mtorchvision\u001b[39;00m \u001b[38;5;28;01mimport\u001b[39;00m transforms\n\u001b[0;32m      4\u001b[0m image_size \u001b[38;5;241m=\u001b[39m \u001b[38;5;241m28\u001b[39m\n\u001b[0;32m      5\u001b[0m data_transform \u001b[38;5;241m=\u001b[39m transforms\u001b[38;5;241m.\u001b[39mCompose([\n\u001b[0;32m      6\u001b[0m     transforms\u001b[38;5;241m.\u001b[39mToPILImage(),\n\u001b[0;32m      7\u001b[0m     transforms\u001b[38;5;241m.\u001b[39mResize(image_size),                      \u001b[38;5;66;03m# 统一大小\u001b[39;00m\n\u001b[0;32m      8\u001b[0m     transforms\u001b[38;5;241m.\u001b[39mToTensor(),        \u001b[38;5;66;03m# 将PIL Image类型或numpy.ndarray类型的图片对象转换为tensor类型\u001b[39;00m\n\u001b[1;32m----> 9\u001b[0m     transforms\u001b[38;5;241m.\u001b[39mRandomCrop(\u001b[43msize\u001b[49m, padding\u001b[38;5;241m=\u001b[39m\u001b[38;5;28;01mNone\u001b[39;00m, pad_if_needed\u001b[38;5;241m=\u001b[39m\u001b[38;5;28;01mFalse\u001b[39;00m, fill\u001b[38;5;241m=\u001b[39m\u001b[38;5;241m0\u001b[39m, padding_mode\u001b[38;5;241m=\u001b[39mconstant),  \n\u001b[0;32m     10\u001b[0m     \u001b[38;5;66;03m# 在图片的随机位置上进行裁剪并返回新的图片padding：表示图像每个边框上的可选填充。默认值是None \u001b[39;00m\n\u001b[0;32m     11\u001b[0m     \u001b[38;5;66;03m# pad_if_needed：如果图像小于所需大小，它将填充图像，以避免引发异常\u001b[39;00m\n\u001b[0;32m     12\u001b[0m     \u001b[38;5;66;03m# fill：表示像素填充值，默认值为0。如果元组长度为3，则用于分别填充R、G、B通道\u001b[39;00m\n\u001b[0;32m     13\u001b[0m     \u001b[38;5;66;03m# padding_mode：表示像素填充值的类型，默认是常值，也有边缘填充，反射和对称\u001b[39;00m\n\u001b[0;32m     14\u001b[0m     \n\u001b[0;32m     15\u001b[0m     transforms\u001b[38;5;241m.\u001b[39mRandomHorizontalFlip(p\u001b[38;5;241m=\u001b[39m\u001b[38;5;241m0.5\u001b[39m),              \u001b[38;5;66;03m# 以特定的概率将图片进行水平翻转\u001b[39;00m\n\u001b[0;32m     16\u001b[0m     \n\u001b[0;32m     17\u001b[0m     transforms\u001b[38;5;241m.\u001b[39mTenCrop(size, vertical_flip\u001b[38;5;241m=\u001b[39m\u001b[38;5;28;01mFalse\u001b[39;00m),       \u001b[38;5;66;03m# 输入必须是PIL的图片格式,\u001b[39;00m\n\u001b[0;32m     18\u001b[0m     \u001b[38;5;66;03m# 将一张图片的四个角和中心进行裁剪后，然后加上返回的翻转后共10张图片，其中默认翻转是水平翻转\u001b[39;00m\n\u001b[0;32m     19\u001b[0m     \n\u001b[0;32m     20\u001b[0m     transforms\u001b[38;5;241m.\u001b[39mCenterCrop((\u001b[38;5;241m228\u001b[39m, \u001b[38;5;241m304\u001b[39m))  \u001b[38;5;66;03m#中心裁剪，裁成(228,304)的大小\u001b[39;00m\n\u001b[0;32m     21\u001b[0m ])\n",
      "\u001b[1;31mNameError\u001b[0m: name 'size' is not defined"
     ]
    }
   ],
   "source": [
    "# 首先.数据变换格式\n",
    "from torchvision import transforms\n",
    "\n",
    "image_size = 28\n",
    "data_transform = transforms.Compose([\n",
    "    transforms.ToPILImage(),\n",
    "    transforms.Resize(image_size),                      # 统一大小\n",
    "    transforms.ToTensor(),        # 将PIL Image类型或numpy.ndarray类型的图片对象转换为tensor类型\n",
    "    transforms.RandomCrop(size, padding=None, pad_if_needed=False, fill=0, padding_mode=constant),  \n",
    "    # 在图片的随机位置上进行裁剪并返回新的图片padding：表示图像每个边框上的可选填充。默认值是None \n",
    "    # pad_if_needed：如果图像小于所需大小，它将填充图像，以避免引发异常\n",
    "    # fill：表示像素填充值，默认值为0。如果元组长度为3，则用于分别填充R、G、B通道\n",
    "    # padding_mode：表示像素填充值的类型，默认是常值，也有边缘填充，反射和对称\n",
    "    \n",
    "    transforms.RandomHorizontalFlip(p=0.5),              # 以特定的概率将图片进行水平翻转\n",
    "    \n",
    "    transforms.TenCrop(size, vertical_flip=False),       # 输入必须是PIL的图片格式,\n",
    "    # 将一张图片的四个角和中心进行裁剪后，然后加上返回的翻转后共10张图片，其中默认翻转是水平翻转\n",
    "    \n",
    "    transforms.CenterCrop((228, 304))  #中心裁剪，裁成(228,304)的大小\n",
    "])"
   ]
  },
  {
   "cell_type": "markdown",
   "id": "e2dc6717",
   "metadata": {},
   "source": [
    "## 调用数据集"
   ]
  },
  {
   "cell_type": "code",
   "execution_count": 2,
   "id": "8b88b305",
   "metadata": {},
   "outputs": [
    {
     "name": "stderr",
     "output_type": "stream",
     "text": [
      "C:\\Users\\36085\\anaconda3\\Lib\\site-packages\\torchvision\\io\\image.py:13: UserWarning: Failed to load image Python extension: 'Could not find module 'C:\\Users\\36085\\anaconda3\\Lib\\site-packages\\torchvision\\image.pyd' (or one of its dependencies). Try using the full path with constructor syntax.'If you don't plan on using image functionality from `torchvision.io`, you can ignore this warning. Otherwise, there might be something wrong with your environment. Did you have `libjpeg` or `libpng` installed before building `torchvision` from source?\n",
      "  warn(\n"
     ]
    },
    {
     "ename": "NameError",
     "evalue": "name 'train_dataset' is not defined",
     "output_type": "error",
     "traceback": [
      "\u001b[1;31m---------------------------------------------------------------------------\u001b[0m",
      "\u001b[1;31mNameError\u001b[0m                                 Traceback (most recent call last)",
      "Cell \u001b[1;32mIn[2], line 11\u001b[0m\n\u001b[0;32m      7\u001b[0m train_dataset_MNIST \u001b[38;5;241m=\u001b[39m datasets\u001b[38;5;241m.\u001b[39mMNIST(root\u001b[38;5;241m=\u001b[39m\u001b[38;5;124m'\u001b[39m\u001b[38;5;124m../data/mnist\u001b[39m\u001b[38;5;124m'\u001b[39m,train\u001b[38;5;241m=\u001b[39m\u001b[38;5;28;01mTrue\u001b[39;00m,transform\u001b[38;5;241m=\u001b[39mtransforms\u001b[38;5;241m.\u001b[39mToTensor(),download\u001b[38;5;241m=\u001b[39m\u001b[38;5;28;01mTrue\u001b[39;00m)\n\u001b[0;32m      9\u001b[0m test_dataset_MNIST \u001b[38;5;241m=\u001b[39m datasets\u001b[38;5;241m.\u001b[39mMNIST(root\u001b[38;5;241m=\u001b[39m\u001b[38;5;124m'\u001b[39m\u001b[38;5;124m../data/mnist\u001b[39m\u001b[38;5;124m'\u001b[39m,train\u001b[38;5;241m=\u001b[39m\u001b[38;5;28;01mFalse\u001b[39;00m,transform\u001b[38;5;241m=\u001b[39mtransforms\u001b[38;5;241m.\u001b[39mToTensor(),download\u001b[38;5;241m=\u001b[39m\u001b[38;5;28;01mTrue\u001b[39;00m)\n\u001b[1;32m---> 11\u001b[0m train_loader_MNIST \u001b[38;5;241m=\u001b[39m DataLoader(dataset\u001b[38;5;241m=\u001b[39m\u001b[43mtrain_dataset\u001b[49m,batch_size\u001b[38;5;241m=\u001b[39m\u001b[38;5;241m32\u001b[39m,shuffle\u001b[38;5;241m=\u001b[39m\u001b[38;5;28;01mTrue\u001b[39;00m)\n\u001b[0;32m     13\u001b[0m test_loader_MNIST \u001b[38;5;241m=\u001b[39m DataLoader(dataset\u001b[38;5;241m=\u001b[39mtest_dataset,batch_size\u001b[38;5;241m=\u001b[39m\u001b[38;5;241m32\u001b[39m,shuffle\u001b[38;5;241m=\u001b[39m\u001b[38;5;28;01mFalse\u001b[39;00m)\n",
      "\u001b[1;31mNameError\u001b[0m: name 'train_dataset' is not defined"
     ]
    }
   ],
   "source": [
    "# 读取自带数据集MNIST\n",
    "from torchvision import datasets\n",
    "from torchvision import transforms\n",
    "from torch.utils.data import Dataset\n",
    "from torch.utils.data import DataLoader\n",
    "# root指示根目录,其中的子目录代表一个个图片\n",
    "train_dataset_MNIST = datasets.MNIST(root='../data/mnist',train=True,transform=transforms.ToTensor(),download=True)\n",
    "\n",
    "test_dataset_MNIST = datasets.MNIST(root='../data/mnist',train=False,transform=transforms.ToTensor(),download=True)\n",
    "\n",
    "train_loader_MNIST = DataLoader(dataset=train_dataset,batch_size=32,shuffle=True)\n",
    "\n",
    "test_loader_MNIST = DataLoader(dataset=test_dataset,batch_size=32,shuffle=False)"
   ]
  },
  {
   "cell_type": "code",
   "execution_count": 3,
   "id": "09cf1ff2",
   "metadata": {},
   "outputs": [
    {
     "name": "stdout",
     "output_type": "stream",
     "text": [
      "Downloading https://www.cs.toronto.edu/~kriz/cifar-10-python.tar.gz to ../data\\cifar-10-python.tar.gz\n"
     ]
    },
    {
     "name": "stderr",
     "output_type": "stream",
     "text": [
      "100%|███████████████████████████████████████████████████████████████| 170498071/170498071 [00:22<00:00, 7427750.20it/s]\n"
     ]
    },
    {
     "name": "stdout",
     "output_type": "stream",
     "text": [
      "Extracting ../data\\cifar-10-python.tar.gz to ../data\n",
      "Files already downloaded and verified\n"
     ]
    }
   ],
   "source": [
    "train_set_CIFAR10 = datasets.CIFAR10(root='../data',train=True,transform=transforms.ToTensor(),download=True)\n",
    "test_set_CIFAR10 = datasets.CIFAR10(root='../data',train=False,transform=transforms.ToTensor(),download=True)"
   ]
  },
  {
   "cell_type": "code",
   "execution_count": null,
   "id": "1c86c475",
   "metadata": {},
   "outputs": [],
   "source": [
    "from torchvision import datasets\n",
    "\n",
    "train_data = datasets.ImageFolder(train_path, transform=data_transform)\n",
    "val_data = datasets.ImageFolder(val_path, transform=data_transform)\n",
    "# ImageFolder会将目录中的文件夹名自动转化成序列，每个文件夹下会存储相同的一个类别"
   ]
  },
  {
   "cell_type": "markdown",
   "id": "5e57eac7",
   "metadata": {},
   "source": [
    "```torchvision.datasets.ImageFolder()```函数假设所有的文件按文件夹保存，每个文件夹下存储同一个类别的图片，文件夹名为类名\n",
    "\n",
    "---\n",
    "参数列表：\n",
    "- root：图像文件读取路径 如: ```data_path = r'./data/train'```\n",
    "- transform：对图像数据采取的数据增强策略\n",
    "- target_transform：对label进行转换\n",
    "- loader：指定加载图像的函数\n",
    "- is_valid_file：获取图像路径，检查文件的有效性"
   ]
  },
  {
   "cell_type": "markdown",
   "id": "ac48e47a",
   "metadata": {},
   "source": [
    "## **自定义输入dataset**\n",
    "---"
   ]
  },
  {
   "cell_type": "markdown",
   "id": "b4cb9c7e",
   "metadata": {},
   "source": [
    "我们可以定义自己的Dataset类来实现灵活的数据读取，定义的类需要继承PyTorch自身的Dataset类。主要包含三个函数：\n",
    "\n",
    "- __ init __: 用于向类中传入外部参数，同时定义样本集\n",
    "\n",
    "- __ getitem __: 用于**逐个读取**样本集合中的元素，可以进行一定的变换，并将返回训练/验证所需的数据\n",
    "\n",
    "- __ len __: 用于返回数据集的样本数"
   ]
  },
  {
   "cell_type": "code",
   "execution_count": null,
   "id": "87b5ce89",
   "metadata": {},
   "outputs": [],
   "source": [
    "# 基本结构\n",
    "\n",
    "import torch\n",
    "from torch.utils.data import Dataset\n",
    "from torch.utils.data import DataLoader\n",
    "\n",
    "class MyDataset(Dataset):\n",
    "    def __init__(self):\n",
    "        pass\n",
    "    def __getitem__(self, index):\n",
    "        pass\n",
    "    def __len__(self):\n",
    "        pass\n",
    "    \n",
    "dataset = DiabetesDataset('输入')\n",
    "train_loader = DataLoader(dataset=dataset,batch_size=32,shuffle=True,num_workers=2)\n",
    "...\n",
    "if __name__ == '__main__':\n",
    "    for epoch in range(100):\n",
    "        for i,data in enumerate(train_loader, 0):\n",
    "            # 1.Prepare data"
   ]
  },
  {
   "cell_type": "code",
   "execution_count": null,
   "id": "c156d78d",
   "metadata": {},
   "outputs": [],
   "source": [
    "# 示例\n",
    "class DiabetesDataset(Dataset):\n",
    "    def __init__(self, filepath):\n",
    "        xy = np.loadtxt(filepath, delimiter=',',dtype=np.float32)\n",
    "        self.len = xy.shape[0]\n",
    "        self.x_data = torch.from_numpy(xy[:, :-1])\n",
    "        self.y_data = torch.from_numpy(xy[:, [-1]])\n",
    "    \n",
    "    def __getitem__(self, index):\n",
    "        return (self.x_data[index], self.y_data[index])\n",
    "    \n",
    "    def __len__(self):\n",
    "        return self.len\n",
    "\n",
    "dataset = DiabetesDataset('diabetes.csv.gz')\n",
    "train_loader = DataLoader(dataset=dataset, batch_size=32, shuffle=True, num_workers=2)\n",
    "\n",
    "for epoch in range(100):\n",
    "    for i, data in enumerate(train_loader, 0):\n",
    "        # 1. Prepare data\n",
    "        inputs, labels = data\n",
    "        # 2. Forward\n",
    "        y_pred = model(inputs)\n",
    "        loss = criterion(y_pred, labels)\n",
    "        print(epoch, i, loss.item())\n",
    "        # 3. Backward\n",
    "        optimizer.zero_grad()\n",
    "        loss.backward()\n",
    "        # 4. Update\n",
    "        optimizer.step()"
   ]
  },
  {
   "cell_type": "markdown",
   "id": "3db8ac6c",
   "metadata": {},
   "source": [
    "## DataLoader\n",
    "---"
   ]
  },
  {
   "cell_type": "markdown",
   "id": "d281c71a",
   "metadata": {},
   "source": [
    "```class torch.utils.data.DataLoader(dataset, batch_size=1, shuffle=False, sampler=None, batch_sampler=None, num_workers=0, collate_fn=None, pin_memory=False, drop_last=False, timeout=0, worker_init_fn=None, multiprocessing_context=None)```\n",
    "\n",
    "- **dataset**    (Dataset): 封装后的数据集。\n",
    "    \n",
    "- **batch_size**    (python:int,optional)): 每一批加载的样本量，默认值为1。\n",
    "    \n",
    "- **shuffle**   (bool,optional): 设置为True时,每一个epoch重新打乱数据顺序。\n",
    "    \n",
    "- **sampler**    (Sampler,optional): 定义在数据集中进行采样的策略，如果被指定，则False必须为shuffle。\n",
    "    \n",
    "- **batch_sampler**    (Sampler,optional): 类似sampler，但是一次返回一批索引。互斥有batch_size，shuffle，sampler和drop_last。\n",
    "    \n",
    "- **num_workers**    (python:int,optional): 多少个子进程用于数据加载。0表示将在主进程中加载数据,默认值为0。\n",
    "    \n",
    "- **collate_fn**     (callable,optional): 合并样本列表以形成张量的小批量。在从地图样式数据集中使用批量加载时使用。\n",
    "    \n",
    "- **pin_memory**    (bool,optional): 如果为True，则数据加载器在将张量返回之前将其复制到CUDA固定的内存中。\n",
    "    \n",
    "- **drop_last**    (bool,optional): 设置为True，如果数据集大小不能被该批次大小整除则删除最后一个不完整的批次。如果False，数据集的大小不能被批量大小整除，那么最后一个批量将更小，默认值为False。\n",
    "    \n",
    "- timeout    (numeric,optional): 如果为正，则为从worker收集批次的超时值。应始终为非负数,默认值为0。\n",
    "    \n",
    "- worker_init_fn    (callable,optional): 如果不是None，则在种子工作之后和数据加载之前，将在每个工作程序子进程上调用此程序，并以工作程序ID作为输入,取值为[0, num_workers - 1]或None。\n",
    "    \n"
   ]
  },
  {
   "cell_type": "code",
   "execution_count": null,
   "id": "86e7e8f5",
   "metadata": {},
   "outputs": [],
   "source": [
    "from torch.utils.data import DataLoader\n",
    "\n",
    "train_loader = DataLoader(train_data, batch_size=batch_size, num_workers=4, shuffle=True, drop_last=True)\n",
    "val_loader = DataLoader(val_data, batch_size=batch_size, num_workers=4, shuffle=False)"
   ]
  },
  {
   "cell_type": "markdown",
   "id": "3dc41031",
   "metadata": {},
   "source": [
    "其中:\n",
    "\n",
    "- batch_size：样本是按“批”读入的，batch_size就是每次读入的样本数\n",
    "\n",
    "- num_workers：有多少个进程用于读取数据，Windows下该参数设置为0，Linux下常见的为4或者8，根据自己的电脑配置来设置\n",
    "\n",
    "- shuffle：是否将读入的数据打乱，一般在训练集中设置为True，验证集中设置为False\n",
    "\n",
    "- drop_last：对于样本最后一部分没有达到批次数的样本，使其不再参与训练"
   ]
  },
  {
   "cell_type": "markdown",
   "id": "3f72487e",
   "metadata": {},
   "source": [
    "---"
   ]
  },
  {
   "cell_type": "markdown",
   "id": "70c7fd82",
   "metadata": {},
   "source": [
    "# 多维特征输入"
   ]
  },
  {
   "cell_type": "code",
   "execution_count": null,
   "id": "d34a5ffb",
   "metadata": {},
   "outputs": [],
   "source": [
    "import torch\n",
    "class Model(torch.nn.Module):\n",
    "    def __init__(self):\n",
    "        super(Model, self).__init__()\n",
    "        self.linear1 = torch.nn.Linear(8, 6)\n",
    "        self.linear2 = torch.nn.Linear(6, 4)\n",
    "        self.linear3 = torch.nn.Linear(4, 1)\n",
    "        self.activate =torch.nn.ReLU()\n",
    "    def forward(self, x):\n",
    "        x = self.activate(self.linear1(x))\n",
    "        x = self.activate(self.linear2(x))\n",
    "        x = self.activate(self.linear3(x))\n",
    "        return x\n",
    "\n",
    "model = Model()"
   ]
  },
  {
   "cell_type": "markdown",
   "id": "8aab9e37",
   "metadata": {},
   "source": [
    "# 线性模型的初步实现"
   ]
  },
  {
   "cell_type": "code",
   "execution_count": 32,
   "id": "5add1354",
   "metadata": {},
   "outputs": [
    {
     "data": {
      "text/plain": [
       "tensor([[True],\n",
       "        [True],\n",
       "        [True],\n",
       "        [True],\n",
       "        [True],\n",
       "        [True],\n",
       "        [True],\n",
       "        [True],\n",
       "        [True],\n",
       "        [True],\n",
       "        [True]])"
      ]
     },
     "execution_count": 32,
     "metadata": {},
     "output_type": "execute_result"
    }
   ],
   "source": [
    "x_values = [i for i in range(11)]\n",
    "x_train = np.array(x_values, dtype=np.float32)\n",
    "x_train = x_train.reshape(-1, 1)\n",
    "\n",
    "y_values = [2*i + 1 for i in x_values]\n",
    "y_train = np.array(y_values, dtype=np.float32)\n",
    "y_train = y_train.reshape(-1, 1)\n",
    "\n",
    "(x_train, y_train) = map(torch.tensor,(x_train,y_train))  # 变换类型\n",
    "\n",
    "x_train* 2 + 1 == y_train   # 关系式"
   ]
  },
  {
   "cell_type": "code",
   "execution_count": 40,
   "id": "a94ca184",
   "metadata": {},
   "outputs": [
    {
     "name": "stdout",
     "output_type": "stream",
     "text": [
      "epoch 50, loss 0.25932803750038147\n",
      "epoch 100, loss 0.14791102707386017\n",
      "epoch 150, loss 0.08436289429664612\n",
      "epoch 200, loss 0.04811738803982735\n",
      "epoch 250, loss 0.027444344013929367\n",
      "epoch 300, loss 0.015653295442461967\n",
      "epoch 350, loss 0.008928012102842331\n",
      "epoch 400, loss 0.005092208739370108\n",
      "epoch 450, loss 0.0029044297989457846\n",
      "epoch 500, loss 0.0016565740806981921\n",
      "epoch 550, loss 0.0009448457858525217\n",
      "epoch 600, loss 0.0005389078869484365\n",
      "epoch 650, loss 0.0003073711704928428\n",
      "epoch 700, loss 0.00017531272897031158\n",
      "epoch 750, loss 9.999747999245301e-05\n",
      "epoch 800, loss 5.703233182430267e-05\n",
      "epoch 850, loss 3.2528794690733775e-05\n",
      "epoch 900, loss 1.8552012988948263e-05\n",
      "epoch 950, loss 1.058323778124759e-05\n",
      "epoch 1000, loss 6.034894795448054e-06\n",
      "w =  2.0006582736968994\n",
      "b =  0.9954299330711365\n",
      "y_pred =  tensor([[8.9981]])\n"
     ]
    }
   ],
   "source": [
    "import torch\n",
    "import torch.nn as nn\n",
    "\n",
    "class LinearRegressionModel(torch.nn.Module):\n",
    "    def __init__(self, input_dim, output_dim):\n",
    "        super(LinearModel, self).__init__()\n",
    "        self.linear = torch.nn.Linear(input_dim, output_dim)\n",
    "    \n",
    "    def forward(self, x):\n",
    "        y_pred = self.linear(x)\n",
    "        return y_pred\n",
    "\n",
    "model = LinearModel(1,1)\n",
    "\n",
    "#-传入GPU---------------------------------------------------------------------\n",
    "device = torch.device(\"cuda:0\" if torch.cuda.is_available() else \"cpu\")\n",
    "model.to(device)\n",
    "\n",
    "inputs = x_train.to(device)\n",
    "labels = y_train.to(device)\n",
    "#-------------------------------------------------------------------------------\n",
    "\n",
    "epochs_num = 1000\n",
    "learning_rate = 0.01\n",
    "\n",
    "criterion = torch.nn.MSELoss()\n",
    "optimizer = torch.optim.SGD(model.parameters(), lr=learning_rate)\n",
    "\n",
    "for epoch in range(epochs_num):\n",
    "    y_pred = model(inputs)\n",
    "    loss = criterion(y_pred,labels)\n",
    "    if (epoch + 1) % 50 == 0:\n",
    "        print(f'epoch {epoch + 1}, loss {loss.item()}') \n",
    "    optimizer.zero_grad()\n",
    "    loss.backward()\n",
    "    optimizer.step()\n",
    "print('w = ',model.linear.weight.item())\n",
    "print('b = ',model.linear.bias.item())\n",
    "x_test = torch.Tensor([[4.0]])\n",
    "y_test = model(x_test)\n",
    "print('y_pred = ',y_test.data)"
   ]
  },
  {
   "cell_type": "markdown",
   "id": "b9177a49",
   "metadata": {},
   "source": [
    "## 模型的保存"
   ]
  },
  {
   "cell_type": "code",
   "execution_count": null,
   "id": "3ab29b21",
   "metadata": {},
   "outputs": [],
   "source": [
    "torch.save(model.state_dict(), 'model.pkl')   # state_dict保存模型参数、超参数"
   ]
  },
  {
   "cell_type": "code",
   "execution_count": null,
   "id": "a5197a83",
   "metadata": {},
   "outputs": [],
   "source": [
    "model.load_state_dict(torch.load('model.pkl'))     # 加载参数"
   ]
  },
  {
   "cell_type": "markdown",
   "id": "2e51c438",
   "metadata": {},
   "source": [
    "#  使用GPU进行训练\n",
    "---\n",
    "- 只需要把数据和模型传入到cuda里面就可以了"
   ]
  },
  {
   "cell_type": "code",
   "execution_count": null,
   "id": "1e9614a8",
   "metadata": {},
   "outputs": [],
   "source": [
    "# device = torch.device(\"cuda:0\" if torch.cuda.is_available() else \"cpu\")\n",
    "# model.to(device)\n",
    "# inputs = torch.from_numpy(x_train).to(device)\n",
    "# labels = torch.from_numpy(y_train).to(device)"
   ]
  },
  {
   "cell_type": "markdown",
   "id": "e7e72aff",
   "metadata": {},
   "source": [
    "---"
   ]
  },
  {
   "cell_type": "markdown",
   "id": "8aefad1a",
   "metadata": {},
   "source": [
    "# 实战示例1---气温预测"
   ]
  },
  {
   "cell_type": "markdown",
   "id": "29c413a7",
   "metadata": {},
   "source": [
    "数据表中\n",
    "* year,moth,day,week分别表示的具体的时间\n",
    "* temp_2：前天的最高温度值\n",
    "* temp_1：昨天的最高温度值\n",
    "* average：在历史中，每年这一天的平均最高温度值\n",
    "* actual：这就是我们的标签值了，当天的真实最高温度\n",
    "* friend：这一列可能是凑热闹的，你的朋友猜测的可能值，咱们不管它就好了"
   ]
  },
  {
   "cell_type": "markdown",
   "id": "ef89a3a9",
   "metadata": {},
   "source": [
    "## 获取对应数据 features / labels"
   ]
  },
  {
   "cell_type": "code",
   "execution_count": 116,
   "id": "5cbd9c08",
   "metadata": {},
   "outputs": [],
   "source": [
    "import pandas as pd\n",
    "import numpy as np\n",
    "import torch\n",
    "from torch.utils.data import Dataset\n",
    "from torch.utils.data import DataLoader\n",
    "import matplotlib.pyplot as plt\n",
    "import torch.optim as optim"
   ]
  },
  {
   "cell_type": "markdown",
   "id": "b103cddc",
   "metadata": {},
   "source": [
    "## 构建神经网络"
   ]
  },
  {
   "cell_type": "code",
   "execution_count": 106,
   "id": "2f64279a",
   "metadata": {},
   "outputs": [],
   "source": [
    "class TimeDataset(Dataset):\n",
    "    def __init__(self, filepath):\n",
    "        datas = pd.read_csv( filepath )\n",
    "        datas = pd.get_dummies(datas) \n",
    "        feature_list = list(datas.columns)\n",
    "        self.labels_np = np.array( datas['actual'] )\n",
    "        self.features_np = StandardScaler().fit_transform( np.array( datas.drop('actual', axis = 1) ) )\n",
    "        self.len = datas.shape[0]\n",
    "    \n",
    "    def __getitem__(self, index):\n",
    "        self.features_tensor = torch.tensor( self.features_np, dtype = torch.float, requires_grad = True )\n",
    "        self.labels_tensor = torch.tensor( self.labels_np, dtype = torch.float, requires_grad = True )\n",
    "        return (self.features_tensor[index], self.labels_tensor[index])\n",
    "    \n",
    "    def __len__(self):\n",
    "        return self.len"
   ]
  },
  {
   "cell_type": "code",
   "execution_count": 107,
   "id": "28715b97",
   "metadata": {},
   "outputs": [],
   "source": [
    "GetData = TimeDataset('data/temps.csv')\n",
    "train_loader = DataLoader(dataset=GetData,batch_size=16,shuffle=False,num_workers=0,drop_last=False)"
   ]
  },
  {
   "cell_type": "code",
   "execution_count": 108,
   "id": "7663dd9a",
   "metadata": {},
   "outputs": [],
   "source": [
    "input_size = 14\n",
    "hidden_size = 128\n",
    "output_size = 1\n",
    "\n",
    "my_nn = torch.nn.Sequential(\n",
    "    torch.nn.Linear(input_size, hidden_size),\n",
    "    torch.nn.Sigmoid(),\n",
    "    torch.nn.Linear(hidden_size, output_size),\n",
    ")\n",
    "cost = torch.nn.MSELoss(reduction='mean')\n",
    "optimizer = torch.optim.Adam(my_nn.parameters(), lr = 0.001)"
   ]
  },
  {
   "cell_type": "code",
   "execution_count": 109,
   "id": "47deddb2",
   "metadata": {},
   "outputs": [
    {
     "name": "stderr",
     "output_type": "stream",
     "text": [
      "C:\\Users\\36085\\anaconda3\\Lib\\site-packages\\torch\\nn\\modules\\loss.py:536: UserWarning: Using a target size (torch.Size([16])) that is different to the input size (torch.Size([16, 1])). This will likely lead to incorrect results due to broadcasting. Please ensure they have the same size.\n",
      "  return F.mse_loss(input, target, reduction=self.reduction)\n",
      "C:\\Users\\36085\\anaconda3\\Lib\\site-packages\\torch\\nn\\modules\\loss.py:536: UserWarning: Using a target size (torch.Size([12])) that is different to the input size (torch.Size([12, 1])). This will likely lead to incorrect results due to broadcasting. Please ensure they have the same size.\n",
      "  return F.mse_loss(input, target, reduction=self.reduction)\n"
     ]
    },
    {
     "name": "stdout",
     "output_type": "stream",
     "text": [
      "epoch: 0 loss: 1984.7051\n",
      "epoch: 100 loss: 30.676554\n",
      "epoch: 200 loss: 27.143007\n",
      "epoch: 300 loss: 26.602432\n",
      "epoch: 400 loss: 26.842781\n",
      "epoch: 500 loss: 27.089685\n",
      "epoch: 600 loss: 27.254745\n",
      "epoch: 700 loss: 27.347486\n",
      "epoch: 800 loss: 27.391815\n",
      "epoch: 900 loss: 27.403736\n"
     ]
    }
   ],
   "source": [
    "epoch_num = 1000\n",
    "\n",
    "for epoch in range(eopch_num):\n",
    "    for i,(features, labels) in enumerate(train_loader,0):\n",
    "        prediction = my_nn(features)\n",
    "        loss = cost(prediction, labels)\n",
    "        optimizer.zero_grad()\n",
    "        loss.backward(retain_graph=True)\n",
    "        optimizer.step()\n",
    "         # 打印损失\n",
    "    if epoch % 100 == 0:\n",
    "        losses.append(np.array(batch_loss))\n",
    "        print('epoch:', epoch, 'loss:', loss.data.numpy())"
   ]
  },
  {
   "cell_type": "code",
   "execution_count": 111,
   "id": "fca0a3b8",
   "metadata": {},
   "outputs": [
    {
     "name": "stdout",
     "output_type": "stream",
     "text": [
      "['2016-1-1', '2016-1-2', '2016-1-3', '2016-1-4', '2016-1-5']\n",
      "[datetime.datetime(2016, 1, 1, 0, 0), datetime.datetime(2016, 1, 2, 0, 0), datetime.datetime(2016, 1, 3, 0, 0), datetime.datetime(2016, 1, 4, 0, 0), datetime.datetime(2016, 1, 5, 0, 0)]\n"
     ]
    }
   ],
   "source": [
    "features = pd.read_csv('data/temps.csv')\n",
    "features = pd.get_dummies(features)\n",
    "features.head(5)\n",
    "# 处理时间数据\n",
    "import datetime\n",
    "\n",
    "# 分别得到年，月，日\n",
    "years = features['year']\n",
    "months = features['month']\n",
    "days = features['day']\n",
    "\n",
    "# datetime格式\n",
    "dates = [str(int(year)) + '-' + str(int(month)) + '-' + str(int(day)) for year, month, day in zip(years, months, days)]\n",
    "print(dates[:5])\n",
    "dates = [datetime.datetime.strptime(date, '%Y-%m-%d') for date in dates]     # 转化为datetime.datetime:日期和时间表示的类\n",
    "print(dates[:5])\n",
    "\n",
    "# 标签\n",
    "labels = np.array(features['actual'])\n",
    "# 在特征中去掉标签\n",
    "features= features.drop('actual', axis = 1)\n",
    "# 特征名单独保存\n",
    "feature_list = list(features.columns)\n",
    "# 转换成合适的格式\n",
    "features = np.array(features)"
   ]
  },
  {
   "cell_type": "code",
   "execution_count": 113,
   "id": "df2274b8",
   "metadata": {},
   "outputs": [],
   "source": [
    "from sklearn.preprocessing import StandardScaler\n",
    "input_features = StandardScaler().fit_transform(features)\n",
    "\n",
    "x = torch.tensor(input_features, dtype = torch.float)\n",
    "predict = my_nn(x).data.numpy()"
   ]
  },
  {
   "cell_type": "code",
   "execution_count": 114,
   "id": "7943d8f0",
   "metadata": {},
   "outputs": [],
   "source": [
    "# 转换日期格式\n",
    "dates = [str(int(year)) + '-' + str(int(month)) + '-' + str(int(day)) for year, month, day in zip(years, months, days)]\n",
    "dates = [datetime.datetime.strptime(date, '%Y-%m-%d') for date in dates]\n",
    "\n",
    "# 创建一个表格来存日期和其对应的标签数值\n",
    "true_data = pd.DataFrame(data = {'date': dates, 'actual': labels})\n",
    "\n",
    "# 同理，再创建一个来存日期和其对应的模型预测值\n",
    "months = features[:, feature_list.index('month')]\n",
    "days = features[:, feature_list.index('day')]\n",
    "years = features[:, feature_list.index('year')]\n",
    "\n",
    "test_dates = [str(int(year)) + '-' + str(int(month)) + '-' + str(int(day)) for year, month, day in zip(years, months, days)]\n",
    "test_dates = [datetime.datetime.strptime(date, '%Y-%m-%d') for date in test_dates]\n",
    "\n",
    "predictions_data = pd.DataFrame(data = {'date': test_dates, 'prediction': predict.reshape(-1)}) "
   ]
  },
  {
   "cell_type": "code",
   "execution_count": 115,
   "id": "561fe1d2",
   "metadata": {},
   "outputs": [
    {
     "data": {
      "image/png": "[encoded data removed]",
      "text/plain": [
       "<Figure size 640x480 with 1 Axes>"
      ]
     },
     "metadata": {},
     "output_type": "display_data"
    }
   ],
   "source": [
    "# 真实值\n",
    "plt.plot(true_data['date'], true_data['actual'], 'b-', label = 'actual')\n",
    "# 预测值\n",
    "plt.plot(predictions_data['date'], predictions_data['prediction'], 'ro', label = 'prediction')\n",
    "\n",
    "plt.xticks(rotation = 60); \n",
    "plt.legend()\n",
    "\n",
    "# 图名\n",
    "plt.xlabel('Date'); plt.ylabel('Maximum Temperature (F)'); plt.title('Actual and Predicted Values');"
   ]
  },
  {
   "cell_type": "markdown",
   "id": "17141737",
   "metadata": {},
   "source": [
    "---"
   ]
  },
  {
   "cell_type": "markdown",
   "id": "791ad934",
   "metadata": {},
   "source": [
    "# LogisticRegression"
   ]
  },
  {
   "cell_type": "code",
   "execution_count": 6,
   "id": "d1fde4cd",
   "metadata": {},
   "outputs": [
    {
     "name": "stdout",
     "output_type": "stream",
     "text": [
      "0 1.9552366733551025\n",
      "1 1.9532268047332764\n",
      "2 1.9512310028076172\n",
      "3 1.9492487907409668\n",
      "4 1.9472789764404297\n",
      "5 1.9453212022781372\n",
      "6 1.9433741569519043\n",
      "7 1.9414374828338623\n",
      "8 1.9395108222961426\n",
      "9 1.9375935792922974\n",
      "10 1.9356850385665894\n",
      "11 1.9337847232818604\n",
      "12 1.9318923950195312\n",
      "13 1.9300075769424438\n",
      "14 1.9281299114227295\n",
      "15 1.9262592792510986\n",
      "16 1.9243950843811035\n",
      "17 1.9225373268127441\n",
      "18 1.9206852912902832\n",
      "19 1.918839454650879\n",
      "20 1.9169988632202148\n",
      "21 1.9151639938354492\n",
      "22 1.9133340120315552\n",
      "23 1.9115095138549805\n",
      "24 1.9096895456314087\n",
      "25 1.907874345779419\n",
      "26 1.9060637950897217\n",
      "27 1.9042576551437378\n",
      "28 1.9024560451507568\n",
      "29 1.9006587266921997\n",
      "30 1.8988654613494873\n",
      "31 1.8970762491226196\n",
      "32 1.8952913284301758\n",
      "33 1.893510341644287\n",
      "34 1.891732931137085\n",
      "35 1.8899593353271484\n",
      "36 1.8881895542144775\n",
      "37 1.8864233493804932\n",
      "38 1.8846611976623535\n",
      "39 1.8829023838043213\n",
      "40 1.881147027015686\n",
      "41 1.8793952465057373\n",
      "42 1.8776469230651855\n",
      "43 1.8759019374847412\n",
      "44 1.8741602897644043\n",
      "45 1.872422218322754\n",
      "46 1.870687484741211\n",
      "47 1.8689558506011963\n",
      "48 1.867227554321289\n",
      "49 1.8655025959014893\n",
      "50 1.863781213760376\n",
      "51 1.8620623350143433\n",
      "52 1.860347032546997\n",
      "53 1.8586349487304688\n",
      "54 1.8569259643554688\n",
      "55 1.855219841003418\n",
      "56 1.8535172939300537\n",
      "57 1.8518174886703491\n",
      "58 1.850121021270752\n",
      "59 1.8484275341033936\n",
      "60 1.846737265586853\n",
      "61 1.8450498580932617\n",
      "62 1.8433655500411987\n",
      "63 1.8416842222213745\n",
      "64 1.8400061130523682\n",
      "65 1.838330864906311\n",
      "66 1.8366584777832031\n",
      "67 1.834989309310913\n",
      "68 1.8333230018615723\n",
      "69 1.8316597938537598\n",
      "70 1.8299994468688965\n",
      "71 1.828342080116272\n",
      "72 1.8266878128051758\n",
      "73 1.8250362873077393\n",
      "74 1.823387622833252\n",
      "75 1.8217418193817139\n",
      "76 1.8200992345809937\n",
      "77 1.8184595108032227\n",
      "78 1.8168225288391113\n",
      "79 1.8151885271072388\n",
      "80 1.8135572671890259\n",
      "81 1.8119289875030518\n",
      "82 1.8103039264678955\n",
      "83 1.8086811304092407\n",
      "84 1.8070614337921143\n",
      "85 1.8054447174072266\n",
      "86 1.803830623626709\n",
      "87 1.8022196292877197\n",
      "88 1.8006112575531006\n",
      "89 1.7990057468414307\n",
      "90 1.79740309715271\n",
      "91 1.7958030700683594\n",
      "92 1.7942062616348267\n",
      "93 1.792611837387085\n",
      "94 1.7910206317901611\n",
      "95 1.7894320487976074\n",
      "96 1.7878460884094238\n",
      "97 1.7862627506256104\n",
      "98 1.7846825122833252\n",
      "99 1.7831051349639893\n"
     ]
    }
   ],
   "source": [
    "import torch\n",
    "import torch.nn.functional as F\n",
    "\n",
    "x_data = torch.Tensor([[1.0],[2.0],[3.0]])\n",
    "y_data = torch.Tensor([[0], [0], [1]])\n",
    "#-------------------------------------------------------#\n",
    "class LogisticRegressionModel(torch.nn.Module):\n",
    "    def __init__(self):\n",
    "        super(LogisticRegressionModel, self).__init__()\n",
    "        self.linear = torch.nn.Linear(1, 1)\n",
    "    def forward(self, x):\n",
    "        y_pred = F.sigmoid(self.linear(x))\n",
    "        return y_pred\n",
    "\n",
    "model = LogisticRegressionModel()\n",
    "#-------------------------------------------------------#\n",
    "criterion = torch.nn.BCELoss(size_average=False)           # 二分类交叉熵\n",
    "optimizer = torch.optim.SGD(model.parameters(), lr=0.01)\n",
    "#-------------------------------------------------------#\n",
    "for epoch in range(100):\n",
    "    y_pred = model(x_data)\n",
    "    loss = criterion(y_pred, y_data)\n",
    "    print(epoch, loss.item())\n",
    "    optimizer.zero_grad()\n",
    "    loss.backward()\n",
    "    optimizer.step()"
   ]
  },
  {
   "cell_type": "code",
   "execution_count": 7,
   "id": "0f34ee7e",
   "metadata": {},
   "outputs": [
    {
     "data": {
      "image/png": "[encoded data removed]",
      "text/plain": [
       "<Figure size 640x480 with 1 Axes>"
      ]
     },
     "metadata": {},
     "output_type": "display_data"
    }
   ],
   "source": [
    "import numpy as np\n",
    "import matplotlib.pyplot as plt\n",
    "\n",
    "x = np.linspace(0, 10, 200)\n",
    "x_t = torch.Tensor(x).view((200, 1))\n",
    "y_t = model(x_t)\n",
    "y = y_t.data.numpy()\n",
    "plt.plot(x, y)\n",
    "plt.plot([0, 10], [0.5,0.5],c='r')\n",
    "plt.xlabel('Hours')\n",
    "plt.ylabel('Probability of Pass')\n",
    "plt.grid()\n",
    "plt.show()"
   ]
  },
  {
   "cell_type": "markdown",
   "id": "7131abe2",
   "metadata": {},
   "source": [
    "---"
   ]
  },
  {
   "cell_type": "markdown",
   "id": "4f5b48ee",
   "metadata": {},
   "source": [
    "# SoftmaxClassifier"
   ]
  },
  {
   "cell_type": "code",
   "execution_count": 9,
   "id": "ab19687b",
   "metadata": {},
   "outputs": [],
   "source": [
    "import torch\n",
    "from torchvision import transforms\n",
    "from torchvision import datasets\n",
    "from torch.utils.data import DataLoader\n",
    "import torch.nn.functional as F\n",
    "import torch.optim as optim"
   ]
  },
  {
   "cell_type": "code",
   "execution_count": 10,
   "id": "4345fad3",
   "metadata": {},
   "outputs": [
    {
     "name": "stdout",
     "output_type": "stream",
     "text": [
      "Downloading http://yann.lecun.com/exdb/mnist/train-images-idx3-ubyte.gz\n",
      "Downloading http://yann.lecun.com/exdb/mnist/train-images-idx3-ubyte.gz to ../dataset/mnist/MNIST\\raw\\train-images-idx3-ubyte.gz\n"
     ]
    },
    {
     "name": "stderr",
     "output_type": "stream",
     "text": [
      "100%|███████████████████████████████████████████████████████████████████| 9912422/9912422 [00:02<00:00, 3521671.97it/s]\n"
     ]
    },
    {
     "name": "stdout",
     "output_type": "stream",
     "text": [
      "Extracting ../dataset/mnist/MNIST\\raw\\train-images-idx3-ubyte.gz to ../dataset/mnist/MNIST\\raw\n",
      "\n",
      "Downloading http://yann.lecun.com/exdb/mnist/train-labels-idx1-ubyte.gz\n",
      "Downloading http://yann.lecun.com/exdb/mnist/train-labels-idx1-ubyte.gz to ../dataset/mnist/MNIST\\raw\\train-labels-idx1-ubyte.gz\n"
     ]
    },
    {
     "name": "stderr",
     "output_type": "stream",
     "text": [
      "100%|████████████████████████████████████████████████████████████████████████| 28881/28881 [00:00<00:00, 710539.96it/s]\n"
     ]
    },
    {
     "name": "stdout",
     "output_type": "stream",
     "text": [
      "Extracting ../dataset/mnist/MNIST\\raw\\train-labels-idx1-ubyte.gz to ../dataset/mnist/MNIST\\raw\n",
      "\n",
      "Downloading http://yann.lecun.com/exdb/mnist/t10k-images-idx3-ubyte.gz\n",
      "Downloading http://yann.lecun.com/exdb/mnist/t10k-images-idx3-ubyte.gz to ../dataset/mnist/MNIST\\raw\\t10k-images-idx3-ubyte.gz\n"
     ]
    },
    {
     "name": "stderr",
     "output_type": "stream",
     "text": [
      "100%|███████████████████████████████████████████████████████████████████| 1648877/1648877 [00:01<00:00, 1290500.95it/s]\n"
     ]
    },
    {
     "name": "stdout",
     "output_type": "stream",
     "text": [
      "Extracting ../dataset/mnist/MNIST\\raw\\t10k-images-idx3-ubyte.gz to ../dataset/mnist/MNIST\\raw\n",
      "\n",
      "Downloading http://yann.lecun.com/exdb/mnist/t10k-labels-idx1-ubyte.gz\n",
      "Downloading http://yann.lecun.com/exdb/mnist/t10k-labels-idx1-ubyte.gz to ../dataset/mnist/MNIST\\raw\\t10k-labels-idx1-ubyte.gz\n"
     ]
    },
    {
     "name": "stderr",
     "output_type": "stream",
     "text": [
      "100%|██████████████████████████████████████████████████████████████████████████████████████| 4542/4542 [00:00<?, ?it/s]"
     ]
    },
    {
     "name": "stdout",
     "output_type": "stream",
     "text": [
      "Extracting ../dataset/mnist/MNIST\\raw\\t10k-labels-idx1-ubyte.gz to ../dataset/mnist/MNIST\\raw\n",
      "\n"
     ]
    },
    {
     "name": "stderr",
     "output_type": "stream",
     "text": [
      "\n"
     ]
    }
   ],
   "source": [
    "batch_size = 64\n",
    "transform = transforms.Compose([transforms.ToTensor(),transforms.Normalize((0.1307,),(0.3081,))])\n",
    "\n",
    "train_dataset = datasets.MNIST(root='../dataset/mnist/',train=True,download=True,transform=transform)\n",
    "\n",
    "train_loader = DataLoader(train_dataset,shuffle=True,batch_size=batch_size)\n",
    "\n",
    "test_dataset = datasets.MNIST(root='../dataset/mnist/',train=False,download=True,transform=transform)\n",
    "\n",
    "test_loader = DataLoader(test_dataset,shuffle=False,batch_size=batch_size)"
   ]
  },
  {
   "cell_type": "code",
   "execution_count": 11,
   "id": "66f0b83e",
   "metadata": {},
   "outputs": [],
   "source": [
    "class Net(torch.nn.Module):\n",
    "    def __init__(self):\n",
    "        super(Net, self).__init__()\n",
    "        self.l1 = torch.nn.Linear(784, 512)\n",
    "        self.l2 = torch.nn.Linear(512, 256)\n",
    "        self.l3 = torch.nn.Linear(256, 128)\n",
    "        self.l4 = torch.nn.Linear(128, 64)\n",
    "        self.l5 = torch.nn.Linear(64, 10)\n",
    "    def forward(self, x):\n",
    "        x = x.view(-1, 784)\n",
    "        x = F.relu(self.l1(x))\n",
    "        x = F.relu(self.l2(x))\n",
    "        x = F.relu(self.l3(x))\n",
    "        x = F.relu(self. l4(x))\n",
    "        return self.l5(x)\n",
    "\n",
    "model = Net()\n",
    "\n",
    "criterion = torch.nn.CrossEntropyLoss()\n",
    "optimizer = optim.SGD(model.parameters(), lr=0.01,momentum=0.5)"
   ]
  },
  {
   "cell_type": "code",
   "execution_count": 12,
   "id": "8b7abad2",
   "metadata": {},
   "outputs": [],
   "source": [
    "def train(epoch):\n",
    "    running_loss = 0.0\n",
    "    for batch_idx, data in enumerate(train_loader, 0):\n",
    "        inputs, target = data\n",
    "        optimizer.zero_grad()\n",
    "    # forward + backward + update\n",
    "        outputs = model(inputs)\n",
    "        loss = criterion(outputs, target)\n",
    "        loss.backward()\n",
    "        optimizer.step()\n",
    "        running_loss += loss.item()\n",
    "        if batch_idx % 300 == 299:\n",
    "            print('[%d,%5d] loss: %.3f' % (epoch + 1, batch_idx + 1, running_loss / 300))\n",
    "            running_loss = 0.0"
   ]
  },
  {
   "cell_type": "code",
   "execution_count": 13,
   "id": "3b494975",
   "metadata": {},
   "outputs": [],
   "source": [
    "def test():\n",
    "    correct = 0\n",
    "    total = 0\n",
    "    with torch.no_grad():\n",
    "        for data in test_loader:\n",
    "            images, labels = data\n",
    "            outputs = model(images)\n",
    "            _,predicted = torch.max(outputs.data,dim=1)\n",
    "            total += labels.size(0)\n",
    "            correct += (predicted == labels).sum().item()\n",
    "    print('Accuracy on test set: %d %%' % (100 * correct / total))"
   ]
  },
  {
   "cell_type": "code",
   "execution_count": 14,
   "id": "69ffa8f5",
   "metadata": {},
   "outputs": [
    {
     "name": "stdout",
     "output_type": "stream",
     "text": [
      "[1,  300] loss: 2.188\n",
      "[1,  600] loss: 0.854\n",
      "[1,  900] loss: 0.416\n",
      "Accuracy on test set: 87 %\n",
      "[2,  300] loss: 0.318\n",
      "[2,  600] loss: 0.272\n",
      "[2,  900] loss: 0.221\n",
      "Accuracy on test set: 93 %\n",
      "[3,  300] loss: 0.192\n",
      "[3,  600] loss: 0.169\n",
      "[3,  900] loss: 0.155\n",
      "Accuracy on test set: 95 %\n",
      "[4,  300] loss: 0.133\n",
      "[4,  600] loss: 0.124\n",
      "[4,  900] loss: 0.118\n",
      "Accuracy on test set: 96 %\n",
      "[5,  300] loss: 0.101\n",
      "[5,  600] loss: 0.092\n",
      "[5,  900] loss: 0.092\n",
      "Accuracy on test set: 96 %\n",
      "[6,  300] loss: 0.077\n",
      "[6,  600] loss: 0.075\n",
      "[6,  900] loss: 0.073\n",
      "Accuracy on test set: 97 %\n",
      "[7,  300] loss: 0.059\n",
      "[7,  600] loss: 0.064\n",
      "[7,  900] loss: 0.060\n",
      "Accuracy on test set: 97 %\n",
      "[8,  300] loss: 0.048\n",
      "[8,  600] loss: 0.050\n",
      "[8,  900] loss: 0.050\n",
      "Accuracy on test set: 97 %\n",
      "[9,  300] loss: 0.038\n",
      "[9,  600] loss: 0.042\n",
      "[9,  900] loss: 0.039\n",
      "Accuracy on test set: 97 %\n",
      "[10,  300] loss: 0.031\n",
      "[10,  600] loss: 0.032\n",
      "[10,  900] loss: 0.034\n",
      "Accuracy on test set: 97 %\n"
     ]
    }
   ],
   "source": [
    "if __name__ == '__main__':\n",
    "    for epoch in range(10):\n",
    "        train(epoch)\n",
    "        test()"
   ]
  },
  {
   "cell_type": "markdown",
   "id": "00cca44d",
   "metadata": {},
   "source": [
    "---"
   ]
  },
  {
   "cell_type": "markdown",
   "id": "afe3a03c",
   "metadata": {},
   "source": [
    "# 卷积神经网络CNN"
   ]
  },
  {
   "cell_type": "code",
   "execution_count": null,
   "id": "a5afb11f",
   "metadata": {},
   "outputs": [],
   "source": []
  },
  {
   "cell_type": "code",
   "execution_count": null,
   "id": "b367313f",
   "metadata": {},
   "outputs": [],
   "source": []
  }
 ],
 "metadata": {
  "kernelspec": {
   "display_name": "Python 3 (ipykernel)",
   "language": "python",
   "name": "python3"
  },
  "language_info": {
   "codemirror_mode": {
    "name": "ipython",
    "version": 3
   },
   "file_extension": ".py",
   "mimetype": "text/x-python",
   "name": "python",
   "nbconvert_exporter": "python",
   "pygments_lexer": "ipython3",
   "version": "3.11.3"
  },
  "toc": {
   "base_numbering": 1,
   "nav_menu": {},
   "number_sections": true,
   "sideBar": true,
   "skip_h1_title": false,
   "title_cell": "Table of Contents",
   "title_sidebar": "Contents",
   "toc_cell": true,
   "toc_position": {
    "height": "calc(100% - 180px)",
    "left": "10px",
    "top": "150px",
    "width": "341.442px"
   },
   "toc_section_display": true,
   "toc_window_display": true
  }
 },
 "nbformat": 4,
 "nbformat_minor": 5
}
