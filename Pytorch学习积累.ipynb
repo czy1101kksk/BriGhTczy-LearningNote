{
 "cells": [
  {
   "cell_type": "markdown",
   "id": "944f1e7a",
   "metadata": {
    "toc": true
   },
   "source": [
    "<h1>Table of Contents<span class=\"tocSkip\"></span></h1>\n",
    "<div class=\"toc\"><ul class=\"toc-item\"><li><span><a href=\"#Pytorch基础元素--张量(tensor)\" data-toc-modified-id=\"Pytorch基础元素--张量(tensor)-1\"><span class=\"toc-item-num\">1&nbsp;&nbsp;</span>Pytorch基础元素--张量(tensor)</a></span><ul class=\"toc-item\"><li><span><a href=\"#基本属性\" data-toc-modified-id=\"基本属性-1.1\"><span class=\"toc-item-num\">1.1&nbsp;&nbsp;</span>基本属性</a></span></li><li><span><a href=\"#类型转换\" data-toc-modified-id=\"类型转换-1.2\"><span class=\"toc-item-num\">1.2&nbsp;&nbsp;</span>类型转换</a></span></li><li><span><a href=\"#维度变换(-.reshape-/-.view)\" data-toc-modified-id=\"维度变换(-.reshape-/-.view)-1.3\"><span class=\"toc-item-num\">1.3&nbsp;&nbsp;</span>维度变换( .reshape / .view)</a></span><ul class=\"toc-item\"><li><span><a href=\"#.view\" data-toc-modified-id=\".view-1.3.1\"><span class=\"toc-item-num\">1.3.1&nbsp;&nbsp;</span>.view</a></span></li><li><span><a href=\"#.clone()-+-.view()\" data-toc-modified-id=\".clone()-+-.view()-1.3.2\"><span class=\"toc-item-num\">1.3.2&nbsp;&nbsp;</span>.clone() + .view()</a></span></li></ul></li></ul></li><li><span><a href=\"#张量连结-.cat\" data-toc-modified-id=\"张量连结-.cat-2\"><span class=\"toc-item-num\">2&nbsp;&nbsp;</span>张量连结 .cat</a></span></li><li><span><a href=\"#张量数据处理\" data-toc-modified-id=\"张量数据处理-3\"><span class=\"toc-item-num\">3&nbsp;&nbsp;</span>张量数据处理</a></span></li><li><span><a href=\"#索引和切片\" data-toc-modified-id=\"索引和切片-4\"><span class=\"toc-item-num\">4&nbsp;&nbsp;</span>索引和切片</a></span><ul class=\"toc-item\"><li><span><a href=\"#广播机制\" data-toc-modified-id=\"广播机制-4.1\"><span class=\"toc-item-num\">4.1&nbsp;&nbsp;</span>广播机制</a></span></li></ul></li><li><span><a href=\"#内存分配\" data-toc-modified-id=\"内存分配-5\"><span class=\"toc-item-num\">5&nbsp;&nbsp;</span>内存分配</a></span></li><li><span><a href=\"#矩阵乘法\" data-toc-modified-id=\"矩阵乘法-6\"><span class=\"toc-item-num\">6&nbsp;&nbsp;</span>矩阵乘法</a></span><ul class=\"toc-item\"><li><span><a href=\"#矩阵-向量积-(-.mv-)\" data-toc-modified-id=\"矩阵-向量积-(-.mv-)-6.1\"><span class=\"toc-item-num\">6.1&nbsp;&nbsp;</span>矩阵-向量积 ( .mv )</a></span></li><li><span><a href=\"#矩阵-矩阵乘法-(-.mm-)\" data-toc-modified-id=\"矩阵-矩阵乘法-(-.mm-)-6.2\"><span class=\"toc-item-num\">6.2&nbsp;&nbsp;</span>矩阵-矩阵乘法 ( .mm )</a></span></li></ul></li><li><span><a href=\"#范数\" data-toc-modified-id=\"范数-7\"><span class=\"toc-item-num\">7&nbsp;&nbsp;</span>范数</a></span><ul class=\"toc-item\"><li><span><a href=\"#L1范数\" data-toc-modified-id=\"L1范数-7.1\"><span class=\"toc-item-num\">7.1&nbsp;&nbsp;</span>L1范数</a></span></li><li><span><a href=\"#L2范数\" data-toc-modified-id=\"L2范数-7.2\"><span class=\"toc-item-num\">7.2&nbsp;&nbsp;</span>L2范数</a></span></li><li><span><a href=\"#Frobenius范数\" data-toc-modified-id=\"Frobenius范数-7.3\"><span class=\"toc-item-num\">7.3&nbsp;&nbsp;</span>Frobenius范数</a></span></li></ul></li><li><span><a href=\"#Autograd自动微分\" data-toc-modified-id=\"Autograd自动微分-8\"><span class=\"toc-item-num\">8&nbsp;&nbsp;</span>Autograd自动微分</a></span><ul class=\"toc-item\"><li><span><a href=\"#示例:\" data-toc-modified-id=\"示例:-8.1\"><span class=\"toc-item-num\">8.1&nbsp;&nbsp;</span>示例:</a></span></li><li><span><a href=\"#清除之前的梯度值\" data-toc-modified-id=\"清除之前的梯度值-8.2\"><span class=\"toc-item-num\">8.2&nbsp;&nbsp;</span>清除之前的梯度值</a></span></li><li><span><a href=\"#非标量变量的反向传播\" data-toc-modified-id=\"非标量变量的反向传播-8.3\"><span class=\"toc-item-num\">8.3&nbsp;&nbsp;</span>非标量变量的反向传播</a></span></li><li><span><a href=\"#分离计算-.detach\" data-toc-modified-id=\"分离计算-.detach-8.4\"><span class=\"toc-item-num\">8.4&nbsp;&nbsp;</span>分离计算 .detach</a></span></li></ul></li><li><span><a href=\"#数据读入\" data-toc-modified-id=\"数据读入-9\"><span class=\"toc-item-num\">9&nbsp;&nbsp;</span>数据读入</a></span><ul class=\"toc-item\"><li><span><a href=\"#Data_transform对图像预处理操作\" data-toc-modified-id=\"Data_transform对图像预处理操作-9.1\"><span class=\"toc-item-num\">9.1&nbsp;&nbsp;</span>Data_transform对图像预处理操作</a></span></li><li><span><a href=\"#调用数据集\" data-toc-modified-id=\"调用数据集-9.2\"><span class=\"toc-item-num\">9.2&nbsp;&nbsp;</span>调用数据集</a></span></li><li><span><a href=\"#自定义输入dataset\" data-toc-modified-id=\"自定义输入dataset-9.3\"><span class=\"toc-item-num\">9.3&nbsp;&nbsp;</span><strong>自定义输入dataset</strong></a></span></li><li><span><a href=\"#DataLoader\" data-toc-modified-id=\"DataLoader-9.4\"><span class=\"toc-item-num\">9.4&nbsp;&nbsp;</span>DataLoader</a></span></li></ul></li><li><span><a href=\"#线性模型的初步实现\" data-toc-modified-id=\"线性模型的初步实现-10\"><span class=\"toc-item-num\">10&nbsp;&nbsp;</span>线性模型的初步实现</a></span><ul class=\"toc-item\"><li><span><a href=\"#模型的保存\" data-toc-modified-id=\"模型的保存-10.1\"><span class=\"toc-item-num\">10.1&nbsp;&nbsp;</span>模型的保存</a></span></li></ul></li><li><span><a href=\"#使用GPU进行训练\" data-toc-modified-id=\"使用GPU进行训练-11\"><span class=\"toc-item-num\">11&nbsp;&nbsp;</span>使用GPU进行训练</a></span></li><li><span><a href=\"#实战示例1---气温预测\" data-toc-modified-id=\"实战示例1---气温预测-12\"><span class=\"toc-item-num\">12&nbsp;&nbsp;</span>实战示例1---气温预测</a></span><ul class=\"toc-item\"><li><span><a href=\"#读取数据---处理数据-.csv\" data-toc-modified-id=\"读取数据---处理数据-.csv-12.1\"><span class=\"toc-item-num\">12.1&nbsp;&nbsp;</span>读取数据---处理数据 .csv</a></span></li><li><span><a href=\"#处理时间数据\" data-toc-modified-id=\"处理时间数据-12.2\"><span class=\"toc-item-num\">12.2&nbsp;&nbsp;</span>处理时间数据</a></span></li><li><span><a href=\"#获取对应数据-features-/-labels\" data-toc-modified-id=\"获取对应数据-features-/-labels-12.3\"><span class=\"toc-item-num\">12.3&nbsp;&nbsp;</span>获取对应数据 features / labels</a></span></li><li><span><a href=\"#构建神经网络\" data-toc-modified-id=\"构建神经网络-12.4\"><span class=\"toc-item-num\">12.4&nbsp;&nbsp;</span>构建神经网络</a></span></li><li><span><a href=\"#预测\" data-toc-modified-id=\"预测-12.5\"><span class=\"toc-item-num\">12.5&nbsp;&nbsp;</span>预测</a></span></li></ul></li></ul></div>"
   ]
  },
  {
   "cell_type": "code",
   "execution_count": 3,
   "id": "7651c649",
   "metadata": {},
   "outputs": [],
   "source": [
    "import os \n",
    "import numpy as np \n",
    "import torch\n",
    "import torch.nn as nn\n",
    "from torch.utils.data import Dataset, DataLoader\n",
    "import torch.optim as optimizer"
   ]
  },
  {
   "cell_type": "code",
   "execution_count": null,
   "id": "c4db8a82",
   "metadata": {},
   "outputs": [],
   "source": [
    "# 超参数设置\n",
    "\n",
    "batch_size = 16\n",
    "# 批次的大小\n",
    "lr = 1e-4\n",
    "# 优化器的学习率\n",
    "max_epochs = 100"
   ]
  },
  {
   "cell_type": "markdown",
   "id": "a7f169f0",
   "metadata": {},
   "source": [
    "# Pytorch基础元素--张量(tensor)"
   ]
  },
  {
   "cell_type": "markdown",
   "id": "5436e9b7",
   "metadata": {},
   "source": [
    "张量表示由数值组成的数组，可能有多个维度。 具有一个轴的张量对应数学上的向量（vector）； 具有两个轴的张量对应数学上的矩阵（matrix）"
   ]
  },
  {
   "cell_type": "markdown",
   "id": "ecdcc92a",
   "metadata": {},
   "source": [
    "## 基本属性"
   ]
  },
  {
   "cell_type": "code",
   "execution_count": 8,
   "id": "26bbb832",
   "metadata": {},
   "outputs": [
    {
     "data": {
      "text/plain": [
       "tensor([ 0,  1,  2,  3,  4,  5,  6,  7,  8,  9, 10, 11])"
      ]
     },
     "execution_count": 8,
     "metadata": {},
     "output_type": "execute_result"
    }
   ],
   "source": [
    "x = torch.arange(12)\n",
    "x"
   ]
  },
  {
   "cell_type": "code",
   "execution_count": 9,
   "id": "b1cf0b13",
   "metadata": {},
   "outputs": [
    {
     "data": {
      "text/plain": [
       "torch.Size([12])"
      ]
     },
     "execution_count": 9,
     "metadata": {},
     "output_type": "execute_result"
    }
   ],
   "source": [
    "# 查询形状\n",
    "x.shape"
   ]
  },
  {
   "cell_type": "code",
   "execution_count": 10,
   "id": "763daea4",
   "metadata": {},
   "outputs": [
    {
     "data": {
      "text/plain": [
       "tensor([[ 0,  1,  2,  3],\n",
       "        [ 4,  5,  6,  7],\n",
       "        [ 8,  9, 10, 11]])"
      ]
     },
     "execution_count": 10,
     "metadata": {},
     "output_type": "execute_result"
    }
   ],
   "source": [
    "# 改变形状\n",
    "X = x.reshape(3, 4)\n",
    "X"
   ]
  },
  {
   "cell_type": "markdown",
   "id": "a753617c",
   "metadata": {},
   "source": [
    "## 类型转换"
   ]
  },
  {
   "cell_type": "code",
   "execution_count": 9,
   "id": "25339bc6",
   "metadata": {},
   "outputs": [
    {
     "data": {
      "text/plain": [
       "tensor([[2, 1, 4, 3],\n",
       "        [1, 2, 3, 4],\n",
       "        [4, 3, 2, 1]])"
      ]
     },
     "execution_count": 9,
     "metadata": {},
     "output_type": "execute_result"
    }
   ],
   "source": [
    "# ndarray转换为tensor\n",
    "torch.tensor([[2, 1, 4, 3], [1, 2, 3, 4], [4, 3, 2, 1]])"
   ]
  },
  {
   "cell_type": "markdown",
   "id": "e1058834",
   "metadata": {},
   "source": [
    "**torch张量和numpy数组之间的转换非常容易**"
   ]
  },
  {
   "cell_type": "code",
   "execution_count": 15,
   "id": "30efdb00",
   "metadata": {},
   "outputs": [
    {
     "name": "stdout",
     "output_type": "stream",
     "text": [
      "<class 'numpy.ndarray'> <class 'torch.Tensor'>\n",
      "<class 'torch.Tensor'>\n"
     ]
    }
   ],
   "source": [
    "A = X.numpy()\n",
    "B = torch.tensor(A)\n",
    "print(type(A), type(B))\n",
    "\n",
    "A=torch.from_numpy(A)\n",
    "print(type(A))"
   ]
  },
  {
   "cell_type": "markdown",
   "id": "6ac80426",
   "metadata": {},
   "source": [
    "转换为**标量**"
   ]
  },
  {
   "cell_type": "code",
   "execution_count": 11,
   "id": "5f67ee0a",
   "metadata": {},
   "outputs": [
    {
     "data": {
      "text/plain": [
       "3.5"
      ]
     },
     "execution_count": 11,
     "metadata": {},
     "output_type": "execute_result"
    }
   ],
   "source": [
    "a = torch.tensor([3.5])\n",
    "a.item()         # .item()转换为python自带标量,用于提取数值"
   ]
  },
  {
   "cell_type": "code",
   "execution_count": null,
   "id": "272d4573",
   "metadata": {},
   "outputs": [],
   "source": []
  },
  {
   "cell_type": "code",
   "execution_count": null,
   "id": "3cb54a40",
   "metadata": {},
   "outputs": [],
   "source": []
  },
  {
   "cell_type": "markdown",
   "id": "0dbd98cb",
   "metadata": {},
   "source": [
    "DataFrame转为tensor"
   ]
  },
  {
   "cell_type": "markdown",
   "id": "8585a8fc",
   "metadata": {},
   "source": [
    "```\n",
    "X = torch.tensor(DataFrames.to_numpy(dtype=float))\n",
    "```"
   ]
  },
  {
   "cell_type": "markdown",
   "id": "a43fcf79",
   "metadata": {},
   "source": [
    "## 维度变换( .reshape / .view)"
   ]
  },
  {
   "cell_type": "markdown",
   "id": "4fb5170d",
   "metadata": {},
   "source": [
    "### .view"
   ]
  },
  {
   "cell_type": "code",
   "execution_count": 38,
   "id": "9c802406",
   "metadata": {},
   "outputs": [
    {
     "data": {
      "text/plain": [
       "tensor([-0.0375, -0.6613,  1.0012,  0.4287, -0.8051, -0.7091, -0.7557,  0.9137,\n",
       "        -2.0994, -0.3485,  1.6149, -0.9826,  1.8288, -0.9733, -0.4643,  0.9309])"
      ]
     },
     "execution_count": 38,
     "metadata": {},
     "output_type": "execute_result"
    }
   ],
   "source": [
    "#.view() 返回的新tensor与源tensor共享内存(即仅仅是改变了对这个张量的'观察角度')\n",
    "\n",
    "x = torch.randn(4, 4)\n",
    "y = x.view(16)\n",
    "y"
   ]
  },
  {
   "cell_type": "markdown",
   "id": "b92e2529",
   "metadata": {},
   "source": [
    "### .clone() + .view()\n",
    "---\n",
    "官方不推荐使用.reshape。推荐的方法是我们先用 clone() 创造一个张量副本然后再使用 torch.view()进行函数维度变换"
   ]
  },
  {
   "cell_type": "code",
   "execution_count": 40,
   "id": "8591a0f1",
   "metadata": {},
   "outputs": [
    {
     "data": {
      "text/plain": [
       "(tensor([ 0.9625,  0.3387,  2.0012,  1.4287,  0.1949,  0.2909,  0.2443,  1.9137,\n",
       "         -1.0994,  0.6515,  2.6149,  0.0174,  2.8288,  0.0267,  0.5357,  1.9309]),\n",
       " tensor([-0.0375, -0.6613,  1.0012,  0.4287, -0.8051, -0.7091, -0.7557,  0.9137,\n",
       "         -2.0994, -0.3485,  1.6149, -0.9826,  1.8288, -0.9733, -0.4643,  0.9309]))"
      ]
     },
     "execution_count": 40,
     "metadata": {},
     "output_type": "execute_result"
    }
   ],
   "source": [
    "z = x.clone().view(16)        \n",
    "z += 1 \n",
    "z,y"
   ]
  },
  {
   "cell_type": "markdown",
   "id": "6f9336ab",
   "metadata": {},
   "source": [
    "# 张量连结 .cat\n",
    "---\n",
    "dim = 0 行堆叠\n",
    "\n",
    "dim = 1 列拼接"
   ]
  },
  {
   "cell_type": "code",
   "execution_count": 3,
   "id": "fcc1a298",
   "metadata": {},
   "outputs": [
    {
     "data": {
      "text/plain": [
       "(tensor([[ 0.,  1.,  2.,  3.],\n",
       "         [ 4.,  5.,  6.,  7.],\n",
       "         [ 8.,  9., 10., 11.],\n",
       "         [ 2.,  1.,  4.,  3.],\n",
       "         [ 1.,  2.,  3.,  4.],\n",
       "         [ 4.,  3.,  2.,  1.]]),\n",
       " tensor([[ 0.,  1.,  2.,  3.,  2.,  1.,  4.,  3.],\n",
       "         [ 4.,  5.,  6.,  7.,  1.,  2.,  3.,  4.],\n",
       "         [ 8.,  9., 10., 11.,  4.,  3.,  2.,  1.]]))"
      ]
     },
     "execution_count": 3,
     "metadata": {},
     "output_type": "execute_result"
    }
   ],
   "source": [
    "X = torch.arange(12, dtype=torch.float32).reshape((3,4))\n",
    "Y = torch.tensor([[2.0, 1, 4, 3], [1, 2, 3, 4], [4, 3, 2, 1]])\n",
    "\n",
    "torch.cat((X, Y), dim=0), torch.cat((X, Y), dim=1)"
   ]
  },
  {
   "cell_type": "markdown",
   "id": "7307f946",
   "metadata": {},
   "source": [
    "# 张量数据处理"
   ]
  },
  {
   "cell_type": "code",
   "execution_count": 16,
   "id": "8427e983",
   "metadata": {},
   "outputs": [
    {
     "data": {
      "text/plain": [
       "(tensor(66.), tensor([12., 15., 18., 21.]), tensor([ 6., 22., 38.]))"
      ]
     },
     "execution_count": 16,
     "metadata": {},
     "output_type": "execute_result"
    }
   ],
   "source": [
    "X = torch.arange(12, dtype=torch.float32).reshape((3,4))\n",
    "X.sum(),X.sum(dim=0),X.sum(dim=1)\n",
    "\n",
    "# 整体之和 / 每列之和 / 每行之和"
   ]
  },
  {
   "cell_type": "code",
   "execution_count": 17,
   "id": "74e8cb5e",
   "metadata": {},
   "outputs": [
    {
     "data": {
      "text/plain": [
       "(tensor(5.5000), tensor([4., 5., 6., 7.]), tensor([1.5000, 5.5000, 9.5000]))"
      ]
     },
     "execution_count": 17,
     "metadata": {},
     "output_type": "execute_result"
    }
   ],
   "source": [
    "X.mean(),X.mean(dim=0),X.mean(dim=1)  # 求平均值 类似"
   ]
  },
  {
   "cell_type": "code",
   "execution_count": 21,
   "id": "fef0ca91",
   "metadata": {},
   "outputs": [
    {
     "data": {
      "text/plain": [
       "(torch.Size([3, 4]), 3, 4)"
      ]
     },
     "execution_count": 21,
     "metadata": {},
     "output_type": "execute_result"
    }
   ],
   "source": [
    "X.shape,X.shape[0],X.shape[1]         # 求形状(.shape是张量本身的性质,不是函数,不需要括号)"
   ]
  },
  {
   "cell_type": "code",
   "execution_count": 22,
   "id": "d9176256",
   "metadata": {},
   "outputs": [
    {
     "data": {
      "text/plain": [
       "tensor([[ 0.,  1.,  2.,  3.],\n",
       "        [ 4.,  6.,  8., 10.],\n",
       "        [12., 15., 18., 21.]])"
      ]
     },
     "execution_count": 22,
     "metadata": {},
     "output_type": "execute_result"
    }
   ],
   "source": [
    "X.cumsum(axis=0) # 累次求和"
   ]
  },
  {
   "cell_type": "markdown",
   "id": "cdf0742b",
   "metadata": {},
   "source": [
    "# 索引和切片\n",
    "---\n",
    "注意:**索引出来的结果与原数据共享内存，修改一个，另一个会跟着修改。如果不想修改，可以考虑使用copy()等方法**\n",
    "## 广播机制\n",
    "\n",
    "1.通过适当复制元素来扩展一个或两个数组，以便在转换之后，两个张量具有相同的形状；\n",
    "\n",
    "2.对生成的数组执行按元素操作。\n",
    "\n"
   ]
  },
  {
   "cell_type": "code",
   "execution_count": 8,
   "id": "a21e4a4a",
   "metadata": {},
   "outputs": [
    {
     "data": {
      "text/plain": [
       "(tensor([[0],\n",
       "         [1],\n",
       "         [2]]),\n",
       " tensor([[0, 1]]),\n",
       " tensor([[0, 1],\n",
       "         [1, 2],\n",
       "         [2, 3]]))"
      ]
     },
     "execution_count": 8,
     "metadata": {},
     "output_type": "execute_result"
    }
   ],
   "source": [
    "a = torch.arange(3).reshape((3, 1))\n",
    "b = torch.arange(2).reshape((1, 2))\n",
    "a, b,a+b      # 形状转换"
   ]
  },
  {
   "cell_type": "markdown",
   "id": "9756b2d6",
   "metadata": {},
   "source": [
    "# 内存分配"
   ]
  },
  {
   "cell_type": "markdown",
   "id": "dcaf077e",
   "metadata": {},
   "source": [
    "格式:\n",
    "```\n",
    "Z = torch.zeros_like(Y)\n",
    "\n",
    "Z[:] = X + Y)\n",
    "```\n",
    "也可以使用```X[ : ] = X + Y```或```X += Y```来减少操作的内存开销"
   ]
  },
  {
   "cell_type": "markdown",
   "id": "bab29f4d",
   "metadata": {},
   "source": [
    "---"
   ]
  },
  {
   "cell_type": "code",
   "execution_count": 14,
   "id": "aee552ba",
   "metadata": {},
   "outputs": [
    {
     "data": {
      "text/plain": [
       "(tensor([[ 0.,  1.,  2.,  3.],\n",
       "         [ 4.,  5.,  6.,  7.],\n",
       "         [ 8.,  9., 10., 11.],\n",
       "         [12., 13., 14., 15.],\n",
       "         [16., 17., 18., 19.]]),\n",
       " tensor([[ 0.,  2.,  4.,  6.],\n",
       "         [ 8., 10., 12., 14.],\n",
       "         [16., 18., 20., 22.],\n",
       "         [24., 26., 28., 30.],\n",
       "         [32., 34., 36., 38.]]))"
      ]
     },
     "execution_count": 14,
     "metadata": {},
     "output_type": "execute_result"
    }
   ],
   "source": [
    "A = torch.arange(20, dtype=torch.float32).reshape(5, 4)\n",
    "# .clone 类似 .copy 会重新分配内存\n",
    "B = A.clone()  # 通过分配新内存，将A的一个副本分配给B\n",
    "A, A + B"
   ]
  },
  {
   "cell_type": "markdown",
   "id": "7f59914b",
   "metadata": {},
   "source": [
    "# 矩阵乘法"
   ]
  },
  {
   "cell_type": "markdown",
   "id": "3e0a0a45",
   "metadata": {},
   "source": [
    "## 矩阵-向量积 ( .mv )\n",
    "\\begin{split}\\mathbf{A}\\mathbf{x}\n",
    "= \\begin{bmatrix}\n",
    "\\mathbf{a}^\\top_{1} \\\\\n",
    "\\mathbf{a}^\\top_{2} \\\\\n",
    "\\vdots \\\\\n",
    "\\mathbf{a}^\\top_m \\\\\n",
    "\\end{bmatrix}\\mathbf{x}\n",
    "= \\begin{bmatrix}\n",
    " \\mathbf{a}^\\top_{1} \\mathbf{x}  \\\\\n",
    " \\mathbf{a}^\\top_{2} \\mathbf{x} \\\\\n",
    "\\vdots\\\\\n",
    " \\mathbf{a}^\\top_{m} \\mathbf{x}\\\\\n",
    "\\end{bmatrix}.\\end{split}"
   ]
  },
  {
   "cell_type": "code",
   "execution_count": 27,
   "id": "4d2b539f",
   "metadata": {},
   "outputs": [
    {
     "data": {
      "text/plain": [
       "(tensor([[ 0.,  1.,  2.,  3.],\n",
       "         [ 4.,  5.,  6.,  7.],\n",
       "         [ 8.,  9., 10., 11.],\n",
       "         [12., 13., 14., 15.],\n",
       "         [16., 17., 18., 19.]]),\n",
       " tensor([0., 1., 2., 3.]),\n",
       " tensor([ 14.,  38.,  62.,  86., 110.]))"
      ]
     },
     "execution_count": 27,
     "metadata": {},
     "output_type": "execute_result"
    }
   ],
   "source": [
    "A = torch.arange(20, dtype=torch.float32).reshape(5, 4)\n",
    "x = torch.tensor([0., 1., 2., 3.])\n",
    "A,x,torch.mv(A, x)    # 矩阵-向量积"
   ]
  },
  {
   "cell_type": "markdown",
   "id": "c0fa0da2",
   "metadata": {},
   "source": [
    "## 矩阵-矩阵乘法 ( .mm )\n",
    "\\begin{split}\\mathbf{C} = \\mathbf{AB} = \\begin{bmatrix}\n",
    "\\mathbf{a}^\\top_{1} \\\\\n",
    "\\mathbf{a}^\\top_{2} \\\\\n",
    "\\vdots \\\\\n",
    "\\mathbf{a}^\\top_n \\\\\n",
    "\\end{bmatrix}\n",
    "\\begin{bmatrix}\n",
    " \\mathbf{b}_{1} & \\mathbf{b}_{2} & \\cdots & \\mathbf{b}_{m} \\\\\n",
    "\\end{bmatrix}\n",
    "= \\begin{bmatrix}\n",
    "\\mathbf{a}^\\top_{1} \\mathbf{b}_1 & \\mathbf{a}^\\top_{1}\\mathbf{b}_2& \\cdots & \\mathbf{a}^\\top_{1} \\mathbf{b}_m \\\\\n",
    " \\mathbf{a}^\\top_{2}\\mathbf{b}_1 & \\mathbf{a}^\\top_{2} \\mathbf{b}_2 & \\cdots & \\mathbf{a}^\\top_{2} \\mathbf{b}_m \\\\\n",
    " \\vdots & \\vdots & \\ddots &\\vdots\\\\\n",
    "\\mathbf{a}^\\top_{n} \\mathbf{b}_1 & \\mathbf{a}^\\top_{n}\\mathbf{b}_2& \\cdots& \\mathbf{a}^\\top_{n} \\mathbf{b}_m\n",
    "\\end{bmatrix}.\\end{split}"
   ]
  },
  {
   "cell_type": "code",
   "execution_count": 28,
   "id": "226fec90",
   "metadata": {},
   "outputs": [
    {
     "data": {
      "text/plain": [
       "tensor([[ 6.,  6.,  6.],\n",
       "        [22., 22., 22.],\n",
       "        [38., 38., 38.],\n",
       "        [54., 54., 54.],\n",
       "        [70., 70., 70.]])"
      ]
     },
     "execution_count": 28,
     "metadata": {},
     "output_type": "execute_result"
    }
   ],
   "source": [
    "B = torch.ones(4, 3)\n",
    "torch.mm(A, B)"
   ]
  },
  {
   "cell_type": "markdown",
   "id": "d46ad7aa",
   "metadata": {},
   "source": [
    "# 范数"
   ]
  },
  {
   "cell_type": "markdown",
   "id": "5cca3dca",
   "metadata": {},
   "source": [
    "## L1范数\n",
    "---\n",
    "**向量元素的绝对值之和**"
   ]
  },
  {
   "cell_type": "code",
   "execution_count": 32,
   "id": "37242969",
   "metadata": {},
   "outputs": [
    {
     "data": {
      "text/plain": [
       "tensor(7.)"
      ]
     },
     "execution_count": 32,
     "metadata": {},
     "output_type": "execute_result"
    }
   ],
   "source": [
    "torch.abs(u).sum()"
   ]
  },
  {
   "cell_type": "markdown",
   "id": "43637ff1",
   "metadata": {},
   "source": [
    "## L2范数\n",
    "---\n",
    "向量元素平方和的平方根"
   ]
  },
  {
   "cell_type": "code",
   "execution_count": 31,
   "id": "623cd8ec",
   "metadata": {},
   "outputs": [
    {
     "data": {
      "text/plain": [
       "tensor(5.)"
      ]
     },
     "execution_count": 31,
     "metadata": {},
     "output_type": "execute_result"
    }
   ],
   "source": [
    "u = torch.tensor([3.0, -4.0])\n",
    "torch.norm(u)"
   ]
  },
  {
   "cell_type": "markdown",
   "id": "80d1dab9",
   "metadata": {},
   "source": [
    "## Frobenius范数\n",
    "---\n",
    "矩阵元素平方和的平方根, 像是矩阵形向量的**L2范数**"
   ]
  },
  {
   "cell_type": "code",
   "execution_count": 33,
   "id": "68d46ae6",
   "metadata": {},
   "outputs": [
    {
     "data": {
      "text/plain": [
       "tensor(6.)"
      ]
     },
     "execution_count": 33,
     "metadata": {},
     "output_type": "execute_result"
    }
   ],
   "source": [
    "torch.norm(torch.ones((4, 9)))"
   ]
  },
  {
   "cell_type": "markdown",
   "id": "10673aa8",
   "metadata": {},
   "source": [
    "# Autograd自动微分"
   ]
  },
  {
   "cell_type": "code",
   "execution_count": null,
   "id": "072ff277",
   "metadata": {},
   "outputs": [],
   "source": []
  },
  {
   "cell_type": "markdown",
   "id": "3b91275b",
   "metadata": {},
   "source": [
    "## 示例: \n",
    "对 y=2 * x.T * x 关于列向量x求导"
   ]
  },
  {
   "cell_type": "code",
   "execution_count": 16,
   "id": "4938e26e",
   "metadata": {},
   "outputs": [
    {
     "data": {
      "text/plain": [
       "tensor([0., 1., 2., 3.])"
      ]
     },
     "execution_count": 16,
     "metadata": {},
     "output_type": "execute_result"
    }
   ],
   "source": [
    "# 分配一个初始值\n",
    "x = torch.arange(4.0)\n",
    "x"
   ]
  },
  {
   "cell_type": "code",
   "execution_count": 17,
   "id": "94b8021d",
   "metadata": {},
   "outputs": [],
   "source": [
    "x.requires_grad_(True)\n",
    "x.grad        # 默认值是None"
   ]
  },
  {
   "cell_type": "code",
   "execution_count": 18,
   "id": "d0d0c220",
   "metadata": {},
   "outputs": [
    {
     "data": {
      "text/plain": [
       "tensor(28., grad_fn=<MulBackward0>)"
      ]
     },
     "execution_count": 18,
     "metadata": {},
     "output_type": "execute_result"
    }
   ],
   "source": [
    "y = 2 * torch.dot(x, x)     # y与向量x的每个元素都有关\n",
    "y"
   ]
  },
  {
   "cell_type": "code",
   "execution_count": 46,
   "id": "b86ecb63",
   "metadata": {},
   "outputs": [
    {
     "data": {
      "text/plain": [
       "tensor([ 0.,  4.,  8., 12.])"
      ]
     },
     "execution_count": 46,
     "metadata": {},
     "output_type": "execute_result"
    }
   ],
   "source": [
    "y.backward()     # 反向传播\n",
    "x.grad           # 更新变量x的梯度(= 4x)"
   ]
  },
  {
   "cell_type": "markdown",
   "id": "e75f5aac",
   "metadata": {},
   "source": [
    "## 清除之前的梯度值"
   ]
  },
  {
   "cell_type": "code",
   "execution_count": 49,
   "id": "cd595845",
   "metadata": {},
   "outputs": [
    {
     "data": {
      "text/plain": [
       "tensor([0., 0., 0., 0.])"
      ]
     },
     "execution_count": 49,
     "metadata": {},
     "output_type": "execute_result"
    }
   ],
   "source": [
    "# 在默认情况下，PyTorch会累积梯度，我们需要清除之前的值\n",
    "x.grad.zero_()      # 清除之前的值,输出全0"
   ]
  },
  {
   "cell_type": "markdown",
   "id": "d99dc1a2",
   "metadata": {},
   "source": [
    "## 非标量变量的反向传播"
   ]
  },
  {
   "cell_type": "markdown",
   "id": "954bedc1",
   "metadata": {},
   "source": [
    "当y不是标量时，向量y关于向量x的导数的最自然解释是一个矩阵. 目的不是计算微分矩阵，而是单独计算批量中每个样本的**偏导数之和**"
   ]
  },
  {
   "cell_type": "code",
   "execution_count": 51,
   "id": "6db98260",
   "metadata": {},
   "outputs": [
    {
     "data": {
      "text/plain": [
       "(tensor([0., 1., 4., 9.], grad_fn=<MulBackward0>),\n",
       " tensor([ 0.,  4.,  8., 12.]))"
      ]
     },
     "execution_count": 51,
     "metadata": {},
     "output_type": "execute_result"
    }
   ],
   "source": [
    "y = x * x\n",
    "# 等价于y.backward(torch.ones(len(x)))\n",
    "y.sum().backward()\n",
    "y,x.grad"
   ]
  },
  {
   "cell_type": "markdown",
   "id": "9ac0fccc",
   "metadata": {},
   "source": [
    "## 分离计算 .detach\n",
    "---\n",
    "假设y是作为x的函数计算的，而z则是作为y和x的函数计算的. 现在将y视为一个常数,求z关于x的偏导数"
   ]
  },
  {
   "cell_type": "code",
   "execution_count": 52,
   "id": "b6d62a77",
   "metadata": {},
   "outputs": [
    {
     "data": {
      "text/plain": [
       "tensor([True, True, True, True])"
      ]
     },
     "execution_count": 52,
     "metadata": {},
     "output_type": "execute_result"
    }
   ],
   "source": [
    "x.grad.zero_()\n",
    "y = x * x\n",
    "\n",
    "u = y.detach()    # 隔离变量  ( u与y具有相同的值,但丢弃计算图中如何计算y的任何信息,相当于一个常数 )\n",
    "z = u * x\n",
    "\n",
    "z.sum().backward()\n",
    "x.grad == u"
   ]
  },
  {
   "cell_type": "markdown",
   "id": "cfbf4085",
   "metadata": {},
   "source": [
    "---\n",
    "自动求导格式:\n",
    "```\n",
    "a = torch.randn(size=(), requires_grad=True)\n",
    "d = f(a)          # 具体函数\n",
    "d.backward()\n",
    "```"
   ]
  },
  {
   "cell_type": "markdown",
   "id": "7d12e140",
   "metadata": {},
   "source": [
    "---"
   ]
  },
  {
   "cell_type": "markdown",
   "id": "e34ae394",
   "metadata": {},
   "source": [
    "# 数据读入\n",
    "---\n",
    "PyTorch数据读入是通过Dataset+DataLoader的方式完成的\n",
    "\n",
    "Dataset定义好数据的格式和数据变换形式，DataLoader用iterative的方式不断读入批次数据"
   ]
  },
  {
   "cell_type": "markdown",
   "id": "c09f06aa",
   "metadata": {},
   "source": [
    "## Data_transform对图像预处理操作"
   ]
  },
  {
   "cell_type": "code",
   "execution_count": 1,
   "id": "08b1f372",
   "metadata": {},
   "outputs": [],
   "source": [
    "# 首先.数据变换格式\n",
    "from torchvision import transforms\n",
    "\n",
    "image_size = 28\n",
    "data_transform = transforms.Compose([\n",
    "    transforms.ToPILImage(),\n",
    "    transforms.Resize(image_size),                      # 统一大小\n",
    "    transforms.ToTensor()                               # 将PIL Image类型或numpy.ndarray类型的图片对象转换为tensor类型\n",
    "    transforms.RandomCrop(size, padding=None, pad_if_needed=False, fill=0, padding_mode=‘constant’)  \n",
    "    # 在图片的随机位置上进行裁剪并返回新的图片padding：表示图像每个边框上的可选填充。默认值是None \n",
    "    # pad_if_needed：如果图像小于所需大小，它将填充图像，以避免引发异常\n",
    "    # fill：表示像素填充值，默认值为0。如果元组长度为3，则用于分别填充R、G、B通道\n",
    "    # padding_mode：表示像素填充值的类型，默认是常值，也有边缘填充，反射和对称\n",
    "    \n",
    "    transforms.RandomHorizontalFlip(p=0.5)              # 以特定的概率将图片进行水平翻转\n",
    "    \n",
    "    transforms.TenCrop(size, vertical_flip=False)       # 输入必须是PIL的图片格式,\n",
    "    # 将一张图片的四个角和中心进行裁剪后，然后加上返回的翻转后共10张图片，其中默认翻转是水平翻转\n",
    "    \n",
    "    transforms.CenterCrop((228, 304))  #中心裁剪，裁成(228,304)的大小\n",
    "])"
   ]
  },
  {
   "cell_type": "markdown",
   "id": "e2dc6717",
   "metadata": {},
   "source": [
    "## 调用数据集"
   ]
  },
  {
   "cell_type": "code",
   "execution_count": null,
   "id": "8b88b305",
   "metadata": {},
   "outputs": [],
   "source": [
    "# 读取自带数据集MNIST\n",
    "from torchvision import datasets\n",
    "\n",
    "# root指示根目录,其中的子目录代表一个个图片\n",
    "train_dataset = datasets.MNIST(root='../dataset/mnist',train=True,transform=transforms.ToTensor(),download=True)\n",
    "\n",
    "test_dataset = datasets.MNIST(root='../dataset/mnist',train=False,transform=transforms.ToTensor(),download=True)\n",
    "\n",
    "train_loader = DataLoader(dataset=train_dataset,batch_size=32,shuffle=True)\n",
    "\n",
    "test_loader = DataLoader(dataset=test_dataset,batch_size=32,shuffle=False)"
   ]
  },
  {
   "cell_type": "code",
   "execution_count": null,
   "id": "1c86c475",
   "metadata": {},
   "outputs": [],
   "source": [
    "from torchvision import datasets\n",
    "\n",
    "train_data = datasets.ImageFolder(train_path, transform=data_transform)\n",
    "val_data = datasets.ImageFolder(val_path, transform=data_transform)\n",
    "# ImageFolder会将目录中的文件夹名自动转化成序列，每个文件夹下会存储相同的一个类别"
   ]
  },
  {
   "cell_type": "markdown",
   "id": "5e57eac7",
   "metadata": {},
   "source": [
    "```torchvision.datasets.ImageFolder()```函数假设所有的文件按文件夹保存，每个文件夹下存储同一个类别的图片，文件夹名为类名\n",
    "\n",
    "---\n",
    "参数列表：\n",
    "- root：图像文件读取路径 如: ```data_path = r'./data/train'```\n",
    "- transform：对图像数据采取的数据增强策略\n",
    "- target_transform：对label进行转换\n",
    "- loader：指定加载图像的函数\n",
    "- is_valid_file：获取图像路径，检查文件的有效性"
   ]
  },
  {
   "cell_type": "markdown",
   "id": "ac48e47a",
   "metadata": {},
   "source": [
    "## **自定义输入dataset**\n",
    "---"
   ]
  },
  {
   "cell_type": "markdown",
   "id": "b4cb9c7e",
   "metadata": {},
   "source": [
    "我们可以定义自己的Dataset类来实现灵活的数据读取，定义的类需要继承PyTorch自身的Dataset类。主要包含三个函数：\n",
    "\n",
    "- __ init __: 用于向类中传入外部参数，同时定义样本集\n",
    "\n",
    "- __ getitem __: 用于**逐个读取**样本集合中的元素，可以进行一定的变换，并将返回训练/验证所需的数据\n",
    "\n",
    "- __ len __: 用于返回数据集的样本数"
   ]
  },
  {
   "cell_type": "code",
   "execution_count": null,
   "id": "87b5ce89",
   "metadata": {},
   "outputs": [],
   "source": [
    "# 基本结构\n",
    "\n",
    "import torch\n",
    "from torch.utils.data import Dataset\n",
    "from torch.utils.data import DataLoader\n",
    "\n",
    "class MtDataset(Dataset):\n",
    "    def __init__(self):\n",
    "        pass\n",
    "    def __getitem__(self, index):\n",
    "        pass\n",
    "    def __len__(self):\n",
    "        pass\n",
    "    \n",
    "dataset = DiabetesDataset('输入')\n",
    "train_loader = DataLoader(dataset=dataset,batch_size=32,shuffle=True,num_workers=2)\n",
    "...\n",
    "if __name__ == '__main__':\n",
    "    for epoch in range(100):\n",
    "        for i,data in enumerate(train_loader, 0):\n",
    "            # 1.Prepare data"
   ]
  },
  {
   "cell_type": "code",
   "execution_count": null,
   "id": "c156d78d",
   "metadata": {},
   "outputs": [],
   "source": [
    "# 示例\n",
    "class DiabetesDataset(Dataset):\n",
    "    def __init__(self, filepath):\n",
    "        xy = np.loadtxt(filepath, delimiter=',',dtype=np.float32)\n",
    "        self.len = xy.shape[0]\n",
    "        self.x_data = torch.from_numpy(xy[:, :-1])\n",
    "        self.y_data = torch.from_numpy(xy[:, [-1]])\n",
    "    \n",
    "    def __getitem__(self, index):\n",
    "        return (self.x_data[index], self.y_data[index])\n",
    "    \n",
    "    def __len__(self):\n",
    "        return self.len\n",
    "\n",
    "dataset = DiabetesDataset('diabetes.csv.gz')\n",
    "train_loader = DataLoader(dataset=dataset, batch_size=32, shuffle=True, num_workers=2)\n",
    "\n",
    "for epoch in range(100):\n",
    "    for i, data in enumerate(train_loader, 0):\n",
    "        # 1. Prepare data\n",
    "        inputs, labels = data\n",
    "        # 2. Forward\n",
    "        y_pred = model(inputs)\n",
    "        loss = criterion(y_pred, labels)\n",
    "        print(epoch, i, loss.item())\n",
    "        # 3. Backward\n",
    "        optimizer.zero_grad()\n",
    "        loss.backward()\n",
    "        # 4. Update\n",
    "        optimizer.step()"
   ]
  },
  {
   "cell_type": "markdown",
   "id": "3db8ac6c",
   "metadata": {},
   "source": [
    "## DataLoader\n",
    "---"
   ]
  },
  {
   "cell_type": "markdown",
   "id": "d281c71a",
   "metadata": {},
   "source": [
    "```class torch.utils.data.DataLoader(dataset, batch_size=1, shuffle=False, sampler=None, batch_sampler=None, num_workers=0, collate_fn=None, pin_memory=False, drop_last=False, timeout=0, worker_init_fn=None, multiprocessing_context=None)```\n",
    "\n",
    "- **dataset**    (Dataset): 封装后的数据集。\n",
    "    \n",
    "- **batch_size**    (python:int,optional)): 每一批加载的样本量，默认值为1。\n",
    "    \n",
    "- **shuffle**   (bool,optional): 设置为True时,每一个epoch重新打乱数据顺序。\n",
    "    \n",
    "- **sampler**    (Sampler,optional): 定义在数据集中进行采样的策略，如果被指定，则False必须为shuffle。\n",
    "    \n",
    "- **batch_sampler**    (Sampler,optional): 类似sampler，但是一次返回一批索引。互斥有batch_size，shuffle，sampler和drop_last。\n",
    "    \n",
    "- **num_workers**    (python:int,optional): 多少个子进程用于数据加载。0表示将在主进程中加载数据,默认值为0。\n",
    "    \n",
    "- **collate_fn**     (callable,optional): 合并样本列表以形成张量的小批量。在从地图样式数据集中使用批量加载时使用。\n",
    "    \n",
    "- **pin_memory**    (bool,optional): 如果为True，则数据加载器在将张量返回之前将其复制到CUDA固定的内存中。\n",
    "    \n",
    "- **drop_last**    (bool,optional): 设置为True，如果数据集大小不能被该批次大小整除则删除最后一个不完整的批次。如果False，数据集的大小不能被批量大小整除，那么最后一个批量将更小，默认值为False。\n",
    "    \n",
    "- timeout    (numeric,optional): 如果为正，则为从worker收集批次的超时值。应始终为非负数,默认值为0。\n",
    "    \n",
    "- worker_init_fn    (callable,optional): 如果不是None，则在种子工作之后和数据加载之前，将在每个工作程序子进程上调用此程序，并以工作程序ID作为输入,取值为[0, num_workers - 1]或None。\n",
    "    \n"
   ]
  },
  {
   "cell_type": "code",
   "execution_count": null,
   "id": "86e7e8f5",
   "metadata": {},
   "outputs": [],
   "source": [
    "from torch.utils.data import DataLoader\n",
    "\n",
    "train_loader = DataLoader(train_data, batch_size=batch_size, num_workers=4, shuffle=True, drop_last=True)\n",
    "val_loader = DataLoader(val_data, batch_size=batch_size, num_workers=4, shuffle=False)"
   ]
  },
  {
   "cell_type": "markdown",
   "id": "3dc41031",
   "metadata": {},
   "source": [
    "其中:\n",
    "\n",
    "- batch_size：样本是按“批”读入的，batch_size就是每次读入的样本数\n",
    "\n",
    "- num_workers：有多少个进程用于读取数据，Windows下该参数设置为0，Linux下常见的为4或者8，根据自己的电脑配置来设置\n",
    "\n",
    "- shuffle：是否将读入的数据打乱，一般在训练集中设置为True，验证集中设置为False\n",
    "\n",
    "- drop_last：对于样本最后一部分没有达到批次数的样本，使其不再参与训练"
   ]
  },
  {
   "cell_type": "markdown",
   "id": "3f72487e",
   "metadata": {},
   "source": [
    "---"
   ]
  },
  {
   "cell_type": "markdown",
   "id": "8aab9e37",
   "metadata": {},
   "source": [
    "# 线性模型的初步实现"
   ]
  },
  {
   "cell_type": "code",
   "execution_count": 32,
   "id": "5add1354",
   "metadata": {},
   "outputs": [
    {
     "data": {
      "text/plain": [
       "tensor([[True],\n",
       "        [True],\n",
       "        [True],\n",
       "        [True],\n",
       "        [True],\n",
       "        [True],\n",
       "        [True],\n",
       "        [True],\n",
       "        [True],\n",
       "        [True],\n",
       "        [True]])"
      ]
     },
     "execution_count": 32,
     "metadata": {},
     "output_type": "execute_result"
    }
   ],
   "source": [
    "x_values = [i for i in range(11)]\n",
    "x_train = np.array(x_values, dtype=np.float32)\n",
    "x_train = x_train.reshape(-1, 1)\n",
    "\n",
    "y_values = [2*i + 1 for i in x_values]\n",
    "y_train = np.array(y_values, dtype=np.float32)\n",
    "y_train = y_train.reshape(-1, 1)\n",
    "\n",
    "(x_train, y_train) = map(torch.tensor,(x_train,y_train))  # 变换类型\n",
    "\n",
    "x_train* 2 + 1 == y_train   # 关系式"
   ]
  },
  {
   "cell_type": "code",
   "execution_count": 40,
   "id": "a94ca184",
   "metadata": {},
   "outputs": [
    {
     "name": "stdout",
     "output_type": "stream",
     "text": [
      "epoch 50, loss 0.25932803750038147\n",
      "epoch 100, loss 0.14791102707386017\n",
      "epoch 150, loss 0.08436289429664612\n",
      "epoch 200, loss 0.04811738803982735\n",
      "epoch 250, loss 0.027444344013929367\n",
      "epoch 300, loss 0.015653295442461967\n",
      "epoch 350, loss 0.008928012102842331\n",
      "epoch 400, loss 0.005092208739370108\n",
      "epoch 450, loss 0.0029044297989457846\n",
      "epoch 500, loss 0.0016565740806981921\n",
      "epoch 550, loss 0.0009448457858525217\n",
      "epoch 600, loss 0.0005389078869484365\n",
      "epoch 650, loss 0.0003073711704928428\n",
      "epoch 700, loss 0.00017531272897031158\n",
      "epoch 750, loss 9.999747999245301e-05\n",
      "epoch 800, loss 5.703233182430267e-05\n",
      "epoch 850, loss 3.2528794690733775e-05\n",
      "epoch 900, loss 1.8552012988948263e-05\n",
      "epoch 950, loss 1.058323778124759e-05\n",
      "epoch 1000, loss 6.034894795448054e-06\n",
      "w =  2.0006582736968994\n",
      "b =  0.9954299330711365\n",
      "y_pred =  tensor([[8.9981]])\n"
     ]
    }
   ],
   "source": [
    "import torch\n",
    "import torch.nn as nn\n",
    "\n",
    "class LinearRegressionModel(torch.nn.Module):\n",
    "    def __init__(self, input_dim, output_dim):\n",
    "        super(LinearModel, self).__init__()\n",
    "        self.linear = torch.nn.Linear(input_dim, output_dim)\n",
    "    \n",
    "    def forward(self, x):\n",
    "        y_pred = self.linear(x)\n",
    "        return y_pred\n",
    "\n",
    "model = LinearModel(1,1)\n",
    "\n",
    "#-传入GPU---------------------------------------------------------------------\n",
    "device = torch.device(\"cuda:0\" if torch.cuda.is_available() else \"cpu\")\n",
    "model.to(device)\n",
    "\n",
    "inputs = x_train.to(device)\n",
    "labels = y_train.to(device)\n",
    "#-------------------------------------------------------------------------------\n",
    "\n",
    "epochs_num = 1000\n",
    "learning_rate = 0.01\n",
    "\n",
    "criterion = torch.nn.MSELoss()\n",
    "optimizer = torch.optim.SGD(model.parameters(), lr=learning_rate)\n",
    "\n",
    "for epoch in range(epochs_num):\n",
    "    y_pred = model(inputs)\n",
    "    loss = criterion(y_pred,labels)\n",
    "    if (epoch + 1) % 50 == 0:\n",
    "        print(f'epoch {epoch + 1}, loss {loss.item()}') \n",
    "    optimizer.zero_grad()\n",
    "    loss.backward()\n",
    "    optimizer.step()\n",
    "print('w = ',model.linear.weight.item())\n",
    "print('b = ',model.linear.bias.item())\n",
    "x_test = torch.Tensor([[4.0]])\n",
    "y_test = model(x_test)\n",
    "print('y_pred = ',y_test.data)"
   ]
  },
  {
   "cell_type": "markdown",
   "id": "b9177a49",
   "metadata": {},
   "source": [
    "## 模型的保存"
   ]
  },
  {
   "cell_type": "code",
   "execution_count": null,
   "id": "3ab29b21",
   "metadata": {},
   "outputs": [],
   "source": [
    "torch.save(model.state_dict(), 'model.pkl')   # state_dict保存模型参数、超参数"
   ]
  },
  {
   "cell_type": "code",
   "execution_count": null,
   "id": "a5197a83",
   "metadata": {},
   "outputs": [],
   "source": [
    "model.load_state_dict(torch.load('model.pkl'))     # 加载参数"
   ]
  },
  {
   "cell_type": "markdown",
   "id": "2e51c438",
   "metadata": {},
   "source": [
    "#  使用GPU进行训练\n",
    "---\n",
    "- 只需要把数据和模型传入到cuda里面就可以了"
   ]
  },
  {
   "cell_type": "code",
   "execution_count": null,
   "id": "1e9614a8",
   "metadata": {},
   "outputs": [],
   "source": [
    "# device = torch.device(\"cuda:0\" if torch.cuda.is_available() else \"cpu\")\n",
    "# model.to(device)\n",
    "# inputs = torch.from_numpy(x_train).to(device)\n",
    "# labels = torch.from_numpy(y_train).to(device)"
   ]
  },
  {
   "cell_type": "markdown",
   "id": "e7e72aff",
   "metadata": {},
   "source": [
    "---"
   ]
  },
  {
   "cell_type": "markdown",
   "id": "8aefad1a",
   "metadata": {},
   "source": [
    "# 实战示例1---气温预测"
   ]
  },
  {
   "cell_type": "code",
   "execution_count": 26,
   "id": "af2a7a53",
   "metadata": {},
   "outputs": [],
   "source": [
    "import numpy as np\n",
    "import pandas as pd \n",
    "import matplotlib.pyplot as plt\n",
    "import torch\n",
    "import torch.optim as optim"
   ]
  },
  {
   "cell_type": "markdown",
   "id": "b99c0462",
   "metadata": {},
   "source": [
    "## 读取数据---处理数据 .csv"
   ]
  },
  {
   "cell_type": "code",
   "execution_count": 52,
   "id": "82050a0c",
   "metadata": {},
   "outputs": [],
   "source": [
    "# 读取为DataFrame方便查看\n",
    "features = pd.read_csv('data/temps.csv')"
   ]
  },
  {
   "cell_type": "code",
   "execution_count": 53,
   "id": "994a53c5",
   "metadata": {},
   "outputs": [
    {
     "data": {
      "text/plain": [
       "(   year  month  day  week  temp_2  temp_1  average  actual  friend\n",
       " 0  2016      1    1   Fri      45      45     45.6      45      29\n",
       " 1  2016      1    2   Sat      44      45     45.7      44      61\n",
       " 2  2016      1    3   Sun      45      44     45.8      41      56\n",
       " 3  2016      1    4   Mon      44      41     45.9      40      53\n",
       " 4  2016      1    5  Tues      41      40     46.0      44      41,\n",
       " (348, 9))"
      ]
     },
     "execution_count": 53,
     "metadata": {},
     "output_type": "execute_result"
    }
   ],
   "source": [
    "features.head(), features.shape"
   ]
  },
  {
   "cell_type": "markdown",
   "id": "29c413a7",
   "metadata": {},
   "source": [
    "数据表中\n",
    "* year,moth,day,week分别表示的具体的时间\n",
    "* temp_2：前天的最高温度值\n",
    "* temp_1：昨天的最高温度值\n",
    "* average：在历史中，每年这一天的平均最高温度值\n",
    "* actual：这就是我们的标签值了，当天的真实最高温度\n",
    "* friend：这一列可能是凑热闹的，你的朋友猜测的可能值，咱们不管它就好了"
   ]
  },
  {
   "cell_type": "code",
   "execution_count": 54,
   "id": "5070e700",
   "metadata": {},
   "outputs": [
    {
     "data": {
      "text/html": [
       "<div>\n",
       "<style scoped>\n",
       "    .dataframe tbody tr th:only-of-type {\n",
       "        vertical-align: middle;\n",
       "    }\n",
       "\n",
       "    .dataframe tbody tr th {\n",
       "        vertical-align: top;\n",
       "    }\n",
       "\n",
       "    .dataframe thead th {\n",
       "        text-align: right;\n",
       "    }\n",
       "</style>\n",
       "<table border=\"1\" class=\"dataframe\">\n",
       "  <thead>\n",
       "    <tr style=\"text-align: right;\">\n",
       "      <th></th>\n",
       "      <th>year</th>\n",
       "      <th>month</th>\n",
       "      <th>day</th>\n",
       "      <th>temp_2</th>\n",
       "      <th>temp_1</th>\n",
       "      <th>average</th>\n",
       "      <th>actual</th>\n",
       "      <th>friend</th>\n",
       "      <th>week_Fri</th>\n",
       "      <th>week_Mon</th>\n",
       "      <th>week_Sat</th>\n",
       "      <th>week_Sun</th>\n",
       "      <th>week_Thurs</th>\n",
       "      <th>week_Tues</th>\n",
       "      <th>week_Wed</th>\n",
       "    </tr>\n",
       "  </thead>\n",
       "  <tbody>\n",
       "    <tr>\n",
       "      <th>0</th>\n",
       "      <td>2016</td>\n",
       "      <td>1</td>\n",
       "      <td>1</td>\n",
       "      <td>45</td>\n",
       "      <td>45</td>\n",
       "      <td>45.6</td>\n",
       "      <td>45</td>\n",
       "      <td>29</td>\n",
       "      <td>1</td>\n",
       "      <td>0</td>\n",
       "      <td>0</td>\n",
       "      <td>0</td>\n",
       "      <td>0</td>\n",
       "      <td>0</td>\n",
       "      <td>0</td>\n",
       "    </tr>\n",
       "    <tr>\n",
       "      <th>1</th>\n",
       "      <td>2016</td>\n",
       "      <td>1</td>\n",
       "      <td>2</td>\n",
       "      <td>44</td>\n",
       "      <td>45</td>\n",
       "      <td>45.7</td>\n",
       "      <td>44</td>\n",
       "      <td>61</td>\n",
       "      <td>0</td>\n",
       "      <td>0</td>\n",
       "      <td>1</td>\n",
       "      <td>0</td>\n",
       "      <td>0</td>\n",
       "      <td>0</td>\n",
       "      <td>0</td>\n",
       "    </tr>\n",
       "    <tr>\n",
       "      <th>2</th>\n",
       "      <td>2016</td>\n",
       "      <td>1</td>\n",
       "      <td>3</td>\n",
       "      <td>45</td>\n",
       "      <td>44</td>\n",
       "      <td>45.8</td>\n",
       "      <td>41</td>\n",
       "      <td>56</td>\n",
       "      <td>0</td>\n",
       "      <td>0</td>\n",
       "      <td>0</td>\n",
       "      <td>1</td>\n",
       "      <td>0</td>\n",
       "      <td>0</td>\n",
       "      <td>0</td>\n",
       "    </tr>\n",
       "    <tr>\n",
       "      <th>3</th>\n",
       "      <td>2016</td>\n",
       "      <td>1</td>\n",
       "      <td>4</td>\n",
       "      <td>44</td>\n",
       "      <td>41</td>\n",
       "      <td>45.9</td>\n",
       "      <td>40</td>\n",
       "      <td>53</td>\n",
       "      <td>0</td>\n",
       "      <td>1</td>\n",
       "      <td>0</td>\n",
       "      <td>0</td>\n",
       "      <td>0</td>\n",
       "      <td>0</td>\n",
       "      <td>0</td>\n",
       "    </tr>\n",
       "    <tr>\n",
       "      <th>4</th>\n",
       "      <td>2016</td>\n",
       "      <td>1</td>\n",
       "      <td>5</td>\n",
       "      <td>41</td>\n",
       "      <td>40</td>\n",
       "      <td>46.0</td>\n",
       "      <td>44</td>\n",
       "      <td>41</td>\n",
       "      <td>0</td>\n",
       "      <td>0</td>\n",
       "      <td>0</td>\n",
       "      <td>0</td>\n",
       "      <td>0</td>\n",
       "      <td>1</td>\n",
       "      <td>0</td>\n",
       "    </tr>\n",
       "  </tbody>\n",
       "</table>\n",
       "</div>"
      ],
      "text/plain": [
       "   year  month  day  temp_2  temp_1  average  actual  friend  week_Fri  \\\n",
       "0  2016      1    1      45      45     45.6      45      29         1   \n",
       "1  2016      1    2      44      45     45.7      44      61         0   \n",
       "2  2016      1    3      45      44     45.8      41      56         0   \n",
       "3  2016      1    4      44      41     45.9      40      53         0   \n",
       "4  2016      1    5      41      40     46.0      44      41         0   \n",
       "\n",
       "   week_Mon  week_Sat  week_Sun  week_Thurs  week_Tues  week_Wed  \n",
       "0         0         0         0           0          0         0  \n",
       "1         0         1         0           0          0         0  \n",
       "2         0         0         1           0          0         0  \n",
       "3         1         0         0           0          0         0  \n",
       "4         0         0         0           0          1         0  "
      ]
     },
     "execution_count": 54,
     "metadata": {},
     "output_type": "execute_result"
    }
   ],
   "source": [
    "# 对类型文本, 处理为'独热码'\n",
    "features = pd.get_dummies(features)\n",
    "features.head(5)"
   ]
  },
  {
   "cell_type": "markdown",
   "id": "27194367",
   "metadata": {},
   "source": [
    "## 处理时间数据"
   ]
  },
  {
   "cell_type": "code",
   "execution_count": 58,
   "id": "bbfa3086",
   "metadata": {},
   "outputs": [
    {
     "name": "stdout",
     "output_type": "stream",
     "text": [
      "['2016-1-1', '2016-1-2', '2016-1-3', '2016-1-4', '2016-1-5']\n",
      "[datetime.datetime(2016, 1, 1, 0, 0), datetime.datetime(2016, 1, 2, 0, 0), datetime.datetime(2016, 1, 3, 0, 0), datetime.datetime(2016, 1, 4, 0, 0), datetime.datetime(2016, 1, 5, 0, 0)]\n"
     ]
    }
   ],
   "source": [
    "# 处理时间数据\n",
    "import datetime\n",
    "\n",
    "# 分别得到年，月，日\n",
    "years = features['year']\n",
    "months = features['month']\n",
    "days = features['day']\n",
    "\n",
    "# datetime格式\n",
    "dates = [str(int(year)) + '-' + str(int(month)) + '-' + str(int(day)) for year, month, day in zip(years, months, days)]\n",
    "print(dates[:5])\n",
    "dates = [datetime.datetime.strptime(date, '%Y-%m-%d') for date in dates]     # 转化为datetime.datetime:日期和时间表示的类\n",
    "print(dates[:5])"
   ]
  },
  {
   "cell_type": "markdown",
   "id": "ef89a3a9",
   "metadata": {},
   "source": [
    "## 获取对应数据 features / labels"
   ]
  },
  {
   "cell_type": "code",
   "execution_count": 42,
   "id": "afb752a6",
   "metadata": {},
   "outputs": [],
   "source": [
    "# 标签\n",
    "labels = np.array(features['actual'])\n",
    "# 在特征中去掉标签\n",
    "features= features.drop('actual', axis = 1)\n",
    "# 特征名单独保存\n",
    "feature_list = list(features.columns)\n",
    "# 转换成合适的格式\n",
    "features = np.array(features)"
   ]
  },
  {
   "cell_type": "code",
   "execution_count": 43,
   "id": "57bada11",
   "metadata": {},
   "outputs": [
    {
     "data": {
      "text/plain": [
       "array([[2.016e+03, 1.000e+00, 1.000e+00, ..., 0.000e+00, 0.000e+00,\n",
       "        0.000e+00],\n",
       "       [2.016e+03, 1.000e+00, 2.000e+00, ..., 0.000e+00, 0.000e+00,\n",
       "        0.000e+00],\n",
       "       [2.016e+03, 1.000e+00, 3.000e+00, ..., 0.000e+00, 0.000e+00,\n",
       "        0.000e+00],\n",
       "       ...,\n",
       "       [2.016e+03, 1.200e+01, 2.900e+01, ..., 1.000e+00, 0.000e+00,\n",
       "        0.000e+00],\n",
       "       [2.016e+03, 1.200e+01, 3.000e+01, ..., 0.000e+00, 0.000e+00,\n",
       "        0.000e+00],\n",
       "       [2.016e+03, 1.200e+01, 3.100e+01, ..., 0.000e+00, 0.000e+00,\n",
       "        0.000e+00]])"
      ]
     },
     "execution_count": 43,
     "metadata": {},
     "output_type": "execute_result"
    }
   ],
   "source": [
    "features"
   ]
  },
  {
   "cell_type": "code",
   "execution_count": 44,
   "id": "0bdda08b",
   "metadata": {},
   "outputs": [],
   "source": [
    "from sklearn.preprocessing import StandardScaler\n",
    "input_features = StandardScaler().fit_transform(features)"
   ]
  },
  {
   "cell_type": "markdown",
   "id": "b103cddc",
   "metadata": {},
   "source": [
    "## 构建神经网络"
   ]
  },
  {
   "cell_type": "code",
   "execution_count": 45,
   "id": "178bd092",
   "metadata": {},
   "outputs": [],
   "source": [
    "input_size = input_features.shape[1]\n",
    "hidden_size = 128\n",
    "output_size = 1\n",
    "batch_size = 16\n",
    "\n",
    "my_nn = torch.nn.Sequential(\n",
    "    torch.nn.Linear(input_size, hidden_size),\n",
    "    torch.nn.Sigmoid(),\n",
    "    torch.nn.Linear(hidden_size, output_size),\n",
    ")\n",
    "cost = torch.nn.MSELoss(reduction='mean')\n",
    "optimizer = torch.optim.Adam(my_nn.parameters(), lr = 0.001)"
   ]
  },
  {
   "cell_type": "code",
   "execution_count": 46,
   "id": "9b1a8942",
   "metadata": {},
   "outputs": [
    {
     "name": "stderr",
     "output_type": "stream",
     "text": [
      "C:\\Users\\36085\\anaconda3\\Lib\\site-packages\\torch\\nn\\modules\\loss.py:536: UserWarning: Using a target size (torch.Size([16])) that is different to the input size (torch.Size([16, 1])). This will likely lead to incorrect results due to broadcasting. Please ensure they have the same size.\n",
      "  return F.mse_loss(input, target, reduction=self.reduction)\n",
      "C:\\Users\\36085\\anaconda3\\Lib\\site-packages\\torch\\nn\\modules\\loss.py:536: UserWarning: Using a target size (torch.Size([12])) that is different to the input size (torch.Size([12, 1])). This will likely lead to incorrect results due to broadcasting. Please ensure they have the same size.\n",
      "  return F.mse_loss(input, target, reduction=self.reduction)\n"
     ]
    },
    {
     "name": "stdout",
     "output_type": "stream",
     "text": [
      "0 3903.1885\n",
      "100 37.67731\n",
      "200 35.6348\n",
      "300 35.288548\n",
      "400 35.117847\n",
      "500 34.981003\n",
      "600 34.85717\n",
      "700 34.73285\n",
      "800 34.60365\n",
      "900 34.4691\n"
     ]
    }
   ],
   "source": [
    "# 训练网络\n",
    "losses = []\n",
    "for i in range(1000):\n",
    "    batch_loss = []\n",
    "    # MINI-Batch方法来进行训练\n",
    "    for start in range(0, len(input_features), batch_size):\n",
    "        end = start + batch_size if start + batch_size < len(input_features) else len(input_features)\n",
    "        xx = torch.tensor(input_features[start:end], dtype = torch.float, requires_grad = True)\n",
    "        yy = torch.tensor(labels[start:end], dtype = torch.float, requires_grad = True)\n",
    "        prediction = my_nn(xx)\n",
    "        loss = cost(prediction, yy)\n",
    "        optimizer.zero_grad()\n",
    "        loss.backward(retain_graph=True)\n",
    "        optimizer.step()\n",
    "        batch_loss.append(loss.data.numpy())\n",
    "    \n",
    "    # 打印损失\n",
    "    if i % 100==0:\n",
    "        losses.append(np.mean(batch_loss))\n",
    "        print(i, np.mean(batch_loss))"
   ]
  },
  {
   "cell_type": "markdown",
   "id": "62d06cdc",
   "metadata": {},
   "source": [
    "## 预测"
   ]
  },
  {
   "cell_type": "code",
   "execution_count": 47,
   "id": "df2274b8",
   "metadata": {},
   "outputs": [],
   "source": [
    "x = torch.tensor(input_features, dtype = torch.float)\n",
    "predict = my_nn(x).data.numpy()"
   ]
  },
  {
   "cell_type": "code",
   "execution_count": 48,
   "id": "7943d8f0",
   "metadata": {},
   "outputs": [],
   "source": [
    "# 转换日期格式\n",
    "dates = [str(int(year)) + '-' + str(int(month)) + '-' + str(int(day)) for year, month, day in zip(years, months, days)]\n",
    "dates = [datetime.datetime.strptime(date, '%Y-%m-%d') for date in dates]\n",
    "\n",
    "# 创建一个表格来存日期和其对应的标签数值\n",
    "true_data = pd.DataFrame(data = {'date': dates, 'actual': labels})\n",
    "\n",
    "# 同理，再创建一个来存日期和其对应的模型预测值\n",
    "months = features[:, feature_list.index('month')]\n",
    "days = features[:, feature_list.index('day')]\n",
    "years = features[:, feature_list.index('year')]\n",
    "\n",
    "test_dates = [str(int(year)) + '-' + str(int(month)) + '-' + str(int(day)) for year, month, day in zip(years, months, days)]\n",
    "test_dates = [datetime.datetime.strptime(date, '%Y-%m-%d') for date in test_dates]\n",
    "\n",
    "predictions_data = pd.DataFrame(data = {'date': test_dates, 'prediction': predict.reshape(-1)}) "
   ]
  },
  {
   "cell_type": "code",
   "execution_count": 50,
   "id": "561fe1d2",
   "metadata": {},
   "outputs": [
    {
     "data": {
      "image/png": "[encoded data removed]",
      "text/plain": [
       "<Figure size 640x480 with 1 Axes>"
      ]
     },
     "metadata": {},
     "output_type": "display_data"
    }
   ],
   "source": [
    "# 真实值\n",
    "plt.plot(true_data['date'], true_data['actual'], 'b-', label = 'actual')\n",
    "# 预测值\n",
    "plt.plot(predictions_data['date'], predictions_data['prediction'], 'ro', label = 'prediction')\n",
    "\n",
    "plt.xticks(rotation = 60); \n",
    "plt.legend()\n",
    "\n",
    "# 图名\n",
    "plt.xlabel('Date'); plt.ylabel('Maximum Temperature (F)'); plt.title('Actual and Predicted Values');"
   ]
  },
  {
   "cell_type": "code",
   "execution_count": null,
   "id": "b243a092",
   "metadata": {},
   "outputs": [],
   "source": []
  }
 ],
 "metadata": {
  "kernelspec": {
   "display_name": "Python 3 (ipykernel)",
   "language": "python",
   "name": "python3"
  },
  "language_info": {
   "codemirror_mode": {
    "name": "ipython",
    "version": 3
   },
   "file_extension": ".py",
   "mimetype": "text/x-python",
   "name": "python",
   "nbconvert_exporter": "python",
   "pygments_lexer": "ipython3",
   "version": "3.11.3"
  },
  "toc": {
   "base_numbering": 1,
   "nav_menu": {},
   "number_sections": true,
   "sideBar": true,
   "skip_h1_title": false,
   "title_cell": "Table of Contents",
   "title_sidebar": "Contents",
   "toc_cell": true,
   "toc_position": {
    "height": "calc(100% - 180px)",
    "left": "10px",
    "top": "150px",
    "width": "341.448px"
   },
   "toc_section_display": true,
   "toc_window_display": true
  }
 },
 "nbformat": 4,
 "nbformat_minor": 5
}
