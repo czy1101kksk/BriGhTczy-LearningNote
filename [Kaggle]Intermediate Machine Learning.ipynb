{
 "cells": [
  {
   "cell_type": "markdown",
   "id": "fb6f1e17",
   "metadata": {},
   "source": [
    "## Missing Values"
   ]
  },
  {
   "cell_type": "code",
   "execution_count": 3,
   "id": "9ddf2520",
   "metadata": {},
   "outputs": [],
   "source": [
    "import pandas as pd\n",
    "from sklearn.model_selection import train_test_split\n",
    "from sklearn.ensemble import RandomForestRegressor\n",
    "from sklearn.metrics import mean_absolute_error"
   ]
  },
  {
   "cell_type": "code",
   "execution_count": 4,
   "id": "0e3b9e14",
   "metadata": {},
   "outputs": [
    {
     "data": {
      "text/html": [
       "<div>\n",
       "<style scoped>\n",
       "    .dataframe tbody tr th:only-of-type {\n",
       "        vertical-align: middle;\n",
       "    }\n",
       "\n",
       "    .dataframe tbody tr th {\n",
       "        vertical-align: top;\n",
       "    }\n",
       "\n",
       "    .dataframe thead th {\n",
       "        text-align: right;\n",
       "    }\n",
       "</style>\n",
       "<table border=\"1\" class=\"dataframe\">\n",
       "  <thead>\n",
       "    <tr style=\"text-align: right;\">\n",
       "      <th></th>\n",
       "      <th>Rooms</th>\n",
       "      <th>Distance</th>\n",
       "      <th>Postcode</th>\n",
       "      <th>Bedroom2</th>\n",
       "      <th>Bathroom</th>\n",
       "      <th>Car</th>\n",
       "      <th>Landsize</th>\n",
       "      <th>BuildingArea</th>\n",
       "      <th>YearBuilt</th>\n",
       "      <th>Lattitude</th>\n",
       "      <th>Longtitude</th>\n",
       "      <th>Propertycount</th>\n",
       "    </tr>\n",
       "  </thead>\n",
       "  <tbody>\n",
       "    <tr>\n",
       "      <th>0</th>\n",
       "      <td>2</td>\n",
       "      <td>2.5</td>\n",
       "      <td>3067.0</td>\n",
       "      <td>2.0</td>\n",
       "      <td>1.0</td>\n",
       "      <td>1.0</td>\n",
       "      <td>202.0</td>\n",
       "      <td>NaN</td>\n",
       "      <td>NaN</td>\n",
       "      <td>-37.79960</td>\n",
       "      <td>144.99840</td>\n",
       "      <td>4019.0</td>\n",
       "    </tr>\n",
       "    <tr>\n",
       "      <th>1</th>\n",
       "      <td>2</td>\n",
       "      <td>2.5</td>\n",
       "      <td>3067.0</td>\n",
       "      <td>2.0</td>\n",
       "      <td>1.0</td>\n",
       "      <td>0.0</td>\n",
       "      <td>156.0</td>\n",
       "      <td>79.0</td>\n",
       "      <td>1900.0</td>\n",
       "      <td>-37.80790</td>\n",
       "      <td>144.99340</td>\n",
       "      <td>4019.0</td>\n",
       "    </tr>\n",
       "    <tr>\n",
       "      <th>2</th>\n",
       "      <td>3</td>\n",
       "      <td>2.5</td>\n",
       "      <td>3067.0</td>\n",
       "      <td>3.0</td>\n",
       "      <td>2.0</td>\n",
       "      <td>0.0</td>\n",
       "      <td>134.0</td>\n",
       "      <td>150.0</td>\n",
       "      <td>1900.0</td>\n",
       "      <td>-37.80930</td>\n",
       "      <td>144.99440</td>\n",
       "      <td>4019.0</td>\n",
       "    </tr>\n",
       "    <tr>\n",
       "      <th>3</th>\n",
       "      <td>3</td>\n",
       "      <td>2.5</td>\n",
       "      <td>3067.0</td>\n",
       "      <td>3.0</td>\n",
       "      <td>2.0</td>\n",
       "      <td>1.0</td>\n",
       "      <td>94.0</td>\n",
       "      <td>NaN</td>\n",
       "      <td>NaN</td>\n",
       "      <td>-37.79690</td>\n",
       "      <td>144.99690</td>\n",
       "      <td>4019.0</td>\n",
       "    </tr>\n",
       "    <tr>\n",
       "      <th>4</th>\n",
       "      <td>4</td>\n",
       "      <td>2.5</td>\n",
       "      <td>3067.0</td>\n",
       "      <td>3.0</td>\n",
       "      <td>1.0</td>\n",
       "      <td>2.0</td>\n",
       "      <td>120.0</td>\n",
       "      <td>142.0</td>\n",
       "      <td>2014.0</td>\n",
       "      <td>-37.80720</td>\n",
       "      <td>144.99410</td>\n",
       "      <td>4019.0</td>\n",
       "    </tr>\n",
       "    <tr>\n",
       "      <th>...</th>\n",
       "      <td>...</td>\n",
       "      <td>...</td>\n",
       "      <td>...</td>\n",
       "      <td>...</td>\n",
       "      <td>...</td>\n",
       "      <td>...</td>\n",
       "      <td>...</td>\n",
       "      <td>...</td>\n",
       "      <td>...</td>\n",
       "      <td>...</td>\n",
       "      <td>...</td>\n",
       "      <td>...</td>\n",
       "    </tr>\n",
       "    <tr>\n",
       "      <th>13575</th>\n",
       "      <td>4</td>\n",
       "      <td>16.7</td>\n",
       "      <td>3150.0</td>\n",
       "      <td>4.0</td>\n",
       "      <td>2.0</td>\n",
       "      <td>2.0</td>\n",
       "      <td>652.0</td>\n",
       "      <td>NaN</td>\n",
       "      <td>1981.0</td>\n",
       "      <td>-37.90562</td>\n",
       "      <td>145.16761</td>\n",
       "      <td>7392.0</td>\n",
       "    </tr>\n",
       "    <tr>\n",
       "      <th>13576</th>\n",
       "      <td>3</td>\n",
       "      <td>6.8</td>\n",
       "      <td>3016.0</td>\n",
       "      <td>3.0</td>\n",
       "      <td>2.0</td>\n",
       "      <td>2.0</td>\n",
       "      <td>333.0</td>\n",
       "      <td>133.0</td>\n",
       "      <td>1995.0</td>\n",
       "      <td>-37.85927</td>\n",
       "      <td>144.87904</td>\n",
       "      <td>6380.0</td>\n",
       "    </tr>\n",
       "    <tr>\n",
       "      <th>13577</th>\n",
       "      <td>3</td>\n",
       "      <td>6.8</td>\n",
       "      <td>3016.0</td>\n",
       "      <td>3.0</td>\n",
       "      <td>2.0</td>\n",
       "      <td>4.0</td>\n",
       "      <td>436.0</td>\n",
       "      <td>NaN</td>\n",
       "      <td>1997.0</td>\n",
       "      <td>-37.85274</td>\n",
       "      <td>144.88738</td>\n",
       "      <td>6380.0</td>\n",
       "    </tr>\n",
       "    <tr>\n",
       "      <th>13578</th>\n",
       "      <td>4</td>\n",
       "      <td>6.8</td>\n",
       "      <td>3016.0</td>\n",
       "      <td>4.0</td>\n",
       "      <td>1.0</td>\n",
       "      <td>5.0</td>\n",
       "      <td>866.0</td>\n",
       "      <td>157.0</td>\n",
       "      <td>1920.0</td>\n",
       "      <td>-37.85908</td>\n",
       "      <td>144.89299</td>\n",
       "      <td>6380.0</td>\n",
       "    </tr>\n",
       "    <tr>\n",
       "      <th>13579</th>\n",
       "      <td>4</td>\n",
       "      <td>6.3</td>\n",
       "      <td>3013.0</td>\n",
       "      <td>4.0</td>\n",
       "      <td>1.0</td>\n",
       "      <td>1.0</td>\n",
       "      <td>362.0</td>\n",
       "      <td>112.0</td>\n",
       "      <td>1920.0</td>\n",
       "      <td>-37.81188</td>\n",
       "      <td>144.88449</td>\n",
       "      <td>6543.0</td>\n",
       "    </tr>\n",
       "  </tbody>\n",
       "</table>\n",
       "<p>13580 rows × 12 columns</p>\n",
       "</div>"
      ],
      "text/plain": [
       "       Rooms  Distance  Postcode  Bedroom2  Bathroom  Car  Landsize  \\\n",
       "0          2       2.5    3067.0       2.0       1.0  1.0     202.0   \n",
       "1          2       2.5    3067.0       2.0       1.0  0.0     156.0   \n",
       "2          3       2.5    3067.0       3.0       2.0  0.0     134.0   \n",
       "3          3       2.5    3067.0       3.0       2.0  1.0      94.0   \n",
       "4          4       2.5    3067.0       3.0       1.0  2.0     120.0   \n",
       "...      ...       ...       ...       ...       ...  ...       ...   \n",
       "13575      4      16.7    3150.0       4.0       2.0  2.0     652.0   \n",
       "13576      3       6.8    3016.0       3.0       2.0  2.0     333.0   \n",
       "13577      3       6.8    3016.0       3.0       2.0  4.0     436.0   \n",
       "13578      4       6.8    3016.0       4.0       1.0  5.0     866.0   \n",
       "13579      4       6.3    3013.0       4.0       1.0  1.0     362.0   \n",
       "\n",
       "       BuildingArea  YearBuilt  Lattitude  Longtitude  Propertycount  \n",
       "0               NaN        NaN  -37.79960   144.99840         4019.0  \n",
       "1              79.0     1900.0  -37.80790   144.99340         4019.0  \n",
       "2             150.0     1900.0  -37.80930   144.99440         4019.0  \n",
       "3               NaN        NaN  -37.79690   144.99690         4019.0  \n",
       "4             142.0     2014.0  -37.80720   144.99410         4019.0  \n",
       "...             ...        ...        ...         ...            ...  \n",
       "13575           NaN     1981.0  -37.90562   145.16761         7392.0  \n",
       "13576         133.0     1995.0  -37.85927   144.87904         6380.0  \n",
       "13577           NaN     1997.0  -37.85274   144.88738         6380.0  \n",
       "13578         157.0     1920.0  -37.85908   144.89299         6380.0  \n",
       "13579         112.0     1920.0  -37.81188   144.88449         6543.0  \n",
       "\n",
       "[13580 rows x 12 columns]"
      ]
     },
     "execution_count": 4,
     "metadata": {},
     "output_type": "execute_result"
    }
   ],
   "source": [
    "# 将文件路径保存到变量中，以便更方便地访问\n",
    "melbourne_file_path = r'C:\\Users\\36085\\Desktop\\Python code\\data\\melb_data.csv'  # 输入数据地址 (在路径前面加r，即保持字符原始值的意思)\n",
    "\n",
    "# 读取数据并将数据存储在名为\"melbourne_data\"的DataFrame中\n",
    "data = pd.read_csv(melbourne_file_path) \n",
    "melb_predictors = data.drop(['Price'], axis=1)        # .drop()删除行列\n",
    "X = melb_predictors.select_dtypes(exclude=['object']) # 选择除数据类型为object的列之外的所有列 (剔去文字)\n",
    "\n",
    "y = data.Price\n",
    "X_train, X_valid, y_train, y_valid = train_test_split(X, y, train_size=0.8, test_size=0.2,\n",
    "                                                      random_state=0)\n",
    "\n",
    "X   # 数据中存在NaN"
   ]
  },
  {
   "cell_type": "markdown",
   "id": "61ed42f2",
   "metadata": {},
   "source": [
    "**Score from Approach 1 (Drop Columns with Missing Values)**"
   ]
  },
  {
   "cell_type": "code",
   "execution_count": 5,
   "id": "bbd9e7de",
   "metadata": {},
   "outputs": [],
   "source": [
    "# Function for comparing different approaches\n",
    "def score_dataset(X_train, X_valid, y_train, y_valid):\n",
    "    model = RandomForestRegressor(n_estimators=10, random_state=0)\n",
    "    model.fit(X_train, y_train)\n",
    "    preds = model.predict(X_valid)\n",
    "    return mean_absolute_error(y_valid, preds)"
   ]
  },
  {
   "cell_type": "code",
   "execution_count": 6,
   "id": "59b9f5a6",
   "metadata": {},
   "outputs": [
    {
     "name": "stdout",
     "output_type": "stream",
     "text": [
      "183550.22137772635\n"
     ]
    }
   ],
   "source": [
    "#删除残缺列操作\n",
    "cols_with_missing = [col for col in X_train.columns if X_train[col].isnull().any()] # 存在nan就删除列\n",
    "\n",
    "reduced_X_train = X_train.drop(cols_with_missing, axis=1)\n",
    "reduced_X_valid = X_valid.drop(cols_with_missing, axis=1)\n",
    "\n",
    "print(score_dataset(reduced_X_train, reduced_X_valid, y_train, y_valid))"
   ]
  },
  {
   "cell_type": "markdown",
   "id": "41b35bf8",
   "metadata": {},
   "source": [
    "**Score from Approach 2 (Imputation)**"
   ]
  },
  {
   "cell_type": "code",
   "execution_count": 7,
   "id": "97618db7",
   "metadata": {},
   "outputs": [
    {
     "name": "stdout",
     "output_type": "stream",
     "text": [
      "178166.46269899711\n"
     ]
    }
   ],
   "source": [
    "from sklearn.impute import SimpleImputer\n",
    "\n",
    "my_imputer = SimpleImputer()\n",
    "imputed_X_train = pd.DataFrame(my_imputer.fit_transform(X_train))\n",
    "imputed_X_valid = pd.DataFrame(my_imputer.transform(X_valid))\n",
    "\n",
    "# Imputation 移去了列名; put them back\n",
    "imputed_X_train.columns = X_train.columns           # 用列名指定列名\n",
    "imputed_X_valid.columns = X_valid.columns\n",
    "\n",
    "print(score_dataset(imputed_X_train, imputed_X_valid, y_train, y_valid))"
   ]
  },
  {
   "cell_type": "code",
   "execution_count": 8,
   "id": "07560db4",
   "metadata": {},
   "outputs": [
    {
     "name": "stdout",
     "output_type": "stream",
     "text": [
      "(10864, 12)\n",
      "Car               49\n",
      "BuildingArea    5156\n",
      "YearBuilt       4307\n",
      "dtype: int64\n"
     ]
    },
    {
     "data": {
      "text/plain": [
       "Rooms               0\n",
       "Distance            0\n",
       "Postcode            0\n",
       "Bedroom2            0\n",
       "Bathroom            0\n",
       "Car                49\n",
       "Landsize            0\n",
       "BuildingArea     5156\n",
       "YearBuilt        4307\n",
       "Lattitude           0\n",
       "Longtitude          0\n",
       "Propertycount       0\n",
       "dtype: int64"
      ]
     },
     "execution_count": 8,
     "metadata": {},
     "output_type": "execute_result"
    }
   ],
   "source": [
    "# Shape of training data (num_rows, num_columns)\n",
    "print(X_train.shape)\n",
    "\n",
    "# Number of missing values in each column of training data\n",
    "missing_val_count_by_column = (X_train.isnull().sum())\n",
    "print(missing_val_count_by_column[missing_val_count_by_column > 0])\n",
    "\n",
    "X_train.isnull().sum() # 找缺失的列"
   ]
  },
  {
   "cell_type": "markdown",
   "id": "c743a649",
   "metadata": {},
   "source": [
    "## Categorical Variables"
   ]
  },
  {
   "cell_type": "markdown",
   "id": "80c0a152",
   "metadata": {},
   "source": [
    "**One-Hot Encoding(独热码)** 创建新列，指示原始数据中每个可能值的存在(或不存在)"
   ]
  },
  {
   "cell_type": "markdown",
   "id": "bd03cfd4",
   "metadata": {},
   "source": [
    "<img src=\"./photos/9.png\" width=\"80%\">"
   ]
  },
  {
   "cell_type": "code",
   "execution_count": null,
   "id": "b2951b7f",
   "metadata": {},
   "outputs": [],
   "source": []
  }
 ],
 "metadata": {
  "kernelspec": {
   "display_name": "Python 3 (ipykernel)",
   "language": "python",
   "name": "python3"
  },
  "language_info": {
   "codemirror_mode": {
    "name": "ipython",
    "version": 3
   },
   "file_extension": ".py",
   "mimetype": "text/x-python",
   "name": "python",
   "nbconvert_exporter": "python",
   "pygments_lexer": "ipython3",
   "version": "3.11.3"
  }
 },
 "nbformat": 4,
 "nbformat_minor": 5
}
