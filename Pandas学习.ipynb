{
 "cells": [
  {
   "cell_type": "markdown",
   "id": "2fdd1df2",
   "metadata": {
    "toc": true
   },
   "source": [
    "<h1>Table of Contents<span class=\"tocSkip\"></span></h1>\n",
    "<div class=\"toc\"><ul class=\"toc-item\"><li><span><a href=\"#Series\" data-toc-modified-id=\"Series-1\"><span class=\"toc-item-num\">1&nbsp;&nbsp;</span>Series</a></span><ul class=\"toc-item\"><li><span><a href=\"#series类型结构\" data-toc-modified-id=\"series类型结构-1.1\"><span class=\"toc-item-num\">1.1&nbsp;&nbsp;</span>series类型结构</a></span></li><li><span><a href=\"#参数说明\" data-toc-modified-id=\"参数说明-1.2\"><span class=\"toc-item-num\">1.2&nbsp;&nbsp;</span>参数说明</a></span></li><li><span><a href=\"#示例\" data-toc-modified-id=\"示例-1.3\"><span class=\"toc-item-num\">1.3&nbsp;&nbsp;</span>示例</a></span><ul class=\"toc-item\"><li><span><a href=\"#索引从0开始\" data-toc-modified-id=\"索引从0开始-1.3.1\"><span class=\"toc-item-num\">1.3.1&nbsp;&nbsp;</span>索引从0开始</a></span></li><li><span><a href=\"#自定义serise索引\" data-toc-modified-id=\"自定义serise索引-1.3.2\"><span class=\"toc-item-num\">1.3.2&nbsp;&nbsp;</span>自定义serise索引</a></span></li><li><span><a href=\"#字典-->Series-(-&quot;索引&quot;-:-&quot;值&quot;-)\" data-toc-modified-id=\"字典-->Series-(-&quot;索引&quot;-:-&quot;值&quot;-)-1.3.3\"><span class=\"toc-item-num\">1.3.3&nbsp;&nbsp;</span>字典--&gt;Series ( \"索引\" : \"值\" )</a></span><ul class=\"toc-item\"><li><span><a href=\"#取字典中部分值\" data-toc-modified-id=\"取字典中部分值-1.3.3.1\"><span class=\"toc-item-num\">1.3.3.1&nbsp;&nbsp;</span>取字典中部分值</a></span></li></ul></li></ul></li></ul></li><li><span><a href=\"#DataFrame\" data-toc-modified-id=\"DataFrame-2\"><span class=\"toc-item-num\">2&nbsp;&nbsp;</span>DataFrame</a></span><ul class=\"toc-item\"><li><span><a href=\"#DataFrame类型结构\" data-toc-modified-id=\"DataFrame类型结构-2.1\"><span class=\"toc-item-num\">2.1&nbsp;&nbsp;</span>DataFrame类型结构</a></span></li><li><span><a href=\"#参数说明\" data-toc-modified-id=\"参数说明-2.2\"><span class=\"toc-item-num\">2.2&nbsp;&nbsp;</span>参数说明</a></span></li><li><span><a href=\"#示例\" data-toc-modified-id=\"示例-2.3\"><span class=\"toc-item-num\">2.3&nbsp;&nbsp;</span>示例</a></span><ul class=\"toc-item\"><li><span><a href=\"#列表创建DataFrame\" data-toc-modified-id=\"列表创建DataFrame-2.3.1\"><span class=\"toc-item-num\">2.3.1&nbsp;&nbsp;</span>列表创建DataFrame</a></span></li><li><span><a href=\"#字典创建DataFrame\" data-toc-modified-id=\"字典创建DataFrame-2.3.2\"><span class=\"toc-item-num\">2.3.2&nbsp;&nbsp;</span>字典创建DataFrame</a></span></li><li><span><a href=\"#np.array创建DataFrame\" data-toc-modified-id=\"np.array创建DataFrame-2.3.3\"><span class=\"toc-item-num\">2.3.3&nbsp;&nbsp;</span>np.array创建DataFrame</a></span></li><li><span><a href=\"#字典列表-创建DataFrame-(可以存在缺失值NaN)\" data-toc-modified-id=\"字典列表-创建DataFrame-(可以存在缺失值NaN)-2.3.4\"><span class=\"toc-item-num\">2.3.4&nbsp;&nbsp;</span><strong>字典列表</strong> 创建DataFrame (可以存在缺失值NaN)</a></span></li></ul></li><li><span><a href=\"#.loc[]-索引-----返回指定行\" data-toc-modified-id=\".loc[]-索引-----返回指定行-2.4\"><span class=\"toc-item-num\">2.4&nbsp;&nbsp;</span>.loc[] 索引-----<strong>返回指定行</strong></a></span><ul class=\"toc-item\"><li><span><a href=\"#.loc-/-.iloc-/-.ix\" data-toc-modified-id=\".loc-/-.iloc-/-.ix-2.4.1\"><span class=\"toc-item-num\">2.4.1&nbsp;&nbsp;</span>.loc / .iloc / .ix</a></span></li></ul></li><li><span><a href=\"#索引列\" data-toc-modified-id=\"索引列-2.5\"><span class=\"toc-item-num\">2.5&nbsp;&nbsp;</span>索引列</a></span></li><li><span><a href=\"#添加列\" data-toc-modified-id=\"添加列-2.6\"><span class=\"toc-item-num\">2.6&nbsp;&nbsp;</span>添加列</a></span></li></ul></li><li><span><a href=\"#读取数据\" data-toc-modified-id=\"读取数据-3\"><span class=\"toc-item-num\">3&nbsp;&nbsp;</span>读取数据</a></span><ul class=\"toc-item\"><li><span><a href=\"#读取.csv-/-.xlsx\" data-toc-modified-id=\"读取.csv-/-.xlsx-3.1\"><span class=\"toc-item-num\">3.1&nbsp;&nbsp;</span>读取.csv / .xlsx</a></span></li></ul></li><li><span><a href=\"#pandas-数据清洗\" data-toc-modified-id=\"pandas-数据清洗-4\"><span class=\"toc-item-num\">4&nbsp;&nbsp;</span>pandas 数据清洗</a></span><ul class=\"toc-item\"><li><span><a href=\"#清洗空值\" data-toc-modified-id=\"清洗空值-4.1\"><span class=\"toc-item-num\">4.1&nbsp;&nbsp;</span>清洗空值</a></span><ul class=\"toc-item\"><li><span><a href=\"#特征调参\" data-toc-modified-id=\"特征调参-4.1.1\"><span class=\"toc-item-num\">4.1.1&nbsp;&nbsp;</span>特征调参</a></span></li><li><span><a href=\"#isnull()-判断各个单元格是否为空\" data-toc-modified-id=\"isnull()-判断各个单元格是否为空-4.1.2\"><span class=\"toc-item-num\">4.1.2&nbsp;&nbsp;</span>isnull() 判断各个单元格是否为空</a></span></li></ul></li><li><span><a href=\"#处理-n/a和-NA\" data-toc-modified-id=\"处理-n/a和-NA-4.2\"><span class=\"toc-item-num\">4.2&nbsp;&nbsp;</span>处理 n/a和 NA</a></span><ul class=\"toc-item\"><li><span><a href=\"#替换.fillna\" data-toc-modified-id=\"替换.fillna-4.2.1\"><span class=\"toc-item-num\">4.2.1&nbsp;&nbsp;</span>替换.fillna</a></span></li><li><span><a href=\"#均值替代-.mean()\" data-toc-modified-id=\"均值替代-.mean()-4.2.2\"><span class=\"toc-item-num\">4.2.2&nbsp;&nbsp;</span>均值替代 .mean()</a></span></li><li><span><a href=\"#中位数替代-.median()\" data-toc-modified-id=\"中位数替代-.median()-4.2.3\"><span class=\"toc-item-num\">4.2.3&nbsp;&nbsp;</span>中位数替代 .median()</a></span></li><li><span><a href=\"#众数替代-.mode()\" data-toc-modified-id=\"众数替代-.mode()-4.2.4\"><span class=\"toc-item-num\">4.2.4&nbsp;&nbsp;</span>众数替代 .mode()</a></span></li></ul></li><li><span><a href=\"#清洗重复数据\" data-toc-modified-id=\"清洗重复数据-4.3\"><span class=\"toc-item-num\">4.3&nbsp;&nbsp;</span>清洗重复数据</a></span><ul class=\"toc-item\"><li><span><a href=\"#查询重复.duplicated()\" data-toc-modified-id=\"查询重复.duplicated()-4.3.1\"><span class=\"toc-item-num\">4.3.1&nbsp;&nbsp;</span>查询重复.duplicated()</a></span></li><li><span><a href=\"#删除重复-.drop_duplicates()\" data-toc-modified-id=\"删除重复-.drop_duplicates()-4.3.2\"><span class=\"toc-item-num\">4.3.2&nbsp;&nbsp;</span>删除重复 .drop_duplicates()</a></span></li></ul></li><li><span><a href=\"#任意数据替换.replace(-old_value-,-new_value-)\" data-toc-modified-id=\"任意数据替换.replace(-old_value-,-new_value-)-4.4\"><span class=\"toc-item-num\">4.4&nbsp;&nbsp;</span>任意数据替换.replace( old_value , new_value )</a></span></li></ul></li></ul></div>"
   ]
  },
  {
   "cell_type": "markdown",
   "id": "50d7ec04",
   "metadata": {},
   "source": [
    "Pandas中文文档教程: https://www.runoob.com/pandas/pandas-tutorial.html"
   ]
  },
  {
   "cell_type": "code",
   "execution_count": 24,
   "id": "27749f91",
   "metadata": {},
   "outputs": [],
   "source": [
    " import pandas as pd\n",
    " import numpy as np\n",
    " from pandas import Series, DataFrame"
   ]
  },
  {
   "cell_type": "code",
   "execution_count": 3,
   "id": "99aaef41",
   "metadata": {},
   "outputs": [],
   "source": [
    "# 引入数据集作为示例\n",
    "from sklearn.datasets import load_iris\n",
    "dataset = load_iris()\n",
    "data = pd.DataFrame(dataset['data'], columns=dataset.feature_names)"
   ]
  },
  {
   "cell_type": "code",
   "execution_count": 4,
   "id": "f4d73d75",
   "metadata": {},
   "outputs": [
    {
     "data": {
      "text/html": [
       "<div>\n",
       "<style scoped>\n",
       "    .dataframe tbody tr th:only-of-type {\n",
       "        vertical-align: middle;\n",
       "    }\n",
       "\n",
       "    .dataframe tbody tr th {\n",
       "        vertical-align: top;\n",
       "    }\n",
       "\n",
       "    .dataframe thead th {\n",
       "        text-align: right;\n",
       "    }\n",
       "</style>\n",
       "<table border=\"1\" class=\"dataframe\">\n",
       "  <thead>\n",
       "    <tr style=\"text-align: right;\">\n",
       "      <th></th>\n",
       "      <th>sepal length (cm)</th>\n",
       "      <th>sepal width (cm)</th>\n",
       "      <th>petal length (cm)</th>\n",
       "      <th>petal width (cm)</th>\n",
       "    </tr>\n",
       "  </thead>\n",
       "  <tbody>\n",
       "    <tr>\n",
       "      <th>count</th>\n",
       "      <td>150.000000</td>\n",
       "      <td>150.000000</td>\n",
       "      <td>150.000000</td>\n",
       "      <td>150.000000</td>\n",
       "    </tr>\n",
       "    <tr>\n",
       "      <th>mean</th>\n",
       "      <td>5.843333</td>\n",
       "      <td>3.057333</td>\n",
       "      <td>3.758000</td>\n",
       "      <td>1.199333</td>\n",
       "    </tr>\n",
       "    <tr>\n",
       "      <th>std</th>\n",
       "      <td>0.828066</td>\n",
       "      <td>0.435866</td>\n",
       "      <td>1.765298</td>\n",
       "      <td>0.762238</td>\n",
       "    </tr>\n",
       "    <tr>\n",
       "      <th>min</th>\n",
       "      <td>4.300000</td>\n",
       "      <td>2.000000</td>\n",
       "      <td>1.000000</td>\n",
       "      <td>0.100000</td>\n",
       "    </tr>\n",
       "    <tr>\n",
       "      <th>25%</th>\n",
       "      <td>5.100000</td>\n",
       "      <td>2.800000</td>\n",
       "      <td>1.600000</td>\n",
       "      <td>0.300000</td>\n",
       "    </tr>\n",
       "    <tr>\n",
       "      <th>50%</th>\n",
       "      <td>5.800000</td>\n",
       "      <td>3.000000</td>\n",
       "      <td>4.350000</td>\n",
       "      <td>1.300000</td>\n",
       "    </tr>\n",
       "    <tr>\n",
       "      <th>75%</th>\n",
       "      <td>6.400000</td>\n",
       "      <td>3.300000</td>\n",
       "      <td>5.100000</td>\n",
       "      <td>1.800000</td>\n",
       "    </tr>\n",
       "    <tr>\n",
       "      <th>max</th>\n",
       "      <td>7.900000</td>\n",
       "      <td>4.400000</td>\n",
       "      <td>6.900000</td>\n",
       "      <td>2.500000</td>\n",
       "    </tr>\n",
       "  </tbody>\n",
       "</table>\n",
       "</div>"
      ],
      "text/plain": [
       "       sepal length (cm)  sepal width (cm)  petal length (cm)  \\\n",
       "count         150.000000        150.000000         150.000000   \n",
       "mean            5.843333          3.057333           3.758000   \n",
       "std             0.828066          0.435866           1.765298   \n",
       "min             4.300000          2.000000           1.000000   \n",
       "25%             5.100000          2.800000           1.600000   \n",
       "50%             5.800000          3.000000           4.350000   \n",
       "75%             6.400000          3.300000           5.100000   \n",
       "max             7.900000          4.400000           6.900000   \n",
       "\n",
       "       petal width (cm)  \n",
       "count        150.000000  \n",
       "mean           1.199333  \n",
       "std            0.762238  \n",
       "min            0.100000  \n",
       "25%            0.300000  \n",
       "50%            1.300000  \n",
       "75%            1.800000  \n",
       "max            2.500000  "
      ]
     },
     "execution_count": 4,
     "metadata": {},
     "output_type": "execute_result"
    }
   ],
   "source": [
    "data.describe()  #输出摘要"
   ]
  },
  {
   "cell_type": "code",
   "execution_count": 5,
   "id": "f56df0bc",
   "metadata": {},
   "outputs": [
    {
     "data": {
      "text/plain": [
       "Index(['sepal length (cm)', 'sepal width (cm)', 'petal length (cm)',\n",
       "       'petal width (cm)'],\n",
       "      dtype='object')"
      ]
     },
     "execution_count": 5,
     "metadata": {},
     "output_type": "execute_result"
    }
   ],
   "source": [
    "data.columns #查看列"
   ]
  },
  {
   "cell_type": "markdown",
   "id": "1187b313",
   "metadata": {},
   "source": [
    "# Series\n",
    "---\n",
    "Pandas Series **类似表格中的一个列（column）**，类似于一维数组，可以保存任何数据类型。"
   ]
  },
  {
   "cell_type": "markdown",
   "id": "3d73376f",
   "metadata": {},
   "source": [
    "## series类型结构\n",
    "Series 由索引（index）和列组成\n",
    "```python\n",
    "pandas.Series( data, index, dtype, name, copy)\n",
    "```"
   ]
  },
  {
   "cell_type": "markdown",
   "id": "14437a39",
   "metadata": {},
   "source": [
    "## 参数说明"
   ]
  },
  {
   "cell_type": "markdown",
   "id": "2454ca73",
   "metadata": {},
   "source": [
    "**data**：一组数据(ndarray 类型)。\n",
    "\n",
    "**index**：数据索引标签，如果不指定，默认从 0 开始。\n",
    "\n",
    "**dtype**：数据类型，默认会自己判断。\n",
    "\n",
    "**name**：设置名称。\n",
    "\n",
    "**copy**：拷贝数据，默认为 False。"
   ]
  },
  {
   "cell_type": "markdown",
   "id": "935eb309",
   "metadata": {},
   "source": [
    "## 示例"
   ]
  },
  {
   "cell_type": "markdown",
   "id": "1e0babb9",
   "metadata": {},
   "source": [
    "### 索引从0开始"
   ]
  },
  {
   "cell_type": "code",
   "execution_count": 6,
   "id": "277de4e8",
   "metadata": {},
   "outputs": [
    {
     "name": "stdout",
     "output_type": "stream",
     "text": [
      "2\n"
     ]
    }
   ],
   "source": [
    "import pandas as pd\n",
    "a = [1, 2, 3, 4, 5]\n",
    "myvar = pd.Series(a)\n",
    "print(myvar[1])          # 与数组相同, 初始索引从0开始"
   ]
  },
  {
   "cell_type": "markdown",
   "id": "eaa0559e",
   "metadata": {},
   "source": [
    "### 自定义serise索引"
   ]
  },
  {
   "cell_type": "code",
   "execution_count": 9,
   "id": "807e40af",
   "metadata": {},
   "outputs": [
    {
     "name": "stdout",
     "output_type": "stream",
     "text": [
      "索引         值\n",
      "x     Google\n",
      "y     Runoob\n",
      "z       Wiki\n",
      "dtype: object\n"
     ]
    }
   ],
   "source": [
    "# 支持自定义serise的索引\n",
    "a = [\"值\",\"Google\", \"Runoob\", \"Wiki\"]\n",
    "var = pd.Series(a, index = [\"索引\",\"x\", \"y\", \"z\"])\n",
    "print(var)"
   ]
  },
  {
   "cell_type": "markdown",
   "id": "2dd1f28e",
   "metadata": {},
   "source": [
    "### 字典-->Series ( \"索引\" : \"值\" )"
   ]
  },
  {
   "cell_type": "code",
   "execution_count": 16,
   "id": "ba92b43c",
   "metadata": {},
   "outputs": [
    {
     "data": {
      "text/plain": [
       "1    Google\n",
       "2    Runoob\n",
       "3      Wiki\n",
       "Name: RUNOOB-Series-TEST, dtype: object"
      ]
     },
     "execution_count": 16,
     "metadata": {},
     "output_type": "execute_result"
    }
   ],
   "source": [
    "sites = {1: \"Google\", 2: \"Runoob\", 3: \"Wiki\"}\n",
    "var1 = pd.Series(sites, name = \"RUNOOB-Series-TEST\")     # 为serise设置名称参数\n",
    "var1"
   ]
  },
  {
   "cell_type": "markdown",
   "id": "60e786de",
   "metadata": {},
   "source": [
    "#### 取字典中部分值"
   ]
  },
  {
   "cell_type": "code",
   "execution_count": 15,
   "id": "5826bf94",
   "metadata": {},
   "outputs": [
    {
     "data": {
      "text/plain": [
       "1    Google\n",
       "2    Runoob\n",
       "dtype: object"
      ]
     },
     "execution_count": 15,
     "metadata": {},
     "output_type": "execute_result"
    }
   ],
   "source": [
    "var2 = pd.Series(sites, index=[1, 2])\n",
    "var2"
   ]
  },
  {
   "cell_type": "markdown",
   "id": "f70cf440",
   "metadata": {},
   "source": [
    "---\n",
    "# DataFrame\n",
    "表格型的数据结构，它含有一组有序的列，每列可以是不同的值类型（数值、字符串、布尔型值）。DataFrame 既有行索引也有列索引，它可以被看做由 Series 组成的字典（共同用一个索引）"
   ]
  },
  {
   "cell_type": "markdown",
   "id": "23f4fe5a",
   "metadata": {},
   "source": [
    "## DataFrame类型结构\n",
    "构造方法如下：\n",
    "```python\n",
    "pandas.DataFrame( data, index, columns, dtype, copy)\n",
    "```\n"
   ]
  },
  {
   "cell_type": "markdown",
   "id": "77ec25b6",
   "metadata": {},
   "source": [
    "## 参数说明\n",
    "**data**：一组数据(ndarray、series, map, lists, dict 等类型)。\n",
    "\n",
    "**index**：索引值，或者可以称为行标签。\n",
    "\n",
    "**columns**：列标签，默认为 RangeIndex (0, 1, 2, …, n) 。\n",
    "\n",
    "**dtype**：数据类型。\n",
    "\n",
    "**copy**：拷贝数据，默认为 False。"
   ]
  },
  {
   "cell_type": "markdown",
   "id": "65798cde",
   "metadata": {},
   "source": [
    "## 示例"
   ]
  },
  {
   "cell_type": "markdown",
   "id": "519aca55",
   "metadata": {},
   "source": [
    "### 列表创建DataFrame"
   ]
  },
  {
   "cell_type": "code",
   "execution_count": 21,
   "id": "079c66a7",
   "metadata": {},
   "outputs": [
    {
     "name": "stdout",
     "output_type": "stream",
     "text": [
      "     Site   Age\n",
      "0  Google  10.0\n",
      "1  Runoob  12.0\n",
      "2    Wiki  13.0\n"
     ]
    },
    {
     "name": "stderr",
     "output_type": "stream",
     "text": [
      "C:\\Users\\36085\\AppData\\Local\\Temp\\ipykernel_4124\\1300352499.py:2: FutureWarning: Could not cast to float64, falling back to object. This behavior is deprecated. In a future version, when a dtype is passed to 'DataFrame', either all columns will be cast to that dtype, or a TypeError will be raised.\n",
      "  df = pd.DataFrame( data, columns=['Site','Age'] , dtype=float )  #columns设置列名 若不设置则从0开始按次序表数\n"
     ]
    }
   ],
   "source": [
    "data = [['Google',10],['Runoob',12],['Wiki',13]]     # 创建列表\n",
    "df = pd.DataFrame( data, columns=['Site','Age'] , dtype=float )  #columns设置列名 若不设置则从0开始按次序表数\n",
    "print(df)"
   ]
  },
  {
   "cell_type": "markdown",
   "id": "77e6bdff",
   "metadata": {},
   "source": [
    "### 字典创建DataFrame"
   ]
  },
  {
   "cell_type": "code",
   "execution_count": 31,
   "id": "2dba8bf8",
   "metadata": {},
   "outputs": [
    {
     "name": "stdout",
     "output_type": "stream",
     "text": [
      "     Site  Age\n",
      "0  Google   10\n",
      "1  Runoob   12\n",
      "2    Wiki   13\n"
     ]
    }
   ],
   "source": [
    "data = {'Site':['Google', 'Runoob', 'Wiki'], 'Age':[10, 12, 13]}\n",
    "df = pd.DataFrame(data)\n",
    "print (df)"
   ]
  },
  {
   "cell_type": "markdown",
   "id": "e4432af7",
   "metadata": {},
   "source": [
    "### np.array创建DataFrame"
   ]
  },
  {
   "cell_type": "code",
   "execution_count": 28,
   "id": "968c79d2",
   "metadata": {},
   "outputs": [
    {
     "name": "stdout",
     "output_type": "stream",
     "text": [
      "     0    1\n",
      "0  100  200\n",
      "1  300  400\n"
     ]
    }
   ],
   "source": [
    "a = np.array([[100,  200],  [300,  400]])  # 不自带列名\n",
    "print (pd.DataFrame(a))"
   ]
  },
  {
   "cell_type": "markdown",
   "id": "5c2e0358",
   "metadata": {},
   "source": [
    "### **字典列表** 创建DataFrame (可以存在缺失值NaN)"
   ]
  },
  {
   "cell_type": "code",
   "execution_count": 35,
   "id": "d0e13bbe",
   "metadata": {},
   "outputs": [
    {
     "data": {
      "text/html": [
       "<div>\n",
       "<style scoped>\n",
       "    .dataframe tbody tr th:only-of-type {\n",
       "        vertical-align: middle;\n",
       "    }\n",
       "\n",
       "    .dataframe tbody tr th {\n",
       "        vertical-align: top;\n",
       "    }\n",
       "\n",
       "    .dataframe thead th {\n",
       "        text-align: right;\n",
       "    }\n",
       "</style>\n",
       "<table border=\"1\" class=\"dataframe\">\n",
       "  <thead>\n",
       "    <tr style=\"text-align: right;\">\n",
       "      <th></th>\n",
       "      <th>a</th>\n",
       "      <th>b</th>\n",
       "      <th>c</th>\n",
       "    </tr>\n",
       "  </thead>\n",
       "  <tbody>\n",
       "    <tr>\n",
       "      <th>0</th>\n",
       "      <td>1</td>\n",
       "      <td>2</td>\n",
       "      <td>NaN</td>\n",
       "    </tr>\n",
       "    <tr>\n",
       "      <th>1</th>\n",
       "      <td>5</td>\n",
       "      <td>10</td>\n",
       "      <td>20.0</td>\n",
       "    </tr>\n",
       "  </tbody>\n",
       "</table>\n",
       "</div>"
      ],
      "text/plain": [
       "   a   b     c\n",
       "0  1   2   NaN\n",
       "1  5  10  20.0"
      ]
     },
     "execution_count": 35,
     "metadata": {},
     "output_type": "execute_result"
    }
   ],
   "source": [
    "dat = [{'a': 1, 'b': 2},{'a': 5, 'b': 10, 'c': 20}]\n",
    "\n",
    "pd.DataFrame(dat)"
   ]
  },
  {
   "cell_type": "markdown",
   "id": "36fdf4ad",
   "metadata": {},
   "source": [
    "## .loc[] 索引-----**返回指定行**"
   ]
  },
  {
   "cell_type": "code",
   "execution_count": 38,
   "id": "261aa015",
   "metadata": {},
   "outputs": [
    {
     "name": "stdout",
     "output_type": "stream",
     "text": [
      "   calories  duration\n",
      "0       420        50\n",
      "1       380        40\n"
     ]
    }
   ],
   "source": [
    "# 直接指定行数字\n",
    "\n",
    "dtt = {\n",
    "  \"calories\": [420, 380, 390],\n",
    "  \"duration\": [50, 40, 45]\n",
    "}\n",
    "# 数据载入到 DataFrame 对象\n",
    "df = pd.DataFrame(dtt)\n",
    "# 返回第一行和第二行\n",
    "print(df.loc[[0, 1]])"
   ]
  },
  {
   "cell_type": "code",
   "execution_count": 60,
   "id": "517a50f9",
   "metadata": {},
   "outputs": [
    {
     "name": "stdout",
     "output_type": "stream",
     "text": [
      "      calories  duration\n",
      "day1       420        50\n",
      "day2       380        40\n",
      "day3       390        45\n",
      "calories    380\n",
      "duration     40\n",
      "Name: day2, dtype: int64\n"
     ]
    }
   ],
   "source": [
    "daa = {\n",
    "  \"calories\": [420, 380, 390],\n",
    "  \"duration\": [50, 40, 45]\n",
    "}\n",
    "df = pd.DataFrame(daa, index = [\"day1\", \"day2\", \"day3\"])   # 自定义设置行名\n",
    "\n",
    "print(df)   \n",
    "print(df.loc[\"day2\"])                                      # 除了指定数字, 也可以指定行名\n",
    "\n",
    "# 当行名存在时, 不能使用.loc[数字]索引"
   ]
  },
  {
   "cell_type": "markdown",
   "id": "5dbdb746",
   "metadata": {},
   "source": [
    "### .loc / .iloc / .ix"
   ]
  },
  {
   "cell_type": "markdown",
   "id": "5d1e129d",
   "metadata": {},
   "source": [
    "```\n",
    "# 通过标签选择数据\n",
    "df.loc[row_name, column_name]\n",
    "\n",
    "# 通过位置选择数据\n",
    "df.iloc[row_index, column_index]\n",
    "\n",
    "# 通过标签或位置选择数据\n",
    "df.ix[row_index, column_name]\n",
    "```"
   ]
  },
  {
   "cell_type": "markdown",
   "id": "589e85ac",
   "metadata": {},
   "source": [
    "## 索引列"
   ]
  },
  {
   "cell_type": "code",
   "execution_count": 42,
   "id": "792764a5",
   "metadata": {},
   "outputs": [
    {
     "name": "stdout",
     "output_type": "stream",
     "text": [
      "   apple  banana\n",
      "0     50      23\n",
      "1     40      45\n",
      "2     45      56\n"
     ]
    }
   ],
   "source": [
    "gen = {\n",
    "  \"mango\": [420, 380, 390],\n",
    "  \"apple\": [50, 40, 45],\n",
    "  \"pear\": [1, 2, 3],\n",
    "  \"banana\": [23, 45,56]\n",
    "}\n",
    "df = pd.DataFrame(gen)\n",
    "print(df[[\"apple\",\"banana\"]])   # 直接索引列名"
   ]
  },
  {
   "cell_type": "markdown",
   "id": "02ab3788",
   "metadata": {},
   "source": [
    "## 添加列"
   ]
  },
  {
   "cell_type": "code",
   "execution_count": 43,
   "id": "67b95f86",
   "metadata": {},
   "outputs": [],
   "source": [
    "cop = {\n",
    "  \"mango\": [420, 380, 390],\n",
    "  \"apple\": [50, 40, 45],\n",
    "  \"pear\": [1, 2, 3],\n",
    "  \"banana\": [23, 45,56]\n",
    "}\n",
    "df = pd.DataFrame(cop)\n",
    "df['sum']=df['mango']+df['apple']+df['pear']+df['banana']     # 从其他列来添加新列"
   ]
  },
  {
   "cell_type": "code",
   "execution_count": 44,
   "id": "71644a5f",
   "metadata": {},
   "outputs": [
    {
     "data": {
      "text/html": [
       "<div>\n",
       "<style scoped>\n",
       "    .dataframe tbody tr th:only-of-type {\n",
       "        vertical-align: middle;\n",
       "    }\n",
       "\n",
       "    .dataframe tbody tr th {\n",
       "        vertical-align: top;\n",
       "    }\n",
       "\n",
       "    .dataframe thead th {\n",
       "        text-align: right;\n",
       "    }\n",
       "</style>\n",
       "<table border=\"1\" class=\"dataframe\">\n",
       "  <thead>\n",
       "    <tr style=\"text-align: right;\">\n",
       "      <th></th>\n",
       "      <th>mango</th>\n",
       "      <th>apple</th>\n",
       "      <th>pear</th>\n",
       "      <th>banana</th>\n",
       "      <th>sum</th>\n",
       "    </tr>\n",
       "  </thead>\n",
       "  <tbody>\n",
       "    <tr>\n",
       "      <th>0</th>\n",
       "      <td>420</td>\n",
       "      <td>50</td>\n",
       "      <td>1</td>\n",
       "      <td>23</td>\n",
       "      <td>494</td>\n",
       "    </tr>\n",
       "    <tr>\n",
       "      <th>1</th>\n",
       "      <td>380</td>\n",
       "      <td>40</td>\n",
       "      <td>2</td>\n",
       "      <td>45</td>\n",
       "      <td>467</td>\n",
       "    </tr>\n",
       "    <tr>\n",
       "      <th>2</th>\n",
       "      <td>390</td>\n",
       "      <td>45</td>\n",
       "      <td>3</td>\n",
       "      <td>56</td>\n",
       "      <td>494</td>\n",
       "    </tr>\n",
       "  </tbody>\n",
       "</table>\n",
       "</div>"
      ],
      "text/plain": [
       "   mango  apple  pear  banana  sum\n",
       "0    420     50     1      23  494\n",
       "1    380     40     2      45  467\n",
       "2    390     45     3      56  494"
      ]
     },
     "execution_count": 44,
     "metadata": {},
     "output_type": "execute_result"
    }
   ],
   "source": [
    "df"
   ]
  },
  {
   "cell_type": "markdown",
   "id": "1e5a8196",
   "metadata": {},
   "source": [
    "# 读取数据\n",
    "---\n",
    "\n",
    "## 读取.csv / .xlsx\n",
    "**CSV**（Comma-Separated Values，逗号分隔值，有时也称为字符分隔值，因为分隔字符也可以不是逗号），其文件以纯文本形式存储表格数据（数字和文本）"
   ]
  },
  {
   "cell_type": "code",
   "execution_count": 49,
   "id": "45a58272",
   "metadata": {},
   "outputs": [],
   "source": [
    "mark = pd.read_csv('data\\student_marks.csv')\n",
    "\n",
    "#df = pd.read_excel('data.xlsx')"
   ]
  },
  {
   "cell_type": "markdown",
   "id": "b8cba868",
   "metadata": {},
   "source": [
    "```\n",
    "reviews = pd.read_csv('文件名.csv', index_col=0)  其中index_col=0选中第一列作为行名\n",
    "```"
   ]
  },
  {
   "cell_type": "code",
   "execution_count": 51,
   "id": "4861af8a",
   "metadata": {},
   "outputs": [
    {
     "name": "stdout",
     "output_type": "stream",
     "text": [
      "    Student_ID  Test_1  Test_2  Test_3  Test_4  Test_5  Test_6  Test_7  \\\n",
      "0        22000      78      87      91      91      88      98      94   \n",
      "1        22001      79      71      81      72      73      68      59   \n",
      "2        22002      66      65      70      74      78      86      87   \n",
      "3        22003      60      58      54      61      54      57      64   \n",
      "4        22004      99      95      96      93      97      89      92   \n",
      "5        22005      41      36      35      28      35      36      27   \n",
      "6        22006      47      50      47      57      62      64      71   \n",
      "7        22007      84      74      70      68      58      59      56   \n",
      "8        22008      74      64      58      57      53      51      47   \n",
      "9        22009      87      81      73      74      71      63      53   \n",
      "10       22010      40      34      37      33      31      35      39   \n",
      "11       22011      91      84      78      74      76      80      80   \n",
      "12       22012      81      83      93      88      89      90      99   \n",
      "13       22013      52      50      42      38      33      30      28   \n",
      "14       22014      63      67      65      74      80      86      95   \n",
      "15       22015      76      82      88      94      85      76      70   \n",
      "16       22016      83      78      71      71      77      72      66   \n",
      "17       22017      55      45      43      38      43      35      44   \n",
      "18       22018      71      67      76      74      64      61      57   \n",
      "19       22019      62      61      53      49      54      59      68   \n",
      "20       22020      44      38      36      34      26      34      39   \n",
      "21       22021      50      56      53      46      41      38      47   \n",
      "22       22022      57      48      40      45      43      36      26   \n",
      "23       22023      59      56      52      44      50      40      45   \n",
      "24       22024      84      92      89      80      90      80      84   \n",
      "25       22025      74      80      86      87      90     100      95   \n",
      "26       22026      92      84      74      83      93      83      75   \n",
      "27       22027      63      70      74      65      64      55      61   \n",
      "28       22028      78      77      69      76      78      74      67   \n",
      "29       22029      55      58      59      67      71      62      53   \n",
      "30       22030      54      54      48      38      35      45      46   \n",
      "31       22031      84      93      97      89      86      95     100   \n",
      "32       22032      95     100      94     100      98      99     100   \n",
      "33       22033      64      61      63      73      63      68      64   \n",
      "34       22034      76      79      73      77      83      86      95   \n",
      "35       22035      78      71      61      55      54      48      41   \n",
      "36       22036      95      89      91      84      89      94      85   \n",
      "37       22037      99      89      79      87      87      81      82   \n",
      "38       22038      82      83      85      86      89      80      88   \n",
      "39       22039      65      56      64      62      58      51      61   \n",
      "40       22040     100      93      92      86      84      76      82   \n",
      "41       22041      78      72      73      79      81      73      71   \n",
      "42       22042      98     100     100      93      94      92     100   \n",
      "43       22043      58      62      67      77      71      63      64   \n",
      "44       22044      96      92      94     100      99      95      98   \n",
      "45       22045      86      87      85      84      85      91      86   \n",
      "46       22046      48      55      46      40      34      29      37   \n",
      "47       22047      56      52      54      47      40      35      43   \n",
      "48       22048      42      44      46      53      62      59      57   \n",
      "49       22049      64      54      49      59      54      55      57   \n",
      "50       22050      50      44      37      29      37      46      53   \n",
      "51       22051      70      60      70      62      67      67      68   \n",
      "52       22052      63      73      70      63      60      67      61   \n",
      "53       22053      92     100     100     100     100     100      92   \n",
      "54       22054      64      55      54      61      63      57      47   \n",
      "55       22055      60      66      68      58      49      47      39   \n",
      "\n",
      "    Test_8  Test_9  Test_10  Test_11  Test_12  \n",
      "0      100     100      100      100       93  \n",
      "1       69      59       60       61       67  \n",
      "2       96      88       82       90       86  \n",
      "3       62      72       63       72       76  \n",
      "4       98      91       98       95       88  \n",
      "5       26      19       22       27       31  \n",
      "6       75      85       87       85       89  \n",
      "7       56      64       70       67       59  \n",
      "8       45      42       43       34       24  \n",
      "9       45      39       43       46       38  \n",
      "10      38      40       48       44       50  \n",
      "11      73      75       71       79       70  \n",
      "12      99      95       85       75       84  \n",
      "13      22      12       20       19       20  \n",
      "14      96      92       83       75       81  \n",
      "15      60      50       58       49       59  \n",
      "16      75      66       61       61       66  \n",
      "17      37      45       37       45       54  \n",
      "18      64      61       51       51       58  \n",
      "19      74      65       55       60       61  \n",
      "20      44      36       45       35       44  \n",
      "21      39      44       36       43       46  \n",
      "22      19       9       12       22       27  \n",
      "23      46      54       57       52       47  \n",
      "24      74      68       73       81       74  \n",
      "25      87      85       79       85       88  \n",
      "26      82      81       73       70       73  \n",
      "27      58      48       46       46       51  \n",
      "28      69      78       68       65       68  \n",
      "29      61      67       76       75       70  \n",
      "30      47      41       37       30       25  \n",
      "31     100     100       99      100      100  \n",
      "32      90      80       84       75       80  \n",
      "33      58      50       51       56       64  \n",
      "34      89      90       95      100      100  \n",
      "35      32      41       40       48       38  \n",
      "36      91     100      100      100       92  \n",
      "37      74      64       54       51       50  \n",
      "38      95      87       93       90       89  \n",
      "39      68      70       70       63       73  \n",
      "40      74      79       72       79       85  \n",
      "41      77      83       92       97       99  \n",
      "42     100      98       94       97      100  \n",
      "43      73      83       76       86       91  \n",
      "44      92      84       84       84       91  \n",
      "45      82      85       87       84       83  \n",
      "46      34      39       41       31       40  \n",
      "47      44      40       39       47       43  \n",
      "48      53      43       35       37       43  \n",
      "49      59      63       73       78       88  \n",
      "50      57      55       61       64       68  \n",
      "51      67      72       69       64       65  \n",
      "52      59      52       58       56       46  \n",
      "53      87      94      100       94       98  \n",
      "54      37      44       48       54       54  \n",
      "55      29      39       44       39       45  \n"
     ]
    }
   ],
   "source": [
    "#print(mark.to_string())  to_string() 用于返回 DataFrame 类型的数据\n",
    "#如果不使用该函数，则输出结果为数据的前面 5 行和末尾 5 行，中间部分以 ... 代替。\n",
    "\n",
    "print(mark)"
   ]
  },
  {
   "cell_type": "code",
   "execution_count": 53,
   "id": "099d8bbe",
   "metadata": {},
   "outputs": [
    {
     "data": {
      "text/html": [
       "<div>\n",
       "<style scoped>\n",
       "    .dataframe tbody tr th:only-of-type {\n",
       "        vertical-align: middle;\n",
       "    }\n",
       "\n",
       "    .dataframe tbody tr th {\n",
       "        vertical-align: top;\n",
       "    }\n",
       "\n",
       "    .dataframe thead th {\n",
       "        text-align: right;\n",
       "    }\n",
       "</style>\n",
       "<table border=\"1\" class=\"dataframe\">\n",
       "  <thead>\n",
       "    <tr style=\"text-align: right;\">\n",
       "      <th></th>\n",
       "      <th>Student_ID</th>\n",
       "      <th>Test_1</th>\n",
       "      <th>Test_2</th>\n",
       "      <th>Test_3</th>\n",
       "      <th>Test_4</th>\n",
       "      <th>Test_5</th>\n",
       "      <th>Test_6</th>\n",
       "      <th>Test_7</th>\n",
       "      <th>Test_8</th>\n",
       "      <th>Test_9</th>\n",
       "      <th>Test_10</th>\n",
       "      <th>Test_11</th>\n",
       "      <th>Test_12</th>\n",
       "    </tr>\n",
       "  </thead>\n",
       "  <tbody>\n",
       "    <tr>\n",
       "      <th>0</th>\n",
       "      <td>22000</td>\n",
       "      <td>78</td>\n",
       "      <td>87</td>\n",
       "      <td>91</td>\n",
       "      <td>91</td>\n",
       "      <td>88</td>\n",
       "      <td>98</td>\n",
       "      <td>94</td>\n",
       "      <td>100</td>\n",
       "      <td>100</td>\n",
       "      <td>100</td>\n",
       "      <td>100</td>\n",
       "      <td>93</td>\n",
       "    </tr>\n",
       "    <tr>\n",
       "      <th>1</th>\n",
       "      <td>22001</td>\n",
       "      <td>79</td>\n",
       "      <td>71</td>\n",
       "      <td>81</td>\n",
       "      <td>72</td>\n",
       "      <td>73</td>\n",
       "      <td>68</td>\n",
       "      <td>59</td>\n",
       "      <td>69</td>\n",
       "      <td>59</td>\n",
       "      <td>60</td>\n",
       "      <td>61</td>\n",
       "      <td>67</td>\n",
       "    </tr>\n",
       "    <tr>\n",
       "      <th>2</th>\n",
       "      <td>22002</td>\n",
       "      <td>66</td>\n",
       "      <td>65</td>\n",
       "      <td>70</td>\n",
       "      <td>74</td>\n",
       "      <td>78</td>\n",
       "      <td>86</td>\n",
       "      <td>87</td>\n",
       "      <td>96</td>\n",
       "      <td>88</td>\n",
       "      <td>82</td>\n",
       "      <td>90</td>\n",
       "      <td>86</td>\n",
       "    </tr>\n",
       "  </tbody>\n",
       "</table>\n",
       "</div>"
      ],
      "text/plain": [
       "   Student_ID  Test_1  Test_2  Test_3  Test_4  Test_5  Test_6  Test_7  Test_8  \\\n",
       "0       22000      78      87      91      91      88      98      94     100   \n",
       "1       22001      79      71      81      72      73      68      59      69   \n",
       "2       22002      66      65      70      74      78      86      87      96   \n",
       "\n",
       "   Test_9  Test_10  Test_11  Test_12  \n",
       "0     100      100      100       93  \n",
       "1      59       60       61       67  \n",
       "2      88       82       90       86  "
      ]
     },
     "execution_count": 53,
     "metadata": {},
     "output_type": "execute_result"
    }
   ],
   "source": [
    "mark.head(3)     # 输出前3行"
   ]
  },
  {
   "cell_type": "code",
   "execution_count": 54,
   "id": "e63aee6a",
   "metadata": {},
   "outputs": [
    {
     "data": {
      "text/html": [
       "<div>\n",
       "<style scoped>\n",
       "    .dataframe tbody tr th:only-of-type {\n",
       "        vertical-align: middle;\n",
       "    }\n",
       "\n",
       "    .dataframe tbody tr th {\n",
       "        vertical-align: top;\n",
       "    }\n",
       "\n",
       "    .dataframe thead th {\n",
       "        text-align: right;\n",
       "    }\n",
       "</style>\n",
       "<table border=\"1\" class=\"dataframe\">\n",
       "  <thead>\n",
       "    <tr style=\"text-align: right;\">\n",
       "      <th></th>\n",
       "      <th>Student_ID</th>\n",
       "      <th>Test_1</th>\n",
       "      <th>Test_2</th>\n",
       "      <th>Test_3</th>\n",
       "      <th>Test_4</th>\n",
       "      <th>Test_5</th>\n",
       "      <th>Test_6</th>\n",
       "      <th>Test_7</th>\n",
       "      <th>Test_8</th>\n",
       "      <th>Test_9</th>\n",
       "      <th>Test_10</th>\n",
       "      <th>Test_11</th>\n",
       "      <th>Test_12</th>\n",
       "    </tr>\n",
       "  </thead>\n",
       "  <tbody>\n",
       "    <tr>\n",
       "      <th>54</th>\n",
       "      <td>22054</td>\n",
       "      <td>64</td>\n",
       "      <td>55</td>\n",
       "      <td>54</td>\n",
       "      <td>61</td>\n",
       "      <td>63</td>\n",
       "      <td>57</td>\n",
       "      <td>47</td>\n",
       "      <td>37</td>\n",
       "      <td>44</td>\n",
       "      <td>48</td>\n",
       "      <td>54</td>\n",
       "      <td>54</td>\n",
       "    </tr>\n",
       "    <tr>\n",
       "      <th>55</th>\n",
       "      <td>22055</td>\n",
       "      <td>60</td>\n",
       "      <td>66</td>\n",
       "      <td>68</td>\n",
       "      <td>58</td>\n",
       "      <td>49</td>\n",
       "      <td>47</td>\n",
       "      <td>39</td>\n",
       "      <td>29</td>\n",
       "      <td>39</td>\n",
       "      <td>44</td>\n",
       "      <td>39</td>\n",
       "      <td>45</td>\n",
       "    </tr>\n",
       "  </tbody>\n",
       "</table>\n",
       "</div>"
      ],
      "text/plain": [
       "    Student_ID  Test_1  Test_2  Test_3  Test_4  Test_5  Test_6  Test_7  \\\n",
       "54       22054      64      55      54      61      63      57      47   \n",
       "55       22055      60      66      68      58      49      47      39   \n",
       "\n",
       "    Test_8  Test_9  Test_10  Test_11  Test_12  \n",
       "54      37      44       48       54       54  \n",
       "55      29      39       44       39       45  "
      ]
     },
     "execution_count": 54,
     "metadata": {},
     "output_type": "execute_result"
    }
   ],
   "source": [
    "mark.tail(2)     # 输出后2行"
   ]
  },
  {
   "cell_type": "code",
   "execution_count": 55,
   "id": "0559ff89",
   "metadata": {},
   "outputs": [
    {
     "name": "stdout",
     "output_type": "stream",
     "text": [
      "<class 'pandas.core.frame.DataFrame'>\n",
      "RangeIndex: 56 entries, 0 to 55\n",
      "Data columns (total 13 columns):\n",
      " #   Column      Non-Null Count  Dtype\n",
      "---  ------      --------------  -----\n",
      " 0   Student_ID  56 non-null     int64\n",
      " 1   Test_1      56 non-null     int64\n",
      " 2   Test_2      56 non-null     int64\n",
      " 3   Test_3      56 non-null     int64\n",
      " 4   Test_4      56 non-null     int64\n",
      " 5   Test_5      56 non-null     int64\n",
      " 6   Test_6      56 non-null     int64\n",
      " 7   Test_7      56 non-null     int64\n",
      " 8   Test_8      56 non-null     int64\n",
      " 9   Test_9      56 non-null     int64\n",
      " 10  Test_10     56 non-null     int64\n",
      " 11  Test_11     56 non-null     int64\n",
      " 12  Test_12     56 non-null     int64\n",
      "dtypes: int64(13)\n",
      "memory usage: 5.8 KB\n"
     ]
    }
   ],
   "source": [
    "mark.info()     # 输出DataFrame的基本信息"
   ]
  },
  {
   "cell_type": "markdown",
   "id": "33068640",
   "metadata": {},
   "source": [
    "# pandas 数据清洗\n",
    "---"
   ]
  },
  {
   "cell_type": "markdown",
   "id": "41df6faf",
   "metadata": {},
   "source": [
    "## 清洗空值\n",
    "删除包含空字段的**行**，可以使用 dropna() 方法\n",
    "\n",
    "```python\n",
    "DataFrame.dropna(axis=0, how='any', thresh=None, subset=None, inplace=False)\n",
    "```\n",
    "```\n",
    "new_df = df.dropna()  # .dropna返回一个新的 DataFrame，不会修改源数据\n",
    "```"
   ]
  },
  {
   "cell_type": "markdown",
   "id": "8a2924e3",
   "metadata": {},
   "source": [
    "### 特征调参\n",
    "**axis**：默认为 0，表示逢空值剔除整行，如果设置参数 axis＝1 表示逢空值去掉整列。\n",
    "当axis=0或axis='index',index表示行索引，若某行有空值，则删除该行；\n",
    "当axis=1或axis='column',column表示列索引，若某列有空值，则删除该列。\n",
    "\n",
    "**how**：筛选方式。‘any'，表示该行/列只要有一个以上的空值，就删除该行/列；‘all'，表示该行/列全部都为空值，就删除该行/列。默认值为‘any’\n",
    "\n",
    "**thresh**：删除条件（int整数型）：行/列中非空元素个数小于thresh，该行/列会才会被删除。可以理解为：行/列中空值太多了（非空值太少了）才启动删除行/列。\n",
    "\n",
    "**subset**：设置想要检查的列。如果是多个列，可以使用列名的 list 作为参数。\n",
    "```\n",
    "df.dropna(subset=['ST_NUM'], inplace = True)   # 移除'指定列'有空值的行\n",
    "```\n",
    "**inplace**：如果设置 True，将计算得到的值直接覆盖之前的值并返回 None，修改的是源数据。"
   ]
  },
  {
   "cell_type": "markdown",
   "id": "a93df9cc",
   "metadata": {},
   "source": [
    "### isnull() 判断各个单元格是否为空"
   ]
  },
  {
   "cell_type": "markdown",
   "id": "6f0a3e69",
   "metadata": {},
   "source": [
    "```\n",
    "print (df['...'].isnull())\n",
    "```\n",
    "若存在NaN ,则在对应位置输出True"
   ]
  },
  {
   "cell_type": "markdown",
   "id": "c9a2bfc8",
   "metadata": {},
   "source": [
    "## 处理 n/a和 NA \n",
    "---"
   ]
  },
  {
   "cell_type": "markdown",
   "id": "d358f720",
   "metadata": {},
   "source": [
    "Pandas 并不把 n/a 和 NA 当作空数据，不符合我们要求"
   ]
  },
  {
   "cell_type": "markdown",
   "id": "6d7d726d",
   "metadata": {},
   "source": [
    "```\n",
    "missing_values = [\"n/a\", \"na\", \"--\"]\n",
    "df = pd.read_csv('property-data.csv', na_values = missing_values)\n",
    "```"
   ]
  },
  {
   "cell_type": "markdown",
   "id": "16f083ff",
   "metadata": {},
   "source": [
    "### 替换.fillna"
   ]
  },
  {
   "cell_type": "markdown",
   "id": "3a845882",
   "metadata": {},
   "source": [
    "```\n",
    "df.fillna(123, inplace = True)\n",
    "或\n",
    "df['PID'].fillna(12345, inplace = True)    # 指定列\n",
    "```\n",
    "使用123替换一些空字段"
   ]
  },
  {
   "cell_type": "markdown",
   "id": "63a81d6d",
   "metadata": {},
   "source": [
    "### 均值替代 .mean()"
   ]
  },
  {
   "cell_type": "markdown",
   "id": "a996efe9",
   "metadata": {},
   "source": [
    "```\n",
    "x = df[\"ST_NUM\"].mean()\n",
    "df[\"ST_NUM\"].fillna(x, inplace = True)\n",
    "```"
   ]
  },
  {
   "cell_type": "markdown",
   "id": "ed2e5f04",
   "metadata": {},
   "source": [
    "### 中位数替代 .median()"
   ]
  },
  {
   "cell_type": "markdown",
   "id": "ab97a81e",
   "metadata": {},
   "source": [
    "```\n",
    "x = df[\"ST_NUM\"].median()\n",
    "df[\"ST_NUM\"].fillna(x, inplace = True)\n",
    "```"
   ]
  },
  {
   "cell_type": "markdown",
   "id": "b1e45c7c",
   "metadata": {},
   "source": [
    "### 众数替代 .mode()"
   ]
  },
  {
   "cell_type": "markdown",
   "id": "ca8fa03d",
   "metadata": {},
   "source": [
    "```\n",
    "x = df[\"ST_NUM\"].mode()\n",
    "df[\"ST_NUM\"].fillna(x, inplace = True)\n",
    "```"
   ]
  },
  {
   "cell_type": "markdown",
   "id": "3097a075",
   "metadata": {},
   "source": [
    "## 清洗重复数据\n",
    "---"
   ]
  },
  {
   "cell_type": "markdown",
   "id": "3f5dc674",
   "metadata": {},
   "source": [
    "###  查询重复 .duplicated() "
   ]
  },
  {
   "cell_type": "code",
   "execution_count": 58,
   "id": "3d9d31ff",
   "metadata": {},
   "outputs": [
    {
     "name": "stdout",
     "output_type": "stream",
     "text": [
      "0    False\n",
      "1    False\n",
      "2     True\n",
      "3    False\n",
      "dtype: bool\n"
     ]
    }
   ],
   "source": [
    "person1 = {\n",
    "  \"name\": ['Google', 'Runoob', 'Runoob', 'Taobao'],\n",
    "  \"age\": [50, 40, 40, 23]  \n",
    "}\n",
    "dfa = pd.DataFrame(person1)\n",
    "\n",
    "print(dfa.duplicated())"
   ]
  },
  {
   "cell_type": "markdown",
   "id": "26725aa9",
   "metadata": {},
   "source": [
    "### 删除重复 .drop_duplicates() "
   ]
  },
  {
   "cell_type": "code",
   "execution_count": 59,
   "id": "5f9e4731",
   "metadata": {},
   "outputs": [
    {
     "name": "stdout",
     "output_type": "stream",
     "text": [
      "     name  age\n",
      "0  Google   50\n",
      "1  Runoob   40\n",
      "3  Taobao   23\n"
     ]
    }
   ],
   "source": [
    "persons2 = {\n",
    "  \"name\": ['Google', 'Runoob', 'Runoob', 'Taobao'],\n",
    "  \"age\": [50, 40, 40, 23]  \n",
    "}\n",
    "\n",
    "df = pd.DataFrame(persons2)\n",
    "\n",
    "df.drop_duplicates(inplace = True)\n",
    "print(df)"
   ]
  },
  {
   "cell_type": "markdown",
   "id": "3b35ddad",
   "metadata": {},
   "source": [
    "## 任意数据替换.replace( old_value , new_value )"
   ]
  },
  {
   "cell_type": "markdown",
   "id": "260acb0e",
   "metadata": {},
   "source": [
    "```\n",
    "# 将指定值替换为新值\n",
    "df.replace('old_value', 'new_value')\n",
    "```\n",
    "\n",
    "---"
   ]
  },
  {
   "cell_type": "code",
   "execution_count": null,
   "id": "772c9f47",
   "metadata": {},
   "outputs": [],
   "source": []
  }
 ],
 "metadata": {
  "kernelspec": {
   "display_name": "Python 3 (ipykernel)",
   "language": "python",
   "name": "python3"
  },
  "language_info": {
   "codemirror_mode": {
    "name": "ipython",
    "version": 3
   },
   "file_extension": ".py",
   "mimetype": "text/x-python",
   "name": "python",
   "nbconvert_exporter": "python",
   "pygments_lexer": "ipython3",
   "version": "3.11.3"
  },
  "toc": {
   "base_numbering": 1,
   "nav_menu": {},
   "number_sections": true,
   "sideBar": true,
   "skip_h1_title": false,
   "title_cell": "Table of Contents",
   "title_sidebar": "Contents",
   "toc_cell": true,
   "toc_position": {
    "height": "calc(100% - 180px)",
    "left": "10px",
    "top": "150px",
    "width": "341.458px"
   },
   "toc_section_display": true,
   "toc_window_display": true
  }
 },
 "nbformat": 4,
 "nbformat_minor": 5
}
