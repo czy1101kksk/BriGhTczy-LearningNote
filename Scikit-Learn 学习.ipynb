{
 "cells": [
  {
   "cell_type": "markdown",
   "id": "04c7459b",
   "metadata": {
    "toc": true
   },
   "source": [
    "<h1>Table of Contents<span class=\"tocSkip\"></span></h1>\n",
    "<div class=\"toc\"><ul class=\"toc-item\"><li><span><a href=\"#📊数据处理\" data-toc-modified-id=\"📊数据处理-1\"><span class=\"toc-item-num\">1&nbsp;&nbsp;</span>📊数据处理</a></span><ul class=\"toc-item\"><li><span><a href=\"#MinMaxScaler(-feature_range-=-(-min_num,-max_num-)-)\" data-toc-modified-id=\"MinMaxScaler(-feature_range-=-(-min_num,-max_num-)-)-1.1\"><span class=\"toc-item-num\">1.1&nbsp;&nbsp;</span>MinMaxScaler( feature_range = ( min_num, max_num ) )</a></span><ul class=\"toc-item\"><li><span><a href=\"#特征参数\" data-toc-modified-id=\"特征参数-1.1.1\"><span class=\"toc-item-num\">1.1.1&nbsp;&nbsp;</span>特征参数</a></span></li></ul></li><li><span><a href=\"#train_test_split(-X-,-Y-,-train_size-=-,-test_size-=-)\" data-toc-modified-id=\"train_test_split(-X-,-Y-,-train_size-=-,-test_size-=-)-1.2\"><span class=\"toc-item-num\">1.2&nbsp;&nbsp;</span>train_test_split( X , Y , train_size = , test_size = )</a></span><ul class=\"toc-item\"><li><span><a href=\"#特征参数\" data-toc-modified-id=\"特征参数-1.2.1\"><span class=\"toc-item-num\">1.2.1&nbsp;&nbsp;</span>特征参数</a></span></li></ul></li><li><span><a href=\"#mean_absolute_error\" data-toc-modified-id=\"mean_absolute_error-1.3\"><span class=\"toc-item-num\">1.3&nbsp;&nbsp;</span>mean_absolute_error</a></span></li></ul></li><li><span><a href=\"#📊StandardScaler(-*-,-copy=-,-with_mean=-,-with_std=-)\" data-toc-modified-id=\"📊StandardScaler(-*-,-copy=-,-with_mean=-,-with_std=-)-2\"><span class=\"toc-item-num\">2&nbsp;&nbsp;</span>📊StandardScaler( * , copy= , with_mean= , with_std= )</a></span><ul class=\"toc-item\"><li><ul class=\"toc-item\"><li><span><a href=\"#特征参数\" data-toc-modified-id=\"特征参数-2.0.1\"><span class=\"toc-item-num\">2.0.1&nbsp;&nbsp;</span>特征参数</a></span></li></ul></li></ul></li></ul></div>"
   ]
  },
  {
   "cell_type": "code",
   "execution_count": 4,
   "id": "eedce4c1",
   "metadata": {},
   "outputs": [],
   "source": [
    "import pandas as pd\n",
    "import numpy as np\n",
    "import matplotlib.pyplot as plt"
   ]
  },
  {
   "cell_type": "markdown",
   "id": "0d27f0b6",
   "metadata": {},
   "source": [
    "---"
   ]
  },
  {
   "cell_type": "markdown",
   "id": "534ac74a",
   "metadata": {},
   "source": [
    "# 📊数据处理"
   ]
  },
  {
   "cell_type": "markdown",
   "id": "bd9a79bc",
   "metadata": {},
   "source": [
    "## MinMaxScaler( feature_range = ( min_num, max_num ) )  \n",
    "---\n",
    "\n",
    "   当数据(x)按照最小值中心化后，再按极差（最大值 - 最小值）缩放，数据移动了最小值个单位，并且会被收敛到[0,1]之间，而这个过程，就叫做数\n",
    "\n",
    "据归一化(Normalization），又称Min-Max Scaling。\n",
    "\n",
    "通过将每个特征缩放到给定范围来转换特征,归一化后的数据服从正态分布。"
   ]
  },
  {
   "cell_type": "code",
   "execution_count": 2,
   "id": "260bddde",
   "metadata": {},
   "outputs": [],
   "source": [
    "from sklearn.preprocessing import MinMaxScaler\n",
    "\n",
    "# sklearn.preprocessing.MinMaxScaler( feature_range=(0, 1), *, copy=True, clip=False)"
   ]
  },
  {
   "cell_type": "markdown",
   "id": "075c4e87",
   "metadata": {},
   "source": [
    "### 特征参数\n",
    "\n",
    "**feature_range**：**元组** (最小值，最大值)，默认=(0, 1)\n",
    "所需的转换数据范围。\n",
    "\n",
    "\n",
    "**copy**：布尔，默认=真\n",
    "设置为 False 以执行就地行规范化并避免复制(如果输入已经是一个 numpy 数组)。\n",
    "\n",
    "\n",
    "**clip**：布尔，默认=假\n",
    "设置为 True 以将 held-out 数据的转换值裁剪为提供的 feature range 。"
   ]
  },
  {
   "cell_type": "code",
   "execution_count": 5,
   "id": "b35be235",
   "metadata": {},
   "outputs": [
    {
     "data": {
      "text/html": [
       "<div>\n",
       "<style scoped>\n",
       "    .dataframe tbody tr th:only-of-type {\n",
       "        vertical-align: middle;\n",
       "    }\n",
       "\n",
       "    .dataframe tbody tr th {\n",
       "        vertical-align: top;\n",
       "    }\n",
       "\n",
       "    .dataframe thead th {\n",
       "        text-align: right;\n",
       "    }\n",
       "</style>\n",
       "<table border=\"1\" class=\"dataframe\">\n",
       "  <thead>\n",
       "    <tr style=\"text-align: right;\">\n",
       "      <th></th>\n",
       "      <th>0</th>\n",
       "      <th>1</th>\n",
       "    </tr>\n",
       "  </thead>\n",
       "  <tbody>\n",
       "    <tr>\n",
       "      <th>0</th>\n",
       "      <td>-1.0</td>\n",
       "      <td>2</td>\n",
       "    </tr>\n",
       "    <tr>\n",
       "      <th>1</th>\n",
       "      <td>-0.5</td>\n",
       "      <td>6</td>\n",
       "    </tr>\n",
       "    <tr>\n",
       "      <th>2</th>\n",
       "      <td>0.0</td>\n",
       "      <td>10</td>\n",
       "    </tr>\n",
       "    <tr>\n",
       "      <th>3</th>\n",
       "      <td>1.0</td>\n",
       "      <td>18</td>\n",
       "    </tr>\n",
       "  </tbody>\n",
       "</table>\n",
       "</div>"
      ],
      "text/plain": [
       "     0   1\n",
       "0 -1.0   2\n",
       "1 -0.5   6\n",
       "2  0.0  10\n",
       "3  1.0  18"
      ]
     },
     "execution_count": 5,
     "metadata": {},
     "output_type": "execute_result"
    }
   ],
   "source": [
    "# 示例数据\n",
    "data = [[-1, 2], [-0.5, 6], [0, 10], [1, 18]]\n",
    "pd.DataFrame(data)"
   ]
  },
  {
   "cell_type": "code",
   "execution_count": 6,
   "id": "5f13e02c",
   "metadata": {},
   "outputs": [],
   "source": [
    "# 使用实例1 ( fit ,transfrom分开执行 )\n",
    "scaler = MinMaxScaler()            #实例化(对列)\n",
    "scaler = scaler.fit(data)          #fit，在这里本质是生成min(x)和max(x)\n",
    "result = scaler.transform(data)    #通过接口导出结果"
   ]
  },
  {
   "cell_type": "code",
   "execution_count": 9,
   "id": "464e93f3",
   "metadata": {},
   "outputs": [
    {
     "data": {
      "text/plain": [
       "array([[0.  , 0.  ],\n",
       "       [0.25, 0.25],\n",
       "       [0.5 , 0.5 ],\n",
       "       [1.  , 1.  ]])"
      ]
     },
     "execution_count": 9,
     "metadata": {},
     "output_type": "execute_result"
    }
   ],
   "source": [
    "result"
   ]
  },
  {
   "cell_type": "code",
   "execution_count": 10,
   "id": "273e854d",
   "metadata": {},
   "outputs": [
    {
     "data": {
      "text/plain": [
       "array([[-1. ,  2. ],\n",
       "       [-0.5,  6. ],\n",
       "       [ 0. , 10. ],\n",
       "       [ 1. , 18. ]])"
      ]
     },
     "execution_count": 10,
     "metadata": {},
     "output_type": "execute_result"
    }
   ],
   "source": [
    "# 使用实例2 ( fit_transfrom() )\n",
    "result_ = scaler.fit_transform(data) #训练和导出结果一步达成\n",
    "scaler.inverse_transform(result) #将归一化后的结果逆转"
   ]
  },
  {
   "cell_type": "code",
   "execution_count": 7,
   "id": "54575e7d",
   "metadata": {},
   "outputs": [
    {
     "data": {
      "text/plain": [
       "array([[ 5.  ,  5.  ],\n",
       "       [ 6.25,  6.25],\n",
       "       [ 7.5 ,  7.5 ],\n",
       "       [10.  , 10.  ]])"
      ]
     },
     "execution_count": 7,
     "metadata": {},
     "output_type": "execute_result"
    }
   ],
   "source": [
    "#使用MinMaxScaler的参数feature_range实现将数据归一化到[0,1]以外#的范围中\n",
    "\n",
    "data1 = [[-1, 2], [-0.5, 6], [0, 10], [1, 18]]\n",
    "scaler = MinMaxScaler(feature_range=(5,10)) # 实例化 feature_range 数据压缩到的范围，默认为[0,1]\n",
    "result = scaler.fit_transform(data1) #fit_transform一步导出结果\n",
    "result"
   ]
  },
  {
   "cell_type": "markdown",
   "id": "00ebb55b",
   "metadata": {},
   "source": [
    "---"
   ]
  },
  {
   "cell_type": "markdown",
   "id": "a7572f05",
   "metadata": {},
   "source": [
    "## train_test_split( X , Y , train_size = , test_size = ) \n",
    "---\n",
    "分割数据集函数,将数据分为训练集和测试集"
   ]
  },
  {
   "cell_type": "code",
   "execution_count": null,
   "id": "265715a2",
   "metadata": {},
   "outputs": [],
   "source": [
    "from sklearn.model_selection import train_test_split\n",
    "\n",
    "# X_train, X_valid, y_train, y_valid = train_test_split(X, y, train_size=0.8, test_size=0.2,random_state=0) #随机状态"
   ]
  },
  {
   "cell_type": "markdown",
   "id": "f705703e",
   "metadata": {},
   "source": [
    "### 特征参数\n",
    "**train_size**: 代表从数据集中分割的训练集\n",
    "\n",
    "**test_size**: 代表从数据集中分割的测试集"
   ]
  },
  {
   "cell_type": "markdown",
   "id": "07007f08",
   "metadata": {},
   "source": [
    "---"
   ]
  },
  {
   "cell_type": "markdown",
   "id": "2ee46b87",
   "metadata": {},
   "source": [
    "## mean_absolute_error \n",
    "---\n",
    "求MAE(平均绝对误差)"
   ]
  },
  {
   "cell_type": "code",
   "execution_count": 8,
   "id": "a12f8485",
   "metadata": {},
   "outputs": [],
   "source": [
    "from sklearn.metrics import mean_absolute_error\n",
    "\n",
    "# mean_absolute_error(y_val, y_predict)"
   ]
  },
  {
   "cell_type": "markdown",
   "id": "3fc18bfe",
   "metadata": {},
   "source": [
    "# 📊StandardScaler( * , copy= , with_mean= , with_std= )\n",
    "---\n",
    "通过去除均值和缩放到单位方差来标准化特征。\n",
    "\n",
    "样本x的标准分数计算如下：\n",
    "\n",
    "z = (x - u) /s\n",
    "\n",
    "其中 u 是训练样本的平均值，如果 with_mean=False 则为零，而 s 是训练样本的标准差，如果 with_std=False 则为 1。"
   ]
  },
  {
   "cell_type": "code",
   "execution_count": 9,
   "id": "75f7c20d",
   "metadata": {},
   "outputs": [],
   "source": [
    "from sklearn.preprocessing import StandardScaler\n",
    "\n",
    "#class sklearn.preprocessing.StandardScaler(*, copy=True, with_mean=True, with_std=True)"
   ]
  },
  {
   "cell_type": "markdown",
   "id": "0fdd0931",
   "metadata": {},
   "source": [
    "### 特征参数\n",
    "**copy**：布尔，默认=True.\n",
    "如果为 False，请尽量避免复制并改为进行就地缩放。这不能保证总是在原地工作；例如如果数据不是NumPy 数组或scipy.sparse CSR 矩阵，则仍可能返回副本。\n",
    "\n",
    "**with_mean**：布尔，默认=真\n",
    "如果为 True，则在缩放之前将数据居中。当尝试在稀疏矩阵上时，这不起作用(并且会引发异常)，因为将它们居中需要构建一个密集矩阵，在常见的用例中，它可能太大而无法放入内存。\n",
    "\n",
    "**with_std**：布尔，默认=真\n",
    "如果为 True，则将数据缩放到单位方差(或等效地，单位标准差)。"
   ]
  },
  {
   "cell_type": "code",
   "execution_count": 11,
   "id": "cf4c24c7",
   "metadata": {},
   "outputs": [
    {
     "name": "stdout",
     "output_type": "stream",
     "text": [
      "[-0.125  9.   ]\n",
      "[ 0.546875 35.      ]\n"
     ]
    }
   ],
   "source": [
    "scaler = StandardScaler() # 实例化 (按列)\n",
    "\n",
    "scaler.fit(data)          # fit，本质是生成均值和方差\n",
    "print(scaler.mean_)              # 查看均值的属性 mean_\n",
    "print(scaler.var_)               # 查看方差的属性 var_"
   ]
  },
  {
   "cell_type": "code",
   "execution_count": 15,
   "id": "8337bd3e",
   "metadata": {},
   "outputs": [
    {
     "name": "stdout",
     "output_type": "stream",
     "text": [
      "0.0\n",
      "1.0\n"
     ]
    }
   ],
   "source": [
    "x_std = scaler.transform(data)    # 通过接口导出结果\n",
    "print(x_std.mean())               # 导出的结果是一个数组，用mean()查看均值\n",
    "print(x_std.std())                # 用 std() 查看方差"
   ]
  },
  {
   "cell_type": "code",
   "execution_count": 13,
   "id": "b58a804d",
   "metadata": {},
   "outputs": [
    {
     "data": {
      "text/plain": [
       "array([[-1.18321596, -1.18321596],\n",
       "       [-0.50709255, -0.50709255],\n",
       "       [ 0.16903085,  0.16903085],\n",
       "       [ 1.52127766,  1.52127766]])"
      ]
     },
     "execution_count": 13,
     "metadata": {},
     "output_type": "execute_result"
    }
   ],
   "source": [
    "scaler.fit_transform(data) #使用fit_transform(data)一步达成结果"
   ]
  },
  {
   "cell_type": "code",
   "execution_count": 16,
   "id": "33c1fee7",
   "metadata": {},
   "outputs": [
    {
     "data": {
      "text/plain": [
       "array([[-1. ,  2. ],\n",
       "       [-0.5,  6. ],\n",
       "       [ 0. , 10. ],\n",
       "       [ 1. , 18. ]])"
      ]
     },
     "execution_count": 16,
     "metadata": {},
     "output_type": "execute_result"
    }
   ],
   "source": [
    "scaler.inverse_transform(x_std) #使用inverse_transform逆转标准化"
   ]
  },
  {
   "cell_type": "markdown",
   "id": "7a24ffd3",
   "metadata": {},
   "source": [
    "---"
   ]
  },
  {
   "cell_type": "code",
   "execution_count": null,
   "id": "c9680be1",
   "metadata": {},
   "outputs": [],
   "source": []
  }
 ],
 "metadata": {
  "kernelspec": {
   "display_name": "Python 3 (ipykernel)",
   "language": "python",
   "name": "python3"
  },
  "language_info": {
   "codemirror_mode": {
    "name": "ipython",
    "version": 3
   },
   "file_extension": ".py",
   "mimetype": "text/x-python",
   "name": "python",
   "nbconvert_exporter": "python",
   "pygments_lexer": "ipython3",
   "version": "3.11.3"
  },
  "nbTranslate": {
   "displayLangs": [
    "*"
   ],
   "hotkey": "alt-t",
   "langInMainMenu": true,
   "sourceLang": "en",
   "targetLang": "fr",
   "useGoogleTranslate": true
  },
  "toc": {
   "base_numbering": 1,
   "nav_menu": {},
   "number_sections": true,
   "sideBar": true,
   "skip_h1_title": false,
   "title_cell": "Table of Contents",
   "title_sidebar": "Contents",
   "toc_cell": true,
   "toc_position": {
    "height": "calc(100% - 180px)",
    "left": "10px",
    "top": "150px",
    "width": "341.458px"
   },
   "toc_section_display": true,
   "toc_window_display": true
  },
  "varInspector": {
   "cols": {
    "lenName": 16,
    "lenType": 16,
    "lenVar": 40
   },
   "kernels_config": {
    "python": {
     "delete_cmd_postfix": "",
     "delete_cmd_prefix": "del ",
     "library": "var_list.py",
     "varRefreshCmd": "print(var_dic_list())"
    },
    "r": {
     "delete_cmd_postfix": ") ",
     "delete_cmd_prefix": "rm(",
     "library": "var_list.r",
     "varRefreshCmd": "cat(var_dic_list()) "
    }
   },
   "types_to_exclude": [
    "module",
    "function",
    "builtin_function_or_method",
    "instance",
    "_Feature"
   ],
   "window_display": false
  }
 },
 "nbformat": 4,
 "nbformat_minor": 5
}
