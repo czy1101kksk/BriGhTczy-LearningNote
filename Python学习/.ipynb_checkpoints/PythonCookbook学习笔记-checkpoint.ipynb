{
 "cells": [
  {
   "cell_type": "markdown",
   "id": "2e8a7421",
   "metadata": {
    "toc": true
   },
   "source": [
    "<h1>Table of Contents<span class=\"tocSkip\"></span></h1>\n",
    "<div class=\"toc\"><ul class=\"toc-item\"><li><span><a href=\"#数据结构与算法\" data-toc-modified-id=\"数据结构与算法-1\"><span class=\"toc-item-num\">1&nbsp;&nbsp;</span>数据结构与算法</a></span><ul class=\"toc-item\"><li><span><a href=\"#🔬将序列分解为单独变量→<多项赋值>\" data-toc-modified-id=\"🔬将序列分解为单独变量→<多项赋值>-1.1\"><span class=\"toc-item-num\">1.1&nbsp;&nbsp;</span>🔬将序列分解为单独变量→&lt;多项赋值&gt;</a></span></li><li><span><a href=\"#从任意长度的可迭代对象中分解元素→<序列解包’-*-‘>\" data-toc-modified-id=\"从任意长度的可迭代对象中分解元素→<序列解包’-*-‘>-1.2\"><span class=\"toc-item-num\">1.2&nbsp;&nbsp;</span>从任意长度的可迭代对象中分解元素→&lt;序列解包’ * ‘&gt;</a></span></li><li><span><a href=\"#从任意长度的可迭代对象中分解元素→<序列解包’-*-‘>\" data-toc-modified-id=\"从任意长度的可迭代对象中分解元素→<序列解包’-*-‘>-1.3\"><span class=\"toc-item-num\">1.3&nbsp;&nbsp;</span>从任意长度的可迭代对象中分解元素→&lt;序列解包’ * ‘&gt;</a></span></li></ul></li></ul></div>"
   ]
  },
  {
   "cell_type": "markdown",
   "id": "c96fc8db",
   "metadata": {},
   "source": [
    "# 数据结构与算法\n",
    "---"
   ]
  },
  {
   "cell_type": "markdown",
   "id": "4b809f5f",
   "metadata": {},
   "source": [
    "## 🔬将序列分解为单独变量→<多项赋值>"
   ]
  },
  {
   "cell_type": "markdown",
   "id": "e13bdba3",
   "metadata": {},
   "source": [
    "- 简便方法(赋值拆解): `p = [4, 5]; x, y = p` (通过多元素对应赋值)\n",
    "    \n",
    " →引入**序列解包’ * ‘** :"
   ]
  },
  {
   "cell_type": "code",
   "execution_count": 9,
   "id": "4e040973",
   "metadata": {},
   "outputs": [
    {
     "name": "stdout",
     "output_type": "stream",
     "text": [
      "4 [5, 6] 7\n"
     ]
    }
   ],
   "source": [
    "p = [4, 5, 6, 7]; \n",
    "x, *y ,z= p;        ## x,y,z ---> 4 [5, 6] 7\n",
    "print(x, y ,z)"
   ]
  },
  {
   "cell_type": "markdown",
   "id": "026d1e2b",
   "metadata": {},
   "source": [
    "- 丢弃部分值(’_’) —→s =\"Hello\"; _, a, b, c, _ = s"
   ]
  },
  {
   "cell_type": "markdown",
   "id": "c8d16933",
   "metadata": {},
   "source": [
    "## 从任意长度的可迭代对象中分解元素→<序列解包’ * ‘>"
   ]
  },
  {
   "cell_type": "markdown",
   "id": "a45f19ad",
   "metadata": {},
   "source": [
    "实例:取倒数第二项元素"
   ]
  },
  {
   "cell_type": "code",
   "execution_count": 8,
   "id": "1fd5380b",
   "metadata": {},
   "outputs": [
    {
     "name": "stdout",
     "output_type": "stream",
     "text": [
      "[1, 4, 6, 8, 4, 56, 3, 90] 45 333\n"
     ]
    }
   ],
   "source": [
    "*start, k, end = (1, 4, 6, 8, 4, 56, 3, 90, 45, 333)\n",
    "# k == 45\n",
    "print(start, k, end)"
   ]
  },
  {
   "cell_type": "markdown",
   "id": "167b5819",
   "metadata": {},
   "source": [
    "## 从任意长度的可迭代对象中分解元素→<序列解包’ * ‘>"
   ]
  },
  {
   "cell_type": "code",
   "execution_count": null,
   "id": "3e38d719",
   "metadata": {},
   "outputs": [],
   "source": []
  }
 ],
 "metadata": {
  "kernelspec": {
   "display_name": "Python 3 (ipykernel)",
   "language": "python",
   "name": "python3"
  },
  "language_info": {
   "codemirror_mode": {
    "name": "ipython",
    "version": 3
   },
   "file_extension": ".py",
   "mimetype": "text/x-python",
   "name": "python",
   "nbconvert_exporter": "python",
   "pygments_lexer": "ipython3",
   "version": "3.11.3"
  },
  "toc": {
   "base_numbering": 1,
   "nav_menu": {},
   "number_sections": true,
   "sideBar": true,
   "skip_h1_title": false,
   "title_cell": "Table of Contents",
   "title_sidebar": "Contents",
   "toc_cell": true,
   "toc_position": {
    "height": "calc(100% - 180px)",
    "left": "10px",
    "top": "150px",
    "width": "341.458px"
   },
   "toc_section_display": true,
   "toc_window_display": true
  }
 },
 "nbformat": 4,
 "nbformat_minor": 5
}
